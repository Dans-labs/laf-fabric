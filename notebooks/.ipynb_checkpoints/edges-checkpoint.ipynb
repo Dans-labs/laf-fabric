{
 "metadata": {
  "name": ""
 },
 "nbformat": 3,
 "nbformat_minor": 0,
 "worksheets": [
  {
   "cells": [
    {
     "cell_type": "heading",
     "level": 1,
     "metadata": {},
     "source": [
      "Edges"
     ]
    },
    {
     "cell_type": "markdown",
     "metadata": {},
     "source": [
      "This is a task using edges. In the Hebrew data source, nodes corresponding to constituents may have labelled edges pointing to other constituents. We make an inventory of all such edges labeled ``mother`` or ``parents`` (they are the only two labels for edges).\n",
      "\n",
      "Moreover, there are also unlabeled edges linking the sectional nodes (books, chapters, verses, half-verses).\n",
      "\n",
      "We count the various types of edges and refine the counts by source node type and edge node type."
     ]
    },
    {
     "cell_type": "code",
     "collapsed": false,
     "input": [
      "import sys\n",
      "import collections\n",
      "import laf\n",
      "from laf.notebook import Notebook\n",
      "processor = Notebook()"
     ],
     "language": "python",
     "metadata": {},
     "outputs": [],
     "prompt_number": 1
    },
    {
     "cell_type": "code",
     "collapsed": false,
     "input": [
      "processor.init('bhs3.txt.hdr', '--', 'mother', {\n",
      "    \"xmlids\": {\n",
      "        \"node\": False,\n",
      "        \"edge\": False,\n",
      "    },\n",
      "    \"features\": {\n",
      "        \"shebanq\": {\n",
      "            \"node\": [\n",
      "                \"db.otype\",\n",
      "                \"sft.book\",\n",
      "            ],\n",
      "            \"edge\": [\n",
      "                \"mother.\",\n",
      "                \"parents.\",\n",
      "            ],\n",
      "        },\n",
      "    },\n",
      "    \"other_edges\": True,\n",
      "})"
     ],
     "language": "python",
     "metadata": {},
     "outputs": [
      {
       "output_type": "stream",
       "stream": "stdout",
       "text": [
        "  0.00s COMPILING source: UP TO DATE\n"
       ]
      },
      {
       "output_type": "stream",
       "stream": "stdout",
       "text": [
        "  0.00s COMPILING annox: UP TO DATE\n"
       ]
      },
      {
       "output_type": "stream",
       "stream": "stdout",
       "text": [
        "  0.00s loading common: node_sort ... \n"
       ]
      },
      {
       "output_type": "stream",
       "stream": "stdout",
       "text": [
        "  0.17s loading common: node_out ... \n"
       ]
      },
      {
       "output_type": "stream",
       "stream": "stdout",
       "text": [
        "  0.45s loading common: node_in ... \n"
       ]
      },
      {
       "output_type": "stream",
       "stream": "stdout",
       "text": [
        "  0.74s loading common: edges_from ... \n"
       ]
      },
      {
       "output_type": "stream",
       "stream": "stdout",
       "text": [
        "  0.85s loading common: edges_to ... \n"
       ]
      },
      {
       "output_type": "stream",
       "stream": "stdout",
       "text": [
        "  0.97s clearing xmlids: xid ...\n"
       ]
      },
      {
       "output_type": "stream",
       "stream": "stdout",
       "text": [
        "  0.97s clearing feature: feature ...\n"
       ]
      },
      {
       "output_type": "stream",
       "stream": "stdout",
       "text": [
        "  2.49s clearing annox: xfeature ...\n"
       ]
      },
      {
       "output_type": "stream",
       "stream": "stdout",
       "text": [
        "  3.35s present feature: shebanq:db.otype (node) from source bhs3.txt.hdr\n"
       ]
      },
      {
       "output_type": "stream",
       "stream": "stdout",
       "text": [
        "  3.35s present feature: shebanq:parents. (edge) from source bhs3.txt.hdr\n"
       ]
      },
      {
       "output_type": "stream",
       "stream": "stdout",
       "text": [
        "  3.35s present feature: shebanq:sft.book (node) from source bhs3.txt.hdr\n"
       ]
      },
      {
       "output_type": "stream",
       "stream": "stdout",
       "text": [
        "  3.35s present feature: shebanq:mother. (edge) from source bhs3.txt.hdr\n"
       ]
      },
      {
       "output_type": "stream",
       "stream": "stdout",
       "text": [
        "  0.00s LOGFILE=/Users/dirk/Scratch/shebanq/results/bhs3.txt.hdr/mother/__log__mother.txt\n"
       ]
      },
      {
       "output_type": "stream",
       "stream": "stdout",
       "text": [
        "  0.00s BEGIN TASK=mother SOURCE=bhs3.txt.hdr\n"
       ]
      }
     ],
     "prompt_number": 2
    },
    {
     "cell_type": "code",
     "collapsed": false,
     "input": [
      "API = processor.API()\n",
      "F = API['F']\n",
      "C = API['C']\n",
      "NN = API['NN']\n",
      "msg = API['msg']\n",
      "\n",
      "msg(\"Get the edges...\")\n",
      "\n",
      "bookname = None\n",
      "found = 0\n",
      "edge_kind = collections.defaultdict(lambda: collections.defaultdict(lambda: collections.defaultdict(lambda: 0)))\n",
      "\n",
      "mother_c = C.shebanq_mother_['']\n",
      "parents_c = C.shebanq_parents_['']\n",
      "none_c = C._none_['']\n",
      "\n",
      "for i in NN():\n",
      "    otype = F.shebanq_db_otype.v(i)\n",
      "    for (kind, info) in (\n",
      "        ('mother', mother_c),\n",
      "        ('parents', parents_c),\n",
      "        ('none', none_c),\n",
      "    ):\n",
      "        if i in info:\n",
      "            for d in info[i]:\n",
      "                found += 1\n",
      "                dtype = F.shebanq_db_otype.v(d)\n",
      "                edge_kind[kind][otype][dtype] += 1\n",
      "    if otype == \"book\":\n",
      "        bookname = F.shebanq_sft_book.v(i)\n",
      "        sys.stderr.write(\"{} ({})\\n\".format(bookname, found))\n",
      "sys.stderr.write(\"Total {}\\n\".format(found))\n",
      "\n",
      "for kind in ('mother', 'parents', 'self', 'none'):\n",
      "    for source_type in sorted(edge_kind[kind]):\n",
      "        for target_type in sorted(edge_kind[kind][source_type]):\n",
      "            print(\"{:<15} =={:<7}==> {:<15} : {:>10} x\".format(source_type, kind, target_type, edge_kind[kind][source_type][target_type]))"
     ],
     "language": "python",
     "metadata": {},
     "outputs": [
      {
       "output_type": "stream",
       "stream": "stdout",
       "text": [
        "    10s Get the edges...\n"
       ]
      },
      {
       "output_type": "stream",
       "stream": "stderr",
       "text": [
        "Genesis (50)\n",
        "Exodus (104844)\n"
       ]
      },
      {
       "output_type": "stream",
       "stream": "stderr",
       "text": [
        "Leviticus (187187)\n",
        "Numbers (245461)\n"
       ]
      },
      {
       "output_type": "stream",
       "stream": "stderr",
       "text": [
        "Deuteronomy (326212)\n",
        "Joshua (396667)\n"
       ]
      },
      {
       "output_type": "stream",
       "stream": "stderr",
       "text": [
        "Judges (445271)\n",
        "I_Samuel (495722)\n"
       ]
      },
      {
       "output_type": "stream",
       "stream": "stderr",
       "text": [
        "II_Samuel (563811)\n",
        "I_Kings (619536)\n"
       ]
      },
      {
       "output_type": "stream",
       "stream": "stderr",
       "text": [
        "II_Kings (685091)\n",
        "Isaiah (746827)\n"
       ]
      },
      {
       "output_type": "stream",
       "stream": "stderr",
       "text": [
        "Jeremiah (835141)\n",
        "Ezekiel (942462)\n"
       ]
      },
      {
       "output_type": "stream",
       "stream": "stderr",
       "text": [
        "Hosea (1035076)\n",
        "Joel (1047462)\n",
        "Amos (1052128)\n"
       ]
      },
      {
       "output_type": "stream",
       "stream": "stderr",
       "text": [
        "Obadiah (1062011)\n",
        "Jonah (1063397)\n",
        "Micah (1067032)\n",
        "Nahum (1073858)\n",
        "Habakkuk (1076689)\n"
       ]
      },
      {
       "output_type": "stream",
       "stream": "stderr",
       "text": [
        "Zephaniah (1080262)\n",
        "Haggai (1083930)\n",
        "Zechariah (1086809)\n",
        "Malachi (1102249)\n"
       ]
      },
      {
       "output_type": "stream",
       "stream": "stderr",
       "text": [
        "Psalms (1106638)\n",
        "Job (1206906)\n"
       ]
      },
      {
       "output_type": "stream",
       "stream": "stderr",
       "text": [
        "Proverbs (1249638)\n",
        "Ruth (1284731)\n"
       ]
      },
      {
       "output_type": "stream",
       "stream": "stderr",
       "text": [
        "Canticles (1291599)\n",
        "Ecclesiastes (1297735)\n",
        "Lamentations (1313363)\n"
       ]
      },
      {
       "output_type": "stream",
       "stream": "stderr",
       "text": [
        "Esther (1321174)\n",
        "Daniel (1335747)\n"
       ]
      },
      {
       "output_type": "stream",
       "stream": "stderr",
       "text": [
        "Ezra (1364259)\n",
        "Nehemiah (1381976)\n"
       ]
      },
      {
       "output_type": "stream",
       "stream": "stderr",
       "text": [
        "I_Chronicles (1408771)\n",
        "II_Chronicles (1460368)\n"
       ]
      },
      {
       "output_type": "stream",
       "stream": "stdout",
       "text": [
        "clause          ==mother ==> clause          :       8414 x\n",
        "clause          ==mother ==> phrase          :       4156 x\n",
        "clause          ==mother ==> word            :        758 x\n",
        "clause_atom     ==mother ==> clause_atom     :      61976 x\n",
        "phrase_atom     ==mother ==> phrase_atom     :      11238 x\n",
        "phrase_atom     ==mother ==> word            :       1290 x\n",
        "subphrase       ==mother ==> subphrase       :      54768 x\n",
        "clause          ==parents==> sentence_atom   :      88405 x\n",
        "clause_atom     ==parents==> clause          :      90061 x\n",
        "phrase          ==parents==> clause_atom     :     257346 x\n",
        "phrase_atom     ==parents==> phrase          :     269638 x\n",
        "sentence_atom   ==parents==> sentence        :      71727 x\n",
        "subphrase       ==parents==> phrase_atom     :      81271 x\n",
        "subphrase       ==parents==> subphrase       :      28265 x\n",
        "word            ==parents==> phrase_atom     :     306319 x\n",
        "word            ==parents==> subphrase       :     120180 x\n",
        "book            ==none   ==> chapter         :        929 x\n",
        "chapter         ==none   ==> verse           :      23213 x\n",
        "verse           ==none   ==> half_verse      :      44683 x\n"
       ]
      },
      {
       "output_type": "stream",
       "stream": "stderr",
       "text": [
        "Total 1524637\n"
       ]
      }
     ],
     "prompt_number": 3
    },
    {
     "cell_type": "code",
     "collapsed": false,
     "input": [],
     "language": "python",
     "metadata": {},
     "outputs": []
    }
   ],
   "metadata": {}
  }
 ]
}