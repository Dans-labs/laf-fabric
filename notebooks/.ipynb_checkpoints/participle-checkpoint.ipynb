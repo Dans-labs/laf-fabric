{
 "metadata": {
  "name": ""
 },
 "nbformat": 3,
 "nbformat_minor": 0,
 "worksheets": [
  {
   "cells": [
    {
     "cell_type": "heading",
     "level": 1,
     "metadata": {},
     "source": [
      "Participle"
     ]
    },
    {
     "cell_type": "heading",
     "level": 2,
     "metadata": {},
     "source": [
      "About"
     ]
    },
    {
     "cell_type": "markdown",
     "metadata": {},
     "source": [
      "This tasks gives an inventory of particples and their context.\n",
      "It is based on a request by Janet Dyk for data by which the verbal/nominal roles of particples can be studied."
     ]
    },
    {
     "cell_type": "heading",
     "level": 2,
     "metadata": {},
     "source": [
      "Specification"
     ]
    },
    {
     "cell_type": "markdown",
     "metadata": {},
     "source": [
      "We need to find all words marked with ``tense=participle``.\n",
      "From there, we need all surrounding words in the same clause.\n",
      "Of all words, we need the ``part_of_speech`` and the ``phrase_dependent_part_of_speech`` features."
     ]
    },
    {
     "cell_type": "heading",
     "level": 2,
     "metadata": {},
     "source": [
      "Output format"
     ]
    },
    {
     "cell_type": "markdown",
     "metadata": {},
     "source": [
      "We output a tab delimited file.\n",
      "\n",
      "One row per participle, containing the following fields:\n",
      "\n",
      "passage label | pos-tags of words before | pos tag of ptc | pos-tags of words after | plain text of words after | plain text of ptc | plain text of words before\n",
      "\n",
      "Every participle is shown within its clause.\n",
      "\n",
      "If there are several participles in the same clause, we put every participle in a separate row."
     ]
    },
    {
     "cell_type": "heading",
     "level": 2,
     "metadata": {},
     "source": [
      "Part of speech tags"
     ]
    },
    {
     "cell_type": "markdown",
     "metadata": {},
     "source": [
      "In a previous run we have encountered the following part-of-speech tags."
     ]
    },
    {
     "cell_type": "code",
     "collapsed": false,
     "input": [
      "pos_encountered = {}\n",
      "for (label, clause) in clauses:\n",
      "    for w in clause:\n",
      "        pos_encountered[w[2]] = None\n",
      "        pos_encountered[w[3]] = None"
     ],
     "language": "python",
     "metadata": {},
     "outputs": [],
     "prompt_number": 130
    },
    {
     "cell_type": "code",
     "collapsed": false,
     "input": [
      "pos_encountered"
     ],
     "language": "python",
     "metadata": {},
     "outputs": [
      {
       "metadata": {},
       "output_type": "pyout",
       "prompt_number": 124,
       "text": [
        "{'adjective': None,\n",
        " 'adverb': None,\n",
        " 'article': None,\n",
        " 'conjunction': None,\n",
        " 'interjection': None,\n",
        " 'interrogative': None,\n",
        " 'negative': None,\n",
        " 'noun': None,\n",
        " 'preposition': None,\n",
        " 'pronoun': None,\n",
        " 'verb': None}"
       ]
      }
     ],
     "prompt_number": 124
    },
    {
     "cell_type": "markdown",
     "metadata": {},
     "source": [
      "These tags were found in the features ``part_of_speech`` and ``phrase_dependent_part_of_speech``.\n",
      "\n",
      "For most word occurrences, these values coincide.\n",
      "Where they differ, we output both, separated by a ``~``."
     ]
    },
    {
     "cell_type": "heading",
     "level": 2,
     "metadata": {},
     "source": [
      "Firing up LAF-Fabric"
     ]
    },
    {
     "cell_type": "markdown",
     "metadata": {},
     "source": [
      "We fire up the engine, collect data, format the data and write it to a tab delimited file.\n",
      "\n",
      "Then the LAF-Fabric task is completed.\n",
      "\n",
      "After that we play around a bit with the data, see how we can visualize it with the python module *pandas*."
     ]
    },
    {
     "cell_type": "heading",
     "level": 3,
     "metadata": {},
     "source": [
      "Get a LAF processor"
     ]
    },
    {
     "cell_type": "code",
     "collapsed": false,
     "input": [
      "import sys\n",
      "import collections\n",
      "import laf\n",
      "from laf.notebook import Notebook\n",
      "processor = Notebook()"
     ],
     "language": "python",
     "metadata": {},
     "outputs": [],
     "prompt_number": 1
    },
    {
     "cell_type": "heading",
     "level": 3,
     "metadata": {},
     "source": [
      "Load data for this task"
     ]
    },
    {
     "cell_type": "code",
     "collapsed": false,
     "input": [
      "processor.init('bhs3.txt.hdr', '--', 'participle', {\n",
      "    \"xmlids\": {\n",
      "        \"node\": False,\n",
      "        \"edge\": False,\n",
      "    },\n",
      "    \"features\": {\n",
      "        \"shebanq\": {\n",
      "            \"node\": [\n",
      "                \"db.otype\",\n",
      "                \"sft.book,chapter,verse\",\n",
      "                \"ft.text_plain,part_of_speech,phrase_dependent_part_of_speech,tense\"\n",
      "            ],\n",
      "            \"edge\": [\n",
      "            ],\n",
      "        },\n",
      "    },\n",
      "})\n",
      "\n",
      "API = processor.API()\n",
      "F = API['F']\n",
      "NN = API['NN']\n",
      "msg = API['msg']"
     ],
     "language": "python",
     "metadata": {},
     "outputs": [
      {
       "output_type": "stream",
       "stream": "stderr",
       "text": [
        "  0.00s COMPILING source: UP TO DATE\n"
       ]
      },
      {
       "output_type": "stream",
       "stream": "stderr",
       "text": [
        "  0.00s COMPILING annox: UP TO DATE\n"
       ]
      },
      {
       "output_type": "stream",
       "stream": "stderr",
       "text": [
        "  0.00s loading common: node_sort ... \n"
       ]
      },
      {
       "output_type": "stream",
       "stream": "stderr",
       "text": [
        "  0.17s loading common: node_out ... \n"
       ]
      },
      {
       "output_type": "stream",
       "stream": "stderr",
       "text": [
        "  0.48s loading common: node_in ... \n"
       ]
      },
      {
       "output_type": "stream",
       "stream": "stderr",
       "text": [
        "  0.79s loading common: edges_from ... \n"
       ]
      },
      {
       "output_type": "stream",
       "stream": "stderr",
       "text": [
        "  0.90s loading common: edges_to ... \n"
       ]
      },
      {
       "output_type": "stream",
       "stream": "stderr",
       "text": [
        "  1.02s clearing xmlids: xid ...\n"
       ]
      },
      {
       "output_type": "stream",
       "stream": "stderr",
       "text": [
        "  1.02s clearing feature: feature ...\n"
       ]
      },
      {
       "output_type": "stream",
       "stream": "stderr",
       "text": [
        "  3.87s clearing annox: xfeature ...\n"
       ]
      },
      {
       "output_type": "stream",
       "stream": "stderr",
       "text": [
        "  5.04s present feature: shebanq:ft.text_plain (node) from source bhs3.txt.hdr\n"
       ]
      },
      {
       "output_type": "stream",
       "stream": "stderr",
       "text": [
        "  5.04s present feature: shebanq:sft.verse (node) from source bhs3.txt.hdr\n"
       ]
      },
      {
       "output_type": "stream",
       "stream": "stderr",
       "text": [
        "  5.04s present feature: shebanq:ft.phrase_dependent_part_of_speech (node) from source bhs3.txt.hdr\n"
       ]
      },
      {
       "output_type": "stream",
       "stream": "stderr",
       "text": [
        "  5.04s present feature: shebanq:sft.chapter (node) from source bhs3.txt.hdr\n"
       ]
      },
      {
       "output_type": "stream",
       "stream": "stderr",
       "text": [
        "  5.04s present feature: shebanq:db.otype (node) from source bhs3.txt.hdr\n"
       ]
      },
      {
       "output_type": "stream",
       "stream": "stderr",
       "text": [
        "  5.04s present feature: shebanq:ft.tense (node) from source bhs3.txt.hdr\n"
       ]
      },
      {
       "output_type": "stream",
       "stream": "stderr",
       "text": [
        "  5.04s present feature: shebanq:sft.book (node) from source bhs3.txt.hdr\n"
       ]
      },
      {
       "output_type": "stream",
       "stream": "stderr",
       "text": [
        "  5.04s present feature: shebanq:ft.part_of_speech (node) from source bhs3.txt.hdr\n"
       ]
      },
      {
       "output_type": "stream",
       "stream": "stderr",
       "text": [
        "  0.00s LOGFILE=/Users/dirk/Scratch/shebanq/results/bhs3.txt.hdr/participle/__log__participle.txt\n"
       ]
      },
      {
       "output_type": "stream",
       "stream": "stderr",
       "text": [
        "  0.00s BEGIN TASK=participle SOURCE=bhs3.txt.hdr\n"
       ]
      }
     ],
     "prompt_number": 2
    },
    {
     "cell_type": "heading",
     "level": 3,
     "metadata": {},
     "source": [
      "Execute the task: data collection"
     ]
    },
    {
     "cell_type": "code",
     "collapsed": false,
     "input": [
      "msg(\"Get the participles...\")\n",
      "\n",
      "book = None\n",
      "chapter = None\n",
      "verse = None\n",
      "label = None\n",
      "\n",
      "found_in_book = 0\n",
      "clauses = []\n",
      "current_clause = []\n",
      "has_participle = None\n",
      "\n",
      "pos_table = {\n",
      " 'adjective': 'aj',\n",
      " 'adverb': 'av',\n",
      " 'article': 'a',\n",
      " 'conjunction': 'c',\n",
      " 'interjection': 'ij',\n",
      " 'interrogative': 'ir',\n",
      " 'negative': 'ng',\n",
      " 'noun': 'n',\n",
      " 'preposition': 'pp',\n",
      " 'pronoun': 'p',\n",
      " 'verb': 'v',\n",
      "}\n",
      "\n",
      "for i in NN(test=F.shebanq_db_otype.v, values=['book', 'chapter', 'verse', 'clause', 'word']):\n",
      "    otype = F.shebanq_db_otype.v(i)\n",
      "    if otype == 'word':\n",
      "        tense = F.shebanq_ft_tense.v(i)\n",
      "        is_participle = tense == 'participle'\n",
      "        if is_participle:\n",
      "            has_participle = True\n",
      "        pos = pos_table[F.shebanq_ft_part_of_speech.v(i)]\n",
      "        pdpos = pos_table[F.shebanq_ft_phrase_dependent_part_of_speech.v(i)]\n",
      "        rpos = pos if pos == pdpos else \"{}~{}\".format(pos, pdpos)\n",
      "        current_clause.append((\n",
      "            is_participle,\n",
      "            F.shebanq_ft_text_plain.v(i),\n",
      "            rpos,\n",
      "        ))\n",
      "    elif otype == 'clause':\n",
      "        if has_participle:\n",
      "            clauses.append((label, current_clause))\n",
      "            found_in_book += 1\n",
      "        current_clause = []\n",
      "        has_participle = False\n",
      "    elif otype == 'book':\n",
      "        if book != None:\n",
      "            msg(\"{} ({})\".format(book, found_in_book), withtime=False)\n",
      "            found_in_book = 0\n",
      "        book = F.shebanq_sft_book.v(i)\n",
      "    elif otype == 'chapter':\n",
      "        chapter = F.shebanq_sft_chapter.v(i)\n",
      "    elif otype == 'verse':\n",
      "        verse = F.shebanq_sft_verse.v(i)\n",
      "        label = \"{} {}:{}\".format(book, chapter, verse)\n",
      "if has_participle:\n",
      "    clauses.append((label, current_clause))\n",
      "msg(\"{} ({})\".format(book, found_in_book), withtime=False)\n",
      "\n",
      "msg(\"Total {}\".format(len(clauses)))"
     ],
     "language": "python",
     "metadata": {},
     "outputs": [
      {
       "output_type": "stream",
       "stream": "stderr",
       "text": [
        "11m 07s Get the participles...\n"
       ]
      },
      {
       "output_type": "stream",
       "stream": "stderr",
       "text": [
        "Genesis (317)\n"
       ]
      },
      {
       "output_type": "stream",
       "stream": "stderr",
       "text": [
        "Exodus (269)\n"
       ]
      },
      {
       "output_type": "stream",
       "stream": "stderr",
       "text": [
        "Leviticus (205)\n"
       ]
      },
      {
       "output_type": "stream",
       "stream": "stderr",
       "text": [
        "Numbers (249)\n"
       ]
      },
      {
       "output_type": "stream",
       "stream": "stderr",
       "text": [
        "Deuteronomy (362)\n"
       ]
      },
      {
       "output_type": "stream",
       "stream": "stderr",
       "text": [
        "Joshua (163)\n"
       ]
      },
      {
       "output_type": "stream",
       "stream": "stderr",
       "text": [
        "Judges (213)\n"
       ]
      },
      {
       "output_type": "stream",
       "stream": "stderr",
       "text": [
        "I_Samuel (292)\n"
       ]
      },
      {
       "output_type": "stream",
       "stream": "stderr",
       "text": [
        "II_Samuel (221)\n"
       ]
      },
      {
       "output_type": "stream",
       "stream": "stderr",
       "text": [
        "I_Kings (225)\n"
       ]
      },
      {
       "output_type": "stream",
       "stream": "stderr",
       "text": [
        "II_Kings (232)\n"
       ]
      },
      {
       "output_type": "stream",
       "stream": "stderr",
       "text": [
        "Isaiah (711)\n"
       ]
      },
      {
       "output_type": "stream",
       "stream": "stderr",
       "text": [
        "Jeremiah (672)\n"
       ]
      },
      {
       "output_type": "stream",
       "stream": "stderr",
       "text": [
        "Ezekiel (430)\n"
       ]
      },
      {
       "output_type": "stream",
       "stream": "stderr",
       "text": [
        "Hosea (60)\n"
       ]
      },
      {
       "output_type": "stream",
       "stream": "stderr",
       "text": [
        "Joel (23)\n"
       ]
      },
      {
       "output_type": "stream",
       "stream": "stderr",
       "text": [
        "Amos (76)\n"
       ]
      },
      {
       "output_type": "stream",
       "stream": "stderr",
       "text": [
        "Obadiah (5)\n"
       ]
      },
      {
       "output_type": "stream",
       "stream": "stderr",
       "text": [
        "Jonah (14)\n"
       ]
      },
      {
       "output_type": "stream",
       "stream": "stderr",
       "text": [
        "Micah (68)\n"
       ]
      },
      {
       "output_type": "stream",
       "stream": "stderr",
       "text": [
        "Nahum (43)\n"
       ]
      },
      {
       "output_type": "stream",
       "stream": "stderr",
       "text": [
        "Habakkuk (26)\n"
       ]
      },
      {
       "output_type": "stream",
       "stream": "stderr",
       "text": [
        "Zephaniah (42)\n"
       ]
      },
      {
       "output_type": "stream",
       "stream": "stderr",
       "text": [
        "Haggai (10)\n"
       ]
      },
      {
       "output_type": "stream",
       "stream": "stderr",
       "text": [
        "Zechariah (129)\n"
       ]
      },
      {
       "output_type": "stream",
       "stream": "stderr",
       "text": [
        "Malachi (49)\n"
       ]
      },
      {
       "output_type": "stream",
       "stream": "stderr",
       "text": [
        "Psalms (824)\n"
       ]
      },
      {
       "output_type": "stream",
       "stream": "stderr",
       "text": [
        "Job (190)\n"
       ]
      },
      {
       "output_type": "stream",
       "stream": "stderr",
       "text": [
        "Proverbs (465)\n"
       ]
      },
      {
       "output_type": "stream",
       "stream": "stderr",
       "text": [
        "Ruth (31)\n"
       ]
      },
      {
       "output_type": "stream",
       "stream": "stderr",
       "text": [
        "Canticles (47)\n"
       ]
      },
      {
       "output_type": "stream",
       "stream": "stderr",
       "text": [
        "Ecclesiastes (113)\n"
       ]
      },
      {
       "output_type": "stream",
       "stream": "stderr",
       "text": [
        "Lamentations (54)\n"
       ]
      },
      {
       "output_type": "stream",
       "stream": "stderr",
       "text": [
        "Esther (95)\n"
       ]
      },
      {
       "output_type": "stream",
       "stream": "stderr",
       "text": [
        "Daniel (329)\n"
       ]
      },
      {
       "output_type": "stream",
       "stream": "stderr",
       "text": [
        "Ezra (100)\n"
       ]
      },
      {
       "output_type": "stream",
       "stream": "stderr",
       "text": [
        "Nehemiah (171)\n"
       ]
      },
      {
       "output_type": "stream",
       "stream": "stderr",
       "text": [
        "I_Chronicles (163)\n"
       ]
      },
      {
       "output_type": "stream",
       "stream": "stderr",
       "text": [
        "II_Chronicles (292)\n"
       ]
      },
      {
       "output_type": "stream",
       "stream": "stderr",
       "text": [
        "11m 10s Total 7980\n"
       ]
      }
     ],
     "prompt_number": 15
    },
    {
     "cell_type": "heading",
     "level": 3,
     "metadata": {},
     "source": [
      "Execute the task: formatting output"
     ]
    },
    {
     "cell_type": "code",
     "collapsed": false,
     "input": [
      "split_clauses = []\n",
      "for (label, clause) in clauses:\n",
      "    ptcs = [n for (n, w) in enumerate(clause) if w[0]]\n",
      "    for ptc in ptcs:\n",
      "        split_clauses.append((\n",
      "            label,\n",
      "            clause[0:ptc],\n",
      "            clause[ptc],\n",
      "            clause[ptc+1:len(clause)] if ptc < len(clause) - 1 else [],\n",
      "        ))"
     ],
     "language": "python",
     "metadata": {},
     "outputs": [],
     "prompt_number": 16
    },
    {
     "cell_type": "code",
     "collapsed": false,
     "input": [
      "ptc_tab = processor.add_output(\"ptc_tab.csv\")\n",
      "\n",
      "for (label, pre, ptc, post) in split_clauses:\n",
      "    fields = [label]\n",
      "    fields.append(\"|\".join([w[2] for w in pre]))\n",
      "    fields.append(ptc[2])\n",
      "    fields.append(\"|\".join([w[2] for w in post]))\n",
      "    fields.append(\" \".join([w[1] for w in post]))\n",
      "    fields.append(ptc[1])\n",
      "    fields.append(\" \".join([w[1] for w in pre]))\n",
      "    ptc_tab.write(\"{}\\n\".format(\"\\t\".join(fields)))\n",
      "processor.final()"
     ],
     "language": "python",
     "metadata": {},
     "outputs": [
      {
       "output_type": "stream",
       "stream": "stderr",
       "text": [
        "11m 27s END TASK participle\n"
       ]
      },
      {
       "output_type": "stream",
       "stream": "stderr",
       "text": [
        "11m 27s Results directory:\n",
        "/Users/dirk/Scratch/shebanq/results/bhs3.txt.hdr/participle\n"
       ]
      },
      {
       "output_type": "stream",
       "stream": "stderr",
       "text": [
        ".DS_Store                              6148 Wed Jan 22 14:17:11 2014\n",
        ".ptc_tab.csv.swp                      24576 Wed Jan 22 19:15:23 2014\n",
        "__log__participle.txt                  1266 Wed Jan 22 19:04:52 2014\n",
        "participles.csv                     6046003 Wed Jan 22 16:46:41 2014\n",
        "participles.txt                       11760 Thu Jan  9 14:04:43 2014\n",
        "ptc_pretty.txt                      6046003 Wed Jan 22 16:47:10 2014\n",
        "ptc_tab.csv                          593836 Wed Jan 22 19:15:56 2014\n"
       ]
      }
     ],
     "prompt_number": 17
    },
    {
     "cell_type": "heading",
     "level": 2,
     "metadata": {},
     "source": [
      "Playing with the output"
     ]
    },
    {
     "cell_type": "markdown",
     "metadata": {},
     "source": [
      "First of all: I opened the ``ptc_tab.csv`` (a tab delimited file) in OpenOffice, and there I formatted some rows and columns, defined a region, and sorted the rows. The result I saved in ``ptc_tab.ods`` (also on GitHub, same directory as this notebook).\n",
      "\n",
      "Let's get an impression of what we've got in our tab delimited file."
     ]
    },
    {
     "cell_type": "code",
     "collapsed": false,
     "input": [
      "%matplotlib inline\n",
      "import pandas\n",
      "from IPython.display import display\n",
      "pandas.set_option('display.notebook_repr_html', True)"
     ],
     "language": "python",
     "metadata": {},
     "outputs": [],
     "prompt_number": 18
    },
    {
     "cell_type": "code",
     "collapsed": false,
     "input": [
      "table_file = processor.my_files('ptc_tab.csv')\n",
      "df = pandas.read_csv(table_file, sep=\"\\t\", keep_default_na=False, na_values=[])\n",
      "df.head(10)"
     ],
     "language": "python",
     "metadata": {},
     "outputs": [
      {
       "html": [
        "<div style=\"max-height:1000px;max-width:1500px;overflow:auto;\">\n",
        "<table border=\"1\" class=\"dataframe\">\n",
        "  <thead>\n",
        "    <tr style=\"text-align: right;\">\n",
        "      <th></th>\n",
        "      <th>Genesis 1:3</th>\n",
        "      <th>c|n|n</th>\n",
        "      <th>v</th>\n",
        "      <th>pp|n|a|n</th>\n",
        "      <th>\u05e2\u05dc \u05e4\u05e0\u05d9 \u05d4 \u05de\u05d9\u05dd</th>\n",
        "      <th>\u05de\u05e8\u05d7\u05e4\u05ea</th>\n",
        "      <th>\u05d5 \u05e8\u05d5\u05d7 \u05d0\u05dc\u05d4\u05d9\u05dd</th>\n",
        "    </tr>\n",
        "  </thead>\n",
        "  <tbody>\n",
        "    <tr>\n",
        "      <th>0</th>\n",
        "      <td>  Genesis 1:7</td>\n",
        "      <td> c|v</td>\n",
        "      <td> v</td>\n",
        "      <td> n~pp|n|pp|n</td>\n",
        "      <td>    \u05d1\u05d9\u05df \u05de\u05d9\u05dd \u05dc \u05de\u05d9\u05dd</td>\n",
        "      <td> \u05de\u05d1\u05d3\u05d9\u05dc</td>\n",
        "      <td> \u05d5 \u05d9\u05d4\u05d9</td>\n",
        "    </tr>\n",
        "    <tr>\n",
        "      <th>1</th>\n",
        "      <td> Genesis 1:11</td>\n",
        "      <td>    </td>\n",
        "      <td> v</td>\n",
        "      <td>       n|n|n</td>\n",
        "      <td>       \u05d6\u05e8\u05e2 \u05e2\u05e5 \u05e4\u05e8\u05d9</td>\n",
        "      <td> \u05de\u05d6\u05e8\u05d9\u05e2</td>\n",
        "      <td>      </td>\n",
        "    </tr>\n",
        "    <tr>\n",
        "      <th>2</th>\n",
        "      <td> Genesis 1:11</td>\n",
        "      <td>    </td>\n",
        "      <td> v</td>\n",
        "      <td>      n|pp|n</td>\n",
        "      <td>       \u05e4\u05e8\u05d9 \u05dc \u05de\u05d9\u05e0\u05d5</td>\n",
        "      <td>  \u05e2\u05e9\u05c2\u05d4</td>\n",
        "      <td>      </td>\n",
        "    </tr>\n",
        "    <tr>\n",
        "      <th>3</th>\n",
        "      <td> Genesis 1:12</td>\n",
        "      <td>    </td>\n",
        "      <td> v</td>\n",
        "      <td>  n|pp|n|c|n</td>\n",
        "      <td> \u05d6\u05e8\u05e2 \u05dc \u05de\u05d9\u05e0\u05d4\u05d5 \u05d5 \u05e2\u05e5</td>\n",
        "      <td> \u05de\u05d6\u05e8\u05d9\u05e2</td>\n",
        "      <td>      </td>\n",
        "    </tr>\n",
        "    <tr>\n",
        "      <th>4</th>\n",
        "      <td> Genesis 1:12</td>\n",
        "      <td>    </td>\n",
        "      <td> v</td>\n",
        "      <td>           n</td>\n",
        "      <td>              \u05e4\u05e8\u05d9</td>\n",
        "      <td>  \u05e2\u05e9\u05c2\u05d4</td>\n",
        "      <td>      </td>\n",
        "    </tr>\n",
        "    <tr>\n",
        "      <th>5</th>\n",
        "      <td> Genesis 1:21</td>\n",
        "      <td> a~c</td>\n",
        "      <td> v</td>\n",
        "      <td>            </td>\n",
        "      <td>                 </td>\n",
        "      <td> \u05e8\u05de\u05e9\u05c2\u05ea</td>\n",
        "      <td>     \u05d4</td>\n",
        "    </tr>\n",
        "    <tr>\n",
        "      <th>6</th>\n",
        "      <td> Genesis 1:27</td>\n",
        "      <td> a~c</td>\n",
        "      <td> v</td>\n",
        "      <td>      pp|a|n</td>\n",
        "      <td>         \u05e2\u05dc \u05d4 \u05d0\u05e8\u05e5</td>\n",
        "      <td>  \u05e8\u05de\u05e9\u05c2</td>\n",
        "      <td>     \u05d4</td>\n",
        "    </tr>\n",
        "    <tr>\n",
        "      <th>7</th>\n",
        "      <td> Genesis 1:29</td>\n",
        "      <td> a~c</td>\n",
        "      <td> v</td>\n",
        "      <td>      pp|a|n</td>\n",
        "      <td>         \u05e2\u05dc \u05d4 \u05d0\u05e8\u05e5</td>\n",
        "      <td> \u05e8\u05de\u05e9\u05c2\u05ea</td>\n",
        "      <td>     \u05d4</td>\n",
        "    </tr>\n",
        "    <tr>\n",
        "      <th>8</th>\n",
        "      <td> Genesis 1:29</td>\n",
        "      <td>    </td>\n",
        "      <td> v</td>\n",
        "      <td>           n</td>\n",
        "      <td>              \u05d6\u05e8\u05e2</td>\n",
        "      <td>   \u05d6\u05e8\u05e2</td>\n",
        "      <td>      </td>\n",
        "    </tr>\n",
        "    <tr>\n",
        "      <th>9</th>\n",
        "      <td> Genesis 1:29</td>\n",
        "      <td>    </td>\n",
        "      <td> v</td>\n",
        "      <td>           n</td>\n",
        "      <td>              \u05d6\u05e8\u05e2</td>\n",
        "      <td>   \u05d6\u05e8\u05e2</td>\n",
        "      <td>      </td>\n",
        "    </tr>\n",
        "  </tbody>\n",
        "</table>\n",
        "</div>"
       ],
       "metadata": {},
       "output_type": "pyout",
       "prompt_number": 21,
       "text": [
        "    Genesis 1:3 c|n|n  v     pp|n|a|n      \u05e2\u05dc \u05e4\u05e0\u05d9 \u05d4 \u05de\u05d9\u05dd  \u05de\u05e8\u05d7\u05e4\u05ea \u05d5 \u05e8\u05d5\u05d7 \u05d0\u05dc\u05d4\u05d9\u05dd\n",
        "0   Genesis 1:7   c|v  v  n~pp|n|pp|n     \u05d1\u05d9\u05df \u05de\u05d9\u05dd \u05dc \u05de\u05d9\u05dd  \u05de\u05d1\u05d3\u05d9\u05dc       \u05d5 \u05d9\u05d4\u05d9\n",
        "1  Genesis 1:11        v        n|n|n        \u05d6\u05e8\u05e2 \u05e2\u05e5 \u05e4\u05e8\u05d9  \u05de\u05d6\u05e8\u05d9\u05e2            \n",
        "2  Genesis 1:11        v       n|pp|n        \u05e4\u05e8\u05d9 \u05dc \u05de\u05d9\u05e0\u05d5   \u05e2\u05e9\u05c2\u05d4            \n",
        "3  Genesis 1:12        v   n|pp|n|c|n  \u05d6\u05e8\u05e2 \u05dc \u05de\u05d9\u05e0\u05d4\u05d5 \u05d5 \u05e2\u05e5  \u05de\u05d6\u05e8\u05d9\u05e2            \n",
        "4  Genesis 1:12        v            n               \u05e4\u05e8\u05d9   \u05e2\u05e9\u05c2\u05d4            \n",
        "5  Genesis 1:21   a~c  v                                 \u05e8\u05de\u05e9\u05c2\u05ea           \u05d4\n",
        "6  Genesis 1:27   a~c  v       pp|a|n          \u05e2\u05dc \u05d4 \u05d0\u05e8\u05e5   \u05e8\u05de\u05e9\u05c2           \u05d4\n",
        "7  Genesis 1:29   a~c  v       pp|a|n          \u05e2\u05dc \u05d4 \u05d0\u05e8\u05e5  \u05e8\u05de\u05e9\u05c2\u05ea           \u05d4\n",
        "8  Genesis 1:29        v            n               \u05d6\u05e8\u05e2    \u05d6\u05e8\u05e2            \n",
        "9  Genesis 1:29        v            n               \u05d6\u05e8\u05e2    \u05d6\u05e8\u05e2            "
       ]
      }
     ],
     "prompt_number": 21
    },
    {
     "cell_type": "code",
     "collapsed": false,
     "input": [],
     "language": "python",
     "metadata": {},
     "outputs": []
    }
   ],
   "metadata": {}
  }
 ]
}