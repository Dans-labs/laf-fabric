{
 "metadata": {
  "name": ""
 },
 "nbformat": 3,
 "nbformat_minor": 0,
 "worksheets": [
  {
   "cells": [
    {
     "cell_type": "markdown",
     "metadata": {},
     "source": [
      "<a href=\"http://laf-fabric.readthedocs.org/en/latest/\" target=\"_blank\"><img src=\"files/laf-fabric-small.png\"/></a>\n",
      "<a href=\"http://www.godgeleerdheid.vu.nl/etcbc\" target=\"_blank\"><img src=\"files/VU-ETCBC-small.png\"/></a>\n",
      "<a href=\"http://tla.mpi.nl\" target=\"_blank\"><img src=\"files/TLA-small.png\"/></a>\n",
      "<a href=\"http://www.dans.knaw.nl\" target=\"_blank\"><img src=\"files/DANS-small.png\"/></a>"
     ]
    },
    {
     "cell_type": "heading",
     "level": 1,
     "metadata": {},
     "source": [
      "Feature clause_constituent_relation"
     ]
    },
    {
     "cell_type": "markdown",
     "metadata": {},
     "source": [
      "The feature *clause_constituent_relation* on clauses indicates what function the clause has as *constituent* in the sentence in which occurs. It could function as a subject, object, and much more.\n",
      "\n",
      "The maning is quite involved.\n",
      "\n",
      "In this notebook we explore the feature. We see the values it can take, we describe the meanings of the values, and we give examples.\n",
      "\n",
      "In constructing the examples, we show how we can find the sentence nodes above clauses, and how we can find the words for clauses and sentences. We also provide verse labels.\n",
      "\n",
      "So it is a good example of how to get data from three different natures combined: words, linguistic objects, and sections (verses)."
     ]
    },
    {
     "cell_type": "code",
     "collapsed": false,
     "input": [
      "import sys\n",
      "import collections\n",
      "import laf\n",
      "from laf.notebook import Notebook\n",
      "processor = Notebook()"
     ],
     "language": "python",
     "metadata": {},
     "outputs": [],
     "prompt_number": 1
    },
    {
     "cell_type": "code",
     "collapsed": false,
     "input": [
      "processor.init('bhs3.txt.hdr', '--', 'participle', {\n",
      "    \"xmlids\": {\n",
      "        \"node\": False,\n",
      "        \"edge\": False,\n",
      "    },\n",
      "    \"features\": {\n",
      "        \"shebanq\": {\n",
      "            \"node\": [\n",
      "                \"db.otype\",\n",
      "                \"sft.verse_label\",\n",
      "                \"ft.text\",\n",
      "                \"ft.clause_constituent_relation\",\n",
      "            ],\n",
      "            \"edge\": [\n",
      "                \"parents.\",\n",
      "            ],\n",
      "        },\n",
      "    },\n",
      "    \"primary\": False,\n",
      "})\n",
      "\n",
      "API = processor.API()\n",
      "F = API['F']\n",
      "NN = API['NN']\n",
      "msg = API['msg']\n",
      "C = API['C']\n",
      "Ci = API['Ci']"
     ],
     "language": "python",
     "metadata": {},
     "outputs": [
      {
       "output_type": "stream",
       "stream": "stderr",
       "text": [
        "  0.00s COMPILING source: UP TO DATE\n"
       ]
      },
      {
       "output_type": "stream",
       "stream": "stderr",
       "text": [
        "  0.00s COMPILING annox: UP TO DATE\n"
       ]
      },
      {
       "output_type": "stream",
       "stream": "stderr",
       "text": [
        "  0.00s loading common: node_anchor_min ... \n"
       ]
      },
      {
       "output_type": "stream",
       "stream": "stderr",
       "text": [
        "  0.15s loading common: node_anchor_max ... \n"
       ]
      },
      {
       "output_type": "stream",
       "stream": "stderr",
       "text": [
        "  0.29s loading common: node_events ... \n"
       ]
      },
      {
       "output_type": "stream",
       "stream": "stderr",
       "text": [
        "  1.12s loading common: node_events_n ... \n"
       ]
      },
      {
       "output_type": "stream",
       "stream": "stderr",
       "text": [
        "  1.46s loading common: node_events_k ... \n"
       ]
      },
      {
       "output_type": "stream",
       "stream": "stderr",
       "text": [
        "  1.67s loading common: node_sort ... \n"
       ]
      },
      {
       "output_type": "stream",
       "stream": "stderr",
       "text": [
        "  1.79s loading common: node_out ... \n"
       ]
      },
      {
       "output_type": "stream",
       "stream": "stderr",
       "text": [
        "  2.07s loading common: node_in ... \n"
       ]
      },
      {
       "output_type": "stream",
       "stream": "stderr",
       "text": [
        "  2.37s loading common: edges_from ... \n"
       ]
      },
      {
       "output_type": "stream",
       "stream": "stderr",
       "text": [
        "  2.47s loading common: edges_to ... \n"
       ]
      },
      {
       "output_type": "stream",
       "stream": "stderr",
       "text": [
        "  2.59s loading feature: feature ('shebanq', 'parents', '', 'edge') ... \n"
       ]
      },
      {
       "output_type": "stream",
       "stream": "stderr",
       "text": [
        "  3.01s loading feature: feature ('shebanq', 'db', 'otype', 'node') ... \n"
       ]
      },
      {
       "output_type": "stream",
       "stream": "stderr",
       "text": [
        "  4.17s loading feature: feature ('shebanq', 'ft', 'text', 'node') ... \n"
       ]
      },
      {
       "output_type": "stream",
       "stream": "stderr",
       "text": [
        "  4.73s loading feature: feature ('shebanq', 'ft', 'clause_constituent_relation', 'node') ... \n"
       ]
      },
      {
       "output_type": "stream",
       "stream": "stderr",
       "text": [
        "  4.80s loading feature: feature ('shebanq', 'sft', 'verse_label', 'node') ... \n"
       ]
      },
      {
       "output_type": "stream",
       "stream": "stderr",
       "text": [
        "  4.82s loading annox: xfeature ('shebanq', 'parents', '', 'edge') ... \n"
       ]
      },
      {
       "output_type": "stream",
       "stream": "stderr",
       "text": [
        "  4.83s loading annox: xfeature ('shebanq', 'db', 'otype', 'node') ... \n"
       ]
      },
      {
       "output_type": "stream",
       "stream": "stderr",
       "text": [
        "  4.83s loading annox: xfeature ('shebanq', 'ft', 'text', 'node') ... \n"
       ]
      },
      {
       "output_type": "stream",
       "stream": "stderr",
       "text": [
        "  4.83s loading annox: xfeature ('shebanq', 'ft', 'clause_constituent_relation', 'node') ... \n"
       ]
      },
      {
       "output_type": "stream",
       "stream": "stderr",
       "text": [
        "  4.83s loading annox: xfeature ('shebanq', 'sft', 'verse_label', 'node') ... \n"
       ]
      },
      {
       "output_type": "stream",
       "stream": "stderr",
       "text": [
        "  5.89s present feature: shebanq:parents. (edge) from source bhs3.txt.hdr, annox --\n"
       ]
      },
      {
       "output_type": "stream",
       "stream": "stderr",
       "text": [
        "  5.89s present feature: shebanq:db.otype (node) from source bhs3.txt.hdr, annox --\n"
       ]
      },
      {
       "output_type": "stream",
       "stream": "stderr",
       "text": [
        "  5.89s present feature: shebanq:sft.verse_label (node) from source bhs3.txt.hdr, annox --\n"
       ]
      },
      {
       "output_type": "stream",
       "stream": "stderr",
       "text": [
        "  5.89s present feature: shebanq:ft.clause_constituent_relation (node) from source bhs3.txt.hdr, annox --\n"
       ]
      },
      {
       "output_type": "stream",
       "stream": "stderr",
       "text": [
        "  5.89s present feature: shebanq:ft.text (node) from source bhs3.txt.hdr, annox --\n"
       ]
      },
      {
       "output_type": "stream",
       "stream": "stderr",
       "text": [
        "  0.00s LOGFILE=/Users/dirk/Scratch/shebanq/results/bhs3.txt.hdr/participle/__log__participle.txt\n"
       ]
      },
      {
       "output_type": "stream",
       "stream": "stderr",
       "text": [
        "  0.00s BEGIN TASK=participle SOURCE=bhs3.txt.hdr\n"
       ]
      }
     ],
     "prompt_number": 2
    },
    {
     "cell_type": "heading",
     "level": 1,
     "metadata": {},
     "source": [
      "Trees"
     ]
    },
    {
     "cell_type": "markdown",
     "metadata": {},
     "source": [
      "We need trees in order to connect clauses to sentences and words to clauses and sentences.\n",
      "Our trees are based on the *parents* edges.\n",
      "\n",
      "First we have to find starting points, the top nodes, which are the sentence objects.\n",
      "We find them by starting with each word and move along the parents edges until there are no more parents. We collect these top nodes in a set (so duplicates are filtered out automatically).\n",
      "\n",
      "In another notebook I have verified that we get *all* sentence objects this way and *only* sentence objects. "
     ]
    },
    {
     "cell_type": "code",
     "collapsed": false,
     "input": [
      "top_nodes = set()\n",
      "top_node_types = collections.defaultdict(lambda: 0)\n",
      "\n",
      "msg(\"Finding top nodes ... \")\n",
      "for node in NN(test=F.shebanq_db_otype.v, value='word'):\n",
      "    startnodes = set((node,))\n",
      "    level = 0\n",
      "    while startnodes:\n",
      "        if level > 100:\n",
      "            msg('WARNING: Deep nesting. Probably endless loop. Breaking out')\n",
      "            break\n",
      "        upnodes = set()\n",
      "        for startnode in startnodes:\n",
      "            otype = F.shebanq_db_otype.v(startnode)\n",
      "            parents = C.shebanq_parents_[''][startnode]\n",
      "            upnodes |= parents\n",
      "        if not upnodes:\n",
      "            top_nodes |= startnodes\n",
      "        startnodes = upnodes\n",
      "        level += 1\n",
      "msg(\"Top nodes found: {}\".format(len(top_nodes)))"
     ],
     "language": "python",
     "metadata": {},
     "outputs": [
      {
       "output_type": "stream",
       "stream": "stderr",
       "text": [
        " 4m 29s Finding top nodes ... \n"
       ]
      },
      {
       "output_type": "stream",
       "stream": "stderr",
       "text": [
        " 4m 36s Top nodes found: 71354\n"
       ]
      }
     ],
     "prompt_number": 3
    },
    {
     "cell_type": "markdown",
     "metadata": {},
     "source": [
      "Now we are going to *walk* the trees, from sentence node downwards to all the children and so on.\n",
      "\n",
      "We are not going to cnstruct those trees. We only need to collect certain kinds of information while we go:\n",
      "\n",
      "**to_sentence[node] = top_node** For each node we encounter we store the top node of which it is a descendant.\n",
      "\n",
      "**clause_words[clause] = set of clause's word nodes** For each clause we encounter we collect the word nodes that are descendants of that clause.\n",
      "\n",
      "**sentence_words[sentence] = set of sentence's word nodes** Likewise for sentences.\n",
      "\n",
      "**sentence_verse[sentence] = verse label of sentence** The passage thesentence belongs to.\n",
      "\n",
      "**N.B. 1** We gather word *nodes*, not words themselves. Multiple occurrences of the same word are still distinct word nodes. Yet we loose the ordering. But the numeric ordering of the nodes corresponds with the textual ordering of the words. This is an undocumented property. Alternatively, we could have extracted the *monad* number of the owrds, and sorted on that. The monad numbers are guaranteed to correspond with the textual order.\n",
      "\n",
      "**N.B. 2** In practice, the *parents* edges are not a pure tree, but a directed acyclic graph. So we will visit some words multiple times. The algorithm below detects that and prevents multiple visits. That is the function of **nodes_seen**.\n"
     ]
    },
    {
     "cell_type": "code",
     "collapsed": false,
     "input": [
      "nodes_seen = set()\n",
      "to_sentence = {}\n",
      "clause_words = collections.defaultdict(lambda: set())\n",
      "sentence_words = collections.defaultdict(lambda: set())\n",
      "sentence_verse = {}\n",
      "verse_label = None\n",
      "\n",
      "# we add extra parameters to the walk function: \n",
      "#    sentence is the top node above node\n",
      "#    clause is the clause node above node\n",
      "\n",
      "def walk_tree(node, sentence, clause):\n",
      "    if node in nodes_seen:\n",
      "        return\n",
      "    \n",
      "    nodes_seen.add(node)\n",
      "    to_sentence[node] = sentence\n",
      "    new_clause = clause\n",
      "\n",
      "    otype = F.shebanq_db_otype.v(node)\n",
      "    if otype == 'clause':\n",
      "        new_clause = node\n",
      "    if otype == 'word':\n",
      "        clause_words[clause].add(node)\n",
      "        sentence_words[sentence].add(node)\n",
      "    \n",
      "    children = Ci.shebanq_parents_[''][node]\n",
      "    for child in children:\n",
      "        walk_tree(child, sentence, new_clause)\n",
      "\n",
      "# we count the trees we visit, mainly to give progress messages        \n",
      "s = 0\n",
      "sc = 0\n",
      "chunk = 10000 # we only issue a message every chunk many trees\n",
      "\n",
      "# Walk through all top nodes and verse nodes in document order\n",
      "\n",
      "for node in NN(test=lambda n: n in top_nodes or F.shebanq_db_otype.v(n) == 'verse', value=True):\n",
      "    if F.shebanq_db_otype.v(node) == 'verse':\n",
      "        verse_label = F.shebanq_sft_verse_label.v(node)\n",
      "        continue\n",
      "    sentence_verse[node] = verse_label\n",
      "    nodes_seen = set()\n",
      "    walk_tree(node, node, None)\n",
      "    s += 1\n",
      "    sc += 1\n",
      "    if sc == chunk:\n",
      "        msg(\"{} trees visited\".format(s))\n",
      "        sc = 0\n",
      "    \n",
      "msg(\"{} trees visited\".format(s))"
     ],
     "language": "python",
     "metadata": {},
     "outputs": [
      {
       "output_type": "stream",
       "stream": "stderr",
       "text": [
        "20m 56s 10000 trees visited\n"
       ]
      },
      {
       "output_type": "stream",
       "stream": "stderr",
       "text": [
        "20m 58s 20000 trees visited\n"
       ]
      },
      {
       "output_type": "stream",
       "stream": "stderr",
       "text": [
        "20m 59s 30000 trees visited\n"
       ]
      },
      {
       "output_type": "stream",
       "stream": "stderr",
       "text": [
        "20m 59s 40000 trees visited\n"
       ]
      },
      {
       "output_type": "stream",
       "stream": "stderr",
       "text": [
        "21m 00s 50000 trees visited\n"
       ]
      },
      {
       "output_type": "stream",
       "stream": "stderr",
       "text": [
        "21m 01s 60000 trees visited\n"
       ]
      },
      {
       "output_type": "stream",
       "stream": "stderr",
       "text": [
        "21m 01s 70000 trees visited\n"
       ]
      },
      {
       "output_type": "stream",
       "stream": "stderr",
       "text": [
        "21m 01s 71354 trees visited\n"
       ]
      }
     ],
     "prompt_number": 4
    },
    {
     "cell_type": "heading",
     "level": 1,
     "metadata": {},
     "source": [
      "Clause constituent relations"
     ]
    },
    {
     "cell_type": "markdown",
     "metadata": {},
     "source": [
      "Let's have a look at the values that clause constituent relations can take.\n",
      "\n",
      "We collect examples on the fly. By setting **nr_of_examples** below you can specify how much examples you want to generate per value."
     ]
    },
    {
     "cell_type": "code",
     "collapsed": false,
     "input": [
      "nr_of_examples = 3\n",
      "\n",
      "rels = collections.defaultdict(int)\n",
      "examples = collections.defaultdict(lambda: set())\n",
      "for i in NN(test=F.shebanq_db_otype.v, values=['clause']):\n",
      "    ccr = F.shebanq_ft_clause_constituent_relation.v(i)\n",
      "    rels[ccr] += 1\n",
      "    if len(examples[ccr]) < nr_of_examples:\n",
      "        examples[ccr].add(i)"
     ],
     "language": "python",
     "metadata": {},
     "outputs": [],
     "prompt_number": 5
    },
    {
     "cell_type": "markdown",
     "metadata": {},
     "source": [
      "Let us print out how often each value occurs:"
     ]
    },
    {
     "cell_type": "code",
     "collapsed": false,
     "input": [
      "for ccr in rels:\n",
      "    print(\"{}: {:>6} x\".format(ccr, rels[ccr]))"
     ],
     "language": "python",
     "metadata": {},
     "outputs": [
      {
       "output_type": "stream",
       "stream": "stdout",
       "text": [
        "RgRc:    114 x\n",
        "Adju:   4910 x\n",
        "Coor:    908 x\n",
        "Resu:    976 x\n",
        "none:  75059 x\n",
        "Pred:     91 x\n",
        "Attr:   4804 x\n",
        "Objc:   1066 x\n",
        "Subj:    241 x\n",
        "CoVo:    143 x\n",
        "Cmpl:     75 x\n"
       ]
      }
     ],
     "prompt_number": 6
    },
    {
     "cell_type": "heading",
     "level": 1,
     "metadata": {},
     "source": [
      "Description of the values"
     ]
    },
    {
     "cell_type": "markdown",
     "metadata": {},
     "source": [
      "Here are the values themselves, with a short description:\n",
      "\n",
      "     'Adju': 'adjunct clause',\n",
      "     'Attr': 'attributive clause',\n",
      "     'Cmpl': 'complement clause, but not subject or object',\n",
      "     'CoVo': 'continuation of the vocative',\n",
      "     'Coor': 'coordination',\n",
      "     'Objc': 'object clause',\n",
      "     'Pred': 'predicative clause',\n",
      "     'Resu': 'clause after resumptive extrapolated fronted element',\n",
      "     'RgRc': 'Regens rectum (governing governed)',\n",
      "     'Subj': 'subject clause',\n",
      "     'none': 'not known/not marked',\n",
      "\n",
      "And here are the explanations:\n",
      "\n",
      "### Subject\n",
      "clause that has the function of subject\n",
      "\n",
      "### Object\n",
      "clause that has the function of object\n",
      "\n",
      "### Complement\n",
      "clause that has a function of a verb complement, but not subject or object \n",
      "\n",
      "### Attributive\n",
      "clause that has an attributive function (often with a relative pronoun)\n",
      "\n",
      "### Adjunct\n",
      "clauses with additional information, usually without a finite verb\n",
      "\n",
      "### Predicative clause\n",
      "clause that has a predicative function\n",
      "\n",
      "### Coordination\n",
      "multiple dependent clauses coordinated (with and, or etc) to each other under the same head (a main clause or a phrase (asher))\n",
      "\n",
      "### Continuation of the vocative\n",
      "clause that follows after a vocative: *Adam*, where are you.\n",
      "\n",
      "### Resumptive\n",
      "King David, Nathan the prohpet spoke severly to *him* [here King David is *casus pendens* or extrapolated element.\n",
      "\n",
      "### Regens Rectum\n",
      "You shall reign over the birds and the animals and **all** *creeps on the face of the earth* [Here **all** governs the *reptiles*]\n",
      "\n",
      "### none\n",
      "No clause constituent relation marked."
     ]
    },
    {
     "cell_type": "heading",
     "level": 1,
     "metadata": {},
     "source": [
      "Examples"
     ]
    },
    {
     "cell_type": "markdown",
     "metadata": {},
     "source": [
      "Let us compile and print out the examples.\n",
      "\n",
      "Here we use the information we collected when we walked the trees, above.\n",
      "\n",
      "For each example we print two lines:\n",
      "\n",
      "    value of clause constituent relation    passage (verse label)    the words of the clause in question\n",
      "        the words of the whole sentence in which the clause occurs"
     ]
    },
    {
     "cell_type": "code",
     "collapsed": false,
     "input": [
      "for ccr in sorted(examples):\n",
      "    for clause in examples[ccr]:\n",
      "        sentence = to_sentence[clause]\n",
      "        cwords = sorted(clause_words[clause])\n",
      "        swords = sorted(sentence_words[sentence])\n",
      "        vlabel = sentence_verse[sentence]\n",
      "        print(\"{:<4} {:<10} {}\\n{:<16}{}\".format(\n",
      "            ccr, \n",
      "            vlabel, \n",
      "            \" \".join([F.shebanq_ft_text.v(word) for word in cwords]),\n",
      "            '',\n",
      "            \" \".join([F.shebanq_ft_text.v(word) for word in swords]),\n",
      "        ))"
     ],
     "language": "python",
     "metadata": {},
     "outputs": [
      {
       "output_type": "stream",
       "stream": "stdout",
       "text": [
        "Adju  GEN 01,16 \u05dc\u05b0 \u05d4\u05b8\u05d0\u05b4\u0596\u05d9\u05e8 \u05e2\u05b7\u05dc \u05d4\u05b8 \u05d0\u05b8\u05bd\u05e8\u05b6\u05e5\n",
        "                \u05d5\u05b7 \u05d9\u05b4\u05bc\u05ea\u05b5\u05bc\u05a5\u05df \u05d0\u05b9\u05ea\u05b8\u059b\u05dd \u05d0\u05b1\u05dc\u05b9\u05d4\u05b4\u0596\u05d9\u05dd \u05d1\u05b4\u05bc \u05e8\u05b0\u05e7\u05b4\u05a3\u05d9\u05e2\u05b7 \u05d4\u05b7 \u05e9\u05b8\u05bc\u05c1\u05de\u05b8\u0591\u05d9\u05b4\u05dd \u05dc\u05b0 \u05d4\u05b8\u05d0\u05b4\u0596\u05d9\u05e8 \u05e2\u05b7\u05dc \u05d4\u05b8 \u05d0\u05b8\u05bd\u05e8\u05b6\u05e5 \u05d5\u05b0 \u05dc\u05b4 \u05de\u05b0\u05e9\u05b9\u05c1\u05dc\u0599 \u05d1\u05b7\u05bc  \u05d9\u05b9\u05bc\u05a3\u05d5\u05dd \u05d5\u05bc \u05d1\u05b7  \u05dc\u05b7\u05bc\u0594\u05d9\u05b0\u05dc\u05b8\u05d4 \u05d5\u05bc\u05bd \u05dc\u05b2 \u05d4\u05b7\u05d1\u05b0\u05d3\u05b4\u05bc\u0594\u05d9\u05dc \u05d1\u05b5\u05bc\u05a5\u05d9\u05df \u05d4\u05b8 \u05d0\u05b9\u0596\u05d5\u05e8 \u05d5\u05bc \u05d1\u05b5\u05a3\u05d9\u05df \u05d4\u05b7 \u05d7\u05b9\u0591\u05e9\u05b6\u05c1\u05da\u05b0\n",
        "Adju  GEN 01,15 \u05dc\u05b0 \u05d4\u05b8\u05d0\u05b4\u0596\u05d9\u05e8 \u05e2\u05b7\u05dc \u05d4\u05b8 \u05d0\u05b8\u0591\u05e8\u05b6\u05e5\n",
        "                \u05d5\u05b0 \u05d4\u05b8\u05d9\u05a4\u05d5\u05bc \u05dc\u05b4 \u05de\u05b0\u05d0\u05b9\u05d5\u05e8\u05b9\u05ea\u0599 \u05d1\u05b4\u05bc \u05e8\u05b0\u05e7\u05b4\u05a3\u05d9\u05e2\u05b7 \u05d4\u05b7 \u05e9\u05b8\u05bc\u05c1\u05de\u05b7\u0594\u05d9\u05b4\u05dd \u05dc\u05b0 \u05d4\u05b8\u05d0\u05b4\u0596\u05d9\u05e8 \u05e2\u05b7\u05dc \u05d4\u05b8 \u05d0\u05b8\u0591\u05e8\u05b6\u05e5\n",
        "Adju  GEN 01,14 \u05dc\u05b0 \u05d4\u05b7\u05d1\u05b0\u05d3\u05b4\u05bc\u0595\u05d9\u05dc \u05d1\u05b5\u05bc\u05a5\u05d9\u05df \u05d4\u05b7 \u05d9\u05b9\u05bc\u0596\u05d5\u05dd \u05d5\u05bc \u05d1\u05b5\u05a3\u05d9\u05df \u05d4\u05b7 \u05dc\u05b8\u05bc\u0591\u05d9\u05b0\u05dc\u05b8\u05d4\n",
        "                \u05d9\u05b0\u05d4\u05b4\u05a4\u05d9 \u05de\u05b0\u05d0\u05b9\u05e8\u05b9\u05ea\u0599 \u05d1\u05b4\u05bc \u05e8\u05b0\u05e7\u05b4\u05a3\u05d9\u05e2\u05b7 \u05d4\u05b7 \u05e9\u05b8\u05bc\u05c1\u05de\u05b7\u0594\u05d9\u05b4\u05dd \u05dc\u05b0 \u05d4\u05b7\u05d1\u05b0\u05d3\u05b4\u05bc\u0595\u05d9\u05dc \u05d1\u05b5\u05bc\u05a5\u05d9\u05df \u05d4\u05b7 \u05d9\u05b9\u05bc\u0596\u05d5\u05dd \u05d5\u05bc \u05d1\u05b5\u05a3\u05d9\u05df \u05d4\u05b7 \u05dc\u05b8\u05bc\u0591\u05d9\u05b0\u05dc\u05b8\u05d4\n",
        "Attr  GEN 01,07 \u05d0\u05b2\u05e9\u05b6\u05c1\u0596\u05e8 \u05de\u05b5 \u05e2\u05b7\u05a3\u05dc \u05dc\u05b8  \u05e8\u05b8\u05e7\u05b4\u0591\u05d9\u05e2\u05b7\n",
        "                \u05d5\u05b7 \u05d9\u05b7\u05bc\u05d1\u05b0\u05d3\u05b5\u05bc\u0597\u05dc \u05d1\u05b5\u05bc\u05a4\u05d9\u05df \u05d4\u05b7 \u05de\u05b7\u05bc\u05a8\u05d9\u05b4\u05dd\u0599 \u05d0\u05b2\u05e9\u05b6\u05c1\u05e8\u0599 \u05de\u05b4 \u05ea\u05b7\u05bc\u05a3\u05d7\u05b7\u05ea \u05dc\u05b8  \u05e8\u05b8\u05e7\u05b4\u0594\u05d9\u05e2\u05b7 \u05d5\u05bc \u05d1\u05b5\u05a3\u05d9\u05df \u05d4\u05b7 \u05de\u05b7\u05bc\u0594\u05d9\u05b4\u05dd \u05d0\u05b2\u05e9\u05b6\u05c1\u0596\u05e8 \u05de\u05b5 \u05e2\u05b7\u05a3\u05dc \u05dc\u05b8  \u05e8\u05b8\u05e7\u05b4\u0591\u05d9\u05e2\u05b7\n",
        "Attr  GEN 01,11 \u05de\u05b7\u05d6\u05b0\u05e8\u05b4\u05a3\u05d9\u05e2\u05b7 \u05d6\u05b6\u0594\u05e8\u05b7\u05e2\n",
        "                \u05ea\u05b7\u05bc\u05bd\u05d3\u05b0\u05e9\u05b5\u05c1\u05a4\u05d0 \u05d4\u05b8 \u05d0\u05b8\u05a8\u05e8\u05b6\u05e5\u0599 \u05d3\u05b6\u05bc\u0594\u05e9\u05b6\u05c1\u05d0 \u05e2\u05b5\u059a\u05e9\u05b6\u05c2\u05d1 \u05de\u05b7\u05d6\u05b0\u05e8\u05b4\u05a3\u05d9\u05e2\u05b7 \u05d6\u05b6\u0594\u05e8\u05b7\u05e2 \u05e2\u05b5\u05a3\u05e5 \u05e4\u05b0\u05bc\u05e8\u05b4\u059e\u05d9 \u05e2\u05b9\u05a4\u05e9\u05b6\u05c2\u05d4 \u05e4\u05b0\u05bc\u05e8\u05b4\u05d9\u0599 \u05dc\u05b0 \u05de\u05b4\u05d9\u05e0\u05b9\u0594\u05d5 \u05d0\u05b2\u05e9\u05b6\u05c1\u05a5\u05e8 \u05d6\u05b7\u05e8\u05b0\u05e2\u05b9\u05d5 \u05d1\u05b9\u0596\u05d5 \u05e2\u05b7\u05dc \u05d4\u05b8 \u05d0\u05b8\u0591\u05e8\u05b6\u05e5\n",
        "Attr  GEN 01,07 \u05d0\u05b2\u05e9\u05b6\u05c1\u05e8\u0599 \u05de\u05b4 \u05ea\u05b7\u05bc\u05a3\u05d7\u05b7\u05ea \u05dc\u05b8  \u05e8\u05b8\u05e7\u05b4\u0594\u05d9\u05e2\u05b7\n",
        "                \u05d5\u05b7 \u05d9\u05b7\u05bc\u05d1\u05b0\u05d3\u05b5\u05bc\u0597\u05dc \u05d1\u05b5\u05bc\u05a4\u05d9\u05df \u05d4\u05b7 \u05de\u05b7\u05bc\u05a8\u05d9\u05b4\u05dd\u0599 \u05d0\u05b2\u05e9\u05b6\u05c1\u05e8\u0599 \u05de\u05b4 \u05ea\u05b7\u05bc\u05a3\u05d7\u05b7\u05ea \u05dc\u05b8  \u05e8\u05b8\u05e7\u05b4\u0594\u05d9\u05e2\u05b7 \u05d5\u05bc \u05d1\u05b5\u05a3\u05d9\u05df \u05d4\u05b7 \u05de\u05b7\u05bc\u0594\u05d9\u05b4\u05dd \u05d0\u05b2\u05e9\u05b6\u05c1\u0596\u05e8 \u05de\u05b5 \u05e2\u05b7\u05a3\u05dc \u05dc\u05b8  \u05e8\u05b8\u05e7\u05b4\u0591\u05d9\u05e2\u05b7\n",
        "Cmpl  GEN 32,14 \u05de\u05b4\u05df \u05d4\u05b7 \u05d1\u05b8\u05bc\u05a7\u05d0 \u05d1\u05b0 \u05d9\u05b8\u05d3\u05b9\u059b\u05d5\n",
        "                \u05d5\u05b7 \u05d9\u05b4\u05bc\u05e7\u05b7\u05bc\u059e\u05d7 \u05de\u05b4\u05df \u05d4\u05b7 \u05d1\u05b8\u05bc\u05a7\u05d0 \u05d1\u05b0 \u05d9\u05b8\u05d3\u05b9\u059b\u05d5 \u05de\u05b4\u05e0\u05b0\u05d7\u05b8\u0596\u05d4 \u05dc\u05b0 \u05e2\u05b5\u05e9\u05b8\u05c2\u05a5\u05d5 \u05d0\u05b8\u05d7\u05b4\u05bd\u05d9\u05d5 \u05e2\u05b4\u05d6\u05b4\u05bc\u05a3\u05d9\u05dd \u05de\u05b8\u05d0\u05ea\u05b7\u0594\u05d9\u05b4\u05dd \u05d5\u05bc \u05ea\u05b0\u05d9\u05b8\u05e9\u05b4\u05c1\u0596\u05d9\u05dd \u05e2\u05b6\u05e9\u05b0\u05c2\u05e8\u05b4\u0591\u05d9\u05dd \u05e8\u05b0\u05d7\u05b5\u05dc\u05b4\u05a5\u05d9\u05dd \u05de\u05b8\u05d0\u05ea\u05b7\u0596\u05d9\u05b4\u05dd \u05d5\u05b0 \u05d0\u05b5\u05d9\u05dc\u05b4\u05a5\u05d9\u05dd \u05e2\u05b6\u05e9\u05b0\u05c2\u05e8\u05b4\u05bd\u05d9\u05dd \u05d2\u05b0\u05bc\u05de\u05b7\u05dc\u05b4\u05bc\u05a7\u05d9\u05dd \u05de\u05b5\u05d9\u05e0\u05b4\u05d9\u05e7\u05b9\u059b\u05d5\u05ea \u05d5\u05bc \u05d1\u05b0\u05e0\u05b5\u05d9\u05d4\u05b6\u0596\u05dd \u05e9\u05b0\u05c1\u05dc\u05b9\u05e9\u05b4\u05c1\u0591\u05d9\u05dd \u05e4\u05b8\u05bc\u05e8\u05b9\u05a4\u05d5\u05ea \u05d0\u05b7\u05e8\u05b0\u05d1\u05b8\u05bc\u05e2\u05b4\u05d9\u05dd\u0599 \u05d5\u05bc \u05e4\u05b8\u05e8\u05b4\u05a3\u05d9\u05dd \u05e2\u05b2\u05e9\u05b8\u05c2\u05e8\u05b8\u0594\u05d4 \u05d0\u05b2\u05ea\u05b9\u05e0\u05b9\u05a3\u05ea \u05e2\u05b6\u05e9\u05b0\u05c2\u05e8\u05b4\u0594\u05d9\u05dd \u05d5\u05b7 \u05e2\u05b0\u05d9\u05b8\u05e8\u05b4\u0596\u05dd \u05e2\u05b2\u05e9\u05b8\u05c2\u05e8\u05b8\u05bd\u05d4\n",
        "Cmpl  GEN 31,01 \u05d5\u05bc \u05de\u05b5 \u05d0\u05b2\u05e9\u05b6\u05c1\u05a3\u05e8 \u05dc\u05b0 \u05d0\u05b8\u05d1\u05b4\u0594\u05d9\u05e0\u05d5\u05bc\n",
        "                \u05d5\u05bc \u05de\u05b5 \u05d0\u05b2\u05e9\u05b6\u05c1\u05a3\u05e8 \u05dc\u05b0 \u05d0\u05b8\u05d1\u05b4\u0594\u05d9\u05e0\u05d5\u05bc \u05e2\u05b8\u05e9\u05b8\u05c2\u0595\u05d4 \u05d0\u05b5\u05a5\u05ea \u05db\u05b8\u05bc\u05dc \u05d4\u05b7 \u05db\u05b8\u05bc\u05d1\u05b9\u0596\u05d3 \u05d4\u05b7 \u05d6\u05b6\u05bc\u05bd\u05d4\n",
        "Cmpl  GEN 30,18 \u05d0\u05b2\u05e9\u05b6\u05c1\u05e8 \u05e0\u05b8\u05ea\u05b7\u05a5\u05ea\u05b4\u05bc\u05d9 \u05e9\u05b4\u05c1\u05e4\u05b0\u05d7\u05b8\u05ea\u05b4\u0596\u05d9 \u05dc\u05b0 \u05d0\u05b4\u05d9\u05e9\u05b4\u05c1\u0591\u05d9\n",
        "                \u05e0\u05b8\u05ea\u05b7\u05a4\u05df \u05d0\u05b1\u05dc\u05b9\u05d4\u05b4\u05d9\u05dd\u0599 \u05e9\u05b0\u05c2\u05db\u05b8\u05e8\u05b4\u0594\u05d9 \u05d0\u05b2\u05e9\u05b6\u05c1\u05e8 \u05e0\u05b8\u05ea\u05b7\u05a5\u05ea\u05b4\u05bc\u05d9 \u05e9\u05b4\u05c1\u05e4\u05b0\u05d7\u05b8\u05ea\u05b4\u0596\u05d9 \u05dc\u05b0 \u05d0\u05b4\u05d9\u05e9\u05b4\u05c1\u0591\u05d9\n",
        "CoVo  GEN 24,12 \u05d4\u05b7\u05e7\u05b0\u05e8\u05b5\u05d4 \u05e0\u05b8\u05a5\u05d0 \u05dc\u05b0 \u05e4\u05b8\u05e0\u05b7\u0596\u05d9 \u05d4\u05b7 \u05d9\u05b9\u05bc\u0591\u05d5\u05dd\n",
        "                \u05d9\u05b0\u05d4\u05d5\u05b8\u0597\u05d4 \u05d0\u05b1\u05dc\u05b9\u05d4\u05b5\u05d9\u0599 \u05d0\u05b2\u05d3\u05b9\u05e0\u05b4\u05a3\u05d9 \u05d0\u05b7\u05d1\u05b0\u05e8\u05b8\u05d4\u05b8\u0594\u05dd \u05d4\u05b7\u05e7\u05b0\u05e8\u05b5\u05d4 \u05e0\u05b8\u05a5\u05d0 \u05dc\u05b0 \u05e4\u05b8\u05e0\u05b7\u0596\u05d9 \u05d4\u05b7 \u05d9\u05b9\u05bc\u0591\u05d5\u05dd \u05d5\u05b7 \u05e2\u05b2\u05e9\u05b5\u05c2\u05d4 \u05d7\u05b6\u0595\u05e1\u05b6\u05d3 \u05e2\u05b4\u0596\u05dd \u05d0\u05b2\u05d3\u05b9\u05e0\u05b4\u05a5\u05d9 \u05d0\u05b7\u05d1\u05b0\u05e8\u05b8\u05d4\u05b8\u05bd\u05dd \u05d4\u05b4\u05e0\u05b5\u05bc\u059b\u05d4 \u05d0\u05b8\u05e0\u05b9\u05db\u05b4\u05a5\u05d9 \u05e0\u05b4\u05e6\u05b8\u05bc\u0596\u05d1 \u05e2\u05b7\u05dc \u05e2\u05b5\u05a3\u05d9\u05df \u05d4\u05b7 \u05de\u05b8\u05bc\u0591\u05d9\u05b4\u05dd\n",
        "CoVo  GEN 16,08 \u05d0\u05b5\u05bd\u05d9 \u05de\u05b4 \u05d6\u05b6\u05bc\u05a5\u05d4 \u05d1\u05b8\u0596\u05d0\u05ea\n",
        "                \u05d4\u05b8\u05d2\u05b8\u059e\u05e8 \u05e9\u05b4\u05c1\u05e4\u05b0\u05d7\u05b7\u05a5\u05ea \u05e9\u05b8\u05c2\u05e8\u05b7\u059b\u05d9 \u05d0\u05b5\u05bd\u05d9 \u05de\u05b4 \u05d6\u05b6\u05bc\u05a5\u05d4 \u05d1\u05b8\u0596\u05d0\u05ea \u05d5\u05b0 \u05d0\u05b8\u05a3\u05e0\u05b8\u05d4 \u05ea\u05b5\u05dc\u05b5\u0591\u05db\u05b4\u05d9\n",
        "CoVo  GEN 15,02 \u05de\u05b7\u05d4 \u05ea\u05b4\u05bc\u05ea\u05b6\u05bc\u05df \u05dc\u05b4\u0594\u05d9\n",
        "                \u05d0\u05b2\u05d3\u05b9\u05e0\u05b8\u05a4\u05d9 \u05d9\u05b1\u05d4\u05d5\u05b4\u05d4\u0599 \u05de\u05b7\u05d4 \u05ea\u05b4\u05bc\u05ea\u05b6\u05bc\u05df \u05dc\u05b4\u0594\u05d9 \u05d5\u05b0 \u05d0\u05b8\u05e0\u05b9\u05db\u05b4\u0596\u05d9 \u05d4\u05b9\u05d5\u05dc\u05b5\u05a3\u05da\u05b0 \u05e2\u05b2\u05e8\u05b4\u05d9\u05e8\u05b4\u0591\u05d9\n",
        "Coor  GEN 02,09 \u05d5\u05b0 \u05d8\u05b9\u05a3\u05d5\u05d1 \u05dc\u05b0 \u05de\u05b7\u05d0\u05b2\u05db\u05b8\u0591\u05dc\n",
        "                \u05d5\u05b7 \u05d9\u05b7\u05bc\u05e6\u05b0\u05de\u05b7\u059e\u05d7 \u05d9\u05b0\u05d4\u05d5\u05b8\u05a4\u05d4 \u05d0\u05b1\u05dc\u05b9\u05d4\u05b4\u05d9\u05dd\u0599 \u05de\u05b4\u05df \u05d4\u05b8\u05a3 \u05d0\u05b2\u05d3\u05b8\u05de\u05b8\u0594\u05d4 \u05db\u05b8\u05bc\u05dc \u05e2\u05b5\u059b\u05e5 \u05e0\u05b6\u05d7\u05b0\u05de\u05b8\u05a5\u05d3 \u05dc\u05b0 \u05de\u05b7\u05e8\u05b0\u05d0\u05b6\u0596\u05d4 \u05d5\u05b0 \u05d8\u05b9\u05a3\u05d5\u05d1 \u05dc\u05b0 \u05de\u05b7\u05d0\u05b2\u05db\u05b8\u0591\u05dc \u05d5\u05b0 \u05e2\u05b5\u05a4\u05e5 \u05d4\u05b7\u05bd \u05d7\u05b7\u05d9\u05b4\u05bc\u05d9\u05dd\u0599 \u05d1\u05b0\u05bc \u05ea\u05b9\u05a3\u05d5\u05da\u05b0 \u05d4\u05b7 \u05d2\u05b8\u05bc\u0594\u05df \u05d5\u05b0 \u05e2\u05b5\u0595\u05e5 \u05d4\u05b7 \u05d3\u05b7\u05bc\u0596\u05e2\u05b7\u05ea \u05d8\u05b9\u05a5\u05d5\u05d1 \u05d5\u05b8 \u05e8\u05b8\u05bd\u05e2\n",
        "Coor  GEN 01,16 \u05d5\u05b0 \u05dc\u05b4 \u05de\u05b0\u05e9\u05b9\u05c1\u05dc\u0599 \u05d1\u05b7\u05bc  \u05d9\u05b9\u05bc\u05a3\u05d5\u05dd \u05d5\u05bc \u05d1\u05b7  \u05dc\u05b7\u05bc\u0594\u05d9\u05b0\u05dc\u05b8\u05d4\n",
        "                \u05d5\u05b7 \u05d9\u05b4\u05bc\u05ea\u05b5\u05bc\u05a5\u05df \u05d0\u05b9\u05ea\u05b8\u059b\u05dd \u05d0\u05b1\u05dc\u05b9\u05d4\u05b4\u0596\u05d9\u05dd \u05d1\u05b4\u05bc \u05e8\u05b0\u05e7\u05b4\u05a3\u05d9\u05e2\u05b7 \u05d4\u05b7 \u05e9\u05b8\u05bc\u05c1\u05de\u05b8\u0591\u05d9\u05b4\u05dd \u05dc\u05b0 \u05d4\u05b8\u05d0\u05b4\u0596\u05d9\u05e8 \u05e2\u05b7\u05dc \u05d4\u05b8 \u05d0\u05b8\u05bd\u05e8\u05b6\u05e5 \u05d5\u05b0 \u05dc\u05b4 \u05de\u05b0\u05e9\u05b9\u05c1\u05dc\u0599 \u05d1\u05b7\u05bc  \u05d9\u05b9\u05bc\u05a3\u05d5\u05dd \u05d5\u05bc \u05d1\u05b7  \u05dc\u05b7\u05bc\u0594\u05d9\u05b0\u05dc\u05b8\u05d4 \u05d5\u05bc\u05bd \u05dc\u05b2 \u05d4\u05b7\u05d1\u05b0\u05d3\u05b4\u05bc\u0594\u05d9\u05dc \u05d1\u05b5\u05bc\u05a5\u05d9\u05df \u05d4\u05b8 \u05d0\u05b9\u0596\u05d5\u05e8 \u05d5\u05bc \u05d1\u05b5\u05a3\u05d9\u05df \u05d4\u05b7 \u05d7\u05b9\u0591\u05e9\u05b6\u05c1\u05da\u05b0\n",
        "Coor  GEN 01,16 \u05d5\u05bc\u05bd \u05dc\u05b2 \u05d4\u05b7\u05d1\u05b0\u05d3\u05b4\u05bc\u0594\u05d9\u05dc \u05d1\u05b5\u05bc\u05a5\u05d9\u05df \u05d4\u05b8 \u05d0\u05b9\u0596\u05d5\u05e8 \u05d5\u05bc \u05d1\u05b5\u05a3\u05d9\u05df \u05d4\u05b7 \u05d7\u05b9\u0591\u05e9\u05b6\u05c1\u05da\u05b0\n",
        "                \u05d5\u05b7 \u05d9\u05b4\u05bc\u05ea\u05b5\u05bc\u05a5\u05df \u05d0\u05b9\u05ea\u05b8\u059b\u05dd \u05d0\u05b1\u05dc\u05b9\u05d4\u05b4\u0596\u05d9\u05dd \u05d1\u05b4\u05bc \u05e8\u05b0\u05e7\u05b4\u05a3\u05d9\u05e2\u05b7 \u05d4\u05b7 \u05e9\u05b8\u05bc\u05c1\u05de\u05b8\u0591\u05d9\u05b4\u05dd \u05dc\u05b0 \u05d4\u05b8\u05d0\u05b4\u0596\u05d9\u05e8 \u05e2\u05b7\u05dc \u05d4\u05b8 \u05d0\u05b8\u05bd\u05e8\u05b6\u05e5 \u05d5\u05b0 \u05dc\u05b4 \u05de\u05b0\u05e9\u05b9\u05c1\u05dc\u0599 \u05d1\u05b7\u05bc  \u05d9\u05b9\u05bc\u05a3\u05d5\u05dd \u05d5\u05bc \u05d1\u05b7  \u05dc\u05b7\u05bc\u0594\u05d9\u05b0\u05dc\u05b8\u05d4 \u05d5\u05bc\u05bd \u05dc\u05b2 \u05d4\u05b7\u05d1\u05b0\u05d3\u05b4\u05bc\u0594\u05d9\u05dc \u05d1\u05b5\u05bc\u05a5\u05d9\u05df \u05d4\u05b8 \u05d0\u05b9\u0596\u05d5\u05e8 \u05d5\u05bc \u05d1\u05b5\u05a3\u05d9\u05df \u05d4\u05b7 \u05d7\u05b9\u0591\u05e9\u05b6\u05c1\u05da\u05b0\n",
        "Objc  GEN 01,12 \u05db\u05b4\u05bc\u05d9 \u05d8\u05b9\u05bd\u05d5\u05d1\n",
        "                \u05d5\u05b7 \u05d9\u05b7\u05bc\u05a5\u05e8\u05b0\u05d0 \u05d0\u05b1\u05dc\u05b9\u05d4\u05b4\u0596\u05d9\u05dd \u05db\u05b4\u05bc\u05d9 \u05d8\u05b9\u05bd\u05d5\u05d1\n",
        "Objc  GEN 01,04 \u05db\u05b4\u05bc\u05d9 \u05d8\u05b9\u0591\u05d5\u05d1\n",
        "                \u05d5\u05b7 \u05d9\u05b7\u05bc\u05a7\u05e8\u05b0\u05d0 \u05d0\u05b1\u05dc\u05b9\u05d4\u05b4\u059b\u05d9\u05dd \u05d0\u05b6\u05ea \u05d4\u05b8 \u05d0\u05b9\u0596\u05d5\u05e8 \u05db\u05b4\u05bc\u05d9 \u05d8\u05b9\u0591\u05d5\u05d1\n",
        "Objc  GEN 01,10 \u05db\u05b4\u05bc\u05d9 \u05d8\u05b9\u05bd\u05d5\u05d1\n",
        "                \u05d5\u05b7 \u05d9\u05b7\u05bc\u05a5\u05e8\u05b0\u05d0 \u05d0\u05b1\u05dc\u05b9\u05d4\u05b4\u0596\u05d9\u05dd \u05db\u05b4\u05bc\u05d9 \u05d8\u05b9\u05bd\u05d5\u05d1\n",
        "Pred  GEN 02,11 \u05d4\u05b7 \u05e1\u05b9\u05bc\u05d1\u05b5\u0597\u05d1 \u05d0\u05b5\u059a\u05ea \u05db\u05b8\u05bc\u05dc \u05d0\u05b6\u05a3\u05e8\u05b6\u05e5 \u05d4\u05b7\u05bd \u05d7\u05b2\u05d5\u05b4\u05d9\u05dc\u05b8\u0594\u05d4\n",
        "                \u05e9\u05b5\u05c1\u05a5\u05dd \u05d4\u05b8\u05bd \u05d0\u05b6\u05d7\u05b8\u0596\u05d3 \u05e4\u05b4\u05bc\u05d9\u05e9\u05b9\u05c1\u0591\u05d5\u05df \u05d4\u05a3\u05d5\u05bc\u05d0 \u05d4\u05b7 \u05e1\u05b9\u05bc\u05d1\u05b5\u0597\u05d1 \u05d0\u05b5\u059a\u05ea \u05db\u05b8\u05bc\u05dc \u05d0\u05b6\u05a3\u05e8\u05b6\u05e5 \u05d4\u05b7\u05bd \u05d7\u05b2\u05d5\u05b4\u05d9\u05dc\u05b8\u0594\u05d4 \u05d0\u05b2\u05e9\u05b6\u05c1\u05e8 \u05e9\u05b8\u05c1\u0596\u05dd \u05d4\u05b7 \u05d6\u05b8\u05bc\u05d4\u05b8\u05bd\u05d1\n",
        "Pred  GEN 02,14 \u05d4\u05b7\u05bd \u05d4\u05b9\u05dc\u05b5\u0596\u05da\u05b0 \u05e7\u05b4\u05d3\u05b0\u05de\u05b7\u05a3\u05ea \u05d0\u05b7\u05e9\u05bc\u05c1\u0591\u05d5\u05bc\u05e8\n",
        "                \u05d5\u05b0 \u05e9\u05b5\u05c1\u05a8\u05dd \u05d4\u05b7 \u05e0\u05b8\u05bc\u05d4\u05b8\u05a4\u05e8 \u05d4\u05b7 \u05e9\u05b0\u05bc\u05c1\u05dc\u05b4\u05d9\u05e9\u05b4\u05c1\u05d9\u0599 \u05d7\u05b4\u05d3\u05b6\u05bc\u0594\u05e7\u05b6\u05dc \u05d4\u05a5\u05d5\u05bc\u05d0 \u05d4\u05b7\u05bd \u05d4\u05b9\u05dc\u05b5\u0596\u05da\u05b0 \u05e7\u05b4\u05d3\u05b0\u05de\u05b7\u05a3\u05ea \u05d0\u05b7\u05e9\u05bc\u05c1\u0591\u05d5\u05bc\u05e8\n",
        "Pred  GEN 02,13 \u05d4\u05b7 \u05e1\u05b9\u05bc\u05d5\u05d1\u05b5\u0594\u05d1 \u05d0\u05b5\u0596\u05ea \u05db\u05b8\u05bc\u05dc \u05d0\u05b6\u05a5\u05e8\u05b6\u05e5 \u05db\u05bc\u05bd\u05d5\u05bc\u05e9\u05c1\n",
        "                \u05d5\u05b0 \u05e9\u05b5\u05bd\u05c1\u05dd \u05d4\u05b7 \u05e0\u05b8\u05bc\u05d4\u05b8\u05a5\u05e8 \u05d4\u05b7 \u05e9\u05b5\u05bc\u05c1\u05e0\u05b4\u0596\u05d9 \u05d2\u05b4\u05bc\u05d9\u05d7\u05b9\u0591\u05d5\u05df \u05d4\u05a3\u05d5\u05bc\u05d0 \u05d4\u05b7 \u05e1\u05b9\u05bc\u05d5\u05d1\u05b5\u0594\u05d1 \u05d0\u05b5\u0596\u05ea \u05db\u05b8\u05bc\u05dc \u05d0\u05b6\u05a5\u05e8\u05b6\u05e5 \u05db\u05bc\u05bd\u05d5\u05bc\u05e9\u05c1\n",
        "Resu  GEN 02,04 \u05d5\u05b0 \u05db\u05b9\u05a3\u05dc \u05e9\u05b4\u05c2\u05a3\u05d9\u05d7\u05b7 \u05d4\u05b7 \u05e9\u05b8\u05bc\u05c2\u05d3\u05b6\u0597\u05d4 \u05d8\u05b6\u059a\u05e8\u05b6\u05dd \u05d9\u05b4\u05bd\u05d4\u05b0\u05d9\u05b6\u05a3\u05d4 \u05d1\u05b8  \u05d0\u05b8\u0594\u05e8\u05b6\u05e5\n",
        "                \u05d1\u05b0\u05bc \u05d9\u05b9\u0597\u05d5\u05dd \u05e2\u05b2\u05e9\u05b9\u05c2\u059b\u05d5\u05ea \u05d9\u05b0\u05d4\u05d5\u05b8\u05a5\u05d4 \u05d0\u05b1\u05dc\u05b9\u05d4\u05b4\u0596\u05d9\u05dd \u05d0\u05b6\u05a5\u05e8\u05b6\u05e5 \u05d5\u05b0 \u05e9\u05b8\u05c1\u05de\u05b8\u05bd\u05d9\u05b4\u05dd \u05d5\u05b0 \u05db\u05b9\u05a3\u05dc \u05e9\u05b4\u05c2\u05a3\u05d9\u05d7\u05b7 \u05d4\u05b7 \u05e9\u05b8\u05bc\u05c2\u05d3\u05b6\u0597\u05d4 \u05d8\u05b6\u059a\u05e8\u05b6\u05dd \u05d9\u05b4\u05bd\u05d4\u05b0\u05d9\u05b6\u05a3\u05d4 \u05d1\u05b8  \u05d0\u05b8\u0594\u05e8\u05b6\u05e5 \u05d5\u05b0 \u05db\u05b8\u05dc \u05e2\u05b5\u05a5\u05e9\u05b6\u05c2\u05d1 \u05d4\u05b7 \u05e9\u05b8\u05bc\u05c2\u05d3\u05b6\u0596\u05d4 \u05d8\u05b6\u05a3\u05e8\u05b6\u05dd \u05d9\u05b4\u05e6\u05b0\u05de\u05b8\u0591\u05d7\n",
        "Resu  GEN 02,14 \u05d4\u05a5\u05d5\u05bc\u05d0 \u05e4\u05b0\u05e8\u05b8\u05bd\u05ea\n",
        "                \u05d5\u05b0 \u05d4\u05b7 \u05e0\u05b8\u05bc\u05d4\u05b8\u05a5\u05e8 \u05d4\u05b8\u05bd \u05e8\u05b0\u05d1\u05b4\u05d9\u05e2\u05b4\u0596\u05d9 \u05d4\u05a5\u05d5\u05bc\u05d0 \u05e4\u05b0\u05e8\u05b8\u05bd\u05ea\n",
        "Resu  GEN 02,17 \u05dc\u05b9\u05a5\u05d0 \u05ea\u05b9\u05d0\u05db\u05b7\u0596\u05dc \u05de\u05b4\u05de\u05b6\u05bc\u0591\u05e0\u05bc\u05d5\u05bc\n",
        "                \u05d5\u05bc \u05de\u05b5 \u05e2\u05b5\u0597\u05e5 \u05d4\u05b7 \u05d3\u05b7\u05bc\u05a8\u05e2\u05b7\u05ea\u0599 \u05d8\u05b9\u05a3\u05d5\u05d1 \u05d5\u05b8 \u05e8\u05b8\u0594\u05e2 \u05dc\u05b9\u05a5\u05d0 \u05ea\u05b9\u05d0\u05db\u05b7\u0596\u05dc \u05de\u05b4\u05de\u05b6\u05bc\u0591\u05e0\u05bc\u05d5\u05bc \u05db\u05b4\u05bc\u0597\u05d9 \u05d1\u05b0\u05bc \u05d9\u05b9\u059b\u05d5\u05dd \u05d0\u05b2\u05db\u05b8\u05dc\u05b0\u05da\u05b8\u05a5 \u05de\u05b4\u05de\u05b6\u05bc\u0596\u05e0\u05bc\u05d5\u05bc \u05de\u05b9\u05a5\u05d5\u05ea \u05ea\u05b8\u05bc\u05de\u05bd\u05d5\u05bc\u05ea\n",
        "RgRc  GEN 16,13 \u05e8\u05b9\u05d0\u05b4\u05bd\u05d9\n",
        "                \u05d4\u05b2 \u05d2\u05b7\u05a5\u05dd \u05d4\u05b2\u05dc\u05b9\u059b\u05dd \u05e8\u05b8\u05d0\u05b4\u0596\u05d9\u05ea\u05b4\u05d9 \u05d0\u05b7\u05d7\u05b2\u05e8\u05b5\u05a5\u05d9 \u05e8\u05b9\u05d0\u05b4\u05bd\u05d9\n",
        "RgRc  GEN 03,05 \u05d0\u05b2\u05db\u05b8\u05dc\u05b0\u05db\u05b6\u05a3\u05dd \u05de\u05b4\u05de\u05b6\u05bc\u0594\u05e0\u05bc\u05d5\u05bc\n",
        "                \u05db\u05b4\u05bc\u059a\u05d9 \u05d9\u05b9\u05d3\u05b5\u05a3\u05e2\u05b7 \u05d0\u05b1\u05dc\u05b9\u05d4\u05b4\u0594\u05d9\u05dd \u05db\u05b4\u05bc\u0597\u05d9 \u05d1\u05b0\u05bc \u05d9\u05b9\u05d5\u05dd\u0599 \u05d0\u05b2\u05db\u05b8\u05dc\u05b0\u05db\u05b6\u05a3\u05dd \u05de\u05b4\u05de\u05b6\u05bc\u0594\u05e0\u05bc\u05d5\u05bc \u05d5\u05b0 \u05e0\u05b4\u05e4\u05b0\u05e7\u05b0\u05d7\u0596\u05d5\u05bc \u05e2\u05b5\u05bd\u05d9\u05e0\u05b5\u05d9\u05db\u05b6\u0591\u05dd \u05d5\u05b4 \u05d4\u05b0\u05d9\u05b4\u05d9\u05ea\u05b6\u05dd\u0599 \u05db\u05b5\u05bc\u05bd \u05d0\u05dc\u05b9\u05d4\u05b4\u0594\u05d9\u05dd \u05d9\u05b9\u05d3\u05b0\u05e2\u05b5\u0596\u05d9 \u05d8\u05b9\u05a5\u05d5\u05d1 \u05d5\u05b8 \u05e8\u05b8\u05bd\u05e2\n",
        "RgRc  GEN 02,17 \u05d0\u05b2\u05db\u05b8\u05dc\u05b0\u05da\u05b8\u05a5 \u05de\u05b4\u05de\u05b6\u05bc\u0596\u05e0\u05bc\u05d5\u05bc\n",
        "                \u05d5\u05bc \u05de\u05b5 \u05e2\u05b5\u0597\u05e5 \u05d4\u05b7 \u05d3\u05b7\u05bc\u05a8\u05e2\u05b7\u05ea\u0599 \u05d8\u05b9\u05a3\u05d5\u05d1 \u05d5\u05b8 \u05e8\u05b8\u0594\u05e2 \u05dc\u05b9\u05a5\u05d0 \u05ea\u05b9\u05d0\u05db\u05b7\u0596\u05dc \u05de\u05b4\u05de\u05b6\u05bc\u0591\u05e0\u05bc\u05d5\u05bc \u05db\u05b4\u05bc\u0597\u05d9 \u05d1\u05b0\u05bc \u05d9\u05b9\u059b\u05d5\u05dd \u05d0\u05b2\u05db\u05b8\u05dc\u05b0\u05da\u05b8\u05a5 \u05de\u05b4\u05de\u05b6\u05bc\u0596\u05e0\u05bc\u05d5\u05bc \u05de\u05b9\u05a5\u05d5\u05ea \u05ea\u05b8\u05bc\u05de\u05bd\u05d5\u05bc\u05ea\n",
        "Subj  GEN 02,11 \u05d4\u05a3\u05d5\u05bc\u05d0\n",
        "                \u05e9\u05b5\u05c1\u05a5\u05dd \u05d4\u05b8\u05bd \u05d0\u05b6\u05d7\u05b8\u0596\u05d3 \u05e4\u05b4\u05bc\u05d9\u05e9\u05b9\u05c1\u0591\u05d5\u05df \u05d4\u05a3\u05d5\u05bc\u05d0 \u05d4\u05b7 \u05e1\u05b9\u05bc\u05d1\u05b5\u0597\u05d1 \u05d0\u05b5\u059a\u05ea \u05db\u05b8\u05bc\u05dc \u05d0\u05b6\u05a3\u05e8\u05b6\u05e5 \u05d4\u05b7\u05bd \u05d7\u05b2\u05d5\u05b4\u05d9\u05dc\u05b8\u0594\u05d4 \u05d0\u05b2\u05e9\u05b6\u05c1\u05e8 \u05e9\u05b8\u05c1\u0596\u05dd \u05d4\u05b7 \u05d6\u05b8\u05bc\u05d4\u05b8\u05bd\u05d1\n",
        "Subj  GEN 02,14 \u05d4\u05a5\u05d5\u05bc\u05d0\n",
        "                \u05d5\u05b0 \u05e9\u05b5\u05c1\u05a8\u05dd \u05d4\u05b7 \u05e0\u05b8\u05bc\u05d4\u05b8\u05a4\u05e8 \u05d4\u05b7 \u05e9\u05b0\u05bc\u05c1\u05dc\u05b4\u05d9\u05e9\u05b4\u05c1\u05d9\u0599 \u05d7\u05b4\u05d3\u05b6\u05bc\u0594\u05e7\u05b6\u05dc \u05d4\u05a5\u05d5\u05bc\u05d0 \u05d4\u05b7\u05bd \u05d4\u05b9\u05dc\u05b5\u0596\u05da\u05b0 \u05e7\u05b4\u05d3\u05b0\u05de\u05b7\u05a3\u05ea \u05d0\u05b7\u05e9\u05bc\u05c1\u0591\u05d5\u05bc\u05e8\n",
        "Subj  GEN 02,13 \u05d4\u05a3\u05d5\u05bc\u05d0\n",
        "                \u05d5\u05b0 \u05e9\u05b5\u05bd\u05c1\u05dd \u05d4\u05b7 \u05e0\u05b8\u05bc\u05d4\u05b8\u05a5\u05e8 \u05d4\u05b7 \u05e9\u05b5\u05bc\u05c1\u05e0\u05b4\u0596\u05d9 \u05d2\u05b4\u05bc\u05d9\u05d7\u05b9\u0591\u05d5\u05df \u05d4\u05a3\u05d5\u05bc\u05d0 \u05d4\u05b7 \u05e1\u05b9\u05bc\u05d5\u05d1\u05b5\u0594\u05d1 \u05d0\u05b5\u0596\u05ea \u05db\u05b8\u05bc\u05dc \u05d0\u05b6\u05a5\u05e8\u05b6\u05e5 \u05db\u05bc\u05bd\u05d5\u05bc\u05e9\u05c1\n",
        "none  GEN 01,01 \u05d1\u05b0\u05bc \u05e8\u05b5\u05d0\u05e9\u05b4\u05c1\u0596\u05d9\u05ea \u05d1\u05b8\u05bc\u05e8\u05b8\u05a3\u05d0 \u05d0\u05b1\u05dc\u05b9\u05d4\u05b4\u0591\u05d9\u05dd \u05d0\u05b5\u05a5\u05ea \u05d4\u05b7 \u05e9\u05b8\u05bc\u05c1\u05de\u05b7\u0596\u05d9\u05b4\u05dd \u05d5\u05b0 \u05d0\u05b5\u05a5\u05ea \u05d4\u05b8 \u05d0\u05b8\u05bd\u05e8\u05b6\u05e5\n",
        "                \u05d1\u05b0\u05bc \u05e8\u05b5\u05d0\u05e9\u05b4\u05c1\u0596\u05d9\u05ea \u05d1\u05b8\u05bc\u05e8\u05b8\u05a3\u05d0 \u05d0\u05b1\u05dc\u05b9\u05d4\u05b4\u0591\u05d9\u05dd \u05d0\u05b5\u05a5\u05ea \u05d4\u05b7 \u05e9\u05b8\u05bc\u05c1\u05de\u05b7\u0596\u05d9\u05b4\u05dd \u05d5\u05b0 \u05d0\u05b5\u05a5\u05ea \u05d4\u05b8 \u05d0\u05b8\u05bd\u05e8\u05b6\u05e5\n",
        "none  GEN 01,02 \u05d5\u05b0 \u05d4\u05b8 \u05d0\u05b8\u0597\u05e8\u05b6\u05e5 \u05d4\u05b8\u05d9\u05b0\u05ea\u05b8\u05a5\u05d4 \u05ea\u05b9\u05a8\u05d4\u05d5\u05bc\u0599 \u05d5\u05b8 \u05d1\u05b9\u0594\u05d4\u05d5\u05bc\n",
        "                \u05d5\u05b0 \u05d4\u05b8 \u05d0\u05b8\u0597\u05e8\u05b6\u05e5 \u05d4\u05b8\u05d9\u05b0\u05ea\u05b8\u05a5\u05d4 \u05ea\u05b9\u05a8\u05d4\u05d5\u05bc\u0599 \u05d5\u05b8 \u05d1\u05b9\u0594\u05d4\u05d5\u05bc\n",
        "none  GEN 01,02 \u05d5\u05b0 \u05d7\u05b9\u0596\u05e9\u05b6\u05c1\u05da\u05b0 \u05e2\u05b7\u05dc \u05e4\u05b0\u05bc\u05e0\u05b5\u05a3\u05d9 \u05ea\u05b0\u05d4\u05b9\u0591\u05d5\u05dd\n",
        "                \u05d5\u05b0 \u05d7\u05b9\u0596\u05e9\u05b6\u05c1\u05da\u05b0 \u05e2\u05b7\u05dc \u05e4\u05b0\u05bc\u05e0\u05b5\u05a3\u05d9 \u05ea\u05b0\u05d4\u05b9\u0591\u05d5\u05dd\n"
       ]
      }
     ],
     "prompt_number": 7
    },
    {
     "cell_type": "code",
     "collapsed": false,
     "input": [],
     "language": "python",
     "metadata": {},
     "outputs": []
    }
   ],
   "metadata": {}
  }
 ]
}