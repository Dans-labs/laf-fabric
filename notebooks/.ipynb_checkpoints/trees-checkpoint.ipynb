{
 "metadata": {
  "name": ""
 },
 "nbformat": 3,
 "nbformat_minor": 0,
 "worksheets": [
  {
   "cells": [
    {
     "cell_type": "markdown",
     "metadata": {},
     "source": [
      "<a href=\"http://laf-fabric.readthedocs.org/en/latest/\" target=\"_blank\"><img src=\"files/laf-fabric-small.png\"/></a>\n",
      "<a href=\"http://www.dans.knaw.nl\" target=\"_blank\"><img src=\"files/DANS-small.png\"/></a>\n",
      "<a href=\"http://tla.mpi.nl\" target=\"_blank\"><img src=\"files/TLA-small.png\"/></a>\n",
      "<a href=\"http://www.godgeleerdheid.vu.nl/etcbc\" target=\"_blank\"><img src=\"files/VU-ETCBC-small.png\"/></a>"
     ]
    },
    {
     "cell_type": "heading",
     "level": 1,
     "metadata": {},
     "source": [
      "Trees"
     ]
    },
    {
     "cell_type": "markdown",
     "metadata": {},
     "source": [
      "We show the embedding of nodes annotated as sentences, clauses, phrases, subphrases and words.\n",
      "We put them in a format (eventually) such that they can be read by TQUERY.\n",
      "Then Rens Bod and Andreas van Cranenburgh can do interesting business with it."
     ]
    },
    {
     "cell_type": "heading",
     "level": 1,
     "metadata": {},
     "source": [
      "Starting LAF-Fabric"
     ]
    },
    {
     "cell_type": "code",
     "collapsed": false,
     "input": [
      "import sys\n",
      "import collections\n",
      "import laf\n",
      "from laf.notebook import Notebook\n",
      "processor = Notebook()"
     ],
     "language": "python",
     "metadata": {},
     "outputs": [],
     "prompt_number": 1
    },
    {
     "cell_type": "code",
     "collapsed": false,
     "input": [
      "processor.init('bhs3.txt.hdr', '--', 'trees', {\n",
      "    \"xmlids\": {\n",
      "        \"node\": False,\n",
      "        \"edge\": False,\n",
      "    },\n",
      "    \"features\": {\n",
      "        \"shebanq\": {\n",
      "            \"node\": [\n",
      "                \"db.otype\",\n",
      "                \"ft.text_plain,part_of_speech\",\n",
      "                \"sft.book,chapter,verse\",\n",
      "            ],\n",
      "            \"edge\": [\n",
      "            ],\n",
      "        },\n",
      "    },\n",
      "})\n",
      "\n",
      "API = processor.API()"
     ],
     "language": "python",
     "metadata": {},
     "outputs": [
      {
       "output_type": "stream",
       "stream": "stderr",
       "text": [
        "  0.00s COMPILING source: UP TO DATE\n"
       ]
      },
      {
       "output_type": "stream",
       "stream": "stderr",
       "text": [
        "  0.00s COMPILING annox: UP TO DATE\n"
       ]
      },
      {
       "output_type": "stream",
       "stream": "stderr",
       "text": [
        "  0.00s loading common: node_anchor_min ... \n"
       ]
      },
      {
       "output_type": "stream",
       "stream": "stderr",
       "text": [
        "  0.14s loading common: node_anchor_max ... \n"
       ]
      },
      {
       "output_type": "stream",
       "stream": "stderr",
       "text": [
        "  0.27s loading common: node_events ... \n"
       ]
      },
      {
       "output_type": "stream",
       "stream": "stderr",
       "text": [
        "  1.31s loading common: node_events_n ... \n"
       ]
      },
      {
       "output_type": "stream",
       "stream": "stderr",
       "text": [
        "  1.66s loading common: node_events_k ... \n"
       ]
      },
      {
       "output_type": "stream",
       "stream": "stderr",
       "text": [
        "  1.88s loading common: node_sort ... \n"
       ]
      },
      {
       "output_type": "stream",
       "stream": "stderr",
       "text": [
        "  2.00s loading common: node_out ... \n"
       ]
      },
      {
       "output_type": "stream",
       "stream": "stderr",
       "text": [
        "  2.31s loading common: node_in ... \n"
       ]
      },
      {
       "output_type": "stream",
       "stream": "stderr",
       "text": [
        "  2.65s loading common: edges_from ... \n"
       ]
      },
      {
       "output_type": "stream",
       "stream": "stderr",
       "text": [
        "  2.78s loading common: edges_to ... \n"
       ]
      },
      {
       "output_type": "stream",
       "stream": "stderr",
       "text": [
        "  2.90s clearing xmlids: xid ...\n"
       ]
      },
      {
       "output_type": "stream",
       "stream": "stderr",
       "text": [
        "  2.90s clearing feature: feature ...\n"
       ]
      },
      {
       "output_type": "stream",
       "stream": "stderr",
       "text": [
        "  5.10s clearing annox: xfeature ...\n"
       ]
      },
      {
       "output_type": "stream",
       "stream": "stderr",
       "text": [
        "  6.09s present feature: shebanq:sft.verse (node) from source bhs3.txt.hdr\n"
       ]
      },
      {
       "output_type": "stream",
       "stream": "stderr",
       "text": [
        "  6.09s present feature: shebanq:db.otype (node) from source bhs3.txt.hdr\n"
       ]
      },
      {
       "output_type": "stream",
       "stream": "stderr",
       "text": [
        "  6.10s present feature: shebanq:sft.chapter (node) from source bhs3.txt.hdr\n"
       ]
      },
      {
       "output_type": "stream",
       "stream": "stderr",
       "text": [
        "  6.10s present feature: shebanq:ft.part_of_speech (node) from source bhs3.txt.hdr\n"
       ]
      },
      {
       "output_type": "stream",
       "stream": "stderr",
       "text": [
        "  6.10s present feature: shebanq:ft.text_plain (node) from source bhs3.txt.hdr\n"
       ]
      },
      {
       "output_type": "stream",
       "stream": "stderr",
       "text": [
        "  6.10s present feature: shebanq:sft.book (node) from source bhs3.txt.hdr\n"
       ]
      },
      {
       "output_type": "stream",
       "stream": "stderr",
       "text": [
        "  0.00s LOGFILE=/Users/dirk/Scratch/shebanq/results/bhs3.txt.hdr/trees/__log__trees.txt\n"
       ]
      },
      {
       "output_type": "stream",
       "stream": "stderr",
       "text": [
        "  0.00s BEGIN TASK=trees SOURCE=bhs3.txt.hdr\n"
       ]
      }
     ],
     "prompt_number": 2
    },
    {
     "cell_type": "heading",
     "level": 1,
     "metadata": {},
     "source": [
      "Configuration"
     ]
    },
    {
     "cell_type": "code",
     "collapsed": false,
     "input": [
      "F = API['F']\n",
      "NE = API['NE']\n",
      "msg = API['msg']\n",
      "\n",
      "relevant_nodes = [\n",
      "    (\"word\", ''),\n",
      "    (\"subphrase\", 'p'),\n",
      "    (\"phrase\", 'P'),\n",
      "    (\"clause\", 'C'),\n",
      "    (\"sentence\", 'S'),\n",
      "    (\"_split_\", None),\n",
      "    (\"verse\", None),\n",
      "    (\"chapter\", None),\n",
      "    (\"book\", None),\n",
      "]\n",
      "\n",
      "pos_table = {\n",
      " 'adjective': 'aj',\n",
      " 'adverb': 'av',\n",
      " 'article': 'dt',\n",
      " 'conjunction': 'cj',\n",
      " 'interjection': 'ij',\n",
      " 'interrogative': 'ir',\n",
      " 'negative': 'ng',\n",
      " 'noun': 'n',\n",
      " 'preposition': 'pp',\n",
      " 'pronoun': 'pr',\n",
      " 'verb': 'vb',\n",
      "}\n",
      "\n",
      "select_node = collections.defaultdict(lambda: None)\n",
      "abbrev_node = collections.defaultdict(lambda: None)\n",
      "\n",
      "for (i, (otype, abb)) in enumerate(relevant_nodes):\n",
      "    select_node[otype] = i\n",
      "    abbrev_node[otype] = abb if abb != None else otype\n",
      "\n",
      "split_n = select_node['_split_']"
     ],
     "language": "python",
     "metadata": {},
     "outputs": [],
     "prompt_number": 4
    },
    {
     "cell_type": "code",
     "collapsed": false,
     "input": [
      "trees = processor.add_output(\"trees.txt\")\n",
      "\n",
      "level = 0\n",
      "\n",
      "book = None\n",
      "chapter = None\n",
      "verse = None\n",
      "verse_label = None\n",
      "tree = None\n",
      "\n",
      "n = 0\n",
      "for (anchor, events) in NE(\n",
      "        key=lambda n:select_node[F.shebanq_db_otype.v(n)], \n",
      "        simplify=lambda n:select_node[F.shebanq_db_otype.v(n)] < split_n\n",
      "    ):\n",
      "    for (node, kind) in events:\n",
      "        if kind == 3:\n",
      "            otype = F.shebanq_db_otype.v(node)\n",
      "            if select_node[otype] > split_n:\n",
      "                continue\n",
      "            tree += ')'\n",
      "            if otype == 'sentence':\n",
      "                tree += '\\n'\n",
      "                trees.write(tree)\n",
      "\n",
      "        elif kind == 2:\n",
      "            otype = F.shebanq_db_otype.v(node)\n",
      "            if select_node[otype] > split_n:\n",
      "                continue\n",
      "            tree += '\u00bb{}\u00bb'.format(abbrev_node[otype])\n",
      "\n",
      "        elif kind == 1:\n",
      "            otype = F.shebanq_db_otype.v(node)\n",
      "            if select_node[otype] > split_n:\n",
      "                continue\n",
      "            tree += '\u00ab{}\u00ab '.format(abbrev_node[otype])\n",
      "\n",
      "        elif kind == 0:\n",
      "            otype = F.shebanq_db_otype.v(node)\n",
      "            if otype == 'book':\n",
      "                book = F.shebanq_sft_book.v(node)\n",
      "                msg(book)\n",
      "            elif otype == 'chapter':\n",
      "                chapter = F.shebanq_sft_chapter.v(node)\n",
      "            elif otype == 'verse':\n",
      "                verse = F.shebanq_sft_verse.v(node)\n",
      "                verse_label = '{} {}:{}'.format(book, chapter, verse)\n",
      "            elif otype == 'sentence':\n",
      "                tree = '{:<15} (S '.format(verse_label)\n",
      "            elif otype == 'word':\n",
      "                pos = pos_table[F.shebanq_ft_part_of_speech.v(node)]\n",
      "                text = F.shebanq_ft_text_plain.v(node)\n",
      "                tree += '({} \"{}\"'.format(pos, text)\n",
      "            else:\n",
      "                tree += '({} '.format(abbrev_node[otype])"
     ],
     "language": "python",
     "metadata": {},
     "outputs": [
      {
       "output_type": "stream",
       "stream": "stderr",
       "text": [
        " 5m 23s Genesis\n"
       ]
      },
      {
       "output_type": "stream",
       "stream": "stderr",
       "text": [
        " 5m 25s Exodus\n"
       ]
      },
      {
       "output_type": "stream",
       "stream": "stderr",
       "text": [
        " 5m 27s Leviticus\n"
       ]
      },
      {
       "output_type": "stream",
       "stream": "stderr",
       "text": [
        " 5m 29s Numbers\n"
       ]
      },
      {
       "output_type": "stream",
       "stream": "stderr",
       "text": [
        " 5m 31s Deuteronomy\n"
       ]
      },
      {
       "output_type": "stream",
       "stream": "stderr",
       "text": [
        " 5m 32s Joshua\n"
       ]
      },
      {
       "output_type": "stream",
       "stream": "stderr",
       "text": [
        " 5m 34s Judges\n"
       ]
      },
      {
       "output_type": "stream",
       "stream": "stderr",
       "text": [
        " 5m 35s I_Samuel\n"
       ]
      },
      {
       "output_type": "stream",
       "stream": "stderr",
       "text": [
        " 5m 36s II_Samuel\n"
       ]
      },
      {
       "output_type": "stream",
       "stream": "stderr",
       "text": [
        " 5m 38s I_Kings\n"
       ]
      },
      {
       "output_type": "stream",
       "stream": "stderr",
       "text": [
        " 5m 39s II_Kings\n"
       ]
      },
      {
       "output_type": "stream",
       "stream": "stderr",
       "text": [
        " 5m 41s Isaiah\n"
       ]
      },
      {
       "output_type": "stream",
       "stream": "stderr",
       "text": [
        " 5m 43s Jeremiah\n"
       ]
      },
      {
       "output_type": "stream",
       "stream": "stderr",
       "text": [
        " 5m 45s Ezekiel\n"
       ]
      },
      {
       "output_type": "stream",
       "stream": "stderr",
       "text": [
        " 5m 47s Hosea\n"
       ]
      },
      {
       "output_type": "stream",
       "stream": "stderr",
       "text": [
        " 5m 48s Joel\n"
       ]
      },
      {
       "output_type": "stream",
       "stream": "stderr",
       "text": [
        " 5m 48s Amos\n"
       ]
      },
      {
       "output_type": "stream",
       "stream": "stderr",
       "text": [
        " 5m 48s Obadiah\n"
       ]
      },
      {
       "output_type": "stream",
       "stream": "stderr",
       "text": [
        " 5m 48s Jonah\n"
       ]
      },
      {
       "output_type": "stream",
       "stream": "stderr",
       "text": [
        " 5m 48s Micah\n"
       ]
      },
      {
       "output_type": "stream",
       "stream": "stderr",
       "text": [
        " 5m 48s Nahum\n"
       ]
      },
      {
       "output_type": "stream",
       "stream": "stderr",
       "text": [
        " 5m 48s Habakkuk\n"
       ]
      },
      {
       "output_type": "stream",
       "stream": "stderr",
       "text": [
        " 5m 48s Zephaniah\n"
       ]
      },
      {
       "output_type": "stream",
       "stream": "stderr",
       "text": [
        " 5m 48s Haggai\n"
       ]
      },
      {
       "output_type": "stream",
       "stream": "stderr",
       "text": [
        " 5m 49s Zechariah\n"
       ]
      },
      {
       "output_type": "stream",
       "stream": "stderr",
       "text": [
        " 5m 49s Malachi\n"
       ]
      },
      {
       "output_type": "stream",
       "stream": "stderr",
       "text": [
        " 5m 49s Psalms\n"
       ]
      },
      {
       "output_type": "stream",
       "stream": "stderr",
       "text": [
        " 5m 52s Job\n"
       ]
      },
      {
       "output_type": "stream",
       "stream": "stderr",
       "text": [
        " 5m 53s Proverbs\n"
       ]
      },
      {
       "output_type": "stream",
       "stream": "stderr",
       "text": [
        " 5m 54s Ruth\n"
       ]
      },
      {
       "output_type": "stream",
       "stream": "stderr",
       "text": [
        " 5m 54s Canticles\n"
       ]
      },
      {
       "output_type": "stream",
       "stream": "stderr",
       "text": [
        " 5m 54s Ecclesiastes\n"
       ]
      },
      {
       "output_type": "stream",
       "stream": "stderr",
       "text": [
        " 5m 54s Lamentations\n"
       ]
      },
      {
       "output_type": "stream",
       "stream": "stderr",
       "text": [
        " 5m 55s Esther\n"
       ]
      },
      {
       "output_type": "stream",
       "stream": "stderr",
       "text": [
        " 5m 55s Daniel\n"
       ]
      },
      {
       "output_type": "stream",
       "stream": "stderr",
       "text": [
        " 5m 56s Ezra\n"
       ]
      },
      {
       "output_type": "stream",
       "stream": "stderr",
       "text": [
        " 5m 56s Nehemiah\n"
       ]
      },
      {
       "output_type": "stream",
       "stream": "stderr",
       "text": [
        " 5m 57s I_Chronicles\n"
       ]
      },
      {
       "output_type": "stream",
       "stream": "stderr",
       "text": [
        " 5m 58s II_Chronicles\n"
       ]
      }
     ],
     "prompt_number": 11
    },
    {
     "cell_type": "code",
     "collapsed": false,
     "input": [
      "processor.final()"
     ],
     "language": "python",
     "metadata": {},
     "outputs": [
      {
       "output_type": "stream",
       "stream": "stderr",
       "text": [
        " 6m 04s END TASK trees\n"
       ]
      },
      {
       "output_type": "stream",
       "stream": "stderr",
       "text": [
        " 6m 04s Results directory:\n",
        "/Users/dirk/Scratch/shebanq/results/bhs3.txt.hdr/trees\n"
       ]
      },
      {
       "output_type": "stream",
       "stream": "stderr",
       "text": [
        "__log__trees.txt                        789 Mon Jan 27 16:31:17 2014\n",
        "trees.txt                           8532498 Mon Jan 27 16:31:17 2014\n"
       ]
      }
     ],
     "prompt_number": 12
    },
    {
     "cell_type": "code",
     "collapsed": false,
     "input": [
      "!head -n 25 {processor.my_files('trees.txt')}"
     ],
     "language": "python",
     "metadata": {},
     "outputs": [
      {
       "output_type": "stream",
       "stream": "stdout",
       "text": [
        "Genesis 1:1     (S (C (P (pp \"\u05d1\")(n \"\u05e8\u05d0\u05e9\u05c1\u05d9\u05ea\"))(P (vb \"\u05d1\u05e8\u05d0\"))(P (n \"\u05d0\u05dc\u05d4\u05d9\u05dd\"))(P (p (pp \"\u05d0\u05ea\")(dt \"\u05d4\")(n \"\u05e9\u05c1\u05de\u05d9\u05dd\"))(cj \"\u05d5\")(p (pp \"\u05d0\u05ea\")(dt \"\u05d4\")(n \"\u05d0\u05e8\u05e5\"))\r\n",
        "Genesis 1:2     (S (C (P (cj \"\u05d5\"))(P (dt \"\u05d4\")(n \"\u05d0\u05e8\u05e5\"))(P (vb \"\u05d4\u05d9\u05ea\u05d4\"))(P (p (n \"\u05ea\u05d4\u05d5\"))(cj \"\u05d5\")(p (n \"\u05d1\u05d4\u05d5\"))\r\n",
        "Genesis 1:2     (S (C (P (cj \"\u05d5\"))(P (n \"\u05d7\u05e9\u05c1\u05da\"))(P (pp \"\u05e2\u05dc\")(p (n \"\u05e4\u05e0\u05d9\"))(p (n \"\u05ea\u05d4\u05d5\u05dd\"))\r\n",
        "Genesis 1:2     (S (C (P (cj \"\u05d5\"))(P (p (n \"\u05e8\u05d5\u05d7\"))(p (n \"\u05d0\u05dc\u05d4\u05d9\u05dd\")))(P (vb \"\u05de\u05e8\u05d7\u05e4\u05ea\"))(P (pp \"\u05e2\u05dc\")(p (n \"\u05e4\u05e0\u05d9\"))(p (dt \"\u05d4\")(n \"\u05de\u05d9\u05dd\"))\r\n",
        "Genesis 1:3     (S (C (P (cj \"\u05d5\"))(P (vb \"\u05d9\u05d0\u05de\u05e8\"))(P (n \"\u05d0\u05dc\u05d4\u05d9\u05dd\"))\r\n",
        "Genesis 1:3     (S (C (P (vb \"\u05d9\u05d4\u05d9\"))(P (n \"\u05d0\u05d5\u05e8\"))\r\n",
        "Genesis 1:3     (S (C (P (cj \"\u05d5\"))(P (vb \"\u05d9\u05d4\u05d9\"))(P (n \"\u05d0\u05d5\u05e8\"))\r\n",
        "Genesis 1:4     (S (C (P (cj \"\u05d5\"))(P (vb \"\u05d9\u05e8\u05d0\"))(P (n \"\u05d0\u05dc\u05d4\u05d9\u05dd\"))(P (pp \"\u05d0\u05ea\")(dt \"\u05d4\")(n \"\u05d0\u05d5\u05e8\")))(C (P (cj \"\u05db\u05d9\"))(P (vb \"\u05d8\u05d5\u05d1\")\r\n",
        "Genesis 1:4     (S (C (P (cj \"\u05d5\"))(P (vb \"\u05d9\u05d1\u05d3\u05dc\"))(P (n \"\u05d0\u05dc\u05d4\u05d9\u05dd\"))(P (p (n \"\u05d1\u05d9\u05df\")(dt \"\u05d4\")(n \"\u05d0\u05d5\u05e8\"))(cj \"\u05d5\")(p (n \"\u05d1\u05d9\u05df\")(dt \"\u05d4\")(n \"\u05d7\u05e9\u05c1\u05da\"))\r\n",
        "Genesis 1:5     (S (C (P (cj \"\u05d5\"))(P (vb \"\u05d9\u05e7\u05e8\u05d0\"))(P (n \"\u05d0\u05dc\u05d4\u05d9\u05dd\"))(P (pp \"\u05dc\")(n \"\u05d0\u05d5\u05e8\"(dt \"\")))(P (n \"\u05d9\u05d5\u05dd\"))\r\n",
        "Genesis 1:5     (S (C (P (cj \"\u05d5\"))(P (pp \"\u05dc\")(n \"\u05d7\u05e9\u05c1\u05da\"(dt \"\")))(P (vb \"\u05e7\u05e8\u05d0\"))(P (n \"\u05dc\u05d9\u05dc\u05d4\"))\r\n",
        "Genesis 1:5     (S (C (P (cj \"\u05d5\"))(P (vb \"\u05d9\u05d4\u05d9\"))(P (n \"\u05e2\u05e8\u05d1\"))\r\n",
        "Genesis 1:5     (S (C (P (cj \"\u05d5\"))(P (vb \"\u05d9\u05d4\u05d9\"))(P (n \"\u05d1\u05e7\u05e8\"))\r\n",
        "Genesis 1:5     (S (C (P (p (n \"\u05d9\u05d5\u05dd\"))(p (n \"\u05d0\u05d7\u05d3\")))\r\n",
        "Genesis 1:6     (S (C (P (cj \"\u05d5\"))(P (vb \"\u05d9\u05d0\u05de\u05e8\"))(P (n \"\u05d0\u05dc\u05d4\u05d9\u05dd\"))\r\n",
        "Genesis 1:6     (S (C (P (vb \"\u05d9\u05d4\u05d9\"))(P (n \"\u05e8\u05e7\u05d9\u05e2\"))(P (pp \"\u05d1\")(p (n \"\u05ea\u05d5\u05da\"))(p (dt \"\u05d4\")(n \"\u05de\u05d9\u05dd\"))\r\n",
        "Genesis 1:6     (S (C (P (cj \"\u05d5\"))(P (vb \"\u05d9\u05d4\u05d9\"))(P (vb \"\u05de\u05d1\u05d3\u05d9\u05dc\"))(P (n \"\u05d1\u05d9\u05df\")(n \"\u05de\u05d9\u05dd\")(pp \"\u05dc\")(n \"\u05de\u05d9\u05dd\"))\r\n",
        "Genesis 1:7     (S (C (P (cj \"\u05d5\"))(P (vb \"\u05d9\u05e2\u05e9\u05c2\"))(P (n \"\u05d0\u05dc\u05d4\u05d9\u05dd\"))(P (pp \"\u05d0\u05ea\")(dt \"\u05d4\")(n \"\u05e8\u05e7\u05d9\u05e2\"))\r\n",
        "Genesis 1:7     (S (C (P (cj \"\u05d5\"))(P (vb \"\u05d9\u05d1\u05d3\u05dc\"))(P (n \"\u05d1\u05d9\u05df\")(dt \"\u05d4\")(n \"\u05de\u05d9\u05dd\"\u00bbC\u00bb))(C (P (cj \"\u05d0\u05e9\u05c1\u05e8\"))(P (pp \"\u05de\")(n \"\u05ea\u05d7\u05ea\")(pp \"\u05dc\")(n \"\u05e8\u05e7\u05d9\u05e2\"(dt \"\"))))\u00abC\u00ab (P (cj \"\u05d5\"))(P (n \"\u05d1\u05d9\u05df\")(dt \"\u05d4\")(n \"\u05de\u05d9\u05dd\")))(C (P (cj \"\u05d0\u05e9\u05c1\u05e8\"))(P (pp \"\u05de\")(pp \"\u05e2\u05dc\")(pp \"\u05dc\")(n \"\u05e8\u05e7\u05d9\u05e2\"(dt \"\"))\r\n",
        "Genesis 1:7     (S (C (P (cj \"\u05d5\"))(P (vb \"\u05d9\u05d4\u05d9\"))(P (av \"\u05db\u05df\"))\r\n",
        "Genesis 1:8     (S (C (P (cj \"\u05d5\"))(P (vb \"\u05d9\u05e7\u05e8\u05d0\"))(P (n \"\u05d0\u05dc\u05d4\u05d9\u05dd\"))(P (pp \"\u05dc\")(n \"\u05e8\u05e7\u05d9\u05e2\"(dt \"\")))(P (n \"\u05e9\u05c1\u05de\u05d9\u05dd\"))\r\n",
        "Genesis 1:8     (S (C (P (cj \"\u05d5\"))(P (vb \"\u05d9\u05d4\u05d9\"))(P (n \"\u05e2\u05e8\u05d1\"))\r\n",
        "Genesis 1:8     (S (C (P (cj \"\u05d5\"))(P (vb \"\u05d9\u05d4\u05d9\"))(P (n \"\u05d1\u05e7\u05e8\"))\r\n",
        "Genesis 1:8     (S (C (P (p (n \"\u05d9\u05d5\u05dd\"))(p (aj \"\u05e9\u05c1\u05e0\u05d9\")))\r\n",
        "Genesis 1:9     (S (C (P (cj \"\u05d5\"))(P (vb \"\u05d9\u05d0\u05de\u05e8\"))(P (n \"\u05d0\u05dc\u05d4\u05d9\u05dd\"))\r\n"
       ]
      }
     ],
     "prompt_number": 13
    },
    {
     "cell_type": "markdown",
     "metadata": {},
     "source": [
      "**N.B.** There are some anomalies: \n",
      "\n",
      "* we have suspends and resumes of nodes. Probably to be changed into true embedding.\n",
      "* there are empty words (such as the dt (determiner) in Genesis 1:7."
     ]
    },
    {
     "cell_type": "code",
     "collapsed": false,
     "input": [],
     "language": "python",
     "metadata": {},
     "outputs": []
    }
   ],
   "metadata": {}
  }
 ]
}