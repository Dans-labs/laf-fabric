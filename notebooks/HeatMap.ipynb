{
 "metadata": {
  "name": ""
 },
 "nbformat": 3,
 "nbformat_minor": 0,
 "worksheets": [
  {
   "cells": [
    {
     "cell_type": "heading",
     "level": 2,
     "metadata": {},
     "source": [
      "HSL - RGB conversion"
     ]
    },
    {
     "cell_type": "markdown",
     "metadata": {},
     "source": [
      "HSL to RGB conversion formula (from [HSL-RGB](http://www.rapidtables.com/convert/color/hsl-to-rgb.htm) for a conversion formula.\n",
      "\n",
      "When  $0 \u2264 H < 360, 0 \u2264 S \u2264 1$ and $0 \u2264 L \u2264 1$:\n",
      "\n",
      "$C = (1 - \\vert 2L - 1\\vert) \\times\\ S$\n",
      "\n",
      "$X = C \\times\\ (1 - \\vert(H / 60\\degree) \\mod 2 - 1\\vert)$\n",
      "\n",
      "$m = L - C/2$\n",
      "\n",
      "$(R,G,B) = (R'+m, G'+m, B'+m)$"
     ]
    },
    {
     "cell_type": "code",
     "collapsed": false,
     "input": [],
     "language": "python",
     "metadata": {},
     "outputs": []
    }
   ],
   "metadata": {}
  }
 ]
}