{
 "metadata": {
  "name": ""
 },
 "nbformat": 3,
 "nbformat_minor": 0,
 "worksheets": [
  {
   "cells": [
    {
     "cell_type": "markdown",
     "metadata": {},
     "source": [
      "<a href=\"http://laf-fabric.readthedocs.org/en/latest/\" target=\"_blank\"><img src=\"files/images/laf-fabric-small.png\"/></a>\n",
      "<a href=\"http://www.dans.knaw.nl\" target=\"_blank\"><img src=\"files/images/DANS-small.png\"/></a>\n",
      "<a href=\"http://tla.mpi.nl\" target=\"_blank\"><img src=\"files/images/TLA-small.png\"/></a>\n",
      "<a href=\"http://www.godgeleerdheid.vu.nl/etcbc\" target=\"_blank\"><img src=\"files/images/VU-ETCBC-small.png\"/></a>"
     ]
    },
    {
     "cell_type": "heading",
     "level": 1,
     "metadata": {},
     "source": [
      "Trees - the rough path"
     ]
    },
    {
     "cell_type": "markdown",
     "metadata": {},
     "source": [
      "We show the embedding of nodes annotated as sentences, clauses, phrases, subphrases and words.\n",
      "We put them in a format (eventually) such that they can be read by TQUERY.\n",
      "Then Rens Bod and Andreas van Cranenburgh can do interesting business with it.\n",
      "\n",
      "The approach chosen in this notebook turns out to have problems.\n",
      "\n",
      "Method\n",
      "======\n",
      "We walk through all anchor positions of the primary data, and follow the node events at that position.\n",
      "LAF-Fabric tries hard to generate node events in an order that respects the factual embedding of nodes.\n",
      "\n",
      "However, some nodes have gaps, some nodes are linked to regions with zero length, and some nodes have identical regions. \n",
      "Moreover, the way our current LAF resource of the Hebrew Bible is coded causes all higher level nodes such as phrases, clauses and sentences to have gaps at each white space occurrence.\n",
      "\n",
      "LAF-Fabric nearly succeeds in overcoming all those problems.\n",
      "\n",
      "* The compiled resource has node events in approximately the right order.\n",
      "* In your task you can pass a key function to nodes, by which they ambiguous cases can be ordered\n",
      "  (e.g. always nest a clause within a sentence,\n",
      "  even if they are linked to exactly the same stretches of data)\n",
      "* Empty nodes events come between closing events and opening events.\n",
      "\n",
      "Yet this is not enough.\n",
      "There are 17 problematic cases (not much on 2.5 M anchor positions).\n",
      "We show them at the end.\n",
      "\n",
      "Instead of remedying all problems, we will get the trees in a different way, in another notebook.\n",
      "\n",
      "One of the reasons is, that we only use the implicit embedding, while there is, in fact, more information present. We have\n",
      "\n",
      "* parents links from words to phrases to clauses to sentences\n",
      "* word numbers\n",
      "\n",
      "We should use that."
     ]
    },
    {
     "cell_type": "heading",
     "level": 1,
     "metadata": {},
     "source": [
      "Starting LAF-Fabric"
     ]
    },
    {
     "cell_type": "code",
     "collapsed": false,
     "input": [
      "import sys\n",
      "import collections\n",
      "import laf\n",
      "from laf.notebook import Notebook\n",
      "processor = Notebook()"
     ],
     "language": "python",
     "metadata": {},
     "outputs": [],
     "prompt_number": 1
    },
    {
     "cell_type": "code",
     "collapsed": false,
     "input": [
      "processor.init('bhs3.txt.hdr', '--', 'trees', {\n",
      "    \"xmlids\": {\n",
      "        \"node\": False,\n",
      "        \"edge\": False,\n",
      "    },\n",
      "    \"features\": {\n",
      "        \"shebanq\": {\n",
      "            \"node\": [\n",
      "                \"db.otype,monads\",\n",
      "                \"ft.text_plain,part_of_speech\",\n",
      "                \"sft.book,chapter,verse\",\n",
      "            ],\n",
      "            \"edge\": [\n",
      "            ],\n",
      "        },\n",
      "    },\n",
      "})\n",
      "\n",
      "API = processor.API()"
     ],
     "language": "python",
     "metadata": {},
     "outputs": [
      {
       "output_type": "stream",
       "stream": "stderr",
       "text": [
        "  0.00s COMPILING source: UP TO DATE\n"
       ]
      },
      {
       "output_type": "stream",
       "stream": "stderr",
       "text": [
        "  0.00s COMPILING annox: UP TO DATE\n"
       ]
      },
      {
       "output_type": "stream",
       "stream": "stderr",
       "text": [
        "  0.00s loading common: node_anchor_min ... \n"
       ]
      },
      {
       "output_type": "stream",
       "stream": "stderr",
       "text": [
        "  0.19s loading common: node_anchor_max ... \n"
       ]
      },
      {
       "output_type": "stream",
       "stream": "stderr",
       "text": [
        "  0.33s loading common: node_events ... \n"
       ]
      },
      {
       "output_type": "stream",
       "stream": "stderr",
       "text": [
        "  1.45s loading common: node_events_n ... \n"
       ]
      },
      {
       "output_type": "stream",
       "stream": "stderr",
       "text": [
        "  1.79s loading common: node_events_k ... \n"
       ]
      },
      {
       "output_type": "stream",
       "stream": "stderr",
       "text": [
        "  2.02s loading common: node_sort ... \n"
       ]
      },
      {
       "output_type": "stream",
       "stream": "stderr",
       "text": [
        "  2.17s loading common: node_out ... \n"
       ]
      },
      {
       "output_type": "stream",
       "stream": "stderr",
       "text": [
        "  2.49s loading common: node_in ... \n"
       ]
      },
      {
       "output_type": "stream",
       "stream": "stderr",
       "text": [
        "  2.81s loading common: edges_from ... \n"
       ]
      },
      {
       "output_type": "stream",
       "stream": "stderr",
       "text": [
        "  2.92s loading common: edges_to ... \n"
       ]
      },
      {
       "output_type": "stream",
       "stream": "stderr",
       "text": [
        "  3.04s loading feature: feature ('shebanq', 'db', 'monads', 'node') ... \n"
       ]
      },
      {
       "output_type": "stream",
       "stream": "stderr",
       "text": [
        "  4.92s loading feature: feature ('shebanq', 'db', 'otype', 'node') ... \n"
       ]
      },
      {
       "output_type": "stream",
       "stream": "stderr",
       "text": [
        "  6.31s loading feature: feature ('shebanq', 'sft', 'verse', 'node') ... \n"
       ]
      },
      {
       "output_type": "stream",
       "stream": "stderr",
       "text": [
        "  6.34s loading feature: feature ('shebanq', 'ft', 'part_of_speech', 'node') ... \n"
       ]
      },
      {
       "output_type": "stream",
       "stream": "stderr",
       "text": [
        "  6.75s loading feature: feature ('shebanq', 'ft', 'text_plain', 'node') ... \n"
       ]
      },
      {
       "output_type": "stream",
       "stream": "stderr",
       "text": [
        "  7.31s loading feature: feature ('shebanq', 'sft', 'book', 'node') ... \n"
       ]
      },
      {
       "output_type": "stream",
       "stream": "stderr",
       "text": [
        "  7.34s loading feature: feature ('shebanq', 'sft', 'chapter', 'node') ... \n"
       ]
      },
      {
       "output_type": "stream",
       "stream": "stderr",
       "text": [
        "  7.36s loading annox: xfeature ('shebanq', 'db', 'monads', 'node') ... \n"
       ]
      },
      {
       "output_type": "stream",
       "stream": "stderr",
       "text": [
        "  7.36s loading annox: xfeature ('shebanq', 'db', 'otype', 'node') ... \n"
       ]
      },
      {
       "output_type": "stream",
       "stream": "stderr",
       "text": [
        "  7.36s loading annox: xfeature ('shebanq', 'sft', 'verse', 'node') ... \n"
       ]
      },
      {
       "output_type": "stream",
       "stream": "stderr",
       "text": [
        "  7.36s loading annox: xfeature ('shebanq', 'ft', 'part_of_speech', 'node') ... \n"
       ]
      },
      {
       "output_type": "stream",
       "stream": "stderr",
       "text": [
        "  7.36s loading annox: xfeature ('shebanq', 'ft', 'text_plain', 'node') ... \n"
       ]
      },
      {
       "output_type": "stream",
       "stream": "stderr",
       "text": [
        "  7.37s loading annox: xfeature ('shebanq', 'sft', 'book', 'node') ... \n"
       ]
      },
      {
       "output_type": "stream",
       "stream": "stderr",
       "text": [
        "  7.37s loading annox: xfeature ('shebanq', 'sft', 'chapter', 'node') ... \n"
       ]
      },
      {
       "output_type": "stream",
       "stream": "stderr",
       "text": [
        "  8.61s present feature: shebanq:db.otype (node) from annox --, source bhs3.txt.hdr\n"
       ]
      },
      {
       "output_type": "stream",
       "stream": "stderr",
       "text": [
        "  8.61s present feature: shebanq:db.monads (node) from annox --, source bhs3.txt.hdr\n"
       ]
      },
      {
       "output_type": "stream",
       "stream": "stderr",
       "text": [
        "  8.61s present feature: shebanq:sft.verse (node) from annox --, source bhs3.txt.hdr\n"
       ]
      },
      {
       "output_type": "stream",
       "stream": "stderr",
       "text": [
        "  8.61s present feature: shebanq:ft.part_of_speech (node) from annox --, source bhs3.txt.hdr\n"
       ]
      },
      {
       "output_type": "stream",
       "stream": "stderr",
       "text": [
        "  8.61s present feature: shebanq:ft.text_plain (node) from annox --, source bhs3.txt.hdr\n"
       ]
      },
      {
       "output_type": "stream",
       "stream": "stderr",
       "text": [
        "  8.61s present feature: shebanq:sft.book (node) from annox --, source bhs3.txt.hdr\n"
       ]
      },
      {
       "output_type": "stream",
       "stream": "stderr",
       "text": [
        "  8.61s present feature: shebanq:sft.chapter (node) from annox --, source bhs3.txt.hdr\n"
       ]
      },
      {
       "output_type": "stream",
       "stream": "stderr",
       "text": [
        "  0.00s LOGFILE=/Users/dirk/Scratch/laf-fabric-data/bhs3.txt.hdr/trees/__log__trees.txt\n"
       ]
      },
      {
       "output_type": "stream",
       "stream": "stderr",
       "text": [
        "  0.00s BEGIN TASK=trees SOURCE=bhs3.txt.hdr\n"
       ]
      },
      {
       "output_type": "stream",
       "stream": "stderr",
       "text": [
        "  0.00s Loading API\n"
       ]
      },
      {
       "output_type": "stream",
       "stream": "stderr",
       "text": [
        "  0.27s P: Primary Data\n"
       ]
      },
      {
       "output_type": "stream",
       "stream": "stderr",
       "text": [
        "  0.27s NN, NE: Next Node and Node Events\n"
       ]
      },
      {
       "output_type": "stream",
       "stream": "stderr",
       "text": [
        "  0.27s F: Features\n"
       ]
      },
      {
       "output_type": "stream",
       "stream": "stderr",
       "text": [
        "  0.27s C, Ci: Connections\n"
       ]
      },
      {
       "output_type": "stream",
       "stream": "stderr",
       "text": [
        "  0.27s X: XML ids\n"
       ]
      },
      {
       "output_type": "stream",
       "stream": "stderr",
       "text": [
        "  0.28s API loaded\n"
       ]
      }
     ],
     "prompt_number": 2
    },
    {
     "cell_type": "heading",
     "level": 1,
     "metadata": {},
     "source": [
      "Configuration"
     ]
    },
    {
     "cell_type": "code",
     "collapsed": false,
     "input": [
      "F = API['F']\n",
      "NE = API['NE']\n",
      "msg = API['msg']\n",
      "outfile = API['outfile']\n",
      "my_file = API['my_file']\n",
      "\n",
      "relevant_nodes = [\n",
      "    (\"word\", ''),\n",
      "    (\"subphrase\", 'p'),\n",
      "    (\"phrase\", 'P'),\n",
      "    (\"clause\", 'C'),\n",
      "    (\"sentence\", 'S'),\n",
      "    (\"_split_\", None),\n",
      "    (\"verse\", None),\n",
      "    (\"chapter\", None),\n",
      "    (\"book\", None),\n",
      "]\n",
      "\n",
      "pos_table = {\n",
      " 'adjective': 'aj',\n",
      " 'adverb': 'av',\n",
      " 'article': 'dt',\n",
      " 'conjunction': 'cj',\n",
      " 'interjection': 'ij',\n",
      " 'interrogative': 'ir',\n",
      " 'negative': 'ng',\n",
      " 'noun': 'n',\n",
      " 'preposition': 'pp',\n",
      " 'pronoun': 'pr',\n",
      " 'verb': 'vb',\n",
      "}\n",
      "\n",
      "select_node = collections.defaultdict(lambda: None)\n",
      "abbrev_node = collections.defaultdict(lambda: None)\n",
      "\n",
      "for (i, (otype, abb)) in enumerate(relevant_nodes):\n",
      "    select_node[otype] = i\n",
      "    abbrev_node[otype] = abb if abb != None else otype\n",
      "\n",
      "split_n = select_node['_split_']"
     ],
     "language": "python",
     "metadata": {},
     "outputs": [],
     "prompt_number": 3
    },
    {
     "cell_type": "heading",
     "level": 1,
     "metadata": {},
     "source": [
      "Running"
     ]
    },
    {
     "cell_type": "code",
     "collapsed": false,
     "input": [
      "trees = outfile(\"trees.txt\")\n",
      "anomalies = outfile(\"anomalies.txt\")\n",
      "recent_sentences = collections.deque([], 3)\n",
      "\n",
      "def process_saved():\n",
      "    for (i, (events, book, chapter, verse, verse_label, level)) in enumerate(recent_sentences):\n",
      "        if i == 0:\n",
      "            anomalies.write(\"BEFORE the anomaly {}\\n\".format(verse_label))\n",
      "        elif i == 1:\n",
      "            anomalies.write(\"the anomaly ITSELF {}\\n\".format(verse_label))\n",
      "        elif i == 2:\n",
      "            anomalies.write(\"AFTER the anomaly{}\\n\".format(verse_label))\n",
      "        for (anchor, node, kind) in events:\n",
      "            otype = F.shebanq_db_otype.v(node)\n",
      "            if kind == 3:\n",
      "                if select_node[otype] > split_n:\n",
      "                    continue\n",
      "                level -= 1\n",
      "                anomalies.write('{:>7}-{}{})\\n'.format(anchor, \".\" * level, abbrev_node[otype]))\n",
      "    \n",
      "            elif kind == 2:\n",
      "                if select_node[otype] > split_n:\n",
      "                    continue\n",
      "                level -= 1\n",
      "                anomalies.write('{:>7}-{}{}\u00bb\\n'.format(anchor, \".\" * level, abbrev_node[otype]))\n",
      "    \n",
      "            elif kind == 1:\n",
      "                if select_node[otype] > split_n:\n",
      "                    continue\n",
      "                anomalies.write('{:>7}-{}\u00ab{}\\n'.format(anchor, \".\" * level, abbrev_node[otype]))\n",
      "                level += 1\n",
      "    \n",
      "            elif kind == 0:\n",
      "                if otype == 'book':\n",
      "                    book = F.shebanq_sft_book.v(node)\n",
      "                elif otype == 'chapter':\n",
      "                    chapter = F.shebanq_sft_chapter.v(node)\n",
      "                elif otype == 'verse':\n",
      "                    verse = F.shebanq_sft_verse.v(node)\n",
      "                    verse_label = '{} {}:{}'.format(book, chapter, verse)\n",
      "                    anomalies.write(\"\\n{}\\n\".format(verse_label))\n",
      "                    msg(verse_label)\n",
      "                elif otype == 'word':\n",
      "                    pos = pos_table[F.shebanq_ft_part_of_speech.v(node)]\n",
      "                    text = F.shebanq_ft_text_plain.v(node)\n",
      "                    monads = F.shebanq_db_monads.v(node)\n",
      "                    anomalies.write('{:>7}-{}({} \"{}\" ={}=\\n'.format(anchor, \".\" * level, pos, text, monads))\n",
      "                    level += 1\n",
      "                else:\n",
      "                    anomalies.write('{:>7}-{}({}\\n'.format(anchor, \".\" * level, abbrev_node[otype]))\n",
      "                    level += 1\n",
      "    anomalies.write(\"\\nEND of the anomaly in {}:\\n\".format(verse_label))\n",
      "\n",
      "book = None\n",
      "chapter = None\n",
      "verse = None\n",
      "verse_label = None\n",
      "tree = ''\n",
      "n_warnings = 0\n",
      "level = 0\n",
      "warning = False\n",
      "saved_events = ([], book, chapter, verse, verse_label, level) # we save the events of the current sentence, in case there is an anomaly.\n",
      "\n",
      "for (anchor, events) in NE(key=lambda n:select_node[F.shebanq_db_otype.v(n)], simplify=lambda n:select_node[F.shebanq_db_otype.v(n)] < split_n):\n",
      "    for (node, kind) in events:\n",
      "        saved_events[0].append((anchor, node, kind))\n",
      "        otype = F.shebanq_db_otype.v(node)\n",
      "        if kind == 3:\n",
      "            level -= 1\n",
      "            if select_node[otype] > split_n:\n",
      "                continue\n",
      "            tree += ')'\n",
      "            if otype == 'sentence':\n",
      "                trees.write(tree + \"\\n\")\n",
      "                tree = \"\"\n",
      "                recent_sentences.append(saved_events)\n",
      "                if warning:\n",
      "                    process_saved()\n",
      "                    warning = False\n",
      "                saved_events = ([], book, chapter, verse, verse_label, level)\n",
      "\n",
      "        elif kind == 2:\n",
      "            level -= 1\n",
      "            if select_node[otype] > split_n:\n",
      "                continue\n",
      "            tree += '\u00bb{}\u00bb'.format(abbrev_node[otype])\n",
      "            if otype == 'sentence':\n",
      "                trees.write(tree + \"\\n\")\n",
      "                tree = \"\"\n",
      "                recent_sentences.append(saved_events)\n",
      "                if warning:\n",
      "                    process_saved()\n",
      "                    warning = False\n",
      "                saved_events = ([], book, chapter, verse, verse_label, level)\n",
      "\n",
      "        elif kind == 1:\n",
      "            if select_node[otype] > split_n:\n",
      "                continue\n",
      "            if otype == 'sentence':\n",
      "                if tree != '':\n",
      "                    msg(\"WARNING: material between two sentences in {}: [{}]\".format(verse_label, tree))\n",
      "                    n_warnings += 1\n",
      "                    trees.write(\"{:<15} *** {} ***\\n\".format(verse_label, tree))\n",
      "                    tree = ''\n",
      "                    recent_sentences.append(saved_events)\n",
      "                    if warning:\n",
      "                        process_saved()\n",
      "                        warning = False\n",
      "                    saved_events = ([], book, chapter, verse, verse_label, level)\n",
      "                    warning = True\n",
      "                tree += '{:<15} \u00abS\u00ab '.format(verse_label)\n",
      "            else:\n",
      "                tree += '\u00ab{}\u00ab '.format(abbrev_node[otype])\n",
      "            level += 1\n",
      "\n",
      "        elif kind == 0:\n",
      "            if otype == 'book':\n",
      "                book = F.shebanq_sft_book.v(node)\n",
      "                msg(book)\n",
      "            elif otype == 'chapter':\n",
      "                chapter = F.shebanq_sft_chapter.v(node)\n",
      "            elif otype == 'verse':\n",
      "                verse = F.shebanq_sft_verse.v(node)\n",
      "                verse_label = '{} {}:{}'.format(book, chapter, verse)\n",
      "            elif otype == 'sentence':\n",
      "                if tree != '':\n",
      "                    msg(\"WARNING: material between two sentences in {}: [{}]\".format(verse_label, tree))\n",
      "                    n_warnings += 1\n",
      "                    trees.write(\"{:<15} *** {} ***\\n\".format(verse_label, tree))\n",
      "                    tree = ''\n",
      "                    recent_sentences.append(saved_events)\n",
      "                    if warning:\n",
      "                        process_saved()\n",
      "                        warning = False\n",
      "                    saved_events = ([], book, chapter, verse, verse_label, level)\n",
      "                    warning = True\n",
      "                tree += '{:<15} (S '.format(verse_label)\n",
      "            elif otype == 'word':\n",
      "                pos = pos_table[F.shebanq_ft_part_of_speech.v(node)]\n",
      "                text = F.shebanq_ft_text_plain.v(node)\n",
      "                tree += '({} \"{}\"'.format(pos, text)\n",
      "            else:\n",
      "                tree += '({} '.format(abbrev_node[otype])\n",
      "            level += 1\n",
      "msg(\"There were {} warnings\".format(n_warnings))"
     ],
     "language": "python",
     "metadata": {},
     "outputs": [
      {
       "output_type": "stream",
       "stream": "stderr",
       "text": [
        "  7.81s Genesis\n"
       ]
      },
      {
       "output_type": "stream",
       "stream": "stderr",
       "text": [
        "    10s Exodus\n"
       ]
      },
      {
       "output_type": "stream",
       "stream": "stderr",
       "text": [
        "    13s Leviticus\n"
       ]
      },
      {
       "output_type": "stream",
       "stream": "stderr",
       "text": [
        "    14s Numbers\n"
       ]
      },
      {
       "output_type": "stream",
       "stream": "stderr",
       "text": [
        "    17s Deuteronomy\n"
       ]
      },
      {
       "output_type": "stream",
       "stream": "stderr",
       "text": [
        "    19s Joshua\n"
       ]
      },
      {
       "output_type": "stream",
       "stream": "stderr",
       "text": [
        "    20s Judges\n"
       ]
      },
      {
       "output_type": "stream",
       "stream": "stderr",
       "text": [
        "    21s WARNING: material between two sentences in Judges 20:13: [(p (n \"\"))(P ]\n"
       ]
      },
      {
       "output_type": "stream",
       "stream": "stderr",
       "text": [
        "    21s I_Samuel\n"
       ]
      },
      {
       "output_type": "stream",
       "stream": "stderr",
       "text": [
        "    23s II_Samuel\n"
       ]
      },
      {
       "output_type": "stream",
       "stream": "stderr",
       "text": [
        "    23s WARNING: material between two sentences in II_Samuel 5:2: [(P (dt \"\"))(C ]\n"
       ]
      },
      {
       "output_type": "stream",
       "stream": "stderr",
       "text": [
        "    23s II_Samuel 5:2\n"
       ]
      },
      {
       "output_type": "stream",
       "stream": "stderr",
       "text": [
        "    23s WARNING: material between two sentences in II_Samuel 8:4: [(p (n \"\"))]\n"
       ]
      },
      {
       "output_type": "stream",
       "stream": "stderr",
       "text": [
        "    23s II_Samuel 8:3\n"
       ]
      },
      {
       "output_type": "stream",
       "stream": "stderr",
       "text": [
        "    23s II_Samuel 8:4\n"
       ]
      },
      {
       "output_type": "stream",
       "stream": "stderr",
       "text": [
        "    24s I_Kings\n"
       ]
      },
      {
       "output_type": "stream",
       "stream": "stderr",
       "text": [
        "    26s II_Kings\n"
       ]
      },
      {
       "output_type": "stream",
       "stream": "stderr",
       "text": [
        "    27s Isaiah\n"
       ]
      },
      {
       "output_type": "stream",
       "stream": "stderr",
       "text": [
        "    29s WARNING: material between two sentences in Isaiah 55:13: [(P (cj \"\"))]\n"
       ]
      },
      {
       "output_type": "stream",
       "stream": "stderr",
       "text": [
        "    29s Isaiah 55:13\n"
       ]
      },
      {
       "output_type": "stream",
       "stream": "stderr",
       "text": [
        "    29s Jeremiah\n"
       ]
      },
      {
       "output_type": "stream",
       "stream": "stderr",
       "text": [
        "    32s Ezekiel\n"
       ]
      },
      {
       "output_type": "stream",
       "stream": "stderr",
       "text": [
        "    33s WARNING: material between two sentences in Ezekiel 13:15: [(P (dt \"\"))]\n"
       ]
      },
      {
       "output_type": "stream",
       "stream": "stderr",
       "text": [
        "    33s Ezekiel 13:15\n"
       ]
      },
      {
       "output_type": "stream",
       "stream": "stderr",
       "text": [
        "    34s Hosea\n"
       ]
      },
      {
       "output_type": "stream",
       "stream": "stderr",
       "text": [
        "    35s Joel\n"
       ]
      },
      {
       "output_type": "stream",
       "stream": "stderr",
       "text": [
        "    35s Amos\n"
       ]
      },
      {
       "output_type": "stream",
       "stream": "stderr",
       "text": [
        "    35s Obadiah\n"
       ]
      },
      {
       "output_type": "stream",
       "stream": "stderr",
       "text": [
        "    35s Jonah\n"
       ]
      },
      {
       "output_type": "stream",
       "stream": "stderr",
       "text": [
        "    35s Micah\n"
       ]
      },
      {
       "output_type": "stream",
       "stream": "stderr",
       "text": [
        "    35s Nahum\n"
       ]
      },
      {
       "output_type": "stream",
       "stream": "stderr",
       "text": [
        "    36s Habakkuk\n"
       ]
      },
      {
       "output_type": "stream",
       "stream": "stderr",
       "text": [
        "    36s Zephaniah\n"
       ]
      },
      {
       "output_type": "stream",
       "stream": "stderr",
       "text": [
        "    36s Haggai\n"
       ]
      },
      {
       "output_type": "stream",
       "stream": "stderr",
       "text": [
        "    36s Zechariah\n"
       ]
      },
      {
       "output_type": "stream",
       "stream": "stderr",
       "text": [
        "    36s Malachi\n"
       ]
      },
      {
       "output_type": "stream",
       "stream": "stderr",
       "text": [
        "    36s Psalms\n"
       ]
      },
      {
       "output_type": "stream",
       "stream": "stderr",
       "text": [
        "    37s WARNING: material between two sentences in Psalms 31:20: [(P (dt \"\"))]\n"
       ]
      },
      {
       "output_type": "stream",
       "stream": "stderr",
       "text": [
        "    37s WARNING: material between two sentences in Psalms 68:5: [(P (dt \"\"))]\n"
       ]
      },
      {
       "output_type": "stream",
       "stream": "stderr",
       "text": [
        "    39s Job\n"
       ]
      },
      {
       "output_type": "stream",
       "stream": "stderr",
       "text": [
        "    40s Proverbs\n"
       ]
      },
      {
       "output_type": "stream",
       "stream": "stderr",
       "text": [
        "    41s WARNING: material between two sentences in Proverbs 23:24: [(P (cj \"\"))]\n"
       ]
      },
      {
       "output_type": "stream",
       "stream": "stderr",
       "text": [
        "    41s Proverbs 23:24\n"
       ]
      },
      {
       "output_type": "stream",
       "stream": "stderr",
       "text": [
        "    41s Ruth\n"
       ]
      },
      {
       "output_type": "stream",
       "stream": "stderr",
       "text": [
        "    41s WARNING: material between two sentences in Ruth 3:17: [(P (pp \"\"))]\n"
       ]
      },
      {
       "output_type": "stream",
       "stream": "stderr",
       "text": [
        "    41s Canticles\n"
       ]
      },
      {
       "output_type": "stream",
       "stream": "stderr",
       "text": [
        "    41s Ecclesiastes\n"
       ]
      },
      {
       "output_type": "stream",
       "stream": "stderr",
       "text": [
        "    42s Lamentations\n"
       ]
      },
      {
       "output_type": "stream",
       "stream": "stderr",
       "text": [
        "    42s WARNING: material between two sentences in Lamentations 2:2: [(P (cj \"\"))]\n"
       ]
      },
      {
       "output_type": "stream",
       "stream": "stderr",
       "text": [
        "    42s Lamentations 2:2\n"
       ]
      },
      {
       "output_type": "stream",
       "stream": "stderr",
       "text": [
        "    42s WARNING: material between two sentences in Lamentations 4:16: [(P (cj \"\"))]\n"
       ]
      },
      {
       "output_type": "stream",
       "stream": "stderr",
       "text": [
        "    42s WARNING: material between two sentences in Lamentations 5:3: [(P (cj \"\"))]\n"
       ]
      },
      {
       "output_type": "stream",
       "stream": "stderr",
       "text": [
        "    42s Lamentations 5:3\n"
       ]
      },
      {
       "output_type": "stream",
       "stream": "stderr",
       "text": [
        "    42s WARNING: material between two sentences in Lamentations 5:5: [(P (cj \"\"))]\n"
       ]
      },
      {
       "output_type": "stream",
       "stream": "stderr",
       "text": [
        "    42s WARNING: material between two sentences in Lamentations 5:7: [(P (cj \"\"))]\n"
       ]
      },
      {
       "output_type": "stream",
       "stream": "stderr",
       "text": [
        "    42s Lamentations 5:7\n"
       ]
      },
      {
       "output_type": "stream",
       "stream": "stderr",
       "text": [
        "    42s WARNING: material between two sentences in Lamentations 5:7: [(P (cj \"\"))]\n"
       ]
      },
      {
       "output_type": "stream",
       "stream": "stderr",
       "text": [
        "    42s WARNING: material between two sentences in Lamentations 5:7: [Lamentations 5:7 (S (C ]\n"
       ]
      },
      {
       "output_type": "stream",
       "stream": "stderr",
       "text": [
        "    42s Esther\n"
       ]
      },
      {
       "output_type": "stream",
       "stream": "stderr",
       "text": [
        "    42s Daniel\n"
       ]
      },
      {
       "output_type": "stream",
       "stream": "stderr",
       "text": [
        "    42s WARNING: material between two sentences in Daniel 2:43: [(cj \"\")]\n"
       ]
      },
      {
       "output_type": "stream",
       "stream": "stderr",
       "text": [
        "    42s Daniel 2:43\n"
       ]
      },
      {
       "output_type": "stream",
       "stream": "stderr",
       "text": [
        "    43s Ezra\n"
       ]
      },
      {
       "output_type": "stream",
       "stream": "stderr",
       "text": [
        "    44s Nehemiah\n"
       ]
      },
      {
       "output_type": "stream",
       "stream": "stderr",
       "text": [
        "    44s I_Chronicles\n"
       ]
      },
      {
       "output_type": "stream",
       "stream": "stderr",
       "text": [
        "    46s II_Chronicles\n"
       ]
      },
      {
       "output_type": "stream",
       "stream": "stderr",
       "text": [
        "    48s There were 17 warnings\n"
       ]
      }
     ],
     "prompt_number": 4
    },
    {
     "cell_type": "code",
     "collapsed": false,
     "input": [
      "processor.final()"
     ],
     "language": "python",
     "metadata": {},
     "outputs": [
      {
       "output_type": "stream",
       "stream": "stderr",
       "text": [
        "    51s END TASK trees\n"
       ]
      },
      {
       "output_type": "stream",
       "stream": "stderr",
       "text": [
        "    51s Results directory:\n",
        "/Users/dirk/Scratch/laf-fabric-data/bhs3.txt.hdr/trees\n"
       ]
      },
      {
       "output_type": "stream",
       "stream": "stderr",
       "text": [
        ".DS_Store                              6148 Mon Feb 17 17:17:09 2014\n",
        "__log__trees.txt                       2602 Fri Feb 21 17:51:22 2014\n",
        "anomalies.txt                         16798 Fri Feb 21 17:51:22 2014\n",
        "anomalies2014-01-28.txt               13849 Tue Jan 28 21:40:04 2014\n",
        "trees.txt                           8743649 Fri Feb 21 17:51:22 2014\n"
       ]
      }
     ],
     "prompt_number": 5
    },
    {
     "cell_type": "code",
     "collapsed": false,
     "input": [
      "!head -n 25 {my_file('trees.txt')}"
     ],
     "language": "python",
     "metadata": {},
     "outputs": [
      {
       "output_type": "stream",
       "stream": "stdout",
       "text": [
        "Genesis 1:1     (S (C (P (pp \"\u05d1\")(n \"\u05e8\u05d0\u05e9\u05c1\u05d9\u05ea\"))(P (vb \"\u05d1\u05e8\u05d0\"))(P (n \"\u05d0\u05dc\u05d4\u05d9\u05dd\"))(P (p (pp \"\u05d0\u05ea\")(dt \"\u05d4\")(n \"\u05e9\u05c1\u05de\u05d9\u05dd\"))(cj \"\u05d5\")(p (pp \"\u05d0\u05ea\")(dt \"\u05d4\")(n \"\u05d0\u05e8\u05e5\")))))\r\n",
        "Genesis 1:2     (S (C (P (cj \"\u05d5\"))(P (dt \"\u05d4\")(n \"\u05d0\u05e8\u05e5\"))(P (vb \"\u05d4\u05d9\u05ea\u05d4\"))(P (p (n \"\u05ea\u05d4\u05d5\"))(cj \"\u05d5\")(p (n \"\u05d1\u05d4\u05d5\")))))\r\n",
        "Genesis 1:2     (S (C (P (cj \"\u05d5\"))(P (n \"\u05d7\u05e9\u05c1\u05da\"))(P (pp \"\u05e2\u05dc\")(p (n \"\u05e4\u05e0\u05d9\"))(p (n \"\u05ea\u05d4\u05d5\u05dd\")))))\r\n",
        "Genesis 1:2     (S (C (P (cj \"\u05d5\"))(P (p (n \"\u05e8\u05d5\u05d7\"))(p (n \"\u05d0\u05dc\u05d4\u05d9\u05dd\")))(P (vb \"\u05de\u05e8\u05d7\u05e4\u05ea\"))(P (pp \"\u05e2\u05dc\")(p (n \"\u05e4\u05e0\u05d9\"))(p (dt \"\u05d4\")(n \"\u05de\u05d9\u05dd\")))))\r\n",
        "Genesis 1:3     (S (C (P (cj \"\u05d5\"))(P (vb \"\u05d9\u05d0\u05de\u05e8\"))(P (n \"\u05d0\u05dc\u05d4\u05d9\u05dd\"))))\r\n",
        "Genesis 1:3     (S (C (P (vb \"\u05d9\u05d4\u05d9\"))(P (n \"\u05d0\u05d5\u05e8\"))))\r\n",
        "Genesis 1:3     (S (C (P (cj \"\u05d5\"))(P (vb \"\u05d9\u05d4\u05d9\"))(P (n \"\u05d0\u05d5\u05e8\"))))\r\n",
        "Genesis 1:4     (S (C (P (cj \"\u05d5\"))(P (vb \"\u05d9\u05e8\u05d0\"))(P (n \"\u05d0\u05dc\u05d4\u05d9\u05dd\"))(P (pp \"\u05d0\u05ea\")(dt \"\u05d4\")(n \"\u05d0\u05d5\u05e8\")))(C (P (cj \"\u05db\u05d9\"))(P (vb \"\u05d8\u05d5\u05d1\"))))\r\n",
        "Genesis 1:4     (S (C (P (cj \"\u05d5\"))(P (vb \"\u05d9\u05d1\u05d3\u05dc\"))(P (n \"\u05d0\u05dc\u05d4\u05d9\u05dd\"))(P (p (n \"\u05d1\u05d9\u05df\")(dt \"\u05d4\")(n \"\u05d0\u05d5\u05e8\"))(cj \"\u05d5\")(p (n \"\u05d1\u05d9\u05df\")(dt \"\u05d4\")(n \"\u05d7\u05e9\u05c1\u05da\")))))\r\n",
        "Genesis 1:5     (S (C (P (cj \"\u05d5\"))(P (vb \"\u05d9\u05e7\u05e8\u05d0\"))(P (n \"\u05d0\u05dc\u05d4\u05d9\u05dd\"))(P (pp \"\u05dc\")(dt \"\")(n \"\u05d0\u05d5\u05e8\"))(P (n \"\u05d9\u05d5\u05dd\"))))\r\n",
        "Genesis 1:5     (S (C (P (cj \"\u05d5\"))(P (pp \"\u05dc\")(dt \"\")(n \"\u05d7\u05e9\u05c1\u05da\"))(P (vb \"\u05e7\u05e8\u05d0\"))(P (n \"\u05dc\u05d9\u05dc\u05d4\"))))\r\n",
        "Genesis 1:5     (S (C (P (cj \"\u05d5\"))(P (vb \"\u05d9\u05d4\u05d9\"))(P (n \"\u05e2\u05e8\u05d1\"))))\r\n",
        "Genesis 1:5     (S (C (P (cj \"\u05d5\"))(P (vb \"\u05d9\u05d4\u05d9\"))(P (n \"\u05d1\u05e7\u05e8\"))))\r\n",
        "Genesis 1:5     (S (C (P (p (n \"\u05d9\u05d5\u05dd\"))(p (n \"\u05d0\u05d7\u05d3\")))))\r\n",
        "Genesis 1:6     (S (C (P (cj \"\u05d5\"))(P (vb \"\u05d9\u05d0\u05de\u05e8\"))(P (n \"\u05d0\u05dc\u05d4\u05d9\u05dd\"))))\r\n",
        "Genesis 1:6     (S (C (P (vb \"\u05d9\u05d4\u05d9\"))(P (n \"\u05e8\u05e7\u05d9\u05e2\"))(P (pp \"\u05d1\")(p (n \"\u05ea\u05d5\u05da\"))(p (dt \"\u05d4\")(n \"\u05de\u05d9\u05dd\")))))\r\n",
        "Genesis 1:6     (S (C (P (cj \"\u05d5\"))(P (vb \"\u05d9\u05d4\u05d9\"))(P (vb \"\u05de\u05d1\u05d3\u05d9\u05dc\"))(P (n \"\u05d1\u05d9\u05df\")(n \"\u05de\u05d9\u05dd\")(pp \"\u05dc\")(n \"\u05de\u05d9\u05dd\"))))\r\n",
        "Genesis 1:7     (S (C (P (cj \"\u05d5\"))(P (vb \"\u05d9\u05e2\u05e9\u05c2\"))(P (n \"\u05d0\u05dc\u05d4\u05d9\u05dd\"))(P (pp \"\u05d0\u05ea\")(dt \"\u05d4\")(n \"\u05e8\u05e7\u05d9\u05e2\"))))\r\n",
        "Genesis 1:7     (S (C (P (cj \"\u05d5\"))(P (vb \"\u05d9\u05d1\u05d3\u05dc\"))(P (n \"\u05d1\u05d9\u05df\")(dt \"\u05d4\")(n \"\u05de\u05d9\u05dd\"))\u00bbC\u00bb(C (P (cj \"\u05d0\u05e9\u05c1\u05e8\"))(P (pp \"\u05de\")(n \"\u05ea\u05d7\u05ea\")(pp \"\u05dc\")(dt \"\")(n \"\u05e8\u05e7\u05d9\u05e2\")))\u00abC\u00ab (P (cj \"\u05d5\"))(P (n \"\u05d1\u05d9\u05df\")(dt \"\u05d4\")(n \"\u05de\u05d9\u05dd\")))(C (P (cj \"\u05d0\u05e9\u05c1\u05e8\"))(P (pp \"\u05de\")(pp \"\u05e2\u05dc\")(pp \"\u05dc\")(dt \"\")(n \"\u05e8\u05e7\u05d9\u05e2\"))))\r\n",
        "Genesis 1:7     (S (C (P (cj \"\u05d5\"))(P (vb \"\u05d9\u05d4\u05d9\"))(P (av \"\u05db\u05df\"))))\r\n",
        "Genesis 1:8     (S (C (P (cj \"\u05d5\"))(P (vb \"\u05d9\u05e7\u05e8\u05d0\"))(P (n \"\u05d0\u05dc\u05d4\u05d9\u05dd\"))(P (pp \"\u05dc\")(dt \"\")(n \"\u05e8\u05e7\u05d9\u05e2\"))(P (n \"\u05e9\u05c1\u05de\u05d9\u05dd\"))))\r\n",
        "Genesis 1:8     (S (C (P (cj \"\u05d5\"))(P (vb \"\u05d9\u05d4\u05d9\"))(P (n \"\u05e2\u05e8\u05d1\"))))\r\n",
        "Genesis 1:8     (S (C (P (cj \"\u05d5\"))(P (vb \"\u05d9\u05d4\u05d9\"))(P (n \"\u05d1\u05e7\u05e8\"))))\r\n",
        "Genesis 1:8     (S (C (P (p (n \"\u05d9\u05d5\u05dd\"))(p (aj \"\u05e9\u05c1\u05e0\u05d9\")))))\r\n",
        "Genesis 1:9     (S (C (P (cj \"\u05d5\"))(P (vb \"\u05d9\u05d0\u05de\u05e8\"))(P (n \"\u05d0\u05dc\u05d4\u05d9\u05dd\"))))\r\n"
       ]
      }
     ],
     "prompt_number": 6
    },
    {
     "cell_type": "heading",
     "level": 1,
     "metadata": {},
     "source": [
      "Anomalies"
     ]
    },
    {
     "cell_type": "markdown",
     "metadata": {},
     "source": [
      "* we have suspends and resumes of nodes. Probably to be changed into true embedding.\n",
      "* there are empty words (such as the dt (determiner) in Genesis 1:7.\n",
      "* there are also empty words not attached to non-empty words. These have posed problems in an earlier version of LAF-Fabric,\n",
      "  where node events were not ordered properly.\n",
      "\n",
      "Node events per anchor should be ordered in such a way that closing/suspendig events of non-empty nodes at that anchor come first,\n",
      "followed by events for empty nodes, followed by opening/resuming events."
     ]
    },
    {
     "cell_type": "code",
     "collapsed": false,
     "input": [
      "!cat {processor.my_files('anomalies2014-01-28.txt')}"
     ],
     "language": "python",
     "metadata": {},
     "outputs": [
      {
       "output_type": "stream",
       "stream": "stdout",
       "text": [
        "BEFORE the anomaly Judges 20:13\r\n",
        " 901276-...(S\r\n",
        " 901276-....(C\r\n",
        " 901276-.....(P\r\n",
        " 901276-......(cj \"\u05d5\" =140605=\r\n",
        " 901278-......)\r\n",
        " 901278-.....P)\r\n",
        " 901278-.....(P\r\n",
        " 901278-......(ng \"\u05dc\u05d0\" =140606=\r\n",
        " 901282-......)\r\n",
        " 901282-.....P)\r\n",
        " 901283-.....(P\r\n",
        " 901283-......(vb \"\u05d0\u05d1\u05d5\" =140607=\r\n",
        " 901289-......)\r\n",
        " 901289-.....P)\r\n",
        " 901290-....)\r\n",
        " 901290-...p)\r\n",
        " 901290-..P\u00bb\r\n",
        " 901290-.C\u00bb\r\n",
        " 901290-S\u00bb\r\n",
        "the anomaly ITSELF Judges 20:13\r\n",
        " 901290-(P\r\n",
        " 901290-.(p\r\n",
        " 901290-..(n \"\" =140608=\r\n",
        " 901291-...\u00abS\r\n",
        "AFTER the anomalyJudges 20:13\r\n",
        " 901291-...\u00abC\r\n",
        " 901291-....\u00abP\r\n",
        " 901291-.....(p\r\n",
        " 901291-......(n \"\u05d1\u05e0\u05d9\u05de\u05df\" =140609=\r\n",
        " 901302-......)\r\n",
        " 901302-.....p)\r\n",
        " 901302-....P)\r\n",
        " 901302-...C)\r\n",
        " 901303-...(C\r\n",
        " 901303-....(P\r\n",
        " 901303-.....(pp \"\u05dc\" =140610=\r\n",
        " 901305-.....)\r\n",
        " 901305-.....(vb \"\u05e9\u05c1\u05de\u05e2\" =140611=\r\n",
        " 901313-.....)\r\n",
        " 901313-....P)\r\n",
        " 901314-....(P\r\n",
        " 901314-.....(pp \"\u05d1\" =140612=\r\n",
        " 901317-.....)\r\n",
        " 901317-.....(p\r\n",
        " 901317-......(n \"\u05e7\u05d5\u05dc\" =140613=\r\n",
        " 901322-......)\r\n",
        " 901322-.....p)\r\n",
        " 901323-.....(p\r\n",
        " 901323-......(n \"\u05d0\u05d7\u05d9\u05d4\u05dd\" =140614=\r\n",
        " 901332-......)\r\n",
        " 901332-.....p)\r\n",
        " 901333-.....(p\r\n",
        " 901333-......(n \"\u05d1\u05e0\u05d9\" =140615=\r\n",
        " 901340-......)\r\n",
        " 901340-.....p)\r\n",
        " 901341-.....(p\r\n",
        " 901341-......(n \"\u05d9\u05e9\u05c2\u05e8\u05d0\u05dc\" =140616=\r\n",
        " 901352-......)\r\n",
        " 901352-.....p)\r\n",
        " 901352-....P)\r\n",
        " 901352-...C)\r\n",
        " 901352-..S)\r\n",
        "\r\n",
        "END of the anomaly in Judges 20:13:\r\n",
        "BEFORE the anomaly II_Samuel 5:1\r\n",
        "\r\n",
        "II_Samuel 5:2\r\n",
        "1048037-...(S\r\n",
        "1048037-....(C\r\n",
        "1048037-.....(P\r\n",
        "1048037-......(av \"\u05d2\u05dd\" =163578=\r\n",
        "1048041-......)\r\n",
        "1048041-.....P)\r\n",
        "1048042-.....(P\r\n",
        "1048042-......(n \"\u05d0\u05ea\u05de\u05d5\u05dc\" =163579=\r\n",
        "1048051-......)\r\n",
        "1048052-......(av \"\u05d2\u05dd\" =163580=\r\n",
        "1048056-......)\r\n",
        "1048057-......(n \"\u05e9\u05c1\u05dc\u05e9\u05c1\u05d5\u05dd\" =163581=\r\n",
        "1048068-......)\r\n",
        "1048068-.....P)\r\n",
        "1048068-....C\u00bb\r\n",
        "1048069-....(C\r\n",
        "1048069-.....(P\r\n",
        "1048069-......(pp \"\u05d1\" =163582=\r\n",
        "1048072-......)\r\n",
        "1048072-......(vb \"\u05d4\u05d9\u05d5\u05ea\" =163583=\r\n",
        "1048079-......)\r\n",
        "1048079-.....P)\r\n",
        "1048080-.....(P\r\n",
        "1048080-......(n \"\u05e9\u05c1\u05d0\u05d5\u05dc\" =163584=\r\n",
        "1048088-......)\r\n",
        "1048088-.....P)\r\n",
        "1048089-.....(P\r\n",
        "1048089-......(n \"\u05de\u05dc\u05da\" =163585=\r\n",
        "1048097-......)\r\n",
        "1048098-......(pp \"\u05e2\u05dc\u05d9\u05e0\u05d5\" =163586=\r\n",
        "1048107-......)\r\n",
        "1048107-.....P)\r\n",
        "1048107-....C)\r\n",
        "1048108-....\u00abC\r\n",
        "1048108-.....(P\r\n",
        "1048108-......(pr \"\u05d0\u05ea\u05d4\" =163587=\r\n",
        "1048115-......)\r\n",
        "1048115-.....P)\r\n",
        "1048116-.....(P\r\n",
        "1048116-......(vb \"\u05d4\u05d9\u05d9\u05ea\u05d4\" =163588=\r\n",
        "1048124-......)\r\n",
        "1048124-.....P)\r\n",
        "1048124-....C)\r\n",
        "1048125-...)\r\n",
        "1048125-..P)\r\n",
        "1048125-.C\u00bb\r\n",
        "1048125-S\u00bb\r\n",
        "the anomaly ITSELF II_Samuel 5:2\r\n",
        "1048125-(C\r\n",
        "1048125-.(P\r\n",
        "1048125-..(dt \"\" =163589=\r\n",
        "1048126-...\u00abS\r\n",
        "AFTER the anomalyII_Samuel 5:2\r\n",
        "1048126-...\u00abC\r\n",
        "1048126-....(P\r\n",
        "1048126-.....(vb \"\u05de\u05d5\u05e6\u05d9\u05d0\" =163590=\r\n",
        "1048133-.....)\r\n",
        "1048133-....P)\r\n",
        "1048133-...C)\r\n",
        "1048134-...(C\r\n",
        "1048134-....(P\r\n",
        "1048134-.....(cj \"\u05d5\" =163591=\r\n",
        "1048136-.....)\r\n",
        "1048136-....P)\r\n",
        "1048136-....(P\r\n",
        "1048136-.....(dt \"\u05d4\" =163592=\r\n",
        "1048138-.....)\r\n",
        "1048138-....P)\r\n",
        "1048138-....(P\r\n",
        "1048138-.....(vb \"\u05de\u05d1\u05d9\" =163593=\r\n",
        "1048144-.....)\r\n",
        "1048144-....P)\r\n",
        "1048145-....(P\r\n",
        "1048145-.....(pp \"\u05d0\u05ea\" =163594=\r\n",
        "1048148-.....)\r\n",
        "1048149-.....(n \"\u05d9\u05e9\u05c2\u05e8\u05d0\u05dc\" =163595=\r\n",
        "1048160-.....)\r\n",
        "1048160-....P)\r\n",
        "1048160-...C)\r\n",
        "1048160-..S)\r\n",
        "\r\n",
        "END of the anomaly in II_Samuel 5:2:\r\n",
        "BEFORE the anomaly II_Samuel 8:2\r\n",
        "\r\n",
        "II_Samuel 8:3\r\n",
        "1059045-...(S\r\n",
        "1059045-....(C\r\n",
        "1059045-.....(P\r\n",
        "1059045-......(cj \"\u05d5\" =165278=\r\n",
        "1059047-......)\r\n",
        "1059047-.....P)\r\n",
        "1059047-.....(P\r\n",
        "1059047-......(vb \"\u05d9\u05da\" =165279=\r\n",
        "1059053-......)\r\n",
        "1059053-.....P)\r\n",
        "1059054-.....(P\r\n",
        "1059054-......(n \"\u05d3\u05d5\u05d3\" =165280=\r\n",
        "1059061-......)\r\n",
        "1059061-.....P)\r\n",
        "1059062-.....(P\r\n",
        "1059062-......(pp \"\u05d0\u05ea\" =165281=\r\n",
        "1059065-......)\r\n",
        "1059066-......(n \"\u05d4\u05d3\u05d3\u05e2\u05d6\u05e8\" =165282=\r\n",
        "1059078-......)\r\n",
        "1059079-......(p\r\n",
        "1059079-.......(n \"\u05d1\u05df\" =165283=\r\n",
        "1059083-.......)\r\n",
        "1059083-......p)\r\n",
        "1059084-......(p\r\n",
        "1059084-.......(n \"\u05e8\u05d7\u05d1\" =165284=\r\n",
        "1059090-.......)\r\n",
        "1059090-......p)\r\n",
        "1059091-......(p\r\n",
        "1059091-.......(n \"\u05de\u05dc\u05da\" =165285=\r\n",
        "1059098-.......)\r\n",
        "1059098-......p)\r\n",
        "1059099-......(p\r\n",
        "1059099-.......(n \"\u05e6\u05d5\u05d1\u05d4\" =165286=\r\n",
        "1059106-.......)\r\n",
        "1059106-......p)\r\n",
        "1059106-.....P)\r\n",
        "1059106-....C)\r\n",
        "1059107-....(C\r\n",
        "1059107-.....(P\r\n",
        "1059107-......(pp \"\u05d1\" =165287=\r\n",
        "1059110-......)\r\n",
        "1059110-......(vb \"\u05dc\u05db\u05ea\u05d5\" =165288=\r\n",
        "1059119-......)\r\n",
        "1059119-.....P)\r\n",
        "1059119-....C)\r\n",
        "1059120-....(C\r\n",
        "1059120-.....(P\r\n",
        "1059120-......(pp \"\u05dc\" =165289=\r\n",
        "1059122-......)\r\n",
        "1059122-......(vb \"\u05d4\u05e9\u05c1\u05d9\u05d1\" =165290=\r\n",
        "1059130-......)\r\n",
        "1059130-.....P)\r\n",
        "1059131-.....(P\r\n",
        "1059131-......(n \"\u05d9\u05d3\u05d5\" =165291=\r\n",
        "1059137-......)\r\n",
        "1059137-.....P)\r\n",
        "1059138-.....(P\r\n",
        "1059138-......(pp \"\u05d1\" =165292=\r\n",
        "1059142-......)\r\n",
        "1059142-......(p\r\n",
        "1059142-.......(n \"\u05e0\u05d4\u05e8\" =165293=\r\n",
        "1059147-.......)\r\n",
        "1059147-......p)\r\n",
        "1059148-.....)\r\n",
        "1059148-....p)\r\n",
        "1059148-...P)\r\n",
        "1059148-..C)\r\n",
        "1059148-.S)\r\n",
        "the anomaly ITSELF II_Samuel 8:3\r\n",
        "1059148-.(p\r\n",
        "1059148-..(n \"\" =165294=\r\n",
        "\r\n",
        "II_Samuel 8:4\r\n",
        "1059149-...(S\r\n",
        "AFTER the anomalyII_Samuel 8:4\r\n",
        "1059149-...(C\r\n",
        "1059149-....(P\r\n",
        "1059149-.....(cj \"\u05d5\" =165295=\r\n",
        "1059151-.....)\r\n",
        "1059151-....P)\r\n",
        "1059151-....(P\r\n",
        "1059151-.....(vb \"\u05d9\u05dc\u05db\u05d3\" =165296=\r\n",
        "1059161-.....)\r\n",
        "1059161-....P)\r\n",
        "1059162-....(P\r\n",
        "1059162-.....(n \"\u05d3\u05d5\u05d3\" =165297=\r\n",
        "1059169-.....)\r\n",
        "1059169-....P)\r\n",
        "1059170-....(P\r\n",
        "1059170-.....(pp \"\u05de\u05de\u05e0\u05d5\" =165298=\r\n",
        "1059180-.....)\r\n",
        "1059180-....P)\r\n",
        "1059181-....(P\r\n",
        "1059181-.....(p\r\n",
        "1059181-......(p\r\n",
        "1059181-.......(p\r\n",
        "1059181-........(n \"\u05d0\u05dc\u05e3\" =165299=\r\n",
        "1059187-........)\r\n",
        "1059187-.......p)\r\n",
        "1059188-.......(cj \"\u05d5\" =165300=\r\n",
        "1059190-.......)\r\n",
        "1059190-.......(p\r\n",
        "1059190-........(p\r\n",
        "1059190-.........(n \"\u05e9\u05c1\u05d1\u05e2\" =165301=\r\n",
        "1059196-.........)\r\n",
        "1059196-........p)\r\n",
        "1059197-........(p\r\n",
        "1059197-.........(n \"\u05de\u05d0\u05d5\u05ea\" =165302=\r\n",
        "1059204-.........)\r\n",
        "1059204-........p)\r\n",
        "1059204-.......p)\r\n",
        "1059204-......p)\r\n",
        "1059205-......(p\r\n",
        "1059205-.......(n \"\u05e4\u05e8\u05e9\u05c1\u05d9\u05dd\" =165303=\r\n",
        "1059216-.......)\r\n",
        "1059216-......p)\r\n",
        "1059216-.....p)\r\n",
        "1059217-.....(cj \"\u05d5\" =165304=\r\n",
        "1059219-.....)\r\n",
        "1059219-.....(p\r\n",
        "1059219-......(p\r\n",
        "1059219-.......(n \"\u05e2\u05e9\u05c2\u05e8\u05d9\u05dd\" =165305=\r\n",
        "1059229-.......)\r\n",
        "1059229-......p)\r\n",
        "1059230-......(p\r\n",
        "1059230-.......(p\r\n",
        "1059230-........(p\r\n",
        "1059230-.........(n \"\u05d0\u05dc\u05e3\" =165306=\r\n",
        "1059236-.........)\r\n",
        "1059236-........p)\r\n",
        "1059237-........(p\r\n",
        "1059237-.........(n \"\u05d0\u05d9\u05e9\u05c1\" =165307=\r\n",
        "1059243-.........)\r\n",
        "1059243-........p)\r\n",
        "1059243-.......p)\r\n",
        "1059243-......p)\r\n",
        "1059244-......(p\r\n",
        "1059244-.......(aj \"\u05e8\u05d2\u05dc\u05d9\" =165308=\r\n",
        "1059252-.......)\r\n",
        "1059252-......p)\r\n",
        "1059252-.....p)\r\n",
        "1059252-....P)\r\n",
        "1059252-...C)\r\n",
        "1059252-..S)\r\n",
        "\r\n",
        "END of the anomaly in II_Samuel 8:4:\r\n",
        "BEFORE the anomaly Isaiah 55:12\r\n",
        "\r\n",
        "Isaiah 55:13\r\n",
        "1496790-...(S\r\n",
        "1496790-....(C\r\n",
        "1496790-.....(P\r\n",
        "1496790-......(p\r\n",
        "1496790-.......(n \"\u05ea\u05d7\u05ea\" =232221=\r\n",
        "1496797-.......)\r\n",
        "1496797-......p)\r\n",
        "1496798-......(p\r\n",
        "1496798-.......(dt \"\u05d4\" =232222=\r\n",
        "1496801-.......)\r\n",
        "1496801-.......(n \"\u05e0\u05e2\u05e6\u05d5\u05e5\" =232223=\r\n",
        "1496811-.......)\r\n",
        "1496811-......p)\r\n",
        "1496811-.....P)\r\n",
        "1496812-.....(P\r\n",
        "1496812-......(vb \"\u05d9\u05e2\u05dc\u05d4\" =232224=\r\n",
        "1496820-......)\r\n",
        "1496820-.....P)\r\n",
        "1496821-.....(P\r\n",
        "1496821-......(n \"\u05d1\u05e8\u05d5\u05e9\u05c1\" =232225=\r\n",
        "1496829-......)\r\n",
        "1496829-.....P)\r\n",
        "1496829-....C)\r\n",
        "1496829-...S)\r\n",
        "the anomaly ITSELF Isaiah 55:13\r\n",
        "1496830-..)\r\n",
        "1496830-.P)\r\n",
        "1496830-.(S\r\n",
        "AFTER the anomalyIsaiah 55:13\r\n",
        "1496830-.(C\r\n",
        "1496830-..(P\r\n",
        "1496830-...(p\r\n",
        "1496830-....(n \"\u05ea\u05d7\u05ea\" =232227=\r\n",
        "1496830-.....(P\r\n",
        "1496830-......(cj \"\" =232226=\r\n",
        "1496835-......)\r\n",
        "1496835-.....p)\r\n",
        "1496836-.....(p\r\n",
        "1496836-......(dt \"\u05d4\" =232228=\r\n",
        "1496838-......)\r\n",
        "1496838-......(n \"\u05e1\u05e8\u05e4\u05d3\" =232229=\r\n",
        "1496848-......)\r\n",
        "1496848-.....p)\r\n",
        "1496848-....P)\r\n",
        "1496849-....(P\r\n",
        "1496849-.....(vb \"\u05d9\u05e2\u05dc\u05d4\" =232230=\r\n",
        "1496857-.....)\r\n",
        "1496857-....P)\r\n",
        "1496858-....(P\r\n",
        "1496858-.....(n \"\u05d4\u05d3\u05e1\" =232231=\r\n",
        "1496864-.....)\r\n",
        "1496864-....P)\r\n",
        "1496864-...C)\r\n",
        "1496864-..S)\r\n",
        "\r\n",
        "END of the anomaly in Isaiah 55:13:\r\n",
        "BEFORE the anomaly Proverbs 23:23\r\n",
        "\r\n",
        "Proverbs 23:24\r\n",
        "2337663-...(S\r\n",
        "2337663-....(C\r\n",
        "2337663-.....(P\r\n",
        "2337663-......(vb \"\u05d2\u05d5\u05dc\" =355795=\r\n",
        "2337668-......)\r\n",
        "2337668-.....P)\r\n",
        "2337669-.....(P\r\n",
        "2337669-......(vb \"\u05d9\u05d2\u05d5\u05dc\" =355796=\r\n",
        "2337675-......)\r\n",
        "2337675-.....P)\r\n",
        "2337676-.....(P\r\n",
        "2337676-......(p\r\n",
        "2337676-.......(n \"\u05d0\u05d1\u05d9\" =355797=\r\n",
        "2337682-.......)\r\n",
        "2337682-......p)\r\n",
        "2337683-......(p\r\n",
        "2337683-.......(aj \"\u05e6\u05d3\u05d9\u05e7\" =355798=\r\n",
        "2337691-.......)\r\n",
        "2337691-......p)\r\n",
        "2337691-.....P)\r\n",
        "2337691-....C)\r\n",
        "2337691-...S)\r\n",
        "the anomaly ITSELF Proverbs 23:24\r\n",
        "2337692-..)\r\n",
        "2337692-.P)\r\n",
        "2337692-.(S\r\n",
        "AFTER the anomalyProverbs 23:24\r\n",
        "2337692-.(C\r\n",
        "2337692-..(P\r\n",
        "2337692-...(vb \"\u05d9\u05d5\u05dc\u05d3\" =355800=\r\n",
        "2337692-....(P\r\n",
        "2337692-.....(cj \"\" =355799=\r\n",
        "2337698-.....)\r\n",
        "2337698-....P)\r\n",
        "2337699-....(P\r\n",
        "2337699-.....(aj \"\u05d7\u05db\u05dd\" =355801=\r\n",
        "2337706-.....)\r\n",
        "2337706-....P)\r\n",
        "2337706-...C)\r\n",
        "2337706-..S)\r\n",
        "\r\n",
        "END of the anomaly in Proverbs 23:24:\r\n",
        "BEFORE the anomaly Ruth 3:17\r\n",
        "2364328-...(S\r\n",
        "2364328-....(C\r\n",
        "2364328-.....(P\r\n",
        "2364328-......(cj \"\u05db\u05d9\" =359799=\r\n",
        "2364333-......)\r\n",
        "2364333-.....P)\r\n",
        "2364334-.....(P\r\n",
        "2364334-......(vb \"\u05d0\u05de\u05e8\" =359800=\r\n",
        "2364340-......)\r\n",
        "2364340-.....P)\r\n",
        "2364341-....)\r\n",
        "2364341-...P)\r\n",
        "2364341-..C)\r\n",
        "2364341-.S)\r\n",
        "the anomaly ITSELF Ruth 3:17\r\n",
        "2364341-.(P\r\n",
        "2364341-..(pp \"\" =359801=\r\n",
        "2364342-...(S\r\n",
        "AFTER the anomalyRuth 3:17\r\n",
        "2364342-...(C\r\n",
        "2364342-....(P\r\n",
        "2364342-.....(ng \"\u05d0\u05dc\" =359802=\r\n",
        "2364345-.....)\r\n",
        "2364345-....P)\r\n",
        "2364346-....(P\r\n",
        "2364346-.....(vb \"\u05ea\u05d1\u05d5\u05d0\u05d9\" =359803=\r\n",
        "2364356-.....)\r\n",
        "2364356-....P)\r\n",
        "2364357-....(P\r\n",
        "2364357-.....(av \"\u05e8\u05d9\u05e7\u05dd\" =359804=\r\n",
        "2364364-.....)\r\n",
        "2364364-....P)\r\n",
        "2364365-....(P\r\n",
        "2364365-.....(pp \"\u05d0\u05dc\" =359805=\r\n",
        "2364368-.....)\r\n",
        "2364369-.....(n \"\u05d7\u05de\u05d5\u05ea\u05da\" =359806=\r\n",
        "2364379-.....)\r\n",
        "2364379-....P)\r\n",
        "2364379-...C)\r\n",
        "2364379-..S)\r\n",
        "\r\n",
        "END of the anomaly in Ruth 3:17:\r\n",
        "BEFORE the anomaly Lamentations 2:1\r\n",
        "\r\n",
        "Lamentations 2:2\r\n",
        "2409333-...(S\r\n",
        "2409333-....(C\r\n",
        "2409333-.....(P\r\n",
        "2409333-......(vb \"\u05d1\u05dc\u05e2\" =366977=\r\n",
        "2409341-......)\r\n",
        "2409341-.....P)\r\n",
        "2409342-.....(P\r\n",
        "2409342-......(n \"\u05d0\u05d3\u05e0\u05d9\" =366978=\r\n",
        "2409350-......)\r\n",
        "2409350-.....P)\r\n",
        "2409350-....C)\r\n",
        "2409350-...S)\r\n",
        "the anomaly ITSELF Lamentations 2:2\r\n",
        "2409351-..)\r\n",
        "2409351-.P)\r\n",
        "2409351-.(S\r\n",
        "AFTER the anomalyLamentations 2:2\r\n",
        "2409351-.(C\r\n",
        "2409351-..(P\r\n",
        "2409351-...(ng \"\u05dc\u05d0\" =366980=\r\n",
        "2409351-....(P\r\n",
        "2409351-.....(cj \"\" =366979=\r\n",
        "2409354-.....)\r\n",
        "2409354-....P)\r\n",
        "2409355-....(P\r\n",
        "2409355-.....(vb \"\u05d7\u05de\u05dc\" =366981=\r\n",
        "2409361-.....)\r\n",
        "2409361-....P)\r\n",
        "2409361-...C)\r\n",
        "2409361-..S)\r\n",
        "\r\n",
        "END of the anomaly in Lamentations 2:2:\r\n",
        "BEFORE the anomaly Lamentations 4:16\r\n",
        "2417949-...(S\r\n",
        "2417949-....(C\r\n",
        "2417949-.....(P\r\n",
        "2417949-......(p\r\n",
        "2417949-.......(n \"\u05e4\u05e0\u05d9\" =368171=\r\n",
        "2417956-.......)\r\n",
        "2417956-......p)\r\n",
        "2417957-......(p\r\n",
        "2417957-.......(n \"\u05db\u05d4\u05e0\u05d9\u05dd\" =368172=\r\n",
        "2417966-.......)\r\n",
        "2417966-......p)\r\n",
        "2417966-.....P)\r\n",
        "2417967-.....(P\r\n",
        "2417967-......(ng \"\u05dc\u05d0\" =368173=\r\n",
        "2417971-......)\r\n",
        "2417971-.....P)\r\n",
        "2417972-.....(P\r\n",
        "2417972-......(vb \"\u05e0\u05e9\u05c2\u05d0\u05d5\" =368174=\r\n",
        "2417981-......)\r\n",
        "2417981-.....P)\r\n",
        "2417981-....C)\r\n",
        "2417981-...S)\r\n",
        "the anomaly ITSELF Lamentations 4:16\r\n",
        "2417982-..)\r\n",
        "2417982-.P)\r\n",
        "2417982-.(S\r\n",
        "AFTER the anomalyLamentations 4:16\r\n",
        "2417982-.(C\r\n",
        "2417982-..(P\r\n",
        "2417982-...(aj \"\u05d6\u05e7\u05e0\u05d9\u05dd\" =368176=\r\n",
        "2417982-....(P\r\n",
        "2417982-.....(cj \"\" =368175=\r\n",
        "2417990-.....)\r\n",
        "2417990-....P)\r\n",
        "2417991-....(P\r\n",
        "2417991-.....(ng \"\u05dc\u05d0\" =368177=\r\n",
        "2417995-.....)\r\n",
        "2417995-....P)\r\n",
        "2417996-....(P\r\n",
        "2417996-.....(vb \"\u05d7\u05e0\u05e0\u05d5\" =368178=\r\n",
        "2418004-.....)\r\n",
        "2418004-....P)\r\n",
        "2418004-...C)\r\n",
        "2418004-..S)\r\n",
        "\r\n",
        "END of the anomaly in Lamentations 4:16:\r\n",
        "BEFORE the anomaly Lamentations 5:2\r\n",
        "\r\n",
        "Lamentations 5:3\r\n",
        "2418835-...(S\r\n",
        "2418835-....(C\r\n",
        "2418835-.....(P\r\n",
        "2418835-......(n \"\u05d9\u05ea\u05d5\u05de\u05d9\u05dd\" =368283=\r\n",
        "2418845-......)\r\n",
        "2418845-.....P)\r\n",
        "2418846-.....(P\r\n",
        "2418846-......(vb \"\u05d4\u05d9\u05d9\u05e0\u05d5\" =368284=\r",
        "\r\n",
        "2418856-......)\r\n",
        "2418856-.....P)\r\n",
        "2418856-....C)\r\n",
        "2418856-...S)\r\n",
        "the anomaly ITSELF Lamentations 5:3\r\n",
        "2418857-..)\r\n",
        "2418857-.P)\r\n",
        "2418857-.(S\r\n",
        "AFTER the anomalyLamentations 5:3\r\n",
        "2418857-.(C\r\n",
        "2418857-..(P\r\n",
        "2418857-...(n \"\u05d0\u05d9\u05df\" =368286=\r\n",
        "2418857-....(P\r\n",
        "2418857-.....(cj \"\" =368285=\r\n",
        "2418861-.....)\r\n",
        "2418861-....P)\r\n",
        "2418862-....(P\r\n",
        "2418862-.....(n \"\u05d0\u05d1\" =368287=\r\n",
        "2418866-.....)\r\n",
        "2418866-....P)\r\n",
        "2418866-...C)\r\n",
        "2418866-..S)\r\n",
        "\r\n",
        "END of the anomaly in Lamentations 5:3:\r\n",
        "BEFORE the anomaly Lamentations 5:5\r\n",
        "2418993-...(S\r\n",
        "2418993-....(C\r\n",
        "2418993-.....(P\r\n",
        "2418993-......(vb \"\u05d9\u05d2\u05e2\u05e0\u05d5\" =368302=\r\n",
        "2419003-......)\r\n",
        "2419003-.....P)\r\n",
        "2419003-....C)\r\n",
        "2419003-...S)\r\n",
        "the anomaly ITSELF Lamentations 5:5\r\n",
        "2419004-..)\r\n",
        "2419004-.P)\r\n",
        "2419004-.(S\r\n",
        "AFTER the anomalyLamentations 5:5\r\n",
        "2419004-.(C\r\n",
        "2419004-..(P\r\n",
        "2419004-...(ng \"\u05dc\u05d0\" =368304=\r\n",
        "2419004-....(P\r\n",
        "2419004-.....(cj \"\" =368303=\r\n",
        "2419007-.....)\r\n",
        "2419007-....P)\r\n",
        "2419008-....(P\r\n",
        "2419008-.....(vb \"\u05d4\u05d5\u05e0\u05d7\" =368305=\r\n",
        "2419016-.....)\r\n",
        "2419016-....P)\r\n",
        "2419017-....(P\r\n",
        "2419017-.....(pp \"\u05dc\u05e0\u05d5\" =368306=\r\n",
        "2419023-.....)\r\n",
        "2419023-....P)\r\n",
        "2419023-...C)\r\n",
        "2419023-..S)\r\n",
        "\r\n",
        "END of the anomaly in Lamentations 5:5:\r\n",
        "BEFORE the anomaly Lamentations 5:6\r\n",
        "\r\n",
        "Lamentations 5:7\r\n",
        "2419083-...(S\r\n",
        "2419083-....(C\r\n",
        "2419083-.....(P\r\n",
        "2419083-......(n \"\u05d0\u05d1\u05ea\u05d9\u05e0\u05d5\" =368314=\r\n",
        "2419094-......)\r\n",
        "2419094-.....P)\r\n",
        "2419095-.....(P\r\n",
        "2419095-......(vb \"\u05d7\u05d8\u05d0\u05d5\" =368315=\r\n",
        "2419104-......)\r\n",
        "2419104-.....P)\r\n",
        "2419104-....C)\r\n",
        "2419104-...S)\r\n",
        "the anomaly ITSELF Lamentations 5:7\r\n",
        "2419105-..)\r\n",
        "2419105-.P)\r\n",
        "2419105-.(S\r\n",
        "AFTER the anomalyLamentations 5:7\r\n",
        "2419105-.(C\r\n",
        "2419105-..(P\r\n",
        "2419105-...(n \"\u05d0\u05d9\u05e0\u05dd\" =368317=\r\n",
        "2419105-....(P\r\n",
        "2419105-.....(cj \"\" =368316=\r\n",
        "2419111-.....)\r\n",
        "2419111-....P)\r\n",
        "2419111-...C)\r\n",
        "2419111-..S)\r\n",
        "\r\n",
        "END of the anomaly in Lamentations 5:7:\r\n",
        "BEFORE the anomaly Lamentations 5:7\r\n",
        "2419112-..)\r\n",
        "2419112-.P)\r\n",
        "2419112-C\u00bb\r\n",
        "2419112-S\u00bb\r\n",
        "the anomaly ITSELF Lamentations 5:7\r\n",
        "2419112-(S\r\n",
        "2419112-(C\r\n",
        "2419112-.(P\r\n",
        "2419112-..(cj \"\" =368318=\r\n",
        "2419113-...\u00abS\r\n",
        "AFTER the anomalyLamentations 5:7\r\n",
        "2419113-...\u00abC\r\n",
        "2419113-....(P\r\n",
        "2419113-.....(pr \"\u05d0\u05e0\u05d7\u05e0\u05d5\" =368319=\r\n",
        "2419122-.....)\r\n",
        "2419122-....P)\r\n",
        "2419123-....(P\r\n",
        "2419123-.....(n \"\u05e2\u05d5\u05e0\u05ea\u05d9\u05d4\u05dd\" =368320=\r\n",
        "2419136-.....)\r\n",
        "2419136-....P)\r\n",
        "2419137-....(P\r\n",
        "2419137-.....(vb \"\u05e1\u05d1\u05dc\u05e0\u05d5\" =368321=\r\n",
        "2419147-.....)\r\n",
        "2419147-....P)\r\n",
        "2419147-...C)\r\n",
        "2419147-..S)\r\n",
        "\r\n",
        "END of the anomaly in Lamentations 5:7:\r\n",
        "BEFORE the anomaly Daniel 2:42\r\n",
        "2458479-...(S\r\n",
        "2458479-....(C\r\n",
        "2458479-.....(P\r\n",
        "2458479-......(cj \"\u05d5\" =374536=\r\n",
        "2458481-......)\r\n",
        "2458481-.....P)\r\n",
        "2458481-.....(P\r\n",
        "2458481-......(pp \"\u05de\u05e0\u05d4\" =374537=\r\n",
        "2458489-......)\r\n",
        "2458489-.....P)\r\n",
        "2458490-.....(P\r\n",
        "2458490-......(vb \"\u05ea\u05d4\u05d5\u05d4\" =374538=\r\n",
        "2458499-......)\r\n",
        "2458499-.....P)\r\n",
        "2458500-.....(P\r\n",
        "2458500-......(vb \"\u05ea\u05d1\u05d9\u05e8\u05d4\" =374539=\r\n",
        "2458509-......)\r\n",
        "2458509-.....P)\r\n",
        "2458509-....C)\r\n",
        "2458509-...S)\r\n",
        "the anomaly ITSELF Daniel 2:42\r\n",
        "2458511-..)\r\n",
        "\r\n",
        "Daniel 2:43\r\n",
        "2458511-..(S\r\n",
        "AFTER the anomalyDaniel 2:43\r\n",
        "2458511-..(C\r\n",
        "2458511-...(P\r\n",
        "2458511-....(cj \"\u05d3\u05d9\" =374541=\r\n",
        "2458511-.....(cj \"\" =374540=\r\n",
        "2458514-.....)\r\n",
        "2458514-....P)\r\n",
        "2458515-....(P\r\n",
        "2458515-.....(vb \"\u05d7\u05d6\u05d9\u05ea\" =374542=\r\n",
        "2458524-.....)\r\n",
        "2458524-....P)\r\n",
        "2458525-....(P\r\n",
        "2458525-.....(n \"\u05e4\u05e8\u05d6\u05dc\u05d0\" =374543=\r\n",
        "2458536-.....)\r\n",
        "2458536-....P)\r\n",
        "2458536-...C)\r\n",
        "2458536-..S)\r\n",
        "\r\n",
        "END of the anomaly in Daniel 2:43:\r\n"
       ]
      }
     ],
     "prompt_number": 7
    },
    {
     "cell_type": "code",
     "collapsed": false,
     "input": [
      "!grep 'Lamentations 5:3' {my_file('trees.txt')}"
     ],
     "language": "python",
     "metadata": {},
     "outputs": [
      {
       "output_type": "stream",
       "stream": "stdout",
       "text": [
        "Lamentations 5:3 (S (C (P (n \"\u05d9\u05ea\u05d5\u05de\u05d9\u05dd\"))(P (vb \"\u05d4\u05d9\u05d9\u05e0\u05d5\"))))\r\n",
        "Lamentations 5:3 *** (P (cj \"\")) ***\r\n",
        "Lamentations 5:3 (S (C (P (n \"\u05d0\u05d9\u05df\"))(P (n \"\u05d0\u05d1\"))))\r\n",
        "Lamentations 5:3 (S (C (P (n \"\u05d0\u05de\u05ea\u05d9\u05e0\u05d5\"))(P (pp \"\u05db\")(n \"\u05d0\u05dc\u05de\u05e0\u05d5\u05ea\"))))\r\n"
       ]
      }
     ],
     "prompt_number": 7
    },
    {
     "cell_type": "code",
     "collapsed": false,
     "input": [
      "!grep 'Judges 20:13' {my_file('trees.txt')}"
     ],
     "language": "python",
     "metadata": {},
     "outputs": [
      {
       "output_type": "stream",
       "stream": "stdout",
       "text": [
        "Judges 20:13    (S (C (P (cj \"\u05d5\"))(P (av \"\u05e2\u05ea\u05d4\"))))\r\n",
        "Judges 20:13    (S (C (P (vb \"\u05ea\u05e0\u05d5\"))(P (pp \"\u05d0\u05ea\")(dt \"\u05d4\")(n \"\u05d0\u05e0\u05e9\u05c1\u05d9\u05dd\")(p (n \"\u05d1\u05e0\u05d9\"))(p (n \"\u05d1\u05dc\u05d9\u05e2\u05dc\"))))(C (P (cj \"\u05d0\u05e9\u05c1\u05e8\"))(P (pp \"\u05d1\")(dt \"\")(n \"\u05d2\u05d1\u05e2\u05d4\"))))\r\n",
        "Judges 20:13    (S (C (P (cj \"\u05d5\"))(P (vb \"\u05e0\u05de\u05d9\u05ea\u05dd\"))))\r\n",
        "Judges 20:13    (S (C (P (cj \"\u05d5\"))(P (vb \"\u05e0\u05d1\u05e2\u05e8\u05d4\"))(P (n \"\u05e8\u05e2\u05d4\"))(P (pp \"\u05de\")(n \"\u05d9\u05e9\u05c2\u05e8\u05d0\u05dc\"))))\r\n",
        "Judges 20:13    (S (C (P (cj \"\u05d5\"))(P (ng \"\u05dc\u05d0\"))(P (vb \"\u05d0\u05d1\u05d5\"))\u00bbP\u00bb\u00bbC\u00bb\u00bbS\u00bb\r\n",
        "Judges 20:13    *** (p (n \"\"))(P  ***\r\n",
        "Judges 20:13    \u00abS\u00ab \u00abC\u00ab \u00abP\u00ab (p (n \"\u05d1\u05e0\u05d9\u05de\u05df\"))))(C (P (pp \"\u05dc\")(vb \"\u05e9\u05c1\u05de\u05e2\"))(P (pp \"\u05d1\")(p (n \"\u05e7\u05d5\u05dc\"))(p (n \"\u05d0\u05d7\u05d9\u05d4\u05dd\"))(p (n \"\u05d1\u05e0\u05d9\"))(p (n \"\u05d9\u05e9\u05c2\u05e8\u05d0\u05dc\")))))\r\n"
       ]
      }
     ],
     "prompt_number": 8
    },
    {
     "cell_type": "code",
     "collapsed": false,
     "input": [],
     "language": "python",
     "metadata": {},
     "outputs": []
    }
   ],
   "metadata": {}
  }
 ]
}