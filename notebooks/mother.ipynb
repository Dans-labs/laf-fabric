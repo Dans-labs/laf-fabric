{
 "metadata": {
  "name": ""
 },
 "nbformat": 3,
 "nbformat_minor": 0,
 "worksheets": [
  {
   "cells": [
    {
     "cell_type": "markdown",
     "metadata": {},
     "source": [
      "<a href=\"http://laf-fabric.readthedocs.org/en/latest/\" target=\"_blank\"><img src=\"files/laf-fabric-small.png\"/></a>\n",
      "<a href=\"http://www.dans.knaw.nl\" target=\"_blank\"><img src=\"files/DANS-small.png\"/></a>\n",
      "<a href=\"http://tla.mpi.nl\" target=\"_blank\"><img src=\"files/TLA-small.png\"/></a>\n",
      "<a href=\"http://www.godgeleerdheid.vu.nl/etcbc\" target=\"_blank\"><img src=\"files/VU-ETCBC-small.png\"/></a>"
     ]
    },
    {
     "cell_type": "heading",
     "level": 1,
     "metadata": {},
     "source": [
      "Mother - walking edges in the Hebrew Bible"
     ]
    },
    {
     "cell_type": "markdown",
     "metadata": {},
     "source": [
      "This is a task using edges. In the Hebrew data source, nodes corresponding to constituents may have labelled edges pointing to other constituents. We make an inventory of all such edges labeled ``mother``."
     ]
    },
    {
     "cell_type": "code",
     "collapsed": false,
     "input": [
      "import sys\n",
      "import collections\n",
      "import laf\n",
      "from laf.notebook import Notebook\n",
      "processor = Notebook()"
     ],
     "language": "python",
     "metadata": {},
     "outputs": [],
     "prompt_number": 1
    },
    {
     "cell_type": "code",
     "collapsed": false,
     "input": [
      "processor.init('bhs3.txt.hdr', '--', 'mother', {\n",
      "    \"xmlids\": {\n",
      "        \"node\": False,\n",
      "        \"edge\": False,\n",
      "    },\n",
      "    \"features\": {\n",
      "        \"shebanq\": {\n",
      "            \"node\": [\n",
      "                \"db.otype\",\n",
      "                \"sft.book\",\n",
      "            ],\n",
      "            \"edge\": [\n",
      "                \"mother.\",\n",
      "            ],\n",
      "        },\n",
      "    },\n",
      "})"
     ],
     "language": "python",
     "metadata": {},
     "outputs": [
      {
       "output_type": "stream",
       "stream": "stdout",
       "text": [
        "  0.00s COMPILING source: UP TO DATE\n"
       ]
      },
      {
       "output_type": "stream",
       "stream": "stdout",
       "text": [
        "  0.00s COMPILING annox: UP TO DATE\n"
       ]
      },
      {
       "output_type": "stream",
       "stream": "stdout",
       "text": [
        "  0.00s loading common: node_sort ... \n"
       ]
      },
      {
       "output_type": "stream",
       "stream": "stdout",
       "text": [
        "  0.17s loading common: node_out ... \n"
       ]
      },
      {
       "output_type": "stream",
       "stream": "stdout",
       "text": [
        "  0.47s loading common: node_in ... \n"
       ]
      },
      {
       "output_type": "stream",
       "stream": "stdout",
       "text": [
        "  0.76s loading common: edges_from ... \n"
       ]
      },
      {
       "output_type": "stream",
       "stream": "stdout",
       "text": [
        "  0.86s loading common: edges_to ... \n"
       ]
      },
      {
       "output_type": "stream",
       "stream": "stdout",
       "text": [
        "  0.98s clearing xmlids: xid ...\n"
       ]
      },
      {
       "output_type": "stream",
       "stream": "stdout",
       "text": [
        "  0.98s clearing feature: feature ...\n"
       ]
      },
      {
       "output_type": "stream",
       "stream": "stdout",
       "text": [
        "  2.15s clearing annox: xfeature ...\n"
       ]
      },
      {
       "output_type": "stream",
       "stream": "stdout",
       "text": [
        "  3.03s present feature: shebanq:db.otype (node) from source bhs3.txt.hdr\n"
       ]
      },
      {
       "output_type": "stream",
       "stream": "stdout",
       "text": [
        "  3.03s present feature: shebanq:mother. (edge) from source bhs3.txt.hdr\n"
       ]
      },
      {
       "output_type": "stream",
       "stream": "stdout",
       "text": [
        "  3.03s present feature: shebanq:sft.book (node) from source bhs3.txt.hdr\n"
       ]
      },
      {
       "output_type": "stream",
       "stream": "stdout",
       "text": [
        "  0.00s LOGFILE=/Users/dirk/Scratch/shebanq/results/bhs3.txt.hdr/mother/__log__mother.txt\n"
       ]
      },
      {
       "output_type": "stream",
       "stream": "stdout",
       "text": [
        "  0.00s BEGIN TASK=mother SOURCE=bhs3.txt.hdr\n"
       ]
      }
     ],
     "prompt_number": 2
    },
    {
     "cell_type": "code",
     "collapsed": false,
     "input": [
      "API = processor.API()\n",
      "F = API['F']\n",
      "C = API['C']\n",
      "NN = API['NN']\n",
      "msg = API['msg']\n",
      "\n",
      "msg(\"Get the mothers...\")\n",
      "\n",
      "out = processor.add_output(\"mothers.tsv\")\n",
      "\n",
      "bookname = None\n",
      "found = 0\n",
      "mother_kind = collections.defaultdict(lambda: collections.defaultdict(lambda: 0))\n",
      "\n",
      "mother_c = C.shebanq_mother_['']\n",
      "\n",
      "for i in NN():\n",
      "    otype = F.shebanq_db_otype.v(i)\n",
      "    if i in mother_c:\n",
      "        for mother in mother_c[i]:\n",
      "            found += 1\n",
      "            motype = F.shebanq_db_otype.v(mother)\n",
      "            mother_kind[otype][motype] += 1\n",
      "            out.write(\"{}\\t{}\\t{}\\t{}\\n\".format(otype, i, motype, mother))\n",
      "    if otype == \"book\":\n",
      "        bookname = F.shebanq_sft_book.v(i)\n",
      "        sys.stderr.write(\"{} ({})\\n\".format(bookname, found))\n",
      "sys.stderr.write(\"Total {}\\n\".format(found))\n",
      "for source_type in sorted(mother_kind):\n",
      "    for target_type in sorted(mother_kind[source_type]):\n",
      "        print(\"{:<15} ==mother==> {:<15} : {:>10} x\".format(source_type, target_type, mother_kind[source_type][target_type]))"
     ],
     "language": "python",
     "metadata": {},
     "outputs": [
      {
       "output_type": "stream",
       "stream": "stdout",
       "text": [
        "  2.57s Get the mothers...\n"
       ]
      },
      {
       "output_type": "stream",
       "stream": "stderr",
       "text": [
        "Genesis (0)\n",
        "Exodus (11277)\n"
       ]
      },
      {
       "output_type": "stream",
       "stream": "stderr",
       "text": [
        "Leviticus (20371)\n",
        "Numbers (26863)\n"
       ]
      },
      {
       "output_type": "stream",
       "stream": "stderr",
       "text": [
        "Deuteronomy (36989)\n",
        "Joshua (45363)\n"
       ]
      },
      {
       "output_type": "stream",
       "stream": "stderr",
       "text": [
        "Judges (51358)\n",
        "I_Samuel (56766)\n"
       ]
      },
      {
       "output_type": "stream",
       "stream": "stderr",
       "text": [
        "II_Samuel (63789)\n",
        "I_Kings (69890)\n"
       ]
      },
      {
       "output_type": "stream",
       "stream": "stderr",
       "text": [
        "II_Kings (77621)\n",
        "Isaiah (84887)\n"
       ]
      },
      {
       "output_type": "stream",
       "stream": "stderr",
       "text": [
        "Jeremiah (94588)\n",
        "Ezekiel (107312)\n"
       ]
      },
      {
       "output_type": "stream",
       "stream": "stderr",
       "text": [
        "Hosea (113243)\n",
        "Joel (114479)\n",
        "Amos (114648)\n",
        "Obadiah (114974)\n",
        "Jonah (115023)\n",
        "Micah (115388)\n",
        "Nahum (115614)\n",
        "Habakkuk (115695)\n"
       ]
      },
      {
       "output_type": "stream",
       "stream": "stderr",
       "text": [
        "Zephaniah (116071)\n",
        "Haggai (116236)\n",
        "Zechariah (116411)\n",
        "Malachi (117028)\n",
        "Psalms (117163)\n",
        "Job (121724)\n"
       ]
      },
      {
       "output_type": "stream",
       "stream": "stderr",
       "text": [
        "Proverbs (123072)\n",
        "Ruth (124331)\n",
        "Canticles (125027)\n",
        "Ecclesiastes (125194)\n"
       ]
      },
      {
       "output_type": "stream",
       "stream": "stderr",
       "text": [
        "Lamentations (126988)\n",
        "Esther (127737)\n",
        "Daniel (128631)\n",
        "Ezra (129766)\n"
       ]
      },
      {
       "output_type": "stream",
       "stream": "stderr",
       "text": [
        "Nehemiah (131180)\n",
        "I_Chronicles (134709)\n",
        "II_Chronicles (138616)\n"
       ]
      },
      {
       "output_type": "stream",
       "stream": "stdout",
       "text": [
        "clause          ==mother==> clause          :       8414 x\n",
        "clause          ==mother==> phrase          :       4156 x\n",
        "clause          ==mother==> word            :        758 x\n",
        "clause_atom     ==mother==> clause_atom     :      61976 x\n",
        "phrase_atom     ==mother==> phrase_atom     :      11238 x\n",
        "phrase_atom     ==mother==> word            :       1290 x\n",
        "subphrase       ==mother==> subphrase       :      54768 x\n"
       ]
      },
      {
       "output_type": "stream",
       "stream": "stderr",
       "text": [
        "Total 142600\n"
       ]
      }
     ],
     "prompt_number": 3
    },
    {
     "cell_type": "code",
     "collapsed": false,
     "input": [],
     "language": "python",
     "metadata": {},
     "outputs": []
    }
   ],
   "metadata": {}
  }
 ]
}