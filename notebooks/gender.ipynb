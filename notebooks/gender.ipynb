{
 "metadata": {
  "name": ""
 },
 "nbformat": 3,
 "nbformat_minor": 0,
 "worksheets": [
  {
   "cells": [
    {
     "cell_type": "heading",
     "level": 1,
     "metadata": {},
     "source": [
      "Gender in the Hebrew Bible"
     ]
    },
    {
     "cell_type": "markdown",
     "metadata": {},
     "source": [
      "<img align=\"right\" src=\"files/laf-fabric-small.png\"/>"
     ]
    },
    {
     "cell_type": "markdown",
     "metadata": {},
     "source": [
      "This task extracts a table from the Hebrew Bible data. Each row specifies a chapter and has the percentage of masculine and feminine words is that chapter."
     ]
    },
    {
     "cell_type": "heading",
     "level": 1,
     "metadata": {},
     "source": [
      "0. About this notebook"
     ]
    },
    {
     "cell_type": "markdown",
     "metadata": {},
     "source": [
      "This notebook illustrates the working of LAF-Fabric, a tool to analyze the data inside *LAF* resources (Linguistic Annotation Framework). We use it for a particular LAF resource: the Hebrew Bible with linguistic annotations. The software to get the Hebrew Bible in LAF and the LAF-Fabric are on github and are documented here: [WIVU2LAF](http://wivu2laf.readthedocs.org) and [LAF-Fabric](http://laf-fabric.readthedocs.org). There you can find more information on the provenance of the data.\n",
      "\n",
      "> **NB 1.** This is a static copy of the Gender notebook. You can download it, and if you have iPython installed and the LAF-Fabric, then you can run this notebook. And you can create many more notebooks like this, looking for patterns in the Hebrew Bible.\n",
      "\n",
      "> **NB 2.** All software involved is open source, but the data is not freely available. We are working on a version of the data that may be distributed freely.\n",
      "If you are seriously interested in working with this tool, we can grant you non-commercial access to the data. Just drop a mail to [Wido van Peursen](mailto:w.t.van.peursen@vu.nl) or [Dirk Roorda](mailto:dirk.roorda@dans.knaw.nl)."
     ]
    },
    {
     "cell_type": "heading",
     "level": 1,
     "metadata": {},
     "source": [
      "1. Importing"
     ]
    },
    {
     "cell_type": "markdown",
     "metadata": {},
     "source": [
      "The next cell loads the required libraries and creates a task processor.\n",
      "\n",
      "Note the *matplotlib*, this is the one that can draw a chart based on a table.\n",
      "In order to show the chart withib this page, we issue a magic command (%matplotlib inline).\n",
      "\n",
      "The Notebook class in *graf.notebook* implements a LAF-Fabric task processor."
     ]
    },
    {
     "cell_type": "code",
     "collapsed": false,
     "input": [
      "import sys\n",
      "import collections\n",
      "import matplotlib.pyplot as plt\n",
      "import graf\n",
      "from graf.notebook import Notebook\n",
      "%matplotlib inline\n",
      "processor = Notebook()"
     ],
     "language": "python",
     "metadata": {},
     "outputs": [],
     "prompt_number": 1
    },
    {
     "cell_type": "heading",
     "level": 1,
     "metadata": {},
     "source": [
      "2. Loading"
     ]
    },
    {
     "cell_type": "markdown",
     "metadata": {},
     "source": [
      "The processor needs data. Here is where we say what data to load. We do not need the XML identifiers as they show up in the original LAF resource. But we do need a few features of nodes, namely the ones that give us the gender of the words, and the numbers of the chapters and the books in which the chapters are contained.\n",
      "\n",
      "The *init* function actually draws that data in, and it will take a few seconds. It needs to know the name of the LAF header file (in fact the *GrAF* header file).\n",
      "The '--' means that we do not draw in an extra annotation package. If you want to do that, this is the place to give the name of such a package.\n",
      "\n",
      "Then *gender* is just a name we choose to give to this task. This name determines where on the filesystem the log file and output (if any) will be put."
     ]
    },
    {
     "cell_type": "code",
     "collapsed": false,
     "input": [
      "processor.init('bhs3.txt.hdr', '--', 'gender', {\n",
      "    \"xmlids\": {\n",
      "        \"node\": False,\n",
      "        \"edge\": False,\n",
      "    },\n",
      "    \"features\": {\n",
      "        \"shebanq\": {\n",
      "            \"node\": [\n",
      "                \"db.otype\",\n",
      "                \"ft.gender\",\n",
      "                \"sft.chapter,book\",\n",
      "            ],\n",
      "            \"edge\": [\n",
      "            ],\n",
      "        },\n",
      "    },\n",
      "})"
     ],
     "language": "python",
     "metadata": {},
     "outputs": [
      {
       "output_type": "stream",
       "stream": "stdout",
       "text": [
        "  0.00s COMPILING source: UP TO DATE\n"
       ]
      },
      {
       "output_type": "stream",
       "stream": "stdout",
       "text": [
        "  0.00s COMPILING annox: UP TO DATE\n"
       ]
      },
      {
       "output_type": "stream",
       "stream": "stdout",
       "text": [
        "  0.00s loading common: node_sort ... \n"
       ]
      },
      {
       "output_type": "stream",
       "stream": "stdout",
       "text": [
        "  0.16s loading common: node_out ... \n"
       ]
      },
      {
       "output_type": "stream",
       "stream": "stdout",
       "text": [
        "  0.46s loading common: node_in ... \n"
       ]
      },
      {
       "output_type": "stream",
       "stream": "stdout",
       "text": [
        "  0.75s loading common: edges_from ... \n"
       ]
      },
      {
       "output_type": "stream",
       "stream": "stdout",
       "text": [
        "  0.86s loading common: edges_to ... \n"
       ]
      },
      {
       "output_type": "stream",
       "stream": "stdout",
       "text": [
        "  0.98s clearing xmlids: xid ...\n"
       ]
      },
      {
       "output_type": "stream",
       "stream": "stdout",
       "text": [
        "  0.98s clearing feature: feature ...\n"
       ]
      },
      {
       "output_type": "stream",
       "stream": "stdout",
       "text": [
        "  2.42s clearing annox: xfeature ...\n"
       ]
      },
      {
       "output_type": "stream",
       "stream": "stdout",
       "text": [
        "  3.17s present feature: shebanq:sft.chapter (node) from source bhs3.txt.hdr\n"
       ]
      },
      {
       "output_type": "stream",
       "stream": "stdout",
       "text": [
        "  3.17s present feature: shebanq:sft.book (node) from source bhs3.txt.hdr\n"
       ]
      },
      {
       "output_type": "stream",
       "stream": "stdout",
       "text": [
        "  3.17s present feature: shebanq:db.otype (node) from source bhs3.txt.hdr\n"
       ]
      },
      {
       "output_type": "stream",
       "stream": "stdout",
       "text": [
        "  3.17s present feature: shebanq:ft.gender (node) from source bhs3.txt.hdr\n"
       ]
      },
      {
       "output_type": "stream",
       "stream": "stdout",
       "text": [
        "  0.00s LOGFILE=/Users/dirk/Scratch/shebanq/results/db/bhs3.txt.hdr/gender/__log__gender.txt\n"
       ]
      },
      {
       "output_type": "stream",
       "stream": "stdout",
       "text": [
        "  0.00s BEGIN TASK=gender SOURCE=bhs3.txt.hdr\n"
       ]
      }
     ],
     "prompt_number": 2
    },
    {
     "cell_type": "heading",
     "level": 1,
     "metadata": {},
     "source": [
      "3. Naming"
     ]
    },
    {
     "cell_type": "markdown",
     "metadata": {},
     "source": [
      "The workbench provides us with some objects by which we can query for data. Here they are:\n",
      "\n",
      "### F\n",
      "All that you want to know about features and are not afraid to ask.\n",
      "It is an object, and for each feature that you have declared, it has a member\n",
      "with a handy name. For example, ``F.shebanq_db_otype`` is a feature object\n",
      "that corresponds with the LAF feature given in an annotation in the annotation space ``shebanq``,\n",
      "with label ``db`` and name ``otype``.\n",
      "It is a node feature, because otherwise the name had a \n",
      "``_e`` appended to it.\n",
      "You can look up a feature value of this feature, say for node ``n``,by saying:\n",
      "``F.shebanq_db_otype.v(n)``. \n",
      "\n",
      "### P(node)\n",
      "Your gateway to the primary data. For nodes *n* that are linked to the primary data by one or more regions,\n",
      "P(*n*) yields a set of chunks of primary data, corresponding with those regions.\n",
      "The chunks are maximal, non-overlapping, ordered according to the primary data.\n",
      "Every chunk is given as a tuple (*pos*, *text*), where *pos* is the position in the primary data where\n",
      "the start of *text* can be found, and *text* is the chunk of actual text that is specified by the region.\n",
      "The primary data is only available if you have specified in the *load* directives: \n",
      "``primary: True``\n",
      "\n",
      "### NN(test=function value=something)\n",
      "If you want to walk through all the nodes, possibly skipping some, then this is your method.\n",
      "It is an *iterator* that yields a new node everytime it is called.\n",
      "The order is so-called *primary data order*, which will be explained below.\n",
      "The ``test`` and ``value`` arguments are optional.\n",
      "If given, ``test`` should be a *callable* with one argument, returning a string;\n",
      "``value`` should be a string.\n",
      "``test`` will be called for each passing node,\n",
      "and if the value returned is not equal to the given ``value``,\n",
      "the node will be skipped.\n",
      "\n",
      "### X\n",
      "If you need to convert the integers that identify nodes and edges in the compiled data back to\n",
      "their original XML identifiers, you can do that with the *X* object.\n",
      "It has two members, ``X.node`` and ``X.edge``, which contain the separate mapping tables for\n",
      "nodes and edges. Both have two methods, corresponding to the direction of the translation:\n",
      "with ``X.node.i(\u00abxml id\u00bb)`` you get the corresponding number of a node, and with ``X.node.r(\u00abnumber\u00bb)``\n",
      "you get the original XML id by which the node was identified in the LAF resource."
     ]
    },
    {
     "cell_type": "code",
     "collapsed": false,
     "input": [
      "(msg, P, NN, F, X) = processor.data()"
     ],
     "language": "python",
     "metadata": {},
     "outputs": [],
     "prompt_number": 3
    },
    {
     "cell_type": "heading",
     "level": 1,
     "metadata": {},
     "source": [
      "4. Task Execution"
     ]
    },
    {
     "cell_type": "heading",
     "level": 2,
     "metadata": {},
     "source": [
      "4.1 Initialization"
     ]
    },
    {
     "cell_type": "markdown",
     "metadata": {},
     "source": [
      "We initialize the counters in which we store the word counts."
     ]
    },
    {
     "cell_type": "code",
     "collapsed": false,
     "input": [
      "stats = [0, 0, 0]\n",
      "cur_chapter = None\n",
      "ch = []\n",
      "m = []\n",
      "f = []\n",
      "table = open(\"table.tsv\", \"w\")"
     ],
     "language": "python",
     "metadata": {},
     "outputs": [],
     "prompt_number": 30
    },
    {
     "cell_type": "heading",
     "level": 2,
     "metadata": {},
     "source": [
      "4.2 Looping"
     ]
    },
    {
     "cell_type": "markdown",
     "metadata": {},
     "source": [
      "Here we loop over a bunch of nodes (in fact over all nodes), in a convenient document order.\n",
      "We keep track of the chapter we are in and accumulate counts of the words, masculine and feminine.\n",
      "For each chapter we create entries in the *ch*, *m* and *f* lists.\n",
      "\n",
      "Note also the progress messages after each chapter."
     ]
    },
    {
     "cell_type": "code",
     "collapsed": false,
     "input": [
      "for node in NN():\n",
      "    otype = F.shebanq_db_otype.v(node)\n",
      "    if otype == \"word\":\n",
      "        stats[0] += 1\n",
      "        if F.shebanq_ft_gender.v(node) == \"masculine\":\n",
      "            stats[1] += 1\n",
      "        elif F.shebanq_ft_gender.v(node) == \"feminine\":\n",
      "            stats[2] += 1\n",
      "    elif otype == \"chapter\":\n",
      "        if cur_chapter != None:\n",
      "            masc = 0 if not stats[0] else 100 * float(stats[1]) / stats[0]\n",
      "            fem = 0 if not stats[0] else 100 * float(stats[2]) / stats[0]\n",
      "            ch.append(cur_chapter)\n",
      "            m.append(masc)\n",
      "            f.append(fem)\n",
      "            table.write(\"{},{},{}\\n\".format(cur_chapter, masc, fem))\n",
      "        else:\n",
      "            table.write(\"{},{},{}\\n\".format('book chapter', 'masculine', 'feminine'))\n",
      "        this_chapter = \"{} {}\".format(F.shebanq_sft_book.v(node), F.shebanq_sft_chapter.v(node))\n",
      "        sys.stderr.write(\"\\r{:<15}\".format(this_chapter))\n",
      "        stats = [0, 0, 0]\n",
      "        cur_chapter = this_chapter"
     ],
     "language": "python",
     "metadata": {},
     "outputs": [
      {
       "output_type": "stream",
       "stream": "stderr",
       "text": [
        "\r",
        "Genesis 1      \r",
        "Genesis 2      \r",
        "Genesis 3      \r",
        "Genesis 4      \r",
        "Genesis 5      \r",
        "Genesis 6      \r",
        "Genesis 7      \r",
        "Genesis 8      \r",
        "Genesis 9      \r",
        "Genesis 10     \r",
        "Genesis 11     \r",
        "Genesis 12     \r",
        "Genesis 13     \r",
        "Genesis 14     \r",
        "Genesis 15     \r",
        "Genesis 16     \r",
        "Genesis 17     \r",
        "Genesis 18     "
       ]
      },
      {
       "output_type": "stream",
       "stream": "stderr",
       "text": [
        "\r",
        "Genesis 19     \r",
        "Genesis 20     \r",
        "Genesis 21     \r",
        "Genesis 22     \r",
        "Genesis 23     \r",
        "Genesis 24     \r",
        "Genesis 25     \r",
        "Genesis 26     \r",
        "Genesis 27     \r",
        "Genesis 28     \r",
        "Genesis 29     \r",
        "Genesis 30     \r",
        "Genesis 31     \r",
        "Genesis 32     \r",
        "Genesis 33     \r",
        "Genesis 34     \r",
        "Genesis 35     "
       ]
      },
      {
       "output_type": "stream",
       "stream": "stderr",
       "text": [
        "\r",
        "Genesis 36     \r",
        "Genesis 37     \r",
        "Genesis 38     \r",
        "Genesis 39     \r",
        "Genesis 40     \r",
        "Genesis 41     \r",
        "Genesis 42     \r",
        "Genesis 43     \r",
        "Genesis 44     \r",
        "Genesis 45     \r",
        "Genesis 46     \r",
        "Genesis 47     \r",
        "Genesis 48     \r",
        "Genesis 49     \r",
        "Genesis 50     \r",
        "Exodus 1       \r",
        "Exodus 2       \r",
        "Exodus 3       "
       ]
      },
      {
       "output_type": "stream",
       "stream": "stderr",
       "text": [
        "\r",
        "Exodus 4       \r",
        "Exodus 5       \r",
        "Exodus 6       \r",
        "Exodus 7       \r",
        "Exodus 8       \r",
        "Exodus 9       \r",
        "Exodus 10      \r",
        "Exodus 11      \r",
        "Exodus 12      \r",
        "Exodus 13      \r",
        "Exodus 14      \r",
        "Exodus 15      \r",
        "Exodus 16      \r",
        "Exodus 17      \r",
        "Exodus 18      \r",
        "Exodus 19      \r",
        "Exodus 20      \r",
        "Exodus 21      \r",
        "Exodus 22      \r",
        "Exodus 23      "
       ]
      },
      {
       "output_type": "stream",
       "stream": "stderr",
       "text": [
        "\r",
        "Exodus 24      \r",
        "Exodus 25      \r",
        "Exodus 26      \r",
        "Exodus 27      \r",
        "Exodus 28      \r",
        "Exodus 29      \r",
        "Exodus 30      \r",
        "Exodus 31      \r",
        "Exodus 32      \r",
        "Exodus 33      \r",
        "Exodus 34      \r",
        "Exodus 35      \r",
        "Exodus 36      \r",
        "Exodus 37      \r",
        "Exodus 38      \r",
        "Exodus 39      \r",
        "Exodus 40      \r",
        "Leviticus 1    \r",
        "Leviticus 2    \r",
        "Leviticus 3    \r",
        "Leviticus 4    \r",
        "Leviticus 5    "
       ]
      },
      {
       "output_type": "stream",
       "stream": "stderr",
       "text": [
        "\r",
        "Leviticus 6    \r",
        "Leviticus 7    \r",
        "Leviticus 8    \r",
        "Leviticus 9    \r",
        "Leviticus 10   \r",
        "Leviticus 11   \r",
        "Leviticus 12   \r",
        "Leviticus 13   \r",
        "Leviticus 14   \r",
        "Leviticus 15   \r",
        "Leviticus 16   \r",
        "Leviticus 17   \r",
        "Leviticus 18   \r",
        "Leviticus 19   \r",
        "Leviticus 20   \r",
        "Leviticus 21   \r",
        "Leviticus 22   \r",
        "Leviticus 23   \r",
        "Leviticus 24   \r",
        "Leviticus 25   "
       ]
      },
      {
       "output_type": "stream",
       "stream": "stderr",
       "text": [
        "\r",
        "Leviticus 26   \r",
        "Leviticus 27   \r",
        "Numbers 1      \r",
        "Numbers 2      \r",
        "Numbers 3      \r",
        "Numbers 4      \r",
        "Numbers 5      \r",
        "Numbers 6      \r",
        "Numbers 7      \r",
        "Numbers 8      \r",
        "Numbers 9      \r",
        "Numbers 10     \r",
        "Numbers 11     \r",
        "Numbers 12     \r",
        "Numbers 13     \r",
        "Numbers 14     \r",
        "Numbers 15     \r",
        "Numbers 16     \r",
        "Numbers 17     \r",
        "Numbers 18     "
       ]
      },
      {
       "output_type": "stream",
       "stream": "stderr",
       "text": [
        "\r",
        "Numbers 19     \r",
        "Numbers 20     \r",
        "Numbers 21     \r",
        "Numbers 22     \r",
        "Numbers 23     \r",
        "Numbers 24     \r",
        "Numbers 25     \r",
        "Numbers 26     \r",
        "Numbers 27     \r",
        "Numbers 28     \r",
        "Numbers 29     \r",
        "Numbers 30     \r",
        "Numbers 31     \r",
        "Numbers 32     \r",
        "Numbers 33     \r",
        "Numbers 34     \r",
        "Numbers 35     \r",
        "Numbers 36     \r",
        "Deuteronomy 1  \r",
        "Deuteronomy 2  \r",
        "Deuteronomy 3  "
       ]
      },
      {
       "output_type": "stream",
       "stream": "stderr",
       "text": [
        "\r",
        "Deuteronomy 4  \r",
        "Deuteronomy 5  \r",
        "Deuteronomy 6  \r",
        "Deuteronomy 7  \r",
        "Deuteronomy 8  \r",
        "Deuteronomy 9  \r",
        "Deuteronomy 10 \r",
        "Deuteronomy 11 \r",
        "Deuteronomy 12 \r",
        "Deuteronomy 13 \r",
        "Deuteronomy 14 \r",
        "Deuteronomy 15 \r",
        "Deuteronomy 16 \r",
        "Deuteronomy 17 \r",
        "Deuteronomy 18 \r",
        "Deuteronomy 19 \r",
        "Deuteronomy 20 \r",
        "Deuteronomy 21 \r",
        "Deuteronomy 22 \r",
        "Deuteronomy 23 \r",
        "Deuteronomy 24 \r",
        "Deuteronomy 25 \r",
        "Deuteronomy 26 \r",
        "Deuteronomy 27 "
       ]
      },
      {
       "output_type": "stream",
       "stream": "stderr",
       "text": [
        "\r",
        "Deuteronomy 28 \r",
        "Deuteronomy 29 \r",
        "Deuteronomy 30 \r",
        "Deuteronomy 31 \r",
        "Deuteronomy 32 \r",
        "Deuteronomy 33 \r",
        "Deuteronomy 34 \r",
        "Joshua 1       \r",
        "Joshua 2       \r",
        "Joshua 3       \r",
        "Joshua 4       \r",
        "Joshua 5       \r",
        "Joshua 6       \r",
        "Joshua 7       \r",
        "Joshua 8       \r",
        "Joshua 9       \r",
        "Joshua 10      \r",
        "Joshua 11      \r",
        "Joshua 12      \r",
        "Joshua 13      "
       ]
      },
      {
       "output_type": "stream",
       "stream": "stderr",
       "text": [
        "\r",
        "Joshua 14      \r",
        "Joshua 15      \r",
        "Joshua 16      \r",
        "Joshua 17      \r",
        "Joshua 18      \r",
        "Joshua 19      \r",
        "Joshua 20      \r",
        "Joshua 21      \r",
        "Joshua 22      \r",
        "Joshua 23      \r",
        "Joshua 24      \r",
        "Judges 1       \r",
        "Judges 2       \r",
        "Judges 3       \r",
        "Judges 4       \r",
        "Judges 5       \r",
        "Judges 6       \r",
        "Judges 7       \r",
        "Judges 8       \r",
        "Judges 9       \r",
        "Judges 10      "
       ]
      },
      {
       "output_type": "stream",
       "stream": "stderr",
       "text": [
        "\r",
        "Judges 11      \r",
        "Judges 12      \r",
        "Judges 13      \r",
        "Judges 14      \r",
        "Judges 15      \r",
        "Judges 16      \r",
        "Judges 17      \r",
        "Judges 18      \r",
        "Judges 19      \r",
        "Judges 20      \r",
        "Judges 21      \r",
        "I_Samuel 1     \r",
        "I_Samuel 2     \r",
        "I_Samuel 3     \r",
        "I_Samuel 4     \r",
        "I_Samuel 5     \r",
        "I_Samuel 6     \r",
        "I_Samuel 7     \r",
        "I_Samuel 8     \r",
        "I_Samuel 9     \r",
        "I_Samuel 10    \r",
        "I_Samuel 11    "
       ]
      },
      {
       "output_type": "stream",
       "stream": "stderr",
       "text": [
        "\r",
        "I_Samuel 12    \r",
        "I_Samuel 13    \r",
        "I_Samuel 14    \r",
        "I_Samuel 15    \r",
        "I_Samuel 16    \r",
        "I_Samuel 17    \r",
        "I_Samuel 18    \r",
        "I_Samuel 19    \r",
        "I_Samuel 20    \r",
        "I_Samuel 21    \r",
        "I_Samuel 22    \r",
        "I_Samuel 23    \r",
        "I_Samuel 24    \r",
        "I_Samuel 25    \r",
        "I_Samuel 26    \r",
        "I_Samuel 27    \r",
        "I_Samuel 28    \r",
        "I_Samuel 29    "
       ]
      },
      {
       "output_type": "stream",
       "stream": "stderr",
       "text": [
        "\r",
        "I_Samuel 30    \r",
        "I_Samuel 31    \r",
        "II_Samuel 1    \r",
        "II_Samuel 2    \r",
        "II_Samuel 3    \r",
        "II_Samuel 4    \r",
        "II_Samuel 5    \r",
        "II_Samuel 6    \r",
        "II_Samuel 7    \r",
        "II_Samuel 8    \r",
        "II_Samuel 9    \r",
        "II_Samuel 10   \r",
        "II_Samuel 11   \r",
        "II_Samuel 12   \r",
        "II_Samuel 13   \r",
        "II_Samuel 14   \r",
        "II_Samuel 15   \r",
        "II_Samuel 16   \r",
        "II_Samuel 17   \r",
        "II_Samuel 18   \r",
        "II_Samuel 19   "
       ]
      },
      {
       "output_type": "stream",
       "stream": "stderr",
       "text": [
        "\r",
        "II_Samuel 20   \r",
        "II_Samuel 21   \r",
        "II_Samuel 22   \r",
        "II_Samuel 23   \r",
        "II_Samuel 24   \r",
        "I_Kings 1      \r",
        "I_Kings 2      \r",
        "I_Kings 3      \r",
        "I_Kings 4      \r",
        "I_Kings 5      \r",
        "I_Kings 6      \r",
        "I_Kings 7      \r",
        "I_Kings 8      \r",
        "I_Kings 9      \r",
        "I_Kings 10     \r",
        "I_Kings 11     \r",
        "I_Kings 12     "
       ]
      },
      {
       "output_type": "stream",
       "stream": "stderr",
       "text": [
        "\r",
        "I_Kings 13     \r",
        "I_Kings 14     \r",
        "I_Kings 15     \r",
        "I_Kings 16     \r",
        "I_Kings 17     \r",
        "I_Kings 18     \r",
        "I_Kings 19     \r",
        "I_Kings 20     \r",
        "I_Kings 21     \r",
        "I_Kings 22     \r",
        "II_Kings 1     \r",
        "II_Kings 2     \r",
        "II_Kings 3     \r",
        "II_Kings 4     \r",
        "II_Kings 5     \r",
        "II_Kings 6     \r",
        "II_Kings 7     "
       ]
      },
      {
       "output_type": "stream",
       "stream": "stderr",
       "text": [
        "\r",
        "II_Kings 8     \r",
        "II_Kings 9     \r",
        "II_Kings 10    \r",
        "II_Kings 11    \r",
        "II_Kings 12    \r",
        "II_Kings 13    \r",
        "II_Kings 14    \r",
        "II_Kings 15    \r",
        "II_Kings 16    \r",
        "II_Kings 17    \r",
        "II_Kings 18    \r",
        "II_Kings 19    \r",
        "II_Kings 20    \r",
        "II_Kings 21    \r",
        "II_Kings 22    \r",
        "II_Kings 23    \r",
        "II_Kings 24    \r",
        "II_Kings 25    \r",
        "Isaiah 1       \r",
        "Isaiah 2       "
       ]
      },
      {
       "output_type": "stream",
       "stream": "stderr",
       "text": [
        "\r",
        "Isaiah 3       \r",
        "Isaiah 4       \r",
        "Isaiah 5       \r",
        "Isaiah 6       \r",
        "Isaiah 7       \r",
        "Isaiah 8       \r",
        "Isaiah 9       \r",
        "Isaiah 10      \r",
        "Isaiah 11      \r",
        "Isaiah 12      \r",
        "Isaiah 13      \r",
        "Isaiah 14      \r",
        "Isaiah 15      \r",
        "Isaiah 16      \r",
        "Isaiah 17      \r",
        "Isaiah 18      \r",
        "Isaiah 19      \r",
        "Isaiah 20      \r",
        "Isaiah 21      \r",
        "Isaiah 22      \r",
        "Isaiah 23      \r",
        "Isaiah 24      \r",
        "Isaiah 25      \r",
        "Isaiah 26      \r",
        "Isaiah 27      \r",
        "Isaiah 28      \r",
        "Isaiah 29      \r",
        "Isaiah 30      \r",
        "Isaiah 31      \r",
        "Isaiah 32      \r",
        "Isaiah 33      \r",
        "Isaiah 34      \r",
        "Isaiah 35      \r",
        "Isaiah 36      \r",
        "Isaiah 37      "
       ]
      },
      {
       "output_type": "stream",
       "stream": "stderr",
       "text": [
        "\r",
        "Isaiah 38      \r",
        "Isaiah 39      \r",
        "Isaiah 40      \r",
        "Isaiah 41      \r",
        "Isaiah 42      \r",
        "Isaiah 43      \r",
        "Isaiah 44      \r",
        "Isaiah 45      \r",
        "Isaiah 46      \r",
        "Isaiah 47      \r",
        "Isaiah 48      \r",
        "Isaiah 49      \r",
        "Isaiah 50      \r",
        "Isaiah 51      \r",
        "Isaiah 52      \r",
        "Isaiah 53      \r",
        "Isaiah 54      \r",
        "Isaiah 55      \r",
        "Isaiah 56      \r",
        "Isaiah 57      \r",
        "Isaiah 58      \r",
        "Isaiah 59      \r",
        "Isaiah 60      \r",
        "Isaiah 61      \r",
        "Isaiah 62      \r",
        "Isaiah 63      \r",
        "Isaiah 64      \r",
        "Isaiah 65      \r",
        "Isaiah 66      \r",
        "Jeremiah 1     \r",
        "Jeremiah 2     "
       ]
      },
      {
       "output_type": "stream",
       "stream": "stderr",
       "text": [
        "\r",
        "Jeremiah 3     \r",
        "Jeremiah 4     \r",
        "Jeremiah 5     \r",
        "Jeremiah 6     \r",
        "Jeremiah 7     \r",
        "Jeremiah 8     \r",
        "Jeremiah 9     \r",
        "Jeremiah 10    \r",
        "Jeremiah 11    \r",
        "Jeremiah 12    \r",
        "Jeremiah 13    \r",
        "Jeremiah 14    \r",
        "Jeremiah 15    \r",
        "Jeremiah 16    \r",
        "Jeremiah 17    \r",
        "Jeremiah 18    \r",
        "Jeremiah 19    \r",
        "Jeremiah 20    \r",
        "Jeremiah 21    \r",
        "Jeremiah 22    \r",
        "Jeremiah 23    \r",
        "Jeremiah 24    \r",
        "Jeremiah 25    "
       ]
      },
      {
       "output_type": "stream",
       "stream": "stderr",
       "text": [
        "\r",
        "Jeremiah 26    \r",
        "Jeremiah 27    \r",
        "Jeremiah 28    \r",
        "Jeremiah 29    \r",
        "Jeremiah 30    \r",
        "Jeremiah 31    \r",
        "Jeremiah 32    \r",
        "Jeremiah 33    \r",
        "Jeremiah 34    \r",
        "Jeremiah 35    \r",
        "Jeremiah 36    \r",
        "Jeremiah 37    \r",
        "Jeremiah 38    \r",
        "Jeremiah 39    \r",
        "Jeremiah 40    \r",
        "Jeremiah 41    \r",
        "Jeremiah 42    \r",
        "Jeremiah 43    \r",
        "Jeremiah 44    \r",
        "Jeremiah 45    \r",
        "Jeremiah 46    \r",
        "Jeremiah 47    \r",
        "Jeremiah 48    \r",
        "Jeremiah 49    "
       ]
      },
      {
       "output_type": "stream",
       "stream": "stderr",
       "text": [
        "\r",
        "Jeremiah 50    \r",
        "Jeremiah 51    \r",
        "Jeremiah 52    \r",
        "Ezekiel 1      \r",
        "Ezekiel 2      \r",
        "Ezekiel 3      \r",
        "Ezekiel 4      \r",
        "Ezekiel 5      \r",
        "Ezekiel 6      \r",
        "Ezekiel 7      \r",
        "Ezekiel 8      \r",
        "Ezekiel 9      \r",
        "Ezekiel 10     \r",
        "Ezekiel 11     \r",
        "Ezekiel 12     \r",
        "Ezekiel 13     \r",
        "Ezekiel 14     \r",
        "Ezekiel 15     \r",
        "Ezekiel 16     \r",
        "Ezekiel 17     \r",
        "Ezekiel 18     \r",
        "Ezekiel 19     \r",
        "Ezekiel 20     "
       ]
      },
      {
       "output_type": "stream",
       "stream": "stderr",
       "text": [
        "\r",
        "Ezekiel 21     \r",
        "Ezekiel 22     \r",
        "Ezekiel 23     \r",
        "Ezekiel 24     \r",
        "Ezekiel 25     \r",
        "Ezekiel 26     \r",
        "Ezekiel 27     \r",
        "Ezekiel 28     \r",
        "Ezekiel 29     \r",
        "Ezekiel 30     \r",
        "Ezekiel 31     \r",
        "Ezekiel 32     \r",
        "Ezekiel 33     \r",
        "Ezekiel 34     \r",
        "Ezekiel 35     \r",
        "Ezekiel 36     \r",
        "Ezekiel 37     \r",
        "Ezekiel 38     \r",
        "Ezekiel 39     \r",
        "Ezekiel 40     \r",
        "Ezekiel 41     "
       ]
      },
      {
       "output_type": "stream",
       "stream": "stderr",
       "text": [
        "\r",
        "Ezekiel 42     \r",
        "Ezekiel 43     \r",
        "Ezekiel 44     \r",
        "Ezekiel 45     \r",
        "Ezekiel 46     \r",
        "Ezekiel 47     \r",
        "Ezekiel 48     \r",
        "Hosea 1        \r",
        "Hosea 2        \r",
        "Hosea 3        \r",
        "Hosea 4        \r",
        "Hosea 5        \r",
        "Hosea 6        \r",
        "Hosea 7        \r",
        "Hosea 8        \r",
        "Hosea 9        \r",
        "Hosea 10       \r",
        "Hosea 11       \r",
        "Hosea 12       \r",
        "Hosea 13       \r",
        "Hosea 14       \r",
        "Joel 1         \r",
        "Joel 2         \r",
        "Joel 3         \r",
        "Joel 4         \r",
        "Amos 1         \r",
        "Amos 2         \r",
        "Amos 3         \r",
        "Amos 4         \r",
        "Amos 5         \r",
        "Amos 6         \r",
        "Amos 7         \r",
        "Amos 8         \r",
        "Amos 9         \r",
        "Obadiah 1      \r",
        "Jonah 1        "
       ]
      },
      {
       "output_type": "stream",
       "stream": "stderr",
       "text": [
        "\r",
        "Jonah 2        \r",
        "Jonah 3        \r",
        "Jonah 4        \r",
        "Micah 1        \r",
        "Micah 2        \r",
        "Micah 3        \r",
        "Micah 4        \r",
        "Micah 5        \r",
        "Micah 6        \r",
        "Micah 7        \r",
        "Nahum 1        \r",
        "Nahum 2        \r",
        "Nahum 3        \r",
        "Habakkuk 1     \r",
        "Habakkuk 2     \r",
        "Habakkuk 3     \r",
        "Zephaniah 1    \r",
        "Zephaniah 2    \r",
        "Zephaniah 3    \r",
        "Haggai 1       \r",
        "Haggai 2       \r",
        "Zechariah 1    \r",
        "Zechariah 2    \r",
        "Zechariah 3    \r",
        "Zechariah 4    \r",
        "Zechariah 5    \r",
        "Zechariah 6    \r",
        "Zechariah 7    \r",
        "Zechariah 8    \r",
        "Zechariah 9    \r",
        "Zechariah 10   \r",
        "Zechariah 11   \r",
        "Zechariah 12   \r",
        "Zechariah 13   \r",
        "Zechariah 14   \r",
        "Malachi 1      \r",
        "Malachi 2      \r",
        "Malachi 3      "
       ]
      },
      {
       "output_type": "stream",
       "stream": "stderr",
       "text": [
        "\r",
        "Psalms 1       \r",
        "Psalms 2       \r",
        "Psalms 3       \r",
        "Psalms 4       \r",
        "Psalms 5       \r",
        "Psalms 6       \r",
        "Psalms 7       \r",
        "Psalms 8       \r",
        "Psalms 9       \r",
        "Psalms 10      \r",
        "Psalms 11      \r",
        "Psalms 12      \r",
        "Psalms 13      \r",
        "Psalms 14      \r",
        "Psalms 15      \r",
        "Psalms 16      \r",
        "Psalms 17      \r",
        "Psalms 18      \r",
        "Psalms 19      \r",
        "Psalms 20      \r",
        "Psalms 21      \r",
        "Psalms 22      \r",
        "Psalms 23      \r",
        "Psalms 24      \r",
        "Psalms 25      \r",
        "Psalms 26      \r",
        "Psalms 27      \r",
        "Psalms 28      \r",
        "Psalms 29      \r",
        "Psalms 30      \r",
        "Psalms 31      \r",
        "Psalms 32      \r",
        "Psalms 33      \r",
        "Psalms 34      \r",
        "Psalms 35      \r",
        "Psalms 36      \r",
        "Psalms 37      \r",
        "Psalms 38      \r",
        "Psalms 39      \r",
        "Psalms 40      \r",
        "Psalms 41      \r",
        "Psalms 42      \r",
        "Psalms 43      \r",
        "Psalms 44      \r",
        "Psalms 45      \r",
        "Psalms 46      \r",
        "Psalms 47      \r",
        "Psalms 48      \r",
        "Psalms 49      \r",
        "Psalms 50      \r",
        "Psalms 51      \r",
        "Psalms 52      \r",
        "Psalms 53      \r",
        "Psalms 54      \r",
        "Psalms 55      \r",
        "Psalms 56      \r",
        "Psalms 57      \r",
        "Psalms 58      "
       ]
      },
      {
       "output_type": "stream",
       "stream": "stderr",
       "text": [
        "\r",
        "Psalms 59      \r",
        "Psalms 60      \r",
        "Psalms 61      \r",
        "Psalms 62      \r",
        "Psalms 63      \r",
        "Psalms 64      \r",
        "Psalms 65      \r",
        "Psalms 66      \r",
        "Psalms 67      \r",
        "Psalms 68      \r",
        "Psalms 69      \r",
        "Psalms 70      \r",
        "Psalms 71      \r",
        "Psalms 72      \r",
        "Psalms 73      \r",
        "Psalms 74      \r",
        "Psalms 75      \r",
        "Psalms 76      \r",
        "Psalms 77      \r",
        "Psalms 78      \r",
        "Psalms 79      \r",
        "Psalms 80      \r",
        "Psalms 81      \r",
        "Psalms 82      \r",
        "Psalms 83      \r",
        "Psalms 84      \r",
        "Psalms 85      \r",
        "Psalms 86      \r",
        "Psalms 87      \r",
        "Psalms 88      \r",
        "Psalms 89      \r",
        "Psalms 90      \r",
        "Psalms 91      \r",
        "Psalms 92      \r",
        "Psalms 93      \r",
        "Psalms 94      \r",
        "Psalms 95      \r",
        "Psalms 96      \r",
        "Psalms 97      \r",
        "Psalms 98      \r",
        "Psalms 99      \r",
        "Psalms 100     \r",
        "Psalms 101     \r",
        "Psalms 102     \r",
        "Psalms 103     \r",
        "Psalms 104     \r",
        "Psalms 105     \r",
        "Psalms 106     \r",
        "Psalms 107     \r",
        "Psalms 108     \r",
        "Psalms 109     \r",
        "Psalms 110     "
       ]
      },
      {
       "output_type": "stream",
       "stream": "stderr",
       "text": [
        "\r",
        "Psalms 111     \r",
        "Psalms 112     \r",
        "Psalms 113     \r",
        "Psalms 114     \r",
        "Psalms 115     \r",
        "Psalms 116     \r",
        "Psalms 117     \r",
        "Psalms 118     \r",
        "Psalms 119     \r",
        "Psalms 120     \r",
        "Psalms 121     \r",
        "Psalms 122     \r",
        "Psalms 123     \r",
        "Psalms 124     \r",
        "Psalms 125     \r",
        "Psalms 126     \r",
        "Psalms 127     \r",
        "Psalms 128     \r",
        "Psalms 129     \r",
        "Psalms 130     \r",
        "Psalms 131     \r",
        "Psalms 132     \r",
        "Psalms 133     \r",
        "Psalms 134     \r",
        "Psalms 135     \r",
        "Psalms 136     \r",
        "Psalms 137     \r",
        "Psalms 138     \r",
        "Psalms 139     \r",
        "Psalms 140     \r",
        "Psalms 141     \r",
        "Psalms 142     \r",
        "Psalms 143     \r",
        "Psalms 144     \r",
        "Psalms 145     \r",
        "Psalms 146     \r",
        "Psalms 147     \r",
        "Psalms 148     \r",
        "Psalms 149     \r",
        "Psalms 150     \r",
        "Job 1          \r",
        "Job 2          \r",
        "Job 3          \r",
        "Job 4          \r",
        "Job 5          \r",
        "Job 6          \r",
        "Job 7          \r",
        "Job 8          \r",
        "Job 9          \r",
        "Job 10         \r",
        "Job 11         \r",
        "Job 12         \r",
        "Job 13         \r",
        "Job 14         \r",
        "Job 15         \r",
        "Job 16         \r",
        "Job 17         \r",
        "Job 18         \r",
        "Job 19         "
       ]
      },
      {
       "output_type": "stream",
       "stream": "stderr",
       "text": [
        "\r",
        "Job 20         \r",
        "Job 21         \r",
        "Job 22         \r",
        "Job 23         \r",
        "Job 24         \r",
        "Job 25         \r",
        "Job 26         \r",
        "Job 27         \r",
        "Job 28         \r",
        "Job 29         \r",
        "Job 30         \r",
        "Job 31         \r",
        "Job 32         \r",
        "Job 33         \r",
        "Job 34         \r",
        "Job 35         \r",
        "Job 36         \r",
        "Job 37         \r",
        "Job 38         \r",
        "Job 39         \r",
        "Job 40         \r",
        "Job 41         \r",
        "Job 42         \r",
        "Proverbs 1     \r",
        "Proverbs 2     \r",
        "Proverbs 3     \r",
        "Proverbs 4     \r",
        "Proverbs 5     \r",
        "Proverbs 6     \r",
        "Proverbs 7     \r",
        "Proverbs 8     \r",
        "Proverbs 9     \r",
        "Proverbs 10    \r",
        "Proverbs 11    \r",
        "Proverbs 12    \r",
        "Proverbs 13    \r",
        "Proverbs 14    \r",
        "Proverbs 15    \r",
        "Proverbs 16    \r",
        "Proverbs 17    "
       ]
      },
      {
       "output_type": "stream",
       "stream": "stderr",
       "text": [
        "\r",
        "Proverbs 18    \r",
        "Proverbs 19    \r",
        "Proverbs 20    \r",
        "Proverbs 21    \r",
        "Proverbs 22    \r",
        "Proverbs 23    \r",
        "Proverbs 24    \r",
        "Proverbs 25    \r",
        "Proverbs 26    \r",
        "Proverbs 27    \r",
        "Proverbs 28    \r",
        "Proverbs 29    \r",
        "Proverbs 30    \r",
        "Proverbs 31    \r",
        "Ruth 1         \r",
        "Ruth 2         \r",
        "Ruth 3         \r",
        "Ruth 4         \r",
        "Canticles 1    \r",
        "Canticles 2    \r",
        "Canticles 3    \r",
        "Canticles 4    \r",
        "Canticles 5    \r",
        "Canticles 6    \r",
        "Canticles 7    \r",
        "Canticles 8    \r",
        "Ecclesiastes 1 \r",
        "Ecclesiastes 2 \r",
        "Ecclesiastes 3 \r",
        "Ecclesiastes 4 \r",
        "Ecclesiastes 5 \r",
        "Ecclesiastes 6 \r",
        "Ecclesiastes 7 \r",
        "Ecclesiastes 8 \r",
        "Ecclesiastes 9 \r",
        "Ecclesiastes 10"
       ]
      },
      {
       "output_type": "stream",
       "stream": "stderr",
       "text": [
        "\r",
        "Ecclesiastes 11\r",
        "Ecclesiastes 12\r",
        "Lamentations 1 \r",
        "Lamentations 2 \r",
        "Lamentations 3 \r",
        "Lamentations 4 \r",
        "Lamentations 5 \r",
        "Esther 1       \r",
        "Esther 2       \r",
        "Esther 3       \r",
        "Esther 4       \r",
        "Esther 5       \r",
        "Esther 6       \r",
        "Esther 7       \r",
        "Esther 8       \r",
        "Esther 9       \r",
        "Esther 10      \r",
        "Daniel 1       \r",
        "Daniel 2       \r",
        "Daniel 3       \r",
        "Daniel 4       \r",
        "Daniel 5       \r",
        "Daniel 6       \r",
        "Daniel 7       \r",
        "Daniel 8       "
       ]
      },
      {
       "output_type": "stream",
       "stream": "stderr",
       "text": [
        "\r",
        "Daniel 9       \r",
        "Daniel 10      \r",
        "Daniel 11      \r",
        "Daniel 12      \r",
        "Ezra 1         \r",
        "Ezra 2         \r",
        "Ezra 3         \r",
        "Ezra 4         \r",
        "Ezra 5         \r",
        "Ezra 6         \r",
        "Ezra 7         \r",
        "Ezra 8         \r",
        "Ezra 9         \r",
        "Ezra 10        \r",
        "Nehemiah 1     \r",
        "Nehemiah 2     \r",
        "Nehemiah 3     \r",
        "Nehemiah 4     \r",
        "Nehemiah 5     \r",
        "Nehemiah 6     \r",
        "Nehemiah 7     "
       ]
      },
      {
       "output_type": "stream",
       "stream": "stderr",
       "text": [
        "\r",
        "Nehemiah 8     \r",
        "Nehemiah 9     \r",
        "Nehemiah 10    \r",
        "Nehemiah 11    \r",
        "Nehemiah 12    \r",
        "Nehemiah 13    \r",
        "I_Chronicles 1 \r",
        "I_Chronicles 2 \r",
        "I_Chronicles 3 \r",
        "I_Chronicles 4 \r",
        "I_Chronicles 5 \r",
        "I_Chronicles 6 \r",
        "I_Chronicles 7 \r",
        "I_Chronicles 8 \r",
        "I_Chronicles 9 \r",
        "I_Chronicles 10\r",
        "I_Chronicles 11\r",
        "I_Chronicles 12\r",
        "I_Chronicles 13\r",
        "I_Chronicles 14\r",
        "I_Chronicles 15\r",
        "I_Chronicles 16"
       ]
      },
      {
       "output_type": "stream",
       "stream": "stderr",
       "text": [
        "\r",
        "I_Chronicles 17\r",
        "I_Chronicles 18\r",
        "I_Chronicles 19\r",
        "I_Chronicles 20\r",
        "I_Chronicles 21\r",
        "I_Chronicles 22\r",
        "I_Chronicles 23\r",
        "I_Chronicles 24\r",
        "I_Chronicles 25\r",
        "I_Chronicles 26\r",
        "I_Chronicles 27\r",
        "I_Chronicles 28\r",
        "I_Chronicles 29\r",
        "II_Chronicles 1\r",
        "II_Chronicles 2\r",
        "II_Chronicles 3\r",
        "II_Chronicles 4\r",
        "II_Chronicles 5\r",
        "II_Chronicles 6\r",
        "II_Chronicles 7\r",
        "II_Chronicles 8\r",
        "II_Chronicles 9\r",
        "II_Chronicles 10\r",
        "II_Chronicles 11\r",
        "II_Chronicles 12"
       ]
      },
      {
       "output_type": "stream",
       "stream": "stderr",
       "text": [
        "\r",
        "II_Chronicles 13\r",
        "II_Chronicles 14\r",
        "II_Chronicles 15\r",
        "II_Chronicles 16\r",
        "II_Chronicles 17\r",
        "II_Chronicles 18\r",
        "II_Chronicles 19\r",
        "II_Chronicles 20\r",
        "II_Chronicles 21\r",
        "II_Chronicles 22\r",
        "II_Chronicles 23\r",
        "II_Chronicles 24\r",
        "II_Chronicles 25\r",
        "II_Chronicles 26\r",
        "II_Chronicles 27\r",
        "II_Chronicles 28\r",
        "II_Chronicles 29\r",
        "II_Chronicles 30\r",
        "II_Chronicles 31\r",
        "II_Chronicles 32\r",
        "II_Chronicles 33\r",
        "II_Chronicles 34\r",
        "II_Chronicles 35"
       ]
      },
      {
       "output_type": "stream",
       "stream": "stderr",
       "text": [
        "\r",
        "II_Chronicles 36"
       ]
      }
     ],
     "prompt_number": 31
    },
    {
     "cell_type": "heading",
     "level": 1,
     "metadata": {},
     "source": [
      "5. Closing"
     ]
    },
    {
     "cell_type": "markdown",
     "metadata": {},
     "source": [
      "We need to close open files."
     ]
    },
    {
     "cell_type": "code",
     "collapsed": false,
     "input": [
      "table.close()\n",
      "processor.final()"
     ],
     "language": "python",
     "metadata": {},
     "outputs": [
      {
       "output_type": "stream",
       "stream": "stdout",
       "text": [
        "10m 13s END TASK gender\n"
       ]
      },
      {
       "output_type": "stream",
       "stream": "stdout",
       "text": [
        "10m 13s \n",
        "total 200\n",
        "-rw-r--r--@ 1 dirk  staff    75K  7 nov 16:53 Gender.pdf\n",
        "-rw-r--r--  1 dirk  staff   434B 14 jan 14:00 __log__gender.txt\n",
        "-rw-r--r--  1 dirk  staff    19K 13 jan 12:19 stats.txt\n",
        "\n"
       ]
      },
      {
       "output_type": "stream",
       "stream": "stdout",
       "text": [
        "10m 13s \n",
        "100K\t/Users/dirk/Scratch/shebanq/results/db/bhs3.txt.hdr/gender\n",
        "\n"
       ]
      }
     ],
     "prompt_number": 32
    },
    {
     "cell_type": "heading",
     "level": 1,
     "metadata": {},
     "source": [
      "6. Showing off"
     ]
    },
    {
     "cell_type": "markdown",
     "metadata": {},
     "source": [
      "Everything is still in memory. Now it is the time to generate a graphical representation of the data. \n",
      "But let us first have a look at a few rows of the data itself."
     ]
    },
    {
     "cell_type": "code",
     "collapsed": false,
     "input": [
      "import pandas\n",
      "from IPython.display import display\n",
      "pandas.set_option('display.notebook_repr_html', True)"
     ],
     "language": "python",
     "metadata": {},
     "outputs": [],
     "prompt_number": 33
    },
    {
     "cell_type": "code",
     "collapsed": false,
     "input": [
      "df = pandas.read_csv('table.tsv')"
     ],
     "language": "python",
     "metadata": {},
     "outputs": [],
     "prompt_number": 34
    },
    {
     "cell_type": "code",
     "collapsed": false,
     "input": [
      "df.head(10)"
     ],
     "language": "python",
     "metadata": {},
     "outputs": [
      {
       "html": [
        "<div style=\"max-height:1000px;max-width:1500px;overflow:auto;\">\n",
        "<table border=\"1\" class=\"dataframe\">\n",
        "  <thead>\n",
        "    <tr style=\"text-align: right;\">\n",
        "      <th></th>\n",
        "      <th>book chapter</th>\n",
        "      <th>masculine</th>\n",
        "      <th>feminine</th>\n",
        "    </tr>\n",
        "  </thead>\n",
        "  <tbody>\n",
        "    <tr>\n",
        "      <th>0</th>\n",
        "      <td>  Genesis 1</td>\n",
        "      <td> 22.882615</td>\n",
        "      <td>  5.200594</td>\n",
        "    </tr>\n",
        "    <tr>\n",
        "      <th>1</th>\n",
        "      <td>  Genesis 2</td>\n",
        "      <td> 19.230769</td>\n",
        "      <td>  6.477733</td>\n",
        "    </tr>\n",
        "    <tr>\n",
        "      <th>2</th>\n",
        "      <td>  Genesis 3</td>\n",
        "      <td> 20.641283</td>\n",
        "      <td>  9.018036</td>\n",
        "    </tr>\n",
        "    <tr>\n",
        "      <th>3</th>\n",
        "      <td>  Genesis 4</td>\n",
        "      <td> 32.008830</td>\n",
        "      <td> 11.037528</td>\n",
        "    </tr>\n",
        "    <tr>\n",
        "      <th>4</th>\n",
        "      <td>  Genesis 5</td>\n",
        "      <td> 36.590437</td>\n",
        "      <td> 17.879418</td>\n",
        "    </tr>\n",
        "    <tr>\n",
        "      <th>5</th>\n",
        "      <td>  Genesis 6</td>\n",
        "      <td> 22.654462</td>\n",
        "      <td>  8.695652</td>\n",
        "    </tr>\n",
        "    <tr>\n",
        "      <th>6</th>\n",
        "      <td>  Genesis 7</td>\n",
        "      <td> 18.774704</td>\n",
        "      <td> 10.671937</td>\n",
        "    </tr>\n",
        "    <tr>\n",
        "      <th>7</th>\n",
        "      <td>  Genesis 8</td>\n",
        "      <td> 16.666667</td>\n",
        "      <td>  8.943089</td>\n",
        "    </tr>\n",
        "    <tr>\n",
        "      <th>8</th>\n",
        "      <td>  Genesis 9</td>\n",
        "      <td> 19.880716</td>\n",
        "      <td>  6.759443</td>\n",
        "    </tr>\n",
        "    <tr>\n",
        "      <th>9</th>\n",
        "      <td> Genesis 10</td>\n",
        "      <td> 22.014052</td>\n",
        "      <td>  4.449649</td>\n",
        "    </tr>\n",
        "  </tbody>\n",
        "</table>\n",
        "</div>"
       ],
       "metadata": {},
       "output_type": "pyout",
       "prompt_number": 53,
       "text": [
        "  book chapter  masculine   feminine\n",
        "0    Genesis 1  22.882615   5.200594\n",
        "1    Genesis 2  19.230769   6.477733\n",
        "2    Genesis 3  20.641283   9.018036\n",
        "3    Genesis 4  32.008830  11.037528\n",
        "4    Genesis 5  36.590437  17.879418\n",
        "5    Genesis 6  22.654462   8.695652\n",
        "6    Genesis 7  18.774704  10.671937\n",
        "7    Genesis 8  16.666667   8.943089\n",
        "8    Genesis 9  19.880716   6.759443\n",
        "9   Genesis 10  22.014052   4.449649"
       ]
      }
     ],
     "prompt_number": 53
    },
    {
     "cell_type": "code",
     "collapsed": false,
     "input": [
      "df.*?"
     ],
     "language": "python",
     "metadata": {},
     "outputs": [],
     "prompt_number": 58
    },
    {
     "cell_type": "markdown",
     "metadata": {},
     "source": [
      "The *matplotlib* is full of instruments to do that, here we just show a line graph of 20 chapters.\n",
      "\n",
      "If you want to see another series of chapters, just modify the *start* and *end* variables below and execute again by pressing *Shift Enter*. You can repeat this as often as you like without re-running earlier steps."
     ]
    },
    {
     "cell_type": "code",
     "collapsed": false,
     "input": [
      "x = range(len(ch))\n",
      "start = 500\n",
      "end = 520\n",
      "fig = plt.figure()\n",
      "plt.plot(x[start:end], m[start:end], 'b-', x[start:end], f[start:end], 'r-')\n",
      "plt.axis([start, end, 0, 50])\n",
      "plt.xticks(x[start:end], ch[start:end], rotation='vertical')\n",
      "plt.margins(0.2)\n",
      "plt.subplots_adjust(bottom=0.15);\n",
      "plt.title('gender');"
     ],
     "language": "python",
     "metadata": {},
     "outputs": [
      {
       "metadata": {},
       "output_type": "display_data",
       "png": "[encoded data removed]",
       "text": [
        "<matplotlib.figure.Figure at 0x12763c1d0>"
       ]
      }
     ],
     "prompt_number": 7
    },
    {
     "cell_type": "markdown",
     "metadata": {},
     "source": [
      "Note the chapters where the feminine words dominate the masculine words: Leviticus 12 and 18."
     ]
    }
   ],
   "metadata": {}
  }
 ]
}