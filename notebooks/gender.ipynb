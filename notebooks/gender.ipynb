{
 "metadata": {
  "name": ""
 },
 "nbformat": 3,
 "nbformat_minor": 0,
 "worksheets": [
  {
   "cells": [
    {
     "cell_type": "markdown",
     "metadata": {},
     "source": [
      "<a href=\"http://laf-fabric.readthedocs.org/en/latest/\" target=\"_blank\"><img src=\"files/laf-fabric-small.png\"/></a>\n",
      "<a href=\"http://www.dans.knaw.nl\" target=\"_blank\"><img src=\"files/DANS-small.png\"/></a>\n",
      "<a href=\"http://tla.mpi.nl\" target=\"_blank\"><img src=\"files/TLA-small.png\"/></a>\n",
      "<a href=\"http://www.godgeleerdheid.vu.nl/etcbc\" target=\"_blank\"><img src=\"files/VU-ETCBC-small.png\"/></a>"
     ]
    },
    {
     "cell_type": "heading",
     "level": 1,
     "metadata": {},
     "source": [
      "Gender in the Hebrew Bible"
     ]
    },
    {
     "cell_type": "markdown",
     "metadata": {},
     "source": [
      "This task extracts a table from the Hebrew Bible data. Each row specifies a chapter and has the percentage of masculine and feminine words in that chapter."
     ]
    },
    {
     "cell_type": "heading",
     "level": 1,
     "metadata": {},
     "source": [
      "0. About this notebook"
     ]
    },
    {
     "cell_type": "markdown",
     "metadata": {},
     "source": [
      "This notebook illustrates the working of LAF-Fabric, a tool to analyze the data inside *LAF* resources (Linguistic Annotation Framework). We use it for a particular LAF resource: the Hebrew Bible with linguistic annotations. The software to get the Hebrew Bible in LAF and the LAF-Fabric are on github and are documented here: [WIVU2LAF](http://wivu2laf.readthedocs.org) and [LAF-Fabric](http://laf-fabric.readthedocs.org). There you can find more information on the provenance of the data.\n",
      "\n",
      "> **NB 1.** This is a static copy of the Gender notebook. You can download it, and if you have iPython installed and the LAF-Fabric, then you can run this notebook. And you can create many more notebooks like this, looking for patterns in the Hebrew Bible.\n",
      "\n",
      "> **NB 2.** All software involved is open source, but the data is not freely available. We are working on a version of the data that may be distributed freely.\n",
      "If you are seriously interested in working with this tool, we can grant you non-commercial access to the data. Just drop a mail to [Wido van Peursen](mailto:w.t.van.peursen@vu.nl) or [Dirk Roorda](mailto:dirk.roorda@dans.knaw.nl)."
     ]
    },
    {
     "cell_type": "heading",
     "level": 1,
     "metadata": {},
     "source": [
      "1. Importing"
     ]
    },
    {
     "cell_type": "markdown",
     "metadata": {},
     "source": [
      "The next cell loads the required libraries and creates a task processor.\n",
      "\n",
      "Note the *matplotlib*, this is the one that can draw a chart based on a table.\n",
      "In order to show the chart withib this page, we issue a magic command (%matplotlib inline).\n",
      "\n",
      "The Notebook class in *laf.notebook* implements a LAF-Fabric task processor."
     ]
    },
    {
     "cell_type": "code",
     "collapsed": false,
     "input": [
      "import sys\n",
      "import collections\n",
      "import matplotlib.pyplot as plt\n",
      "import laf\n",
      "from laf.notebook import Notebook\n",
      "processor = Notebook()"
     ],
     "language": "python",
     "metadata": {},
     "outputs": [],
     "prompt_number": 1
    },
    {
     "cell_type": "heading",
     "level": 1,
     "metadata": {},
     "source": [
      "2. Loading"
     ]
    },
    {
     "cell_type": "markdown",
     "metadata": {},
     "source": [
      "The processor needs data. Here is where we say what data to load. We do not need the XML identifiers as they show up in the original LAF resource. But we do need a few features of nodes, namely the ones that give us the gender of the words, and the numbers of the chapters and the books in which the chapters are contained.\n",
      "\n",
      "The *init* function actually draws that data in, and it will take a few seconds. It needs to know the name of the LAF header file (in fact the *GrAF* header file).\n",
      "The '--' means that we do not draw in an extra annotation package. If you want to do that, this is the place to give the name of such a package.\n",
      "\n",
      "Then *gender* is just a name we choose to give to this task. This name determines where on the filesystem the log file and output (if any) will be put."
     ]
    },
    {
     "cell_type": "code",
     "collapsed": false,
     "input": [
      "processor.init('bhs3.txt.hdr', '--', 'gender', {\n",
      "    \"xmlids\": {\n",
      "        \"node\": False,\n",
      "        \"edge\": False,\n",
      "    },\n",
      "    \"features\": {\n",
      "        \"shebanq\": {\n",
      "            \"node\": [\n",
      "                \"db.otype\",\n",
      "                \"ft.gender\",\n",
      "                \"sft.chapter,book\",\n",
      "            ],\n",
      "            \"edge\": [\n",
      "            ],\n",
      "        },\n",
      "    },\n",
      "})"
     ],
     "language": "python",
     "metadata": {},
     "outputs": [
      {
       "output_type": "stream",
       "stream": "stderr",
       "text": [
        "  0.00s COMPILING source: UP TO DATE\n"
       ]
      },
      {
       "output_type": "stream",
       "stream": "stderr",
       "text": [
        "  0.00s COMPILING annox: UP TO DATE\n"
       ]
      },
      {
       "output_type": "stream",
       "stream": "stderr",
       "text": [
        "  0.10s loading common: node_anchor_min ... \n"
       ]
      },
      {
       "output_type": "stream",
       "stream": "stderr",
       "text": [
        "  0.87s loading common: node_anchor_max ... \n"
       ]
      },
      {
       "output_type": "stream",
       "stream": "stderr",
       "text": [
        "  0.99s loading common: node_events ... \n"
       ]
      },
      {
       "output_type": "stream",
       "stream": "stderr",
       "text": [
        "  1.87s loading common: node_events_n ... \n"
       ]
      },
      {
       "output_type": "stream",
       "stream": "stderr",
       "text": [
        "  2.26s loading common: node_events_k ... \n"
       ]
      },
      {
       "output_type": "stream",
       "stream": "stderr",
       "text": [
        "  2.50s loading common: node_sort ... \n"
       ]
      },
      {
       "output_type": "stream",
       "stream": "stderr",
       "text": [
        "  2.62s loading common: node_out ... \n"
       ]
      },
      {
       "output_type": "stream",
       "stream": "stderr",
       "text": [
        "  2.90s loading common: node_in ... \n"
       ]
      },
      {
       "output_type": "stream",
       "stream": "stderr",
       "text": [
        "  3.20s loading common: edges_from ... \n"
       ]
      },
      {
       "output_type": "stream",
       "stream": "stderr",
       "text": [
        "  3.31s loading common: edges_to ... \n"
       ]
      },
      {
       "output_type": "stream",
       "stream": "stderr",
       "text": [
        "  3.42s loading feature: feature ('shebanq', 'db', 'otype', 'node') ... \n"
       ]
      },
      {
       "output_type": "stream",
       "stream": "stderr",
       "text": [
        "  4.44s loading feature: feature ('shebanq', 'ft', 'gender', 'node') ... \n"
       ]
      },
      {
       "output_type": "stream",
       "stream": "stderr",
       "text": [
        "  4.75s loading feature: feature ('shebanq', 'sft', 'chapter', 'node') ... \n"
       ]
      },
      {
       "output_type": "stream",
       "stream": "stderr",
       "text": [
        "  4.77s loading feature: feature ('shebanq', 'sft', 'book', 'node') ... \n"
       ]
      },
      {
       "output_type": "stream",
       "stream": "stderr",
       "text": [
        "  4.79s loading annox: xfeature ('shebanq', 'db', 'otype', 'node') ... \n"
       ]
      },
      {
       "output_type": "stream",
       "stream": "stderr",
       "text": [
        "  4.79s loading annox: xfeature ('shebanq', 'ft', 'gender', 'node') ... \n"
       ]
      },
      {
       "output_type": "stream",
       "stream": "stderr",
       "text": [
        "  4.79s loading annox: xfeature ('shebanq', 'sft', 'chapter', 'node') ... \n"
       ]
      },
      {
       "output_type": "stream",
       "stream": "stderr",
       "text": [
        "  4.79s loading annox: xfeature ('shebanq', 'sft', 'book', 'node') ... \n"
       ]
      },
      {
       "output_type": "stream",
       "stream": "stderr",
       "text": [
        "  5.48s present feature: shebanq:db.otype (node) from annox --, source bhs3.txt.hdr\n"
       ]
      },
      {
       "output_type": "stream",
       "stream": "stderr",
       "text": [
        "  5.48s present feature: shebanq:ft.gender (node) from annox --, source bhs3.txt.hdr\n"
       ]
      },
      {
       "output_type": "stream",
       "stream": "stderr",
       "text": [
        "  5.48s present feature: shebanq:sft.chapter (node) from annox --, source bhs3.txt.hdr\n"
       ]
      },
      {
       "output_type": "stream",
       "stream": "stderr",
       "text": [
        "  5.48s present feature: shebanq:sft.book (node) from annox --, source bhs3.txt.hdr\n"
       ]
      },
      {
       "output_type": "stream",
       "stream": "stderr",
       "text": [
        "  0.00s LOGFILE=/Users/dirk/Scratch/shebanq/results/bhs3.txt.hdr/gender/__log__gender.txt\n"
       ]
      },
      {
       "output_type": "stream",
       "stream": "stderr",
       "text": [
        "  0.00s BEGIN TASK=gender SOURCE=bhs3.txt.hdr\n"
       ]
      }
     ],
     "prompt_number": 2
    },
    {
     "cell_type": "heading",
     "level": 1,
     "metadata": {},
     "source": [
      "3. Naming"
     ]
    },
    {
     "cell_type": "markdown",
     "metadata": {},
     "source": [
      "The workbench provides us with some objects by which we can query for data. Here they are:\n",
      "\n",
      "### F\n",
      "All that you want to know about features and are not afraid to ask.\n",
      "It is an object, and for each feature that you have declared, it has a member\n",
      "with a handy name. For example, ``F.shebanq_db_otype`` is a feature object\n",
      "that corresponds with the LAF feature given in an annotation in the annotation space ``shebanq``,\n",
      "with label ``db`` and name ``otype``.\n",
      "It is a node feature, because otherwise the name had a \n",
      "``_e`` appended to it.\n",
      "You can look up a feature value of this feature, say for node ``n``,by saying:\n",
      "``F.shebanq_db_otype.v(n)``. \n",
      "\n",
      "### P(node)\n",
      "Your gateway to the primary data. For nodes *n* that are linked to the primary data by one or more regions,\n",
      "P(*n*) yields a set of chunks of primary data, corresponding with those regions.\n",
      "The chunks are maximal, non-overlapping, ordered according to the primary data.\n",
      "Every chunk is given as a tuple (*pos*, *text*), where *pos* is the position in the primary data where\n",
      "the start of *text* can be found, and *text* is the chunk of actual text that is specified by the region.\n",
      "The primary data is only available if you have specified in the *load* directives: \n",
      "``primary: True``\n",
      "\n",
      "### NN(test=function value=something)\n",
      "If you want to walk through all the nodes, possibly skipping some, then this is your method.\n",
      "It is an *iterator* that yields a new node everytime it is called.\n",
      "The order is so-called *primary data order*, which will be explained below.\n",
      "The ``test`` and ``value`` arguments are optional.\n",
      "If given, ``test`` should be a *callable* with one argument, returning a string;\n",
      "``value`` should be a string.\n",
      "``test`` will be called for each passing node,\n",
      "and if the value returned is not equal to the given ``value``,\n",
      "the node will be skipped.\n",
      "\n",
      "### X\n",
      "If you need to convert the integers that identify nodes and edges in the compiled data back to\n",
      "their original XML identifiers, you can do that with the *X* object.\n",
      "It has two members, ``X.node`` and ``X.edge``, which contain the separate mapping tables for\n",
      "nodes and edges. Both have two methods, corresponding to the direction of the translation:\n",
      "with ``X.node.i(\u00abxml id\u00bb)`` you get the corresponding number of a node, and with ``X.node.r(\u00abnumber\u00bb)``\n",
      "you get the original XML id by which the node was identified in the LAF resource."
     ]
    },
    {
     "cell_type": "code",
     "collapsed": false,
     "input": [
      "API = processor.API()\n",
      "F = API['F']\n",
      "NN = API['NN']"
     ],
     "language": "python",
     "metadata": {},
     "outputs": [],
     "prompt_number": 3
    },
    {
     "cell_type": "heading",
     "level": 1,
     "metadata": {},
     "source": [
      "4. Task Execution"
     ]
    },
    {
     "cell_type": "heading",
     "level": 2,
     "metadata": {},
     "source": [
      "4.2 Walking the nodes"
     ]
    },
    {
     "cell_type": "markdown",
     "metadata": {},
     "source": [
      "Here we loop over a bunch of nodes (in fact over all nodes), in a convenient document order.\n",
      "We initialize the counters in which we store the word counts.\n",
      "We keep track of the chapter we are in and accumulate counts of the words, masculine and feminine.\n",
      "For each chapter we create entries in the *ch*, *m* and *f* lists.\n",
      "\n",
      "Note also the progress messages after each chapter."
     ]
    },
    {
     "cell_type": "code",
     "collapsed": false,
     "input": [
      "stats = [0, 0, 0]\n",
      "cur_chapter = None\n",
      "cur_book = None\n",
      "ch = []\n",
      "m = []\n",
      "f = []\n",
      "table = processor.add_output('table.tsv')"
     ],
     "language": "python",
     "metadata": {},
     "outputs": [],
     "prompt_number": 4
    },
    {
     "cell_type": "code",
     "collapsed": false,
     "input": [
      "for node in NN():\n",
      "    otype = F.shebanq_db_otype.v(node)\n",
      "    if otype == \"word\":\n",
      "        stats[0] += 1\n",
      "        if F.shebanq_ft_gender.v(node) == \"masculine\":\n",
      "            stats[1] += 1\n",
      "        elif F.shebanq_ft_gender.v(node) == \"feminine\":\n",
      "            stats[2] += 1\n",
      "    elif otype == \"chapter\":\n",
      "        if cur_chapter != None:\n",
      "            masc = 0 if not stats[0] else 100 * float(stats[1]) / stats[0]\n",
      "            fem = 0 if not stats[0] else 100 * float(stats[2]) / stats[0]\n",
      "            ch.append(cur_chapter)\n",
      "            m.append(masc)\n",
      "            f.append(fem)\n",
      "            table.write(\"{},{},{}\\n\".format(cur_chapter, masc, fem))\n",
      "        else:\n",
      "            table.write(\"{},{},{}\\n\".format('book chapter', 'masculine', 'feminine'))\n",
      "        this_book = F.shebanq_sft_book.v(node)\n",
      "        this_chapnum = F.shebanq_sft_chapter.v(node)\n",
      "        this_chapter = \"{} {}\".format(this_book, this_chapnum)\n",
      "        if this_book != cur_book:\n",
      "            sys.stderr.write(\"\\n{}\".format(this_book))\n",
      "            cur_book = this_book\n",
      "        sys.stderr.write(\" {}\".format(this_chapnum))\n",
      "        stats = [0, 0, 0]\n",
      "        cur_chapter = this_chapter"
     ],
     "language": "python",
     "metadata": {},
     "outputs": [
      {
       "output_type": "stream",
       "stream": "stderr",
       "text": [
        "\n",
        "Genesis 1 2 3 4 5 6 7 8 9 10 11 12 13 14 15 16 17 18 19 20 21 22 23 24 25"
       ]
      },
      {
       "output_type": "stream",
       "stream": "stderr",
       "text": [
        " 26 27 28 29 30 31 32 33 34 35 36 37 38 39 40 41 42 43 44"
       ]
      },
      {
       "output_type": "stream",
       "stream": "stderr",
       "text": [
        " 45 46 47 48 49 50\n",
        "Exodus 1 2 3 4 5 6 7 8 9 10 11 12"
       ]
      },
      {
       "output_type": "stream",
       "stream": "stderr",
       "text": [
        " 13 14 15 16 17 18 19 20 21 22 23 24 25 26 27 28 29 30 31 32 33 34"
       ]
      },
      {
       "output_type": "stream",
       "stream": "stderr",
       "text": [
        " 35 36 37 38 39 40\n",
        "Leviticus 1 2 3 4 5 6 7 8 9 10 11 12 13 14 15"
       ]
      },
      {
       "output_type": "stream",
       "stream": "stderr",
       "text": [
        " 16 17 18 19 20 21 22 23 24 25 26 27\n",
        "Numbers 1 2 3 4 5 6 7 8"
       ]
      },
      {
       "output_type": "stream",
       "stream": "stderr",
       "text": [
        " 9 10 11 12 13 14 15 16 17 18 19 20 21 22 23 24 25 26 27 28 29"
       ]
      },
      {
       "output_type": "stream",
       "stream": "stderr",
       "text": [
        " 30 31 32 33 34 35 36\n",
        "Deuteronomy 1 2 3 4 5 6 7 8 9 10 11 12 13 14 15 16"
       ]
      },
      {
       "output_type": "stream",
       "stream": "stderr",
       "text": [
        " 17 18 19 20 21 22 23 24 25 26 27 28 29 30 31 32 33 34\n",
        "Joshua 1 2 3 4 5 6"
       ]
      },
      {
       "output_type": "stream",
       "stream": "stderr",
       "text": [
        " 7 8 9 10 11 12 13 14 15 16 17 18 19 20 21 22 23 24\n",
        "Judges 1 2 3"
       ]
      },
      {
       "output_type": "stream",
       "stream": "stderr",
       "text": [
        " 4 5 6 7 8 9 10 11 12 13 14 15 16 17 18 19 20 21"
       ]
      },
      {
       "output_type": "stream",
       "stream": "stderr",
       "text": [
        "\n",
        "I_Samuel 1 2 3 4 5 6 7 8 9 10 11 12 13 14 15 16 17 18 19 20 21"
       ]
      },
      {
       "output_type": "stream",
       "stream": "stderr",
       "text": [
        " 22 23 24 25 26 27 28 29 30 31\n",
        "II_Samuel 1 2 3 4 5 6 7 8 9 10 11 12"
       ]
      },
      {
       "output_type": "stream",
       "stream": "stderr",
       "text": [
        " 13 14 15 16 17 18 19 20 21 22 23 24\n",
        "I_Kings 1 2 3 4 5 6"
       ]
      },
      {
       "output_type": "stream",
       "stream": "stderr",
       "text": [
        " 7 8 9 10 11 12 13 14 15 16 17 18 19 20 21 22\n",
        "II_Kings"
       ]
      },
      {
       "output_type": "stream",
       "stream": "stderr",
       "text": [
        " 1 2 3 4 5 6 7 8 9 10 11 12 13 14 15 16 17 18 19"
       ]
      },
      {
       "output_type": "stream",
       "stream": "stderr",
       "text": [
        " 20 21 22 23 24 25\n",
        "Isaiah 1 2 3 4 5 6 7 8 9 10 11 12 13 14 15 16 17 18 19 20 21 22 23 24 25 26 27"
       ]
      },
      {
       "output_type": "stream",
       "stream": "stderr",
       "text": [
        " 28 29 30 31 32 33 34 35 36 37 38 39 40 41 42 43 44 45 46 47 48 49 50 51 52 53 54 55 56 57 58"
       ]
      },
      {
       "output_type": "stream",
       "stream": "stderr",
       "text": [
        " 59 60 61 62 63 64 65 66\n",
        "Jeremiah 1 2 3 4 5 6 7 8 9 10 11 12 13 14 15 16 17"
       ]
      },
      {
       "output_type": "stream",
       "stream": "stderr",
       "text": [
        " 18 19 20 21 22 23 24 25 26 27 28 29 30 31 32 33 34 35 36 37"
       ]
      },
      {
       "output_type": "stream",
       "stream": "stderr",
       "text": [
        " 38 39 40 41 42 43 44 45 46 47 48 49 50 51 52\n",
        "Ezekiel 1 2 3 4 5 6 7 8"
       ]
      },
      {
       "output_type": "stream",
       "stream": "stderr",
       "text": [
        " 9 10 11 12 13 14 15 16 17 18 19 20 21 22 23 24 25 26 27 28 29"
       ]
      },
      {
       "output_type": "stream",
       "stream": "stderr",
       "text": [
        " 30 31 32 33 34 35 36 37 38 39 40 41 42 43 44 45 46 47 48\n",
        "Hosea 1 2 3"
       ]
      },
      {
       "output_type": "stream",
       "stream": "stderr",
       "text": [
        " 4 5 6 7 8 9 10 11 12 13 14\n",
        "Joel 1 2 3 4\n",
        "Amos 1 2 3 4 5 6 7 8 9\n",
        "Obadiah 1\n",
        "Jonah 1 2 3 4\n",
        "Micah 1 2 3 4 5 6 7\n",
        "Nahum 1 2 3\n",
        "Habakkuk 1 2"
       ]
      },
      {
       "output_type": "stream",
       "stream": "stderr",
       "text": [
        " 3\n",
        "Zephaniah 1 2 3\n",
        "Haggai 1 2\n",
        "Zechariah 1 2 3 4 5 6 7 8 9 10 11 12 13 14\n",
        "Malachi 1 2 3\n",
        "Psalms 1 2 3 4 5 6 7 8 9 10 11 12 13 14 15 16 17 18 19"
       ]
      },
      {
       "output_type": "stream",
       "stream": "stderr",
       "text": [
        " 20 21 22 23 24 25 26 27 28 29 30 31 32 33 34 35 36 37 38 39 40 41 42 43 44 45 46 47 48 49 50 51 52 53 54 55 56 57 58 59 60 61 62 63 64 65 66 67 68 69 70"
       ]
      },
      {
       "output_type": "stream",
       "stream": "stderr",
       "text": [
        " 71 72 73 74 75 76 77 78 79 80 81 82 83 84 85 86 87 88 89 90 91 92 93 94 95 96 97 98 99 100 101 102 103 104 105 106 107 108 109 110 111 112 113 114 115 116 117 118 119 120"
       ]
      },
      {
       "output_type": "stream",
       "stream": "stderr",
       "text": [
        " 121 122 123 124 125 126 127 128 129 130 131 132 133 134 135 136 137 138 139 140 141 142 143 144 145 146 147 148 149 150\n",
        "Job 1 2 3 4 5 6 7 8 9 10 11 12 13 14 15 16"
       ]
      },
      {
       "output_type": "stream",
       "stream": "stderr",
       "text": [
        " 17 18 19 20 21 22 23 24 25 26 27 28 29 30 31 32 33 34 35 36 37 38 39 40 41 42\n",
        "Proverbs 1 2"
       ]
      },
      {
       "output_type": "stream",
       "stream": "stderr",
       "text": [
        " 3 4 5 6 7 8 9 10 11 12 13 14 15 16 17 18 19 20 21 22 23 24 25 26 27"
       ]
      },
      {
       "output_type": "stream",
       "stream": "stderr",
       "text": [
        " 28 29 30 31\n",
        "Ruth 1 2 3 4\n",
        "Canticles 1 2 3 4 5 6 7 8\n",
        "Ecclesiastes 1 2 3 4 5 6 7 8 9 10"
       ]
      },
      {
       "output_type": "stream",
       "stream": "stderr",
       "text": [
        " 11 12\n",
        "Lamentations 1 2 3 4 5\n",
        "Esther 1 2 3 4 5 6 7 8 9 10\n",
        "Daniel 1 2 3"
       ]
      },
      {
       "output_type": "stream",
       "stream": "stderr",
       "text": [
        " 4 5 6 7 8 9 10 11 12\n",
        "Ezra 1 2 3 4 5 6"
       ]
      },
      {
       "output_type": "stream",
       "stream": "stderr",
       "text": [
        " 7 8 9 10\n",
        "Nehemiah 1 2 3 4 5 6 7 8 9 10 11 12 13"
       ]
      },
      {
       "output_type": "stream",
       "stream": "stderr",
       "text": [
        "\n",
        "I_Chronicles 1 2 3 4 5 6 7 8 9 10 11 12 13 14 15 16 17"
       ]
      },
      {
       "output_type": "stream",
       "stream": "stderr",
       "text": [
        " 18 19 20 21 22 23 24 25 26 27 28 29\n",
        "II_Chronicles 1 2 3 4 5 6 7 8 9 10 11"
       ]
      },
      {
       "output_type": "stream",
       "stream": "stderr",
       "text": [
        " 12 13 14 15 16 17 18 19 20 21 22 23 24 25 26 27 28 29 30 31 32"
       ]
      },
      {
       "output_type": "stream",
       "stream": "stderr",
       "text": [
        " 33 34 35 36"
       ]
      }
     ],
     "prompt_number": 5
    },
    {
     "cell_type": "heading",
     "level": 1,
     "metadata": {},
     "source": [
      "5. Closing"
     ]
    },
    {
     "cell_type": "markdown",
     "metadata": {},
     "source": [
      "We need to close open files."
     ]
    },
    {
     "cell_type": "code",
     "collapsed": false,
     "input": [
      "processor.final()"
     ],
     "language": "python",
     "metadata": {},
     "outputs": [
      {
       "output_type": "stream",
       "stream": "stderr",
       "text": [
        " 4m 27s END TASK gender\n"
       ]
      },
      {
       "output_type": "stream",
       "stream": "stderr",
       "text": [
        " 4m 27s Results directory:\n",
        "/Users/dirk/Scratch/shebanq/results/bhs3.txt.hdr/gender\n"
       ]
      },
      {
       "output_type": "stream",
       "stream": "stderr",
       "text": [
        "Gender.pdf                            77015 Thu Nov  7 16:53:30 2013\n",
        "__log__gender.txt                       160 Fri Jan 31 12:39:03 2014\n",
        "stats.txt                             19216 Wed Jan 15 11:34:14 2014\n",
        "table.tsv                             43809 Fri Jan 31 12:39:03 2014\n"
       ]
      }
     ],
     "prompt_number": 6
    },
    {
     "cell_type": "heading",
     "level": 1,
     "metadata": {},
     "source": [
      "6. Showing off"
     ]
    },
    {
     "cell_type": "markdown",
     "metadata": {},
     "source": [
      "Everything is still in memory. Now it is the time to generate a graphical representation of the data. \n",
      "But let us first have a look at a few rows of the data itself."
     ]
    },
    {
     "cell_type": "code",
     "collapsed": false,
     "input": [
      "%matplotlib inline\n",
      "import pandas\n",
      "from IPython.display import display\n",
      "pandas.set_option('display.notebook_repr_html', True)"
     ],
     "language": "python",
     "metadata": {},
     "outputs": [],
     "prompt_number": 7
    },
    {
     "cell_type": "code",
     "collapsed": false,
     "input": [
      "table_file = processor.my_files('table.tsv')\n",
      "df = pandas.read_csv(table_file)"
     ],
     "language": "python",
     "metadata": {},
     "outputs": [],
     "prompt_number": 8
    },
    {
     "cell_type": "code",
     "collapsed": false,
     "input": [
      "df.head(10)"
     ],
     "language": "python",
     "metadata": {},
     "outputs": [
      {
       "html": [
        "<div style=\"max-height:1000px;max-width:1500px;overflow:auto;\">\n",
        "<table border=\"1\" class=\"dataframe\">\n",
        "  <thead>\n",
        "    <tr style=\"text-align: right;\">\n",
        "      <th></th>\n",
        "      <th>book chapter</th>\n",
        "      <th>masculine</th>\n",
        "      <th>feminine</th>\n",
        "    </tr>\n",
        "  </thead>\n",
        "  <tbody>\n",
        "    <tr>\n",
        "      <th>0</th>\n",
        "      <td>  Genesis 1</td>\n",
        "      <td> 22.882615</td>\n",
        "      <td>  5.200594</td>\n",
        "    </tr>\n",
        "    <tr>\n",
        "      <th>1</th>\n",
        "      <td>  Genesis 2</td>\n",
        "      <td> 19.230769</td>\n",
        "      <td>  6.477733</td>\n",
        "    </tr>\n",
        "    <tr>\n",
        "      <th>2</th>\n",
        "      <td>  Genesis 3</td>\n",
        "      <td> 20.641283</td>\n",
        "      <td>  9.018036</td>\n",
        "    </tr>\n",
        "    <tr>\n",
        "      <th>3</th>\n",
        "      <td>  Genesis 4</td>\n",
        "      <td> 32.008830</td>\n",
        "      <td> 11.037528</td>\n",
        "    </tr>\n",
        "    <tr>\n",
        "      <th>4</th>\n",
        "      <td>  Genesis 5</td>\n",
        "      <td> 36.590437</td>\n",
        "      <td> 17.879418</td>\n",
        "    </tr>\n",
        "    <tr>\n",
        "      <th>5</th>\n",
        "      <td>  Genesis 6</td>\n",
        "      <td> 22.654462</td>\n",
        "      <td>  8.695652</td>\n",
        "    </tr>\n",
        "    <tr>\n",
        "      <th>6</th>\n",
        "      <td>  Genesis 7</td>\n",
        "      <td> 18.774704</td>\n",
        "      <td> 10.671937</td>\n",
        "    </tr>\n",
        "    <tr>\n",
        "      <th>7</th>\n",
        "      <td>  Genesis 8</td>\n",
        "      <td> 16.666667</td>\n",
        "      <td>  8.943089</td>\n",
        "    </tr>\n",
        "    <tr>\n",
        "      <th>8</th>\n",
        "      <td>  Genesis 9</td>\n",
        "      <td> 19.880716</td>\n",
        "      <td>  6.759443</td>\n",
        "    </tr>\n",
        "    <tr>\n",
        "      <th>9</th>\n",
        "      <td> Genesis 10</td>\n",
        "      <td> 22.014052</td>\n",
        "      <td>  4.449649</td>\n",
        "    </tr>\n",
        "  </tbody>\n",
        "</table>\n",
        "</div>"
       ],
       "metadata": {},
       "output_type": "pyout",
       "prompt_number": 9,
       "text": [
        "  book chapter  masculine   feminine\n",
        "0    Genesis 1  22.882615   5.200594\n",
        "1    Genesis 2  19.230769   6.477733\n",
        "2    Genesis 3  20.641283   9.018036\n",
        "3    Genesis 4  32.008830  11.037528\n",
        "4    Genesis 5  36.590437  17.879418\n",
        "5    Genesis 6  22.654462   8.695652\n",
        "6    Genesis 7  18.774704  10.671937\n",
        "7    Genesis 8  16.666667   8.943089\n",
        "8    Genesis 9  19.880716   6.759443\n",
        "9   Genesis 10  22.014052   4.449649"
       ]
      }
     ],
     "prompt_number": 9
    },
    {
     "cell_type": "markdown",
     "metadata": {},
     "source": [
      "The *matplotlib* is full of instruments to do that, here we just show a line graph of 20 chapters.\n",
      "\n",
      "If you want to see another series of chapters, just modify the *start* and *end* variables below and execute again by pressing *Shift Enter*. You can repeat this as often as you like without re-running earlier steps."
     ]
    },
    {
     "cell_type": "code",
     "collapsed": false,
     "input": [
      "x = range(len(ch))\n",
      "start = 500\n",
      "end = 550\n",
      "fig = plt.figure()\n",
      "plt.plot(x[start:end], m[start:end], 'b-', x[start:end], f[start:end], 'r-')\n",
      "plt.axis([start, end, 0, 50])\n",
      "plt.xticks(x[start:end], ch[start:end], rotation='vertical')\n",
      "plt.margins(0.2)\n",
      "plt.subplots_adjust(bottom=0.15);\n",
      "plt.title('gender');"
     ],
     "language": "python",
     "metadata": {},
     "outputs": [
      {
       "metadata": {},
       "output_type": "display_data",
       "png": "[encoded data removed]",
       "text": [
        "<matplotlib.figure.Figure at 0x1357a4950>"
       ]
      }
     ],
     "prompt_number": 11
    },
    {
     "cell_type": "markdown",
     "metadata": {},
     "source": [
      "Note the chapters where the feminine words dominate the masculine words: Leviticus 12 and 18."
     ]
    }
   ],
   "metadata": {}
  }
 ]
}