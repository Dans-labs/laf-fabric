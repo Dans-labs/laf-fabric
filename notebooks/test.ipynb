{
 "metadata": {
  "name": ""
 },
 "nbformat": 3,
 "nbformat_minor": 0,
 "worksheets": [
  {
   "cells": [
    {
     "cell_type": "code",
     "collapsed": false,
     "input": [
      "import numpy as np"
     ],
     "language": "python",
     "metadata": {},
     "outputs": [],
     "prompt_number": 3
    },
    {
     "cell_type": "code",
     "collapsed": false,
     "input": [
      "img1 = np.zeros((20, 20), dtype='int') + 3"
     ],
     "language": "python",
     "metadata": {},
     "outputs": [],
     "prompt_number": 29
    },
    {
     "cell_type": "code",
     "collapsed": false,
     "input": [
      "img1"
     ],
     "language": "python",
     "metadata": {},
     "outputs": [
      {
       "metadata": {},
       "output_type": "pyout",
       "prompt_number": 30,
       "text": [
        "array([[3, 3, 3, 3, 3, 3, 3, 3, 3, 3, 3, 3, 3, 3, 3, 3, 3, 3, 3, 3],\n",
        "       [3, 3, 3, 3, 3, 3, 3, 3, 3, 3, 3, 3, 3, 3, 3, 3, 3, 3, 3, 3],\n",
        "       [3, 3, 3, 3, 3, 3, 3, 3, 3, 3, 3, 3, 3, 3, 3, 3, 3, 3, 3, 3],\n",
        "       [3, 3, 3, 3, 3, 3, 3, 3, 3, 3, 3, 3, 3, 3, 3, 3, 3, 3, 3, 3],\n",
        "       [3, 3, 3, 3, 3, 3, 3, 3, 3, 3, 3, 3, 3, 3, 3, 3, 3, 3, 3, 3],\n",
        "       [3, 3, 3, 3, 3, 3, 3, 3, 3, 3, 3, 3, 3, 3, 3, 3, 3, 3, 3, 3],\n",
        "       [3, 3, 3, 3, 3, 3, 3, 3, 3, 3, 3, 3, 3, 3, 3, 3, 3, 3, 3, 3],\n",
        "       [3, 3, 3, 3, 3, 3, 3, 3, 3, 3, 3, 3, 3, 3, 3, 3, 3, 3, 3, 3],\n",
        "       [3, 3, 3, 3, 3, 3, 3, 3, 3, 3, 3, 3, 3, 3, 3, 3, 3, 3, 3, 3],\n",
        "       [3, 3, 3, 3, 3, 3, 3, 3, 3, 3, 3, 3, 3, 3, 3, 3, 3, 3, 3, 3],\n",
        "       [3, 3, 3, 3, 3, 3, 3, 3, 3, 3, 3, 3, 3, 3, 3, 3, 3, 3, 3, 3],\n",
        "       [3, 3, 3, 3, 3, 3, 3, 3, 3, 3, 3, 3, 3, 3, 3, 3, 3, 3, 3, 3],\n",
        "       [3, 3, 3, 3, 3, 3, 3, 3, 3, 3, 3, 3, 3, 3, 3, 3, 3, 3, 3, 3],\n",
        "       [3, 3, 3, 3, 3, 3, 3, 3, 3, 3, 3, 3, 3, 3, 3, 3, 3, 3, 3, 3],\n",
        "       [3, 3, 3, 3, 3, 3, 3, 3, 3, 3, 3, 3, 3, 3, 3, 3, 3, 3, 3, 3],\n",
        "       [3, 3, 3, 3, 3, 3, 3, 3, 3, 3, 3, 3, 3, 3, 3, 3, 3, 3, 3, 3],\n",
        "       [3, 3, 3, 3, 3, 3, 3, 3, 3, 3, 3, 3, 3, 3, 3, 3, 3, 3, 3, 3],\n",
        "       [3, 3, 3, 3, 3, 3, 3, 3, 3, 3, 3, 3, 3, 3, 3, 3, 3, 3, 3, 3],\n",
        "       [3, 3, 3, 3, 3, 3, 3, 3, 3, 3, 3, 3, 3, 3, 3, 3, 3, 3, 3, 3],\n",
        "       [3, 3, 3, 3, 3, 3, 3, 3, 3, 3, 3, 3, 3, 3, 3, 3, 3, 3, 3, 3]])"
       ]
      }
     ],
     "prompt_number": 30
    },
    {
     "cell_type": "code",
     "collapsed": false,
     "input": [
      "img1[4:-4, 4:-4] = 6"
     ],
     "language": "python",
     "metadata": {},
     "outputs": [],
     "prompt_number": 31
    },
    {
     "cell_type": "code",
     "collapsed": false,
     "input": [
      "img1[4:-4, 4:-4]"
     ],
     "language": "python",
     "metadata": {},
     "outputs": [
      {
       "metadata": {},
       "output_type": "pyout",
       "prompt_number": 32,
       "text": [
        "array([[6, 6, 6, 6, 6, 6, 6, 6, 6, 6, 6, 6],\n",
        "       [6, 6, 6, 6, 6, 6, 6, 6, 6, 6, 6, 6],\n",
        "       [6, 6, 6, 6, 6, 6, 6, 6, 6, 6, 6, 6],\n",
        "       [6, 6, 6, 6, 6, 6, 6, 6, 6, 6, 6, 6],\n",
        "       [6, 6, 6, 6, 6, 6, 6, 6, 6, 6, 6, 6],\n",
        "       [6, 6, 6, 6, 6, 6, 6, 6, 6, 6, 6, 6],\n",
        "       [6, 6, 6, 6, 6, 6, 6, 6, 6, 6, 6, 6],\n",
        "       [6, 6, 6, 6, 6, 6, 6, 6, 6, 6, 6, 6],\n",
        "       [6, 6, 6, 6, 6, 6, 6, 6, 6, 6, 6, 6],\n",
        "       [6, 6, 6, 6, 6, 6, 6, 6, 6, 6, 6, 6],\n",
        "       [6, 6, 6, 6, 6, 6, 6, 6, 6, 6, 6, 6],\n",
        "       [6, 6, 6, 6, 6, 6, 6, 6, 6, 6, 6, 6]])"
       ]
      }
     ],
     "prompt_number": 32
    },
    {
     "cell_type": "code",
     "collapsed": false,
     "input": [
      "img1[7:-7, 7:-7] = 9"
     ],
     "language": "python",
     "metadata": {},
     "outputs": [],
     "prompt_number": 9
    },
    {
     "cell_type": "code",
     "collapsed": false,
     "input": [
      "img1"
     ],
     "language": "python",
     "metadata": {},
     "outputs": [
      {
       "metadata": {},
       "output_type": "pyout",
       "prompt_number": 33,
       "text": [
        "array([[3, 3, 3, 3, 3, 3, 3, 3, 3, 3, 3, 3, 3, 3, 3, 3, 3, 3, 3, 3],\n",
        "       [3, 3, 3, 3, 3, 3, 3, 3, 3, 3, 3, 3, 3, 3, 3, 3, 3, 3, 3, 3],\n",
        "       [3, 3, 3, 3, 3, 3, 3, 3, 3, 3, 3, 3, 3, 3, 3, 3, 3, 3, 3, 3],\n",
        "       [3, 3, 3, 3, 3, 3, 3, 3, 3, 3, 3, 3, 3, 3, 3, 3, 3, 3, 3, 3],\n",
        "       [3, 3, 3, 3, 6, 6, 6, 6, 6, 6, 6, 6, 6, 6, 6, 6, 3, 3, 3, 3],\n",
        "       [3, 3, 3, 3, 6, 6, 6, 6, 6, 6, 6, 6, 6, 6, 6, 6, 3, 3, 3, 3],\n",
        "       [3, 3, 3, 3, 6, 6, 6, 6, 6, 6, 6, 6, 6, 6, 6, 6, 3, 3, 3, 3],\n",
        "       [3, 3, 3, 3, 6, 6, 6, 6, 6, 6, 6, 6, 6, 6, 6, 6, 3, 3, 3, 3],\n",
        "       [3, 3, 3, 3, 6, 6, 6, 6, 6, 6, 6, 6, 6, 6, 6, 6, 3, 3, 3, 3],\n",
        "       [3, 3, 3, 3, 6, 6, 6, 6, 6, 6, 6, 6, 6, 6, 6, 6, 3, 3, 3, 3],\n",
        "       [3, 3, 3, 3, 6, 6, 6, 6, 6, 6, 6, 6, 6, 6, 6, 6, 3, 3, 3, 3],\n",
        "       [3, 3, 3, 3, 6, 6, 6, 6, 6, 6, 6, 6, 6, 6, 6, 6, 3, 3, 3, 3],\n",
        "       [3, 3, 3, 3, 6, 6, 6, 6, 6, 6, 6, 6, 6, 6, 6, 6, 3, 3, 3, 3],\n",
        "       [3, 3, 3, 3, 6, 6, 6, 6, 6, 6, 6, 6, 6, 6, 6, 6, 3, 3, 3, 3],\n",
        "       [3, 3, 3, 3, 6, 6, 6, 6, 6, 6, 6, 6, 6, 6, 6, 6, 3, 3, 3, 3],\n",
        "       [3, 3, 3, 3, 6, 6, 6, 6, 6, 6, 6, 6, 6, 6, 6, 6, 3, 3, 3, 3],\n",
        "       [3, 3, 3, 3, 3, 3, 3, 3, 3, 3, 3, 3, 3, 3, 3, 3, 3, 3, 3, 3],\n",
        "       [3, 3, 3, 3, 3, 3, 3, 3, 3, 3, 3, 3, 3, 3, 3, 3, 3, 3, 3, 3],\n",
        "       [3, 3, 3, 3, 3, 3, 3, 3, 3, 3, 3, 3, 3, 3, 3, 3, 3, 3, 3, 3],\n",
        "       [3, 3, 3, 3, 3, 3, 3, 3, 3, 3, 3, 3, 3, 3, 3, 3, 3, 3, 3, 3]])"
       ]
      }
     ],
     "prompt_number": 33
    },
    {
     "cell_type": "code",
     "collapsed": false,
     "input": [
      "index1 = img1 > 3"
     ],
     "language": "python",
     "metadata": {},
     "outputs": [],
     "prompt_number": 13
    },
    {
     "cell_type": "code",
     "collapsed": false,
     "input": [
      "index2 = img1 < 9"
     ],
     "language": "python",
     "metadata": {},
     "outputs": [],
     "prompt_number": 34
    },
    {
     "cell_type": "code",
     "collapsed": false,
     "input": [
      "intersection = index1 & index2"
     ],
     "language": "python",
     "metadata": {},
     "outputs": [],
     "prompt_number": 35
    },
    {
     "cell_type": "code",
     "collapsed": false,
     "input": [
      "intersection"
     ],
     "language": "python",
     "metadata": {},
     "outputs": [
      {
       "metadata": {},
       "output_type": "pyout",
       "prompt_number": 36,
       "text": [
        "array([[False, False, False, False, False, False, False, False, False,\n",
        "        False, False, False, False, False, False, False, False, False,\n",
        "        False, False],\n",
        "       [False, False, False, False, False, False, False, False, False,\n",
        "        False, False, False, False, False, False, False, False, False,\n",
        "        False, False],\n",
        "       [False, False, False, False, False, False, False, False, False,\n",
        "        False, False, False, False, False, False, False, False, False,\n",
        "        False, False],\n",
        "       [False, False, False, False, False, False, False, False, False,\n",
        "        False, False, False, False, False, False, False, False, False,\n",
        "        False, False],\n",
        "       [False, False, False, False,  True,  True,  True,  True,  True,\n",
        "         True,  True,  True,  True,  True,  True,  True, False, False,\n",
        "        False, False],\n",
        "       [False, False, False, False,  True,  True,  True,  True,  True,\n",
        "         True,  True,  True,  True,  True,  True,  True, False, False,\n",
        "        False, False],\n",
        "       [False, False, False, False,  True,  True,  True,  True,  True,\n",
        "         True,  True,  True,  True,  True,  True,  True, False, False,\n",
        "        False, False],\n",
        "       [False, False, False, False,  True,  True,  True,  True,  True,\n",
        "         True,  True,  True,  True,  True,  True,  True, False, False,\n",
        "        False, False],\n",
        "       [False, False, False, False,  True,  True,  True,  True,  True,\n",
        "         True,  True,  True,  True,  True,  True,  True, False, False,\n",
        "        False, False],\n",
        "       [False, False, False, False,  True,  True,  True,  True,  True,\n",
        "         True,  True,  True,  True,  True,  True,  True, False, False,\n",
        "        False, False],\n",
        "       [False, False, False, False,  True,  True,  True,  True,  True,\n",
        "         True,  True,  True,  True,  True,  True,  True, False, False,\n",
        "        False, False],\n",
        "       [False, False, False, False,  True,  True,  True,  True,  True,\n",
        "         True,  True,  True,  True,  True,  True,  True, False, False,\n",
        "        False, False],\n",
        "       [False, False, False, False,  True,  True,  True,  True,  True,\n",
        "         True,  True,  True,  True,  True,  True,  True, False, False,\n",
        "        False, False],\n",
        "       [False, False, False, False,  True,  True,  True,  True,  True,\n",
        "         True,  True,  True,  True,  True,  True,  True, False, False,\n",
        "        False, False],\n",
        "       [False, False, False, False,  True,  True,  True,  True,  True,\n",
        "         True,  True,  True,  True,  True,  True,  True, False, False,\n",
        "        False, False],\n",
        "       [False, False, False, False,  True,  True,  True,  True,  True,\n",
        "         True,  True,  True,  True,  True,  True,  True, False, False,\n",
        "        False, False],\n",
        "       [False, False, False, False, False, False, False, False, False,\n",
        "        False, False, False, False, False, False, False, False, False,\n",
        "        False, False],\n",
        "       [False, False, False, False, False, False, False, False, False,\n",
        "        False, False, False, False, False, False, False, False, False,\n",
        "        False, False],\n",
        "       [False, False, False, False, False, False, False, False, False,\n",
        "        False, False, False, False, False, False, False, False, False,\n",
        "        False, False],\n",
        "       [False, False, False, False, False, False, False, False, False,\n",
        "        False, False, False, False, False, False, False, False, False,\n",
        "        False, False]], dtype=bool)"
       ]
      }
     ],
     "prompt_number": 36
    },
    {
     "cell_type": "code",
     "collapsed": false,
     "input": [
      "img2 = np.copy(img1)"
     ],
     "language": "python",
     "metadata": {},
     "outputs": [],
     "prompt_number": 37
    },
    {
     "cell_type": "code",
     "collapsed": false,
     "input": [
      "img2[intersection] = 0"
     ],
     "language": "python",
     "metadata": {},
     "outputs": [],
     "prompt_number": 38
    },
    {
     "cell_type": "code",
     "collapsed": false,
     "input": [
      "img2"
     ],
     "language": "python",
     "metadata": {},
     "outputs": [
      {
       "metadata": {},
       "output_type": "pyout",
       "prompt_number": 39,
       "text": [
        "array([[3, 3, 3, 3, 3, 3, 3, 3, 3, 3, 3, 3, 3, 3, 3, 3, 3, 3, 3, 3],\n",
        "       [3, 3, 3, 3, 3, 3, 3, 3, 3, 3, 3, 3, 3, 3, 3, 3, 3, 3, 3, 3],\n",
        "       [3, 3, 3, 3, 3, 3, 3, 3, 3, 3, 3, 3, 3, 3, 3, 3, 3, 3, 3, 3],\n",
        "       [3, 3, 3, 3, 3, 3, 3, 3, 3, 3, 3, 3, 3, 3, 3, 3, 3, 3, 3, 3],\n",
        "       [3, 3, 3, 3, 0, 0, 0, 0, 0, 0, 0, 0, 0, 0, 0, 0, 3, 3, 3, 3],\n",
        "       [3, 3, 3, 3, 0, 0, 0, 0, 0, 0, 0, 0, 0, 0, 0, 0, 3, 3, 3, 3],\n",
        "       [3, 3, 3, 3, 0, 0, 0, 0, 0, 0, 0, 0, 0, 0, 0, 0, 3, 3, 3, 3],\n",
        "       [3, 3, 3, 3, 0, 0, 0, 0, 0, 0, 0, 0, 0, 0, 0, 0, 3, 3, 3, 3],\n",
        "       [3, 3, 3, 3, 0, 0, 0, 0, 0, 0, 0, 0, 0, 0, 0, 0, 3, 3, 3, 3],\n",
        "       [3, 3, 3, 3, 0, 0, 0, 0, 0, 0, 0, 0, 0, 0, 0, 0, 3, 3, 3, 3],\n",
        "       [3, 3, 3, 3, 0, 0, 0, 0, 0, 0, 0, 0, 0, 0, 0, 0, 3, 3, 3, 3],\n",
        "       [3, 3, 3, 3, 0, 0, 0, 0, 0, 0, 0, 0, 0, 0, 0, 0, 3, 3, 3, 3],\n",
        "       [3, 3, 3, 3, 0, 0, 0, 0, 0, 0, 0, 0, 0, 0, 0, 0, 3, 3, 3, 3],\n",
        "       [3, 3, 3, 3, 0, 0, 0, 0, 0, 0, 0, 0, 0, 0, 0, 0, 3, 3, 3, 3],\n",
        "       [3, 3, 3, 3, 0, 0, 0, 0, 0, 0, 0, 0, 0, 0, 0, 0, 3, 3, 3, 3],\n",
        "       [3, 3, 3, 3, 0, 0, 0, 0, 0, 0, 0, 0, 0, 0, 0, 0, 3, 3, 3, 3],\n",
        "       [3, 3, 3, 3, 3, 3, 3, 3, 3, 3, 3, 3, 3, 3, 3, 3, 3, 3, 3, 3],\n",
        "       [3, 3, 3, 3, 3, 3, 3, 3, 3, 3, 3, 3, 3, 3, 3, 3, 3, 3, 3, 3],\n",
        "       [3, 3, 3, 3, 3, 3, 3, 3, 3, 3, 3, 3, 3, 3, 3, 3, 3, 3, 3, 3],\n",
        "       [3, 3, 3, 3, 3, 3, 3, 3, 3, 3, 3, 3, 3, 3, 3, 3, 3, 3, 3, 3]])"
       ]
      }
     ],
     "prompt_number": 39
    },
    {
     "cell_type": "code",
     "collapsed": false,
     "input": [
      "np.savetxt('testnum.txt', img2, fmt='%i')"
     ],
     "language": "python",
     "metadata": {},
     "outputs": [],
     "prompt_number": 46
    },
    {
     "cell_type": "code",
     "collapsed": false,
     "input": [
      "!ls"
     ],
     "language": "python",
     "metadata": {},
     "outputs": [
      {
       "output_type": "stream",
       "stream": "stdout",
       "text": [
        "CommonNounsWeight.svg   TLA-small.png           gender.ipynb            participle.ipynb        trees-c.ipynb\r\n",
        "CommonNounsWeightLR.png VU-ETCBC-small.png      laf-fabric-small.png    ptc_tab.ods             trees-exp.ipynb\r\n",
        "DANS-small.png          cooccurrences.ipynb     laf-fabric.cfg          test.ipynb              trees-r.ipynb\r\n",
        "DANSLabLogo.png         edges.ipynb             mother.ipynb            testnum.txt             trees.ipynb\r\n"
       ]
      }
     ],
     "prompt_number": 26
    },
    {
     "cell_type": "code",
     "collapsed": false,
     "input": [
      "!cat testnum.txt"
     ],
     "language": "python",
     "metadata": {},
     "outputs": [
      {
       "output_type": "stream",
       "stream": "stdout",
       "text": [
        "3 3 3 3 3 3 3 3 3 3 3 3 3 3 3 3 3 3 3 3\r\n",
        "3 3 3 3 3 3 3 3 3 3 3 3 3 3 3 3 3 3 3 3\r\n",
        "3 3 3 3 3 3 3 3 3 3 3 3 3 3 3 3 3 3 3 3\r\n",
        "3 3 3 3 3 3 3 3 3 3 3 3 3 3 3 3 3 3 3 3\r\n",
        "3 3 3 3 0 0 0 0 0 0 0 0 0 0 0 0 3 3 3 3\r\n",
        "3 3 3 3 0 0 0 0 0 0 0 0 0 0 0 0 3 3 3 3\r\n",
        "3 3 3 3 0 0 0 0 0 0 0 0 0 0 0 0 3 3 3 3\r\n",
        "3 3 3 3 0 0 0 0 0 0 0 0 0 0 0 0 3 3 3 3\r\n",
        "3 3 3 3 0 0 0 0 0 0 0 0 0 0 0 0 3 3 3 3\r\n",
        "3 3 3 3 0 0 0 0 0 0 0 0 0 0 0 0 3 3 3 3\r\n",
        "3 3 3 3 0 0 0 0 0 0 0 0 0 0 0 0 3 3 3 3\r\n",
        "3 3 3 3 0 0 0 0 0 0 0 0 0 0 0 0 3 3 3 3\r\n",
        "3 3 3 3 0 0 0 0 0 0 0 0 0 0 0 0 3 3 3 3\r\n",
        "3 3 3 3 0 0 0 0 0 0 0 0 0 0 0 0 3 3 3 3\r\n",
        "3 3 3 3 0 0 0 0 0 0 0 0 0 0 0 0 3 3 3 3\r\n",
        "3 3 3 3 0 0 0 0 0 0 0 0 0 0 0 0 3 3 3 3\r\n",
        "3 3 3 3 3 3 3 3 3 3 3 3 3 3 3 3 3 3 3 3\r\n",
        "3 3 3 3 3 3 3 3 3 3 3 3 3 3 3 3 3 3 3 3\r\n",
        "3 3 3 3 3 3 3 3 3 3 3 3 3 3 3 3 3 3 3 3\r\n",
        "3 3 3 3 3 3 3 3 3 3 3 3 3 3 3 3 3 3 3 3\r\n"
       ]
      }
     ],
     "prompt_number": 47
    },
    {
     "cell_type": "code",
     "collapsed": false,
     "input": [
      "from scipy.optimize import fsolve\n",
      "line = lambda x: x**2 + 1\n",
      "solution = fsolve(line, -2) \n",
      "print(solution)\n"
     ],
     "language": "python",
     "metadata": {},
     "outputs": [
      {
       "output_type": "stream",
       "stream": "stdout",
       "text": [
        "[-0.00115411]\n"
       ]
      }
     ],
     "prompt_number": 79
    },
    {
     "cell_type": "code",
     "collapsed": false,
     "input": [
      "fsolve?"
     ],
     "language": "python",
     "metadata": {},
     "outputs": [],
     "prompt_number": 77
    },
    {
     "cell_type": "code",
     "collapsed": false,
     "input": [],
     "language": "python",
     "metadata": {},
     "outputs": []
    }
   ],
   "metadata": {}
  }
 ]
}