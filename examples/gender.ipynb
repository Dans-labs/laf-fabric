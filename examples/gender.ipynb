{
 "metadata": {
  "name": "",
  "signature": "sha256:fc4a82baf0520fdba755961d5086b9bb418577cd129caca0e006429098a90ba3"
 },
 "nbformat": 3,
 "nbformat_minor": 0,
 "worksheets": [
  {
   "cells": [
    {
     "cell_type": "markdown",
     "metadata": {},
     "source": [
      "<a href=\"http://laf-fabric.readthedocs.org/en/latest/\" target=\"_blank\"><img align=\"left\" src=\"images/laf-fabric-xsmall.png\"/></a>\n",
      "<a href=\"http://www.godgeleerdheid.vu.nl/etcbc\" target=\"_blank\"><img align=\"left\" src=\"images/VU-ETCBC-xsmall.png\"/></a>\n",
      "<a href=\"http://tla.mpi.nl\" target=\"_blank\"><img align=\"right\" src=\"images/TLA-xsmall.png\"/></a>\n",
      "<a href=\"http://www.dans.knaw.nl\" target=\"_blank\"><img align=\"right\"src=\"images/DANS-xsmall.png\"/></a>"
     ]
    },
    {
     "cell_type": "heading",
     "level": 1,
     "metadata": {},
     "source": [
      "About this notebook"
     ]
    },
    {
     "cell_type": "markdown",
     "metadata": {},
     "source": [
      "This notebook illustrates the working of LAF-Fabric, a tool to analyze the data inside *LAF* resources (Linguistic Annotation Framework). We use it for a particular LAF resource: the Hebrew Bible with linguistic annotations. The software to get the Hebrew Bible in LAF is part of LAF-Fabric (see *emdros2laf*).\n",
      "\n",
      "> **NB 1.** This is a static copy of the Gender notebook. You can download it, and if you have iPython installed and the LAF-Fabric, then you can run this notebook. And you can create many more notebooks like this, looking for patterns in the Hebrew Bible.\n",
      "\n",
      "> **NB 2.** All software involved is open source, and the data is Open Access (not for commercial use). Click the logo:\n",
      "<a href=\"http://www.persistent-identifier.nl/?identifier=urn%3Anbn%3Anl%3Aui%3A13-048i-71\" target=\"_blank\"><img align=\"right\"src=\"images/etcbc4easy-small.png\"/></a>"
     ]
    },
    {
     "cell_type": "heading",
     "level": 1,
     "metadata": {},
     "source": [
      "Gender in the Hebrew Bible"
     ]
    },
    {
     "cell_type": "markdown",
     "metadata": {},
     "source": [
      "Words in Hebrew are either masculine, or feminine, or unknown.\n",
      "\n",
      "We want to plot the percentage of masculine and feminine words per chapter."
     ]
    },
    {
     "cell_type": "markdown",
     "metadata": {},
     "source": [
      "## The LAF way\n",
      "In the Hebrew LAF data, some nodes are annotated as ``word``, and some nodes as ``chapter``\n",
      "(there are many more kinds of node, of course).\n",
      "\n",
      "The names of chapters and the genders of words are coded as features inside annotations to these\n",
      "nodes.\n",
      "\n",
      "## More on feature names\n",
      "The features we need are present in an annotation space named ``etcbc4`` (after the name and version of this LAF resource).\n",
      "The chapter features are labeled with ``sft`` and the other features with ``ft``.\n",
      "\n",
      "When LAF-Fabric compiles features into binary data, it forgets the annotations in which the features come,\n",
      "but the annotation *space* and *label* are retained in a double prefix to the feature name.\n",
      "\n",
      "LAF-Fabric remembers those features by their *fully qualified* names: ``etcbc4:ft.gender``, ``etcbc4:sft.chapter`` etc.\n",
      "There may also be annotations without feature contents."
     ]
    },
    {
     "cell_type": "heading",
     "level": 1,
     "metadata": {},
     "source": [
      "Importing"
     ]
    },
    {
     "cell_type": "markdown",
     "metadata": {},
     "source": [
      "The next cell loads the required libraries and creates a task processor."
     ]
    },
    {
     "cell_type": "code",
     "collapsed": false,
     "input": [
      "import sys\n",
      "import collections\n",
      "\n",
      "from laf.fabric import LafFabric\n",
      "fabric = LafFabric(verbose='DETAIL')"
     ],
     "language": "python",
     "metadata": {},
     "outputs": [
      {
       "output_type": "stream",
       "stream": "stderr",
       "text": [
        "  0.00s This is LAF-Fabric 4.4.6\n",
        "API reference: http://laf-fabric.readthedocs.org/en/latest/texts/API-reference.html\n",
        "Feature doc: http://shebanq-doc.readthedocs.org/en/latest/texts/welcome.html\n",
        "\n"
       ]
      }
     ],
     "prompt_number": 1
    },
    {
     "cell_type": "heading",
     "level": 1,
     "metadata": {},
     "source": [
      "Loading"
     ]
    },
    {
     "cell_type": "markdown",
     "metadata": {},
     "source": [
      "The processor needs data. Here is where we say what data to load. We do not need the XML identifiers as they show up in the original LAF resource. But we do need a few features of nodes, namely the ones that give us the gender of the words, and the numbers of the chapters and the books in which the chapters are contained.\n",
      "\n",
      "The *init* function actually draws that data in, and it will take a few seconds. \n",
      "\n",
      "It needs to know the name of the **source**. \n",
      "This name corresponds with a subdirectory in your *work_dir*.\n",
      "\n",
      "The '--' means that we do not draw in an **annox** (extra annotation package). \n",
      "If you want to do that, this is the place to give the name of such a package, which must be a subdirectory name inside the *annotations* directory in your *work_dir*.\n",
      "\n",
      "Then **gender** is just a name we choose to give to this task.\n",
      "This name determines where on the filesystem the log file and output (if any) will be put:\n",
      "a subdirectory *gender* inside the **source** directory inside your *output_dir*.\n",
      "\n",
      "The last argument to ``load()`` is a dictionary of data items to load.\n",
      "\n",
      "The **primary** key indicates whether the primary data itself must be loaded.\n",
      "Tasks can then use methods to find the primary data that is attached to a node.\n",
      "For the Hebrew data this is hardly necessary, because the words have textual information as features on them.\n",
      "\n",
      "The **xmlids** are tables mapping nodes and edges to the original xml identifiers they have in the original LAF source.\n",
      "Most tasks do not need this.\n",
      "Only when a task needs to link new annotations to nodes and edges and write the result as an additional LAF file,\n",
      "it needs to know the original identifiers.\n",
      "\n",
      "The **features** to be loaded are specified by two strings, one for node features and one for edge features.\n",
      "For all these features, data will be loaded, and all other features' data will be unloaded, if still loaded.\n",
      "\n",
      "**Caution: Missing feature data**\n",
      "\n",
      "If you forget to mention a feature in the load declaration and you\n",
      "do use it in your task,\n",
      "LAF-Fabric will stop your task and shout error messages at you.\n",
      "If you declare features that do not exist in the LAF data, you just get\n",
      "a warning. But if you try to use such features, you get also a loud error."
     ]
    },
    {
     "cell_type": "code",
     "collapsed": false,
     "input": [
      "fabric.load('etcbc4', '--', 'gender',\n",
      "{\n",
      "    \"primary\": False,\n",
      "    \"xmlids\": {\"node\": False, \"edge\": False},\n",
      "    \"features\": (\"otype gn chapter book\", \"\"),\n",
      "})\n",
      "exec(fabric.localnames.format(var='fabric'))"
     ],
     "language": "python",
     "metadata": {},
     "outputs": [
      {
       "output_type": "stream",
       "stream": "stderr",
       "text": [
        "  0.00s LOADING API: please wait ... \n"
       ]
      },
      {
       "output_type": "stream",
       "stream": "stderr",
       "text": [
        "  0.00s DETAIL: COMPILING m: UP TO DATE\n"
       ]
      },
      {
       "output_type": "stream",
       "stream": "stderr",
       "text": [
        "  0.10s INFO: USING DATA COMPILED AT: 2014-07-23T09-31-37\n"
       ]
      },
      {
       "output_type": "stream",
       "stream": "stderr",
       "text": [
        "  0.10s DETAIL: COMPILING a: UP TO DATE\n"
       ]
      },
      {
       "output_type": "stream",
       "stream": "stderr",
       "text": [
        "  0.11s DETAIL: load main: G.node_anchor_min\n"
       ]
      },
      {
       "output_type": "stream",
       "stream": "stderr",
       "text": [
        "  0.81s DETAIL: load main: G.node_anchor_max\n"
       ]
      },
      {
       "output_type": "stream",
       "stream": "stderr",
       "text": [
        "  0.87s DETAIL: load main: G.node_sort\n"
       ]
      },
      {
       "output_type": "stream",
       "stream": "stderr",
       "text": [
        "  0.92s DETAIL: load main: G.node_sort_inv\n"
       ]
      },
      {
       "output_type": "stream",
       "stream": "stderr",
       "text": [
        "  1.35s DETAIL: load main: G.edges_from\n"
       ]
      },
      {
       "output_type": "stream",
       "stream": "stderr",
       "text": [
        "  1.42s DETAIL: load main: G.edges_to\n"
       ]
      },
      {
       "output_type": "stream",
       "stream": "stderr",
       "text": [
        "  1.49s DETAIL: load main: F.etcbc4_db_otype [node] \n"
       ]
      },
      {
       "output_type": "stream",
       "stream": "stderr",
       "text": [
        "  2.19s DETAIL: load main: F.etcbc4_ft_gn [node] \n"
       ]
      },
      {
       "output_type": "stream",
       "stream": "stderr",
       "text": [
        "  2.34s DETAIL: load main: F.etcbc4_sft_book [node] \n"
       ]
      },
      {
       "output_type": "stream",
       "stream": "stderr",
       "text": [
        "  2.35s DETAIL: load main: F.etcbc4_sft_chapter [node] \n"
       ]
      },
      {
       "output_type": "stream",
       "stream": "stderr",
       "text": [
        "  2.37s LOGFILE=/Users/dirk/Dropbox/laf-fabric-output/etcbc4/gender/__log__gender.txt\n"
       ]
      },
      {
       "output_type": "stream",
       "stream": "stderr",
       "text": [
        "  2.37s INFO: DATA LOADED FROM SOURCE etcbc4 AND ANNOX -- FOR TASK gender AT 2014-11-12T09-54-30\n"
       ]
      }
     ],
     "prompt_number": 2
    },
    {
     "cell_type": "heading",
     "level": 1,
     "metadata": {},
     "source": [
      "API"
     ]
    },
    {
     "cell_type": "markdown",
     "metadata": {},
     "source": [
      "In order to write an efficient task,\n",
      "it is convenient to import the names of the API methods as *local variables*.\n",
      "The lookup of names in Python is fastest for local names.\n",
      "And it makes the code much cleaner. The method ``load()`` does this.\n",
      "See the [API reference](http://laf-fabric.readthedocs.org/texts/API-reference.html) for full documentation.\n",
      "\n",
      "## F\n",
      "All that you want to know about features and are not afraid to ask.\n",
      "It is an object, and for each feature that you have declared, it has a member\n",
      "with a handy name. For example,\n",
      "\n",
      "    F.etcbc4_db_otype\n",
      "\n",
      "is a feature object\n",
      "that corresponds with the LAF feature given in an annotation \n",
      "in the annotation space ``etcbc4``, with label ``db`` and name ``otype``.\n",
      "It is a node feature, because otherwise we had to use ``FE`` instead of ``F``.\n",
      "\n",
      "You do not have to mention the annotation space and label, Laf-Fabric will find out what they should be\n",
      "given the available features. If there is confusion, Laf-Fabric will tell you, and you can supply\n",
      "more full names.\n",
      "\n",
      "You can look up a feature value of this feature, say for node ``n``, by saying\n",
      "\n",
      "    F.otype.v(n) \n",
      "\n",
      "## NN(test=function value=something values=list of somethings)\n",
      "If you want to walk through all the nodes, possibly skipping some, then this is your method.\n",
      "It is an *iterator* that yields a new node everytime it is called.\n",
      "The order is so-called *primary data order*, which will be explained below.\n",
      "The ``test`` and ``value`` and ``values`` arguments are optional.\n",
      "If given, ``test`` should be a *callable* with one argument, returning a string;\n",
      "``value`` should be a string, ``values`` a list of strings.\n",
      "``test`` will be called for each passing node,\n",
      "and if the value returned is not equal to the given ``value`` and not a member of ``values``,\n",
      "the node will be skipped.\n",
      "\n",
      "### msg\n",
      "Issues a timed message to the standard error and to the log file.\n",
      "\n",
      "### infile(filename)\n",
      "Creates a open file handle for reading a file in your task output directory \n",
      "\n",
      "### outfile(filename)\n",
      "Creates a open file handle for writing a file in your task output directory\n",
      "\n",
      "### my_file(filename)\n",
      "Gives the full path to a file in your task output directory"
     ]
    },
    {
     "cell_type": "markdown",
     "metadata": {},
     "source": [
      "### Available features\n",
      "\n",
      "The *F_all* component delivers a list of available node features in the chosen source, \n",
      "and like wise *FE_all* yields the edge features.\n",
      "Let us see what we have got. For convenience, the components *fF_all* and *fFE_all* produce formatted outputs for\n",
      "these feature lists."
     ]
    },
    {
     "cell_type": "code",
     "collapsed": false,
     "input": [
      "print(fF_all)\n",
      "print(fFE_all)"
     ],
     "language": "python",
     "metadata": {},
     "outputs": [
      {
       "output_type": "stream",
       "stream": "stdout",
       "text": [
        "etcbc4:\n",
        "\tdb.maxmonad:\n",
        "\tdb.minmonad:\n",
        "\tdb.monads:\n",
        "\tdb.oid:\n",
        "\tdb.otype:\n",
        "\tft.clause_kind:\n",
        "\tft.code:\n",
        "\tft.det:\n",
        "\tft.dist:\n",
        "\tft.dist_unit:\n",
        "\tft.domain:\n",
        "\tft.function:\n",
        "\tft.g_cons:\n",
        "\tft.g_cons_utf8:\n",
        "\tft.g_lex:\n",
        "\tft.g_lex_utf8:\n",
        "\tft.g_nme:\n",
        "\tft.g_nme_utf8:\n",
        "\tft.g_pfm:\n",
        "\tft.g_pfm_utf8:\n",
        "\tft.g_prs:\n",
        "\tft.g_prs_utf8:\n",
        "\tft.g_uvf:\n",
        "\tft.g_uvf_utf8:\n",
        "\tft.g_vbe:\n",
        "\tft.g_vbe_utf8:\n",
        "\tft.g_vbs:\n",
        "\tft.g_vbs_utf8:\n",
        "\tft.g_word:\n",
        "\tft.g_word_utf8:\n",
        "\tft.gn:\n",
        "\tft.is_root:\n",
        "\tft.language:\n",
        "\tft.lex:\n",
        "\tft.lex_utf8:\n",
        "\tft.ls:\n",
        "\tft.mother_object_type:\n",
        "\tft.nme:\n",
        "\tft.nu:\n",
        "\tft.number:\n",
        "\tft.pdp:\n",
        "\tft.pfm:\n",
        "\tft.prs:\n",
        "\tft.ps:\n",
        "\tft.rela:\n",
        "\tft.sp:\n",
        "\tft.st:\n",
        "\tft.tab:\n",
        "\tft.trailer_utf8:\n",
        "\tft.txt:\n",
        "\tft.typ:\n",
        "\tft.uvf:\n",
        "\tft.vbe:\n",
        "\tft.vbs:\n",
        "\tft.vs:\n",
        "\tft.vt:\n",
        "\tsft.book:\n",
        "\tsft.chapter:\n",
        "\tsft.half_verse:\n",
        "\tsft.label:\n",
        "\tsft.verse:\n",
        "etcbc4:\n",
        "\tft.distributional_parent:\n",
        "\tft.functional_parent:\n",
        "\tft.mother:\n",
        "laf:\n",
        "\t('', 'x'):\n",
        "\t('', 'y'):\n"
       ]
      }
     ],
     "prompt_number": 3
    },
    {
     "cell_type": "heading",
     "level": 1,
     "metadata": {},
     "source": [
      "Task Execution"
     ]
    },
    {
     "cell_type": "markdown",
     "metadata": {},
     "source": [
      "We need to get an output file to write to.\n",
      "A simple method provides a handle to a file open for writing.\n",
      "The file will be created in the *output_dir*, under the subdir *etcbc4*, under the subdir *gender*."
     ]
    },
    {
     "cell_type": "code",
     "collapsed": false,
     "input": [
      "table = outfile('table.tsv')"
     ],
     "language": "python",
     "metadata": {},
     "outputs": [],
     "prompt_number": 4
    },
    {
     "cell_type": "markdown",
     "metadata": {},
     "source": [
      "All open files (reading and writing) will be closed with\n",
      "\n",
      "    close()\n",
      "\n",
      "below."
     ]
    },
    {
     "cell_type": "heading",
     "level": 2,
     "metadata": {},
     "source": [
      "Walking the nodes"
     ]
    },
    {
     "cell_type": "markdown",
     "metadata": {},
     "source": [
      "Here we loop over a bunch of nodes (in fact over all nodes), in a convenient document order.\n",
      "\n",
      "### Node order\n",
      "There is an implicit partial order on nodes.\n",
      "The short story is: the nodes that are linked to primary data, inherit the order that is present\n",
      "in the primary data.\n",
      "The long story is a bit more complicated, since nodes may be attached to multiple ranges of \n",
      "primary data.\n",
      "\n",
      "See [node order](http://laf-fabric.readthedocs.org/texts/API-reference.html#node-order) for details.\n",
      "If you don't, it might be enough to know\n",
      "that *embedding* nodes always come before *embedded* nodes, meaning that if a node happens \n",
      "to be attached to a big piece of primary data, and a second node to a part of that data,\n",
      "then the node with the bigger attachment comes first.\n",
      "\n",
      "When there is no inclusion either way, and the start and end points are the same, the order is left undefined. \n",
      "\n",
      "### Initialization\n",
      "We initialize the counters in which we store the word counts.\n",
      "We keep track of the chapter we are in and accumulate counts of the words, masculine and feminine.\n",
      "For each chapter we create entries in the *ch*, *m* and *f* lists.\n",
      "\n",
      "Note also the progress messages after each chapter."
     ]
    },
    {
     "cell_type": "code",
     "collapsed": false,
     "input": [
      "stats = [0, 0, 0]\n",
      "cur_chapter = None\n",
      "cur_book = None\n",
      "ch = []\n",
      "m = []\n",
      "f = []"
     ],
     "language": "python",
     "metadata": {},
     "outputs": [],
     "prompt_number": 5
    },
    {
     "cell_type": "code",
     "collapsed": false,
     "input": [
      "for node in NN():\n",
      "    otype = F.otype.v(node)\n",
      "    if otype == \"word\":\n",
      "        stats[0] += 1\n",
      "        if F.gn.v(node) == \"m\":\n",
      "            stats[1] += 1\n",
      "        elif F.gn.v(node) == \"f\":\n",
      "            stats[2] += 1\n",
      "    elif otype == \"chapter\":\n",
      "        if cur_chapter != None:\n",
      "            masc = 0 if not stats[0] else 100 * float(stats[1]) / stats[0]\n",
      "            fem = 0 if not stats[0] else 100 * float(stats[2]) / stats[0]\n",
      "            ch.append(cur_chapter)\n",
      "            m.append(masc)\n",
      "            f.append(fem)\n",
      "            table.write(\"{},{},{}\\n\".format(cur_chapter, masc, fem))\n",
      "        else:\n",
      "            table.write(\"{},{},{}\\n\".format('book chapter', 'masculine', 'feminine'))\n",
      "        this_book = F.book.v(node)\n",
      "        this_chapnum = F.chapter.v(node)\n",
      "        this_chapter = \"{} {}\".format(this_book, this_chapnum)\n",
      "        if this_book != cur_book:\n",
      "            sys.stderr.write(\"\\n{}\".format(this_book))\n",
      "            cur_book = this_book\n",
      "        sys.stderr.write(\" {}\".format(this_chapnum))\n",
      "        stats = [0, 0, 0]\n",
      "        cur_chapter = this_chapter"
     ],
     "language": "python",
     "metadata": {},
     "outputs": [
      {
       "output_type": "stream",
       "stream": "stderr",
       "text": [
        "\n",
        "Genesis 1 2 3 4 5 6 7 8 9 10 11 12 13 14 15 16 17 18 19 20"
       ]
      },
      {
       "output_type": "stream",
       "stream": "stderr",
       "text": [
        " 21 22 23 24 25 26 27 28 29 30 31 32"
       ]
      },
      {
       "output_type": "stream",
       "stream": "stderr",
       "text": [
        " 33 34 35 36 37 38 39 40 41 42 43"
       ]
      },
      {
       "output_type": "stream",
       "stream": "stderr",
       "text": [
        " 44 45 46 47 48 49 50\n",
        "Exodus 1 2 3 4 5 6 7 8 9"
       ]
      },
      {
       "output_type": "stream",
       "stream": "stderr",
       "text": [
        " 10 11 12 13 14 15 16 17 18 19 20 21 22 23 24 25 26 27"
       ]
      },
      {
       "output_type": "stream",
       "stream": "stderr",
       "text": [
        " 28 29 30 31 32 33 34 35 36 37 38 39 40\n",
        "Leviticus 1 2 3"
       ]
      },
      {
       "output_type": "stream",
       "stream": "stderr",
       "text": [
        " 4 5 6 7 8 9 10 11 12 13 14 15 16"
       ]
      },
      {
       "output_type": "stream",
       "stream": "stderr",
       "text": [
        " 17 18 19 20 21 22 23 24 25 26 27\n",
        "Numeri 1 2 3 4"
       ]
      },
      {
       "output_type": "stream",
       "stream": "stderr",
       "text": [
        " 5 6 7 8 9 10 11 12 13 14 15 16 17 18"
       ]
      },
      {
       "output_type": "stream",
       "stream": "stderr",
       "text": [
        " 19 20 21 22 23 24 25 26 27 28 29 30 31 32 33"
       ]
      },
      {
       "output_type": "stream",
       "stream": "stderr",
       "text": [
        " 34 35 36\n",
        "Deuteronomium 1 2 3 4 5 6 7 8 9 10 11 12 13 14"
       ]
      },
      {
       "output_type": "stream",
       "stream": "stderr",
       "text": [
        " 15 16 17 18 19 20 21 22 23 24 25 26 27 28 29 30"
       ]
      },
      {
       "output_type": "stream",
       "stream": "stderr",
       "text": [
        " 31 32 33 34\n",
        "Josua 1 2 3 4 5 6 7 8 9 10 11"
       ]
      },
      {
       "output_type": "stream",
       "stream": "stderr",
       "text": [
        " 12 13 14 15 16 17 18 19 20 21 22 23 24\n",
        "Judices 1 2"
       ]
      },
      {
       "output_type": "stream",
       "stream": "stderr",
       "text": [
        " 3 4 5 6 7 8 9 10 11 12 13 14 15 16"
       ]
      },
      {
       "output_type": "stream",
       "stream": "stderr",
       "text": [
        " 17 18 19 20 21\n",
        "Samuel_I 1 2 3 4 5 6 7 8 9 10 11"
       ]
      },
      {
       "output_type": "stream",
       "stream": "stderr",
       "text": [
        " 12 13 14 15 16 17 18 19 20 21 22 23 24"
       ]
      },
      {
       "output_type": "stream",
       "stream": "stderr",
       "text": [
        " 25 26 27 28 29 30 31\n",
        "Samuel_II 1 2 3 4 5 6 7 8 9 10"
       ]
      },
      {
       "output_type": "stream",
       "stream": "stderr",
       "text": [
        " 11 12 13 14 15 16 17 18 19 20"
       ]
      },
      {
       "output_type": "stream",
       "stream": "stderr",
       "text": [
        " 21 22 23 24\n",
        "Reges_I 1 2 3 4 5 6 7 8 9"
       ]
      },
      {
       "output_type": "stream",
       "stream": "stderr",
       "text": [
        " 10 11 12 13 14 15 16 17 18 19 20 21"
       ]
      },
      {
       "output_type": "stream",
       "stream": "stderr",
       "text": [
        " 22\n",
        "Reges_II 1 2 3 4 5 6 7 8 9 10"
       ]
      },
      {
       "output_type": "stream",
       "stream": "stderr",
       "text": [
        " 11 12 13 14 15 16 17 18 19 20 21 22 23 24 25"
       ]
      },
      {
       "output_type": "stream",
       "stream": "stderr",
       "text": [
        "\n",
        "Jesaia 1 2 3 4 5 6 7 8 9 10 11 12 13 14 15 16 17 18 19 20 21 22 23 24 25 26 27 28"
       ]
      },
      {
       "output_type": "stream",
       "stream": "stderr",
       "text": [
        " 29 30 31 32 33 34 35 36 37 38 39 40 41 42 43 44 45 46 47 48 49 50"
       ]
      },
      {
       "output_type": "stream",
       "stream": "stderr",
       "text": [
        " 51 52 53 54 55 56 57 58 59 60 61 62 63 64 65 66\n",
        "Jeremia 1 2 3 4 5 6"
       ]
      },
      {
       "output_type": "stream",
       "stream": "stderr",
       "text": [
        " 7 8 9 10 11 12 13 14 15 16 17 18 19 20 21 22 23 24"
       ]
      },
      {
       "output_type": "stream",
       "stream": "stderr",
       "text": [
        " 25 26 27 28 29 30 31 32 33 34 35 36 37 38"
       ]
      },
      {
       "output_type": "stream",
       "stream": "stderr",
       "text": [
        " 39 40 41 42 43 44 45 46 47 48 49 50 51 52\n",
        "Ezechiel"
       ]
      },
      {
       "output_type": "stream",
       "stream": "stderr",
       "text": [
        " 1 2 3 4 5 6 7 8 9 10 11 12 13 14 15 16 17 18 19"
       ]
      },
      {
       "output_type": "stream",
       "stream": "stderr",
       "text": [
        " 20 21 22 23 24 25 26 27 28 29 30 31 32 33 34"
       ]
      },
      {
       "output_type": "stream",
       "stream": "stderr",
       "text": [
        " 35 36 37 38 39 40 41 42 43 44 45 46"
       ]
      },
      {
       "output_type": "stream",
       "stream": "stderr",
       "text": [
        " 47 48\n",
        "Hosea 1 2 3 4 5 6 7 8 9 10 11 12 13 14\n",
        "Joel 1 2 3 4\n",
        "Amos 1 2 3 4 5 6 7"
       ]
      },
      {
       "output_type": "stream",
       "stream": "stderr",
       "text": [
        " 8 9\n",
        "Obadia 1\n",
        "Jona 1 2 3 4\n",
        "Micha 1 2 3 4 5 6 7\n",
        "Nahum 1 2 3\n",
        "Habakuk 1 2 3\n",
        "Zephania 1 2 3\n",
        "Haggai 1 2\n",
        "Sacharia 1 2"
       ]
      },
      {
       "output_type": "stream",
       "stream": "stderr",
       "text": [
        " 3 4 5 6 7 8 9 10 11 12 13 14\n",
        "Maleachi 1 2 3\n",
        "Psalmi 1 2 3 4 5 6 7 8 9 10 11 12 13 14 15 16 17 18 19 20"
       ]
      },
      {
       "output_type": "stream",
       "stream": "stderr",
       "text": [
        " 21 22 23 24 25 26 27 28 29 30 31 32 33 34 35 36 37 38 39 40 41 42 43 44 45 46 47 48 49 50 51 52 53 54 55 56 57 58 59 60 61 62 63 64 65 66 67 68"
       ]
      },
      {
       "output_type": "stream",
       "stream": "stderr",
       "text": [
        " 69 70 71 72 73 74 75 76 77 78 79 80 81 82 83 84 85 86 87 88 89 90 91 92 93 94 95 96 97 98 99 100 101 102 103 104 105 106 107 108"
       ]
      },
      {
       "output_type": "stream",
       "stream": "stderr",
       "text": [
        " 109 110 111 112 113 114 115 116 117 118 119 120 121 122 123 124 125 126 127 128 129 130 131 132 133 134 135 136 137 138 139 140 141 142 143 144 145 146 147 148 149 150\n",
        "Iob 1 2 3 4 5 6 7 8"
       ]
      },
      {
       "output_type": "stream",
       "stream": "stderr",
       "text": [
        " 9 10 11 12 13 14 15 16 17 18 19 20 21 22 23 24 25 26 27 28 29 30 31 32 33 34 35 36 37 38 39"
       ]
      },
      {
       "output_type": "stream",
       "stream": "stderr",
       "text": [
        " 40 41 42\n",
        "Proverbia 1 2 3 4 5 6 7 8 9 10 11 12 13 14 15 16 17 18 19 20 21 22 23 24 25"
       ]
      },
      {
       "output_type": "stream",
       "stream": "stderr",
       "text": [
        " 26 27 28 29 30 31\n",
        "Ruth 1 2 3 4\n",
        "Canticum 1 2 3 4 5 6 7 8\n",
        "Ecclesiastes 1 2 3 4 5 6 7 8"
       ]
      },
      {
       "output_type": "stream",
       "stream": "stderr",
       "text": [
        " 9 10 11 12\n",
        "Threni 1 2 3 4 5\n",
        "Esther 1 2 3 4 5 6 7 8 9 10\n",
        "Daniel 1 2 3"
       ]
      },
      {
       "output_type": "stream",
       "stream": "stderr",
       "text": [
        " 4 5 6 7 8 9 10 11 12\n",
        "Esra 1 2 3 4 5 6 7 8"
       ]
      },
      {
       "output_type": "stream",
       "stream": "stderr",
       "text": [
        " 9 10\n",
        "Nehemia 1 2 3 4 5 6 7 8 9 10 11 12 13\n",
        "Chronica_I"
       ]
      },
      {
       "output_type": "stream",
       "stream": "stderr",
       "text": [
        " 1 2 3 4 5 6 7 8 9 10 11 12 13 14 15 16 17"
       ]
      },
      {
       "output_type": "stream",
       "stream": "stderr",
       "text": [
        " 18 19 20 21 22 23 24 25 26 27 28 29\n",
        "Chronica_II 1 2 3 4 5"
       ]
      },
      {
       "output_type": "stream",
       "stream": "stderr",
       "text": [
        " 6 7 8 9 10 11 12 13 14 15 16 17 18 19 20 21"
       ]
      },
      {
       "output_type": "stream",
       "stream": "stderr",
       "text": [
        " 22 23 24 25 26 27 28 29 30 31 32 33 34"
       ]
      },
      {
       "output_type": "stream",
       "stream": "stderr",
       "text": [
        " 35 36"
       ]
      }
     ],
     "prompt_number": 6
    },
    {
     "cell_type": "heading",
     "level": 1,
     "metadata": {},
     "source": [
      "Closing"
     ]
    },
    {
     "cell_type": "markdown",
     "metadata": {},
     "source": [
      "We need to close open files. This is exactly what the next statement does."
     ]
    },
    {
     "cell_type": "code",
     "collapsed": false,
     "input": [
      "close()"
     ],
     "language": "python",
     "metadata": {},
     "outputs": [
      {
       "output_type": "stream",
       "stream": "stderr",
       "text": [
        " 1m 35s Results directory:\n",
        "/Users/dirk/Dropbox/laf-fabric-output/etcbc4/gender\n"
       ]
      },
      {
       "output_type": "stream",
       "stream": "stderr",
       "text": [
        "\n",
        "__log__gender.txt                       213 Wed Nov 12 10:56:05 2014\n",
        "table.tsv                             43253 Wed Nov 12 10:56:05 2014\n"
       ]
      }
     ],
     "prompt_number": 7
    },
    {
     "cell_type": "heading",
     "level": 1,
     "metadata": {},
     "source": [
      "Showing off"
     ]
    },
    {
     "cell_type": "markdown",
     "metadata": {},
     "source": [
      "Everything is still in memory. Now it is the time to generate a graphical representation of the data.\n",
      "\n",
      "The *matplotlib* package is full of instruments to do that.\n",
      "\n",
      "But let us first have a look at a few rows of the data itself."
     ]
    },
    {
     "cell_type": "code",
     "collapsed": false,
     "input": [
      "import pandas\n",
      "import matplotlib.pyplot as plt\n",
      "from IPython.display import display\n",
      "pandas.set_option('display.notebook_repr_html', True)\n",
      "%matplotlib inline"
     ],
     "language": "python",
     "metadata": {},
     "outputs": [],
     "prompt_number": 8
    },
    {
     "cell_type": "markdown",
     "metadata": {},
     "source": [
      "The files that have been generated reside in a subdirectory of your work directory.\n",
      "You can easily refer to them as follows:"
     ]
    },
    {
     "cell_type": "code",
     "collapsed": false,
     "input": [
      "table_file = my_file('table.tsv')\n",
      "df = pandas.read_csv(table_file)"
     ],
     "language": "python",
     "metadata": {},
     "outputs": [],
     "prompt_number": 9
    },
    {
     "cell_type": "code",
     "collapsed": false,
     "input": [
      "df.head(100)"
     ],
     "language": "python",
     "metadata": {},
     "outputs": [
      {
       "html": [
        "<div style=\"max-height:1000px;max-width:1500px;overflow:auto;\">\n",
        "<table border=\"1\" class=\"dataframe\">\n",
        "  <thead>\n",
        "    <tr style=\"text-align: right;\">\n",
        "      <th></th>\n",
        "      <th>book chapter</th>\n",
        "      <th>masculine</th>\n",
        "      <th>feminine</th>\n",
        "    </tr>\n",
        "  </thead>\n",
        "  <tbody>\n",
        "    <tr>\n",
        "      <th>0 </th>\n",
        "      <td>  Genesis 1</td>\n",
        "      <td> 42.347697</td>\n",
        "      <td>  5.794948</td>\n",
        "    </tr>\n",
        "    <tr>\n",
        "      <th>1 </th>\n",
        "      <td>  Genesis 2</td>\n",
        "      <td> 38.663968</td>\n",
        "      <td>  7.692308</td>\n",
        "    </tr>\n",
        "    <tr>\n",
        "      <th>2 </th>\n",
        "      <td>  Genesis 3</td>\n",
        "      <td> 37.474950</td>\n",
        "      <td> 10.020040</td>\n",
        "    </tr>\n",
        "    <tr>\n",
        "      <th>3 </th>\n",
        "      <td>  Genesis 4</td>\n",
        "      <td> 43.046358</td>\n",
        "      <td> 11.920530</td>\n",
        "    </tr>\n",
        "    <tr>\n",
        "      <th>4 </th>\n",
        "      <td>  Genesis 5</td>\n",
        "      <td> 40.748441</td>\n",
        "      <td> 18.918919</td>\n",
        "    </tr>\n",
        "    <tr>\n",
        "      <th>5 </th>\n",
        "      <td>  Genesis 6</td>\n",
        "      <td> 36.613272</td>\n",
        "      <td>  9.610984</td>\n",
        "    </tr>\n",
        "    <tr>\n",
        "      <th>6 </th>\n",
        "      <td>  Genesis 7</td>\n",
        "      <td> 33.596838</td>\n",
        "      <td> 11.462451</td>\n",
        "    </tr>\n",
        "    <tr>\n",
        "      <th>7 </th>\n",
        "      <td>  Genesis 8</td>\n",
        "      <td> 31.300813</td>\n",
        "      <td>  9.959350</td>\n",
        "    </tr>\n",
        "    <tr>\n",
        "      <th>8 </th>\n",
        "      <td>  Genesis 9</td>\n",
        "      <td> 37.972167</td>\n",
        "      <td>  9.741551</td>\n",
        "    </tr>\n",
        "    <tr>\n",
        "      <th>9 </th>\n",
        "      <td> Genesis 10</td>\n",
        "      <td> 30.679157</td>\n",
        "      <td>  4.683841</td>\n",
        "    </tr>\n",
        "    <tr>\n",
        "      <th>10</th>\n",
        "      <td> Genesis 11</td>\n",
        "      <td> 38.416988</td>\n",
        "      <td> 15.057915</td>\n",
        "    </tr>\n",
        "    <tr>\n",
        "      <th>11</th>\n",
        "      <td> Genesis 12</td>\n",
        "      <td> 31.151832</td>\n",
        "      <td> 10.209424</td>\n",
        "    </tr>\n",
        "    <tr>\n",
        "      <th>12</th>\n",
        "      <td> Genesis 13</td>\n",
        "      <td> 36.994220</td>\n",
        "      <td>  3.757225</td>\n",
        "    </tr>\n",
        "    <tr>\n",
        "      <th>13</th>\n",
        "      <td> Genesis 14</td>\n",
        "      <td> 40.393013</td>\n",
        "      <td>  4.148472</td>\n",
        "    </tr>\n",
        "    <tr>\n",
        "      <th>14</th>\n",
        "      <td> Genesis 15</td>\n",
        "      <td> 36.187845</td>\n",
        "      <td>  5.524862</td>\n",
        "    </tr>\n",
        "    <tr>\n",
        "      <th>15</th>\n",
        "      <td> Genesis 16</td>\n",
        "      <td> 29.794521</td>\n",
        "      <td> 22.945205</td>\n",
        "    </tr>\n",
        "    <tr>\n",
        "      <th>16</th>\n",
        "      <td> Genesis 17</td>\n",
        "      <td> 41.299790</td>\n",
        "      <td> 11.111111</td>\n",
        "    </tr>\n",
        "    <tr>\n",
        "      <th>17</th>\n",
        "      <td> Genesis 18</td>\n",
        "      <td> 34.028892</td>\n",
        "      <td>  8.346709</td>\n",
        "    </tr>\n",
        "    <tr>\n",
        "      <th>18</th>\n",
        "      <td> Genesis 19</td>\n",
        "      <td> 30.900243</td>\n",
        "      <td> 10.705596</td>\n",
        "    </tr>\n",
        "    <tr>\n",
        "      <th>19</th>\n",
        "      <td> Genesis 20</td>\n",
        "      <td> 35.638298</td>\n",
        "      <td> 11.702128</td>\n",
        "    </tr>\n",
        "    <tr>\n",
        "      <th>20</th>\n",
        "      <td> Genesis 21</td>\n",
        "      <td> 35.559265</td>\n",
        "      <td> 12.520868</td>\n",
        "    </tr>\n",
        "    <tr>\n",
        "      <th>21</th>\n",
        "      <td> Genesis 22</td>\n",
        "      <td> 38.132296</td>\n",
        "      <td>  5.252918</td>\n",
        "    </tr>\n",
        "    <tr>\n",
        "      <th>22</th>\n",
        "      <td> Genesis 23</td>\n",
        "      <td> 38.873995</td>\n",
        "      <td>  9.115282</td>\n",
        "    </tr>\n",
        "    <tr>\n",
        "      <th>23</th>\n",
        "      <td> Genesis 24</td>\n",
        "      <td> 32.750760</td>\n",
        "      <td> 12.993921</td>\n",
        "    </tr>\n",
        "    <tr>\n",
        "      <th>24</th>\n",
        "      <td> Genesis 25</td>\n",
        "      <td> 42.572464</td>\n",
        "      <td> 10.326087</td>\n",
        "    </tr>\n",
        "    <tr>\n",
        "      <th>25</th>\n",
        "      <td> Genesis 26</td>\n",
        "      <td> 36.930091</td>\n",
        "      <td>  8.662614</td>\n",
        "    </tr>\n",
        "    <tr>\n",
        "      <th>26</th>\n",
        "      <td> Genesis 27</td>\n",
        "      <td> 42.129630</td>\n",
        "      <td>  7.754630</td>\n",
        "    </tr>\n",
        "    <tr>\n",
        "      <th>27</th>\n",
        "      <td> Genesis 28</td>\n",
        "      <td> 36.444444</td>\n",
        "      <td>  8.444444</td>\n",
        "    </tr>\n",
        "    <tr>\n",
        "      <th>28</th>\n",
        "      <td> Genesis 29</td>\n",
        "      <td> 30.745342</td>\n",
        "      <td> 18.012422</td>\n",
        "    </tr>\n",
        "    <tr>\n",
        "      <th>29</th>\n",
        "      <td> Genesis 30</td>\n",
        "      <td> 32.655654</td>\n",
        "      <td> 15.374841</td>\n",
        "    </tr>\n",
        "    <tr>\n",
        "      <th>30</th>\n",
        "      <td> Genesis 31</td>\n",
        "      <td> 39.428571</td>\n",
        "      <td>  7.428571</td>\n",
        "    </tr>\n",
        "    <tr>\n",
        "      <th>31</th>\n",
        "      <td> Genesis 32</td>\n",
        "      <td> 37.674419</td>\n",
        "      <td>  6.821705</td>\n",
        "    </tr>\n",
        "    <tr>\n",
        "      <th>32</th>\n",
        "      <td> Genesis 33</td>\n",
        "      <td> 32.266667</td>\n",
        "      <td>  9.600000</td>\n",
        "    </tr>\n",
        "    <tr>\n",
        "      <th>33</th>\n",
        "      <td> Genesis 34</td>\n",
        "      <td> 30.976431</td>\n",
        "      <td> 10.774411</td>\n",
        "    </tr>\n",
        "    <tr>\n",
        "      <th>34</th>\n",
        "      <td> Genesis 35</td>\n",
        "      <td> 33.992095</td>\n",
        "      <td> 10.869565</td>\n",
        "    </tr>\n",
        "    <tr>\n",
        "      <th>35</th>\n",
        "      <td> Genesis 36</td>\n",
        "      <td> 48.613377</td>\n",
        "      <td>  9.787928</td>\n",
        "    </tr>\n",
        "    <tr>\n",
        "      <th>36</th>\n",
        "      <td> Genesis 37</td>\n",
        "      <td> 37.794118</td>\n",
        "      <td>  6.029412</td>\n",
        "    </tr>\n",
        "    <tr>\n",
        "      <th>37</th>\n",
        "      <td> Genesis 38</td>\n",
        "      <td> 30.647986</td>\n",
        "      <td> 14.185639</td>\n",
        "    </tr>\n",
        "    <tr>\n",
        "      <th>38</th>\n",
        "      <td> Genesis 39</td>\n",
        "      <td> 39.558233</td>\n",
        "      <td>  4.819277</td>\n",
        "    </tr>\n",
        "    <tr>\n",
        "      <th>39</th>\n",
        "      <td> Genesis 40</td>\n",
        "      <td> 43.835616</td>\n",
        "      <td>  4.337900</td>\n",
        "    </tr>\n",
        "    <tr>\n",
        "      <th>40</th>\n",
        "      <td> Genesis 41</td>\n",
        "      <td> 33.271548</td>\n",
        "      <td> 12.140871</td>\n",
        "    </tr>\n",
        "    <tr>\n",
        "      <th>41</th>\n",
        "      <td> Genesis 42</td>\n",
        "      <td> 38.276836</td>\n",
        "      <td>  3.107345</td>\n",
        "    </tr>\n",
        "    <tr>\n",
        "      <th>42</th>\n",
        "      <td> Genesis 43</td>\n",
        "      <td> 36.402878</td>\n",
        "      <td>  4.316547</td>\n",
        "    </tr>\n",
        "    <tr>\n",
        "      <th>43</th>\n",
        "      <td> Genesis 44</td>\n",
        "      <td> 38.834951</td>\n",
        "      <td>  3.883495</td>\n",
        "    </tr>\n",
        "    <tr>\n",
        "      <th>44</th>\n",
        "      <td> Genesis 45</td>\n",
        "      <td> 38.447320</td>\n",
        "      <td>  5.914972</td>\n",
        "    </tr>\n",
        "    <tr>\n",
        "      <th>45</th>\n",
        "      <td> Genesis 46</td>\n",
        "      <td> 38.721137</td>\n",
        "      <td>  8.525755</td>\n",
        "    </tr>\n",
        "    <tr>\n",
        "      <th>46</th>\n",
        "      <td> Genesis 47</td>\n",
        "      <td> 34.412955</td>\n",
        "      <td>  6.747638</td>\n",
        "    </tr>\n",
        "    <tr>\n",
        "      <th>47</th>\n",
        "      <td> Genesis 48</td>\n",
        "      <td> 34.375000</td>\n",
        "      <td>  4.375000</td>\n",
        "    </tr>\n",
        "    <tr>\n",
        "      <th>48</th>\n",
        "      <td> Genesis 49</td>\n",
        "      <td> 41.078838</td>\n",
        "      <td> 11.203320</td>\n",
        "    </tr>\n",
        "    <tr>\n",
        "      <th>49</th>\n",
        "      <td> Genesis 50</td>\n",
        "      <td> 40.518962</td>\n",
        "      <td>  3.592814</td>\n",
        "    </tr>\n",
        "    <tr>\n",
        "      <th>50</th>\n",
        "      <td>   Exodus 1</td>\n",
        "      <td> 30.085960</td>\n",
        "      <td> 12.607450</td>\n",
        "    </tr>\n",
        "    <tr>\n",
        "      <th>51</th>\n",
        "      <td>   Exodus 2</td>\n",
        "      <td> 30.724070</td>\n",
        "      <td> 15.068493</td>\n",
        "    </tr>\n",
        "    <tr>\n",
        "      <th>52</th>\n",
        "      <td>   Exodus 3</td>\n",
        "      <td> 35.661765</td>\n",
        "      <td>  4.044118</td>\n",
        "    </tr>\n",
        "    <tr>\n",
        "      <th>53</th>\n",
        "      <td>   Exodus 4</td>\n",
        "      <td> 40.375587</td>\n",
        "      <td>  3.286385</td>\n",
        "    </tr>\n",
        "    <tr>\n",
        "      <th>54</th>\n",
        "      <td>   Exodus 5</td>\n",
        "      <td> 40.950226</td>\n",
        "      <td>  3.846154</td>\n",
        "    </tr>\n",
        "    <tr>\n",
        "      <th>55</th>\n",
        "      <td>   Exodus 6</td>\n",
        "      <td> 35.327103</td>\n",
        "      <td>  8.224299</td>\n",
        "    </tr>\n",
        "    <tr>\n",
        "      <th>56</th>\n",
        "      <td>   Exodus 7</td>\n",
        "      <td> 38.016529</td>\n",
        "      <td>  3.305785</td>\n",
        "    </tr>\n",
        "    <tr>\n",
        "      <th>57</th>\n",
        "      <td>   Exodus 8</td>\n",
        "      <td> 36.392405</td>\n",
        "      <td>  4.905063</td>\n",
        "    </tr>\n",
        "    <tr>\n",
        "      <th>58</th>\n",
        "      <td>   Exodus 9</td>\n",
        "      <td> 39.318480</td>\n",
        "      <td>  4.062910</td>\n",
        "    </tr>\n",
        "    <tr>\n",
        "      <th>59</th>\n",
        "      <td>  Exodus 10</td>\n",
        "      <td> 40.361446</td>\n",
        "      <td>  3.012048</td>\n",
        "    </tr>\n",
        "    <tr>\n",
        "      <th></th>\n",
        "      <td>...</td>\n",
        "      <td>...</td>\n",
        "      <td>...</td>\n",
        "    </tr>\n",
        "  </tbody>\n",
        "</table>\n",
        "<p>100 rows \u00d7 3 columns</p>\n",
        "</div>"
       ],
       "metadata": {},
       "output_type": "pyout",
       "prompt_number": 11,
       "text": [
        "   book chapter  masculine   feminine\n",
        "0     Genesis 1  42.347697   5.794948\n",
        "1     Genesis 2  38.663968   7.692308\n",
        "2     Genesis 3  37.474950  10.020040\n",
        "3     Genesis 4  43.046358  11.920530\n",
        "4     Genesis 5  40.748441  18.918919\n",
        "5     Genesis 6  36.613272   9.610984\n",
        "6     Genesis 7  33.596838  11.462451\n",
        "7     Genesis 8  31.300813   9.959350\n",
        "8     Genesis 9  37.972167   9.741551\n",
        "9    Genesis 10  30.679157   4.683841\n",
        "10   Genesis 11  38.416988  15.057915\n",
        "11   Genesis 12  31.151832  10.209424\n",
        "12   Genesis 13  36.994220   3.757225\n",
        "13   Genesis 14  40.393013   4.148472\n",
        "14   Genesis 15  36.187845   5.524862\n",
        "15   Genesis 16  29.794521  22.945205\n",
        "16   Genesis 17  41.299790  11.111111\n",
        "17   Genesis 18  34.028892   8.346709\n",
        "18   Genesis 19  30.900243  10.705596\n",
        "19   Genesis 20  35.638298  11.702128\n",
        "20   Genesis 21  35.559265  12.520868\n",
        "21   Genesis 22  38.132296   5.252918\n",
        "22   Genesis 23  38.873995   9.115282\n",
        "23   Genesis 24  32.750760  12.993921\n",
        "24   Genesis 25  42.572464  10.326087\n",
        "25   Genesis 26  36.930091   8.662614\n",
        "26   Genesis 27  42.129630   7.754630\n",
        "27   Genesis 28  36.444444   8.444444\n",
        "28   Genesis 29  30.745342  18.012422\n",
        "29   Genesis 30  32.655654  15.374841\n",
        "30   Genesis 31  39.428571   7.428571\n",
        "31   Genesis 32  37.674419   6.821705\n",
        "32   Genesis 33  32.266667   9.600000\n",
        "33   Genesis 34  30.976431  10.774411\n",
        "34   Genesis 35  33.992095  10.869565\n",
        "35   Genesis 36  48.613377   9.787928\n",
        "36   Genesis 37  37.794118   6.029412\n",
        "37   Genesis 38  30.647986  14.185639\n",
        "38   Genesis 39  39.558233   4.819277\n",
        "39   Genesis 40  43.835616   4.337900\n",
        "40   Genesis 41  33.271548  12.140871\n",
        "41   Genesis 42  38.276836   3.107345\n",
        "42   Genesis 43  36.402878   4.316547\n",
        "43   Genesis 44  38.834951   3.883495\n",
        "44   Genesis 45  38.447320   5.914972\n",
        "45   Genesis 46  38.721137   8.525755\n",
        "46   Genesis 47  34.412955   6.747638\n",
        "47   Genesis 48  34.375000   4.375000\n",
        "48   Genesis 49  41.078838  11.203320\n",
        "49   Genesis 50  40.518962   3.592814\n",
        "50     Exodus 1  30.085960  12.607450\n",
        "51     Exodus 2  30.724070  15.068493\n",
        "52     Exodus 3  35.661765   4.044118\n",
        "53     Exodus 4  40.375587   3.286385\n",
        "54     Exodus 5  40.950226   3.846154\n",
        "55     Exodus 6  35.327103   8.224299\n",
        "56     Exodus 7  38.016529   3.305785\n",
        "57     Exodus 8  36.392405   4.905063\n",
        "58     Exodus 9  39.318480   4.062910\n",
        "59    Exodus 10  40.361446   3.012048\n",
        "            ...        ...        ...\n",
        "\n",
        "[100 rows x 3 columns]"
       ]
      }
     ],
     "prompt_number": 11
    },
    {
     "cell_type": "markdown",
     "metadata": {},
     "source": [
      "Now let's get *matplotlib* to work.\n",
      "Here we just show a line graph of 20 chapters.\n",
      "If you want to see another series of chapters,\n",
      "just modify the *start* and *end* variables below and execute again by pressing *Shift Enter*.\n",
      "You can repeat this as often as you like without re-running earlier steps."
     ]
    },
    {
     "cell_type": "code",
     "collapsed": false,
     "input": [
      "x = range(len(ch))\n",
      "start = 100\n",
      "end = 120\n",
      "fig = plt.figure()\n",
      "plt.plot(x[start:end], m[start:end], 'b-', x[start:end], f[start:end], 'r-')\n",
      "plt.axis([start, end, 0, 50])\n",
      "plt.xticks(x[start:end], ch[start:end], rotation='vertical')\n",
      "plt.margins(0.2)\n",
      "plt.subplots_adjust(bottom=0.15);\n",
      "plt.title('gender');"
     ],
     "language": "python",
     "metadata": {},
     "outputs": [
      {
       "metadata": {},
       "output_type": "display_data",
       "png": "[encoded data removed]",
       "text": [
        "<matplotlib.figure.Figure at 0x118729e10>"
       ]
      }
     ],
     "prompt_number": 13
    },
    {
     "cell_type": "heading",
     "level": 2,
     "metadata": {},
     "source": [
      "Note the chapters where the feminine words peak: Leviticus 12 and 18."
     ]
    },
    {
     "cell_type": "markdown",
     "metadata": {},
     "source": [
      "Finally, save the chart."
     ]
    },
    {
     "cell_type": "code",
     "collapsed": false,
     "input": [
      "fig.savefig('gender.png')"
     ],
     "language": "python",
     "metadata": {},
     "outputs": [],
     "prompt_number": 15
    },
    {
     "cell_type": "markdown",
     "metadata": {},
     "source": [
      "![saved chart](gender.png)"
     ]
    }
   ],
   "metadata": {}
  }
 ]
}