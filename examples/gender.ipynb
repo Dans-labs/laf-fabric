{
 "metadata": {
  "name": "",
  "signature": "sha256:000dfe43a4b1221394ee27cbb4cc2f7eb6b4b8f8dbec8a6d1547c8e97e38d8ce"
 },
 "nbformat": 3,
 "nbformat_minor": 0,
 "worksheets": [
  {
   "cells": [
    {
     "cell_type": "markdown",
     "metadata": {},
     "source": [
      "<a href=\"http://laf-fabric.readthedocs.org/en/latest/\" target=\"_blank\"><img align=\"left\" src=\"images/laf-fabric-xsmall.png\"/></a>\n",
      "<a href=\"http://www.godgeleerdheid.vu.nl/etcbc\" target=\"_blank\"><img align=\"left\" src=\"images/VU-ETCBC-xsmall.png\"/></a>\n",
      "<a href=\"http://tla.mpi.nl\" target=\"_blank\"><img align=\"right\" src=\"images/TLA-xsmall.png\"/></a>\n",
      "<a href=\"http://www.dans.knaw.nl\" target=\"_blank\"><img align=\"right\"src=\"images/DANS-xsmall.png\"/></a>"
     ]
    },
    {
     "cell_type": "heading",
     "level": 1,
     "metadata": {},
     "source": [
      "About this notebook"
     ]
    },
    {
     "cell_type": "markdown",
     "metadata": {},
     "source": [
      "This notebook illustrates the working of LAF-Fabric, a tool to analyze the data inside *LAF* resources (Linguistic Annotation Framework). We use it for a particular LAF resource: the Hebrew Bible with linguistic annotations. The software to get the Hebrew Bible in LAF and the LAF-Fabric are on github and are documented here: [WIVU2LAF](http://wivu2laf.readthedocs.org) and [LAF-Fabric](http://laf-fabric.readthedocs.org). There you can find more information on the provenance of the data.\n",
      "\n",
      "> **NB 1.** This is a static copy of the Gender notebook. You can download it, and if you have iPython installed and the LAF-Fabric, then you can run this notebook. And you can create many more notebooks like this, looking for patterns in the Hebrew Bible.\n",
      "\n",
      "> **NB 2.** All software involved is open source, but the data is not freely available. We are working on a version of the data that may be distributed freely.\n",
      "If you are seriously interested in working with this tool, we can grant you non-commercial access to the data. Just drop a mail to [Wido van Peursen](mailto:w.t.van.peursen@vu.nl) or [Dirk Roorda](mailto:dirk.roorda@dans.knaw.nl)."
     ]
    },
    {
     "cell_type": "heading",
     "level": 1,
     "metadata": {},
     "source": [
      "Gender in the Hebrew Bible"
     ]
    },
    {
     "cell_type": "markdown",
     "metadata": {},
     "source": [
      "Words in Hebrew are either masculine, or feminine, or unknown.\n",
      "\n",
      "We want to plot the percentage of masculine and feminine words per chapter."
     ]
    },
    {
     "cell_type": "markdown",
     "metadata": {},
     "source": [
      "## The LAF way\n",
      "In the Hebrew LAF data, some nodes are annotated as ``word``, and some nodes as ``chapter``\n",
      "(there are many more kinds of node, of course).\n",
      "\n",
      "The names of chapters and the genders of words are coded as features inside annotations to these\n",
      "nodes.\n",
      "\n",
      "## More on feature names\n",
      "The features we need are present in an annotation space named ``shebanq`` (after the project\n",
      "that produced this LAF resource).\n",
      "The chapter features are labeled with ``sft`` and the other features with ``ft``.\n",
      "\n",
      "When LAF-Fabric compiles features into binary data, it forgets the annotations in which the features come,\n",
      "but the annotation *space* and *label* are retained in a double prefix to the feature name.\n",
      "\n",
      "LAF-Fabric remembers those features by their *fully qualified* names: ``shebanq:ft.gender``, ``shebanq:sft.chapter`` etc.\n",
      "There may also be annotations without feature contents. Such annotations will be stored as features with as name the \n",
      "annotation label only, without the dot: ``shebanq:db``.\n",
      "\n",
      "**N.B.**\n",
      "Annotations may reference nodes or edges.\n",
      "It is possible that nodes and edges have features with the same name. \n",
      "However, LAF-Fabric maintains a strict distinction between features\n",
      "of nodes and features of edges. They have separate name spaces, implicitly.\n",
      "Features names that are used for nodes and edges may coexist, but their\n",
      "data are in separate tables."
     ]
    },
    {
     "cell_type": "heading",
     "level": 1,
     "metadata": {},
     "source": [
      "Importing"
     ]
    },
    {
     "cell_type": "markdown",
     "metadata": {},
     "source": [
      "The next cell loads the required libraries and creates a task processor."
     ]
    },
    {
     "cell_type": "code",
     "collapsed": false,
     "input": [
      "import sys\n",
      "import collections\n",
      "\n",
      "from laf.fabric import LafFabric\n",
      "fabric = LafFabric(verbose='DETAIL')"
     ],
     "language": "python",
     "metadata": {},
     "outputs": [
      {
       "output_type": "stream",
       "stream": "stderr",
       "text": [
        "  0.00s This is LAF-Fabric 4.2.15\n",
        "http://laf-fabric.readthedocs.org/en/latest/texts/API-reference.html\n"
       ]
      }
     ],
     "prompt_number": 1
    },
    {
     "cell_type": "heading",
     "level": 1,
     "metadata": {},
     "source": [
      "Loading"
     ]
    },
    {
     "cell_type": "markdown",
     "metadata": {},
     "source": [
      "The processor needs data. Here is where we say what data to load. We do not need the XML identifiers as they show up in the original LAF resource. But we do need a few features of nodes, namely the ones that give us the gender of the words, and the numbers of the chapters and the books in which the chapters are contained.\n",
      "\n",
      "The *init* function actually draws that data in, and it will take a few seconds. \n",
      "\n",
      "It needs to know the name of the **source**. \n",
      "This name corresponds with a subdirectory in your *work_dir*, \n",
      "or with the name of a LAF header file (in fact a*GrAF* header file) in your original LAF source, if you have it.\n",
      "\n",
      "The '--' means that we do not draw in an **annox** (extra annotation package). \n",
      "If you want to do that, this is the place to give the name of such a package, which must be a subdirectory name inside the *annotations* directory in your *work_dir*.\n",
      "\n",
      "Then **gender** is just a name we choose to give to this task.\n",
      "This name determines where on the filesystem the log file and output (if any) will be put:\n",
      "a subdirectory *gender* inside the **source** directory inside your *work_dir*.\n",
      "\n",
      "The last argument to *init()* is a dictionary of data items to load.\n",
      "\n",
      "The **primary** key indicates whether the primary data itself must be loaded.\n",
      "Tasks can then use methods to find the primary data that is attached to a node.\n",
      "For the Hebrew data this is hardly necessary, because the words have textual information as features on them.\n",
      "\n",
      "The **xmlids** are tables mapping nodes and edges to the original xml identifiers they have in the original LAF source.\n",
      "Most tasks do not need this.\n",
      "Only when a task needs to link new annotations to nodes and edges and write the result as an additional LAF file,\n",
      "it needs to know the original identifiers.\n",
      "\n",
      "The **features** to be loaded are specified in a dictionary, keyed by annotation spaces first\n",
      "and then by kind (node or edge). Under those keys the declaration proceeds\n",
      "with a list of lines specifying bunches of features as follows::\n",
      "\n",
      "    \u00abannotation label\u00bb.\u00abfeature names\u00bb\n",
      "\n",
      "where ``\u00abfeature names\u00bb`` is a comma separated list of feature names without annotation labels.\n",
      "For all implied features ``\u00abannotation space\u00bb:\u00abannotion label\u00bb.\u00abfeature name\u00bb`` of the chosen kind (node or edge),\n",
      "data will be loaded.\n",
      "\n",
      "For all other features data will be unloaded, if still loaded.\n",
      "\n",
      "**Caution: Missing feature data**\n",
      "\n",
      "If you forget to mention a feature in the load declaration and you\n",
      "do use it in your task,\n",
      "LAF-Fabric will stop your task and shout error messages at you.\n",
      "If you declare features that do not exist in the LAF data, you just get\n",
      "a warning. But if you try to use such features, you get also a loud error."
     ]
    },
    {
     "cell_type": "code",
     "collapsed": false,
     "input": [
      "fabric.load('bhs3', '--', 'gender',\n",
      "{\n",
      "    \"primary\": False,\n",
      "    \"xmlids\": {\"node\": False, \"edge\": False},\n",
      "    \"features\": (\"otype gender chapter book\", \"\"),\n",
      "})\n",
      "exec(fabric.localnames.format(var='fabric'))"
     ],
     "language": "python",
     "metadata": {},
     "outputs": [
      {
       "output_type": "stream",
       "stream": "stderr",
       "text": [
        "  0.00s LOADING API: please wait ... \n"
       ]
      },
      {
       "output_type": "stream",
       "stream": "stderr",
       "text": [
        "  0.00s DETAIL: COMPILING m: UP TO DATE\n"
       ]
      },
      {
       "output_type": "stream",
       "stream": "stderr",
       "text": [
        "  0.00s INFO: USING DATA COMPILED AT: 2014-06-27T12-21-04\n"
       ]
      },
      {
       "output_type": "stream",
       "stream": "stderr",
       "text": [
        "  0.00s DETAIL: COMPILING a: UP TO DATE\n"
       ]
      },
      {
       "output_type": "stream",
       "stream": "stderr",
       "text": [
        "  0.01s DETAIL: load main: G.node_anchor_min\n"
       ]
      },
      {
       "output_type": "stream",
       "stream": "stderr",
       "text": [
        "  0.08s DETAIL: load main: G.node_anchor_max\n"
       ]
      },
      {
       "output_type": "stream",
       "stream": "stderr",
       "text": [
        "  0.14s DETAIL: load main: G.node_sort\n"
       ]
      },
      {
       "output_type": "stream",
       "stream": "stderr",
       "text": [
        "  0.19s DETAIL: load main: G.node_sort_inv\n"
       ]
      },
      {
       "output_type": "stream",
       "stream": "stderr",
       "text": [
        "  0.59s DETAIL: load main: G.edges_from\n"
       ]
      },
      {
       "output_type": "stream",
       "stream": "stderr",
       "text": [
        "  0.64s DETAIL: load main: G.edges_to\n"
       ]
      },
      {
       "output_type": "stream",
       "stream": "stderr",
       "text": [
        "  0.68s DETAIL: load main: F.shebanq_db_otype [node] \n"
       ]
      },
      {
       "output_type": "stream",
       "stream": "stderr",
       "text": [
        "  1.34s DETAIL: load main: F.shebanq_ft_gender [node] \n"
       ]
      },
      {
       "output_type": "stream",
       "stream": "stderr",
       "text": [
        "  1.54s DETAIL: load main: F.shebanq_sft_book [node] \n"
       ]
      },
      {
       "output_type": "stream",
       "stream": "stderr",
       "text": [
        "  1.56s DETAIL: load main: F.shebanq_sft_chapter [node] \n"
       ]
      },
      {
       "output_type": "stream",
       "stream": "stderr",
       "text": [
        "  1.57s LOGFILE=/Users/dirk/laf-fabric-output/bhs3/gender/__log__gender.txt\n"
       ]
      },
      {
       "output_type": "stream",
       "stream": "stderr",
       "text": [
        "  1.57s INFO: DATA LOADED FROM SOURCE bhs3 AND ANNOX -- FOR TASK gender AT 2014-06-27T12-31-16\n"
       ]
      }
     ],
     "prompt_number": 2
    },
    {
     "cell_type": "heading",
     "level": 1,
     "metadata": {},
     "source": [
      "API"
     ]
    },
    {
     "cell_type": "markdown",
     "metadata": {},
     "source": [
      "In order to write an efficient task,\n",
      "it is convenient to import the names of the API methods as *local variables*.\n",
      "The lookup of names in Python is fastest for local names.\n",
      "And it makes the code much cleaner.\n",
      "\n",
      "The method *load()* does this.\n",
      "\n",
      "See the [API reference](http://laf-fabric.readthedocs.org/texts/API-reference.html) for full documentation.\n",
      "\n",
      "## F\n",
      "All that you want to know about features and are not afraid to ask.\n",
      "It is an object, and for each feature that you have declared, it has a member\n",
      "with a handy name. For example,\n",
      "\n",
      "    F.shebanq_db_otype\n",
      "\n",
      "is a feature object\n",
      "that corresponds with the LAF feature given in an annotation \n",
      "in the annotation space ``shebanq``, with label ``db`` and name ``otype``.\n",
      "It is a node feature, because otherwise we had to use ``FE`` instead of ``F``.\n",
      "\n",
      "You do not have to mention namespace and label, Laf-Fabric will find out what they should be\n",
      "given the available features. If there is confusion, Laf-Fabric will tell you, and you can supply\n",
      "more full names.\n",
      "\n",
      "You can look up a feature value of this feature, say for node ``n``,by saying\n",
      "\n",
      "    F.otype.v(n) \n",
      "\n",
      "## NN(test=function value=something values=list of somethings)\n",
      "If you want to walk through all the nodes, possibly skipping some, then this is your method.\n",
      "It is an *iterator* that yields a new node everytime it is called.\n",
      "The order is so-called *primary data order*, which will be explained below.\n",
      "The ``test`` and ``value`` and ``values`` arguments are optional.\n",
      "If given, ``test`` should be a *callable* with one argument, returning a string;\n",
      "``value`` should be a string, ``values`` a list of strings.\n",
      "``test`` will be called for each passing node,\n",
      "and if the value returned is not equal to the given ``value`` and not a member of ``values``,\n",
      "the node will be skipped.\n",
      "\n",
      "### msg\n",
      "Issues a timed message to the standard error and to the log file.\n",
      "\n",
      "### infile(filename)\n",
      "Creates a open file handle for reading a file in your task directory \n",
      "\n",
      "### outfile(filename)\n",
      "Creates a open file handle for writing a file in your task directory\n",
      "\n",
      "### my_file(filename)\n",
      "Gives the full path to a file in your task directory"
     ]
    },
    {
     "cell_type": "markdown",
     "metadata": {},
     "source": [
      "### Available features\n",
      "\n",
      "The *F_all* component delivers a list of available node features in the chosen source, \n",
      "and like wise *FE_all* yields the edge features.\n",
      "Let us see what we have got. For convenience, the components *fF_all* and *fFE_all* produce formatted outputs for\n",
      "these feature lists."
     ]
    },
    {
     "cell_type": "code",
     "collapsed": false,
     "input": [
      "print(fF_all)\n",
      "print(fFE_all)"
     ],
     "language": "python",
     "metadata": {},
     "outputs": [
      {
       "output_type": "stream",
       "stream": "stdout",
       "text": [
        "shebanq:\n",
        "\tdb.maxmonad:\n",
        "\tdb.minmonad:\n",
        "\tdb.monads:\n",
        "\tdb.oid:\n",
        "\tdb.otype:\n",
        "\tft.aramaic_definite_article:\n",
        "\tft.clause_atom_number:\n",
        "\tft.clause_atom_relation:\n",
        "\tft.clause_atom_relation_daughter_tense:\n",
        "\tft.clause_atom_relation_kind:\n",
        "\tft.clause_atom_relation_mother_tense:\n",
        "\tft.clause_atom_relation_preposition_class:\n",
        "\tft.clause_atom_type:\n",
        "\tft.clause_constituent_relation:\n",
        "\tft.clause_type:\n",
        "\tft.determination:\n",
        "\tft.domain:\n",
        "\tft.embedding_domain:\n",
        "\tft.gender:\n",
        "\tft.graphical_aramaic_definite_article:\n",
        "\tft.graphical_aramaic_definite_article_plain:\n",
        "\tft.graphical_lexeme:\n",
        "\tft.graphical_lexeme_utf8:\n",
        "\tft.graphical_locative:\n",
        "\tft.graphical_locative_plain:\n",
        "\tft.graphical_nominal_ending:\n",
        "\tft.graphical_nominal_ending_plain:\n",
        "\tft.graphical_preformative:\n",
        "\tft.graphical_preformative_plain:\n",
        "\tft.graphical_pron_suffix:\n",
        "\tft.graphical_pron_suffix_plain:\n",
        "\tft.graphical_root_formation:\n",
        "\tft.graphical_root_formation_plain:\n",
        "\tft.graphical_verbal_ending:\n",
        "\tft.graphical_verbal_ending_plain:\n",
        "\tft.graphical_word:\n",
        "\tft.indentation:\n",
        "\tft.is_apposition:\n",
        "\tft.language:\n",
        "\tft.levels_of_embedding:\n",
        "\tft.lexeme:\n",
        "\tft.lexeme_utf8:\n",
        "\tft.lexical_set:\n",
        "\tft.locative:\n",
        "\tft.noun_type:\n",
        "\tft.number:\n",
        "\tft.number_within_chapter:\n",
        "\tft.number_within_clause:\n",
        "\tft.number_within_sentence:\n",
        "\tft.old_lexeme:\n",
        "\tft.old_lexeme_utf8:\n",
        "\tft.paradigmatic_nominal_ending:\n",
        "\tft.paradigmatic_preformative:\n",
        "\tft.paradigmatic_pron_suffix:\n",
        "\tft.paradigmatic_root_formation:\n",
        "\tft.paradigmatic_verbal_ending:\n",
        "\tft.part_of_speech:\n",
        "\tft.person:\n",
        "\tft.phrase_atom_number:\n",
        "\tft.phrase_atom_relation:\n",
        "\tft.phrase_atom_type:\n",
        "\tft.phrase_dependent_part_of_speech:\n",
        "\tft.phrase_function:\n",
        "\tft.phrase_type:\n",
        "\tft.pronoun_type:\n",
        "\tft.sentence_atom_number:\n",
        "\tft.state:\n",
        "\tft.stem:\n",
        "\tft.subphrase_kind:\n",
        "\tft.subphrase_type:\n",
        "\tft.suffix:\n",
        "\tft.suffix_gender:\n",
        "\tft.suffix_number:\n",
        "\tft.suffix_person:\n",
        "\tft.surface_consonants:\n",
        "\tft.surface_consonants_utf8:\n",
        "\tft.tense:\n",
        "\tft.text:\n",
        "\tft.text_plain:\n",
        "\tft.text_type:\n",
        "\tft.vocalized_lexeme:\n",
        "\tft.vocalized_lexeme_utf8:\n",
        "\tft.word_number_within_book:\n",
        "\tsft.book:\n",
        "\tsft.chapter:\n",
        "\tsft.half_verse:\n",
        "\tsft.verse:\n",
        "\tsft.verse_label:\n",
        "laf:\n",
        "\t('', 'x'):\n",
        "\t('', 'y'):\n",
        "shebanq:\n",
        "\tft.mother:\n",
        "\tft.parents:\n"
       ]
      }
     ],
     "prompt_number": 3
    },
    {
     "cell_type": "heading",
     "level": 1,
     "metadata": {},
     "source": [
      "Task Execution"
     ]
    },
    {
     "cell_type": "markdown",
     "metadata": {},
     "source": [
      "We need to get an output file to write to.\n",
      "A simple method provides a handle to a file open for writing.\n",
      "The file will be created in the *work_dir*, under the subdir *bhs3.txt.hdr*, under the subdir *gender*."
     ]
    },
    {
     "cell_type": "code",
     "collapsed": false,
     "input": [
      "table = outfile('table.tsv')"
     ],
     "language": "python",
     "metadata": {},
     "outputs": [],
     "prompt_number": 4
    },
    {
     "cell_type": "markdown",
     "metadata": {},
     "source": [
      "All open files (reading and writing) will be closed with\n",
      "\n",
      "    close()\n",
      "\n",
      "below."
     ]
    },
    {
     "cell_type": "heading",
     "level": 2,
     "metadata": {},
     "source": [
      "Walking the nodes"
     ]
    },
    {
     "cell_type": "markdown",
     "metadata": {},
     "source": [
      "Here we loop over a bunch of nodes (in fact over all nodes), in a convenient document order.\n",
      "\n",
      "### Node order\n",
      "There is an implicit partial order on nodes.\n",
      "The short story is: the nodes that are linked to primary data, inherit the order that is present\n",
      "in the primary data.\n",
      "The long story is a bit more complicated, since nodes may be attached to multiple ranges of \n",
      "primary data.\n",
      "\n",
      "See [node order](http://laf-fabric.readthedocs.org/texts/API-reference.html#node-order) for details.\n",
      "If you don't, it might be enough to know\n",
      "that *embedding* nodes always come before *embedded* nodes, meaning that if a node happens \n",
      "to be attached to a big piece of primary data, and a second node to a part of that data,\n",
      "then the node with the bigger attachment comes first.\n",
      "\n",
      "When there is no inclusion either way, and the start and end points are the same, the order is left undefined. \n",
      "\n",
      "### Initialization\n",
      "We initialize the counters in which we store the word counts.\n",
      "We keep track of the chapter we are in and accumulate counts of the words, masculine and feminine.\n",
      "For each chapter we create entries in the *ch*, *m* and *f* lists.\n",
      "\n",
      "Note also the progress messages after each chapter."
     ]
    },
    {
     "cell_type": "code",
     "collapsed": false,
     "input": [
      "stats = [0, 0, 0]\n",
      "cur_chapter = None\n",
      "cur_book = None\n",
      "ch = []\n",
      "m = []\n",
      "f = []"
     ],
     "language": "python",
     "metadata": {},
     "outputs": [],
     "prompt_number": 5
    },
    {
     "cell_type": "code",
     "collapsed": false,
     "input": [
      "for node in NN():\n",
      "    otype = F.otype.v(node)\n",
      "    if otype == \"word\":\n",
      "        stats[0] += 1\n",
      "        if F.gender.v(node) == \"masculine\":\n",
      "            stats[1] += 1\n",
      "        elif F.gender.v(node) == \"feminine\":\n",
      "            stats[2] += 1\n",
      "    elif otype == \"chapter\":\n",
      "        if cur_chapter != None:\n",
      "            masc = 0 if not stats[0] else 100 * float(stats[1]) / stats[0]\n",
      "            fem = 0 if not stats[0] else 100 * float(stats[2]) / stats[0]\n",
      "            ch.append(cur_chapter)\n",
      "            m.append(masc)\n",
      "            f.append(fem)\n",
      "            table.write(\"{},{},{}\\n\".format(cur_chapter, masc, fem))\n",
      "        else:\n",
      "            table.write(\"{},{},{}\\n\".format('book chapter', 'masculine', 'feminine'))\n",
      "        this_book = F.book.v(node)\n",
      "        this_chapnum = F.chapter.v(node)\n",
      "        this_chapter = \"{} {}\".format(this_book, this_chapnum)\n",
      "        if this_book != cur_book:\n",
      "            sys.stderr.write(\"\\n{}\".format(this_book))\n",
      "            cur_book = this_book\n",
      "        sys.stderr.write(\" {}\".format(this_chapnum))\n",
      "        stats = [0, 0, 0]\n",
      "        cur_chapter = this_chapter"
     ],
     "language": "python",
     "metadata": {},
     "outputs": [
      {
       "output_type": "stream",
       "stream": "stderr",
       "text": [
        "\n",
        "Genesis 1 2 3 4 5 6 7 8 9 10 11 12 13 14 15"
       ]
      },
      {
       "output_type": "stream",
       "stream": "stderr",
       "text": [
        " 16 17 18 19 20 21 22 23 24 25 26"
       ]
      },
      {
       "output_type": "stream",
       "stream": "stderr",
       "text": [
        " 27 28 29 30 31 32 33 34 35 36 37 38 39 40 41"
       ]
      },
      {
       "output_type": "stream",
       "stream": "stderr",
       "text": [
        " 42 43 44 45 46 47 48 49 50\n",
        "Exodus 1 2 3 4 5 6"
       ]
      },
      {
       "output_type": "stream",
       "stream": "stderr",
       "text": [
        " 7 8 9 10 11 12 13 14 15 16 17 18 19 20 21 22"
       ]
      },
      {
       "output_type": "stream",
       "stream": "stderr",
       "text": [
        " 23 24 25 26 27 28 29 30 31 32 33 34 35 36 37"
       ]
      },
      {
       "output_type": "stream",
       "stream": "stderr",
       "text": [
        " 38 39 40\n",
        "Leviticus 1 2 3 4 5 6 7 8 9 10 11 12 13 14"
       ]
      },
      {
       "output_type": "stream",
       "stream": "stderr",
       "text": [
        " 15 16 17 18 19 20 21 22 23 24 25 26 27\n",
        "Numbers 1 2 3"
       ]
      },
      {
       "output_type": "stream",
       "stream": "stderr",
       "text": [
        " 4 5 6 7 8 9 10 11 12 13 14 15 16 17"
       ]
      },
      {
       "output_type": "stream",
       "stream": "stderr",
       "text": [
        " 18 19 20 21 22 23 24 25 26 27 28 29 30 31 32 33 34"
       ]
      },
      {
       "output_type": "stream",
       "stream": "stderr",
       "text": [
        " 35 36\n",
        "Deuteronomy 1 2 3 4 5 6 7 8 9 10 11 12 13"
       ]
      },
      {
       "output_type": "stream",
       "stream": "stderr",
       "text": [
        " 14 15 16 17 18 19 20 21 22 23 24 25 26 27 28 29 30"
       ]
      },
      {
       "output_type": "stream",
       "stream": "stderr",
       "text": [
        " 31 32 33 34\n",
        "Joshua 1 2 3 4 5 6 7 8 9 10 11"
       ]
      },
      {
       "output_type": "stream",
       "stream": "stderr",
       "text": [
        " 12 13 14 15 16 17 18 19 20 21 22 23 24\n",
        "Judges 1 2 3 4"
       ]
      },
      {
       "output_type": "stream",
       "stream": "stderr",
       "text": [
        " 5 6 7 8 9 10 11 12 13 14 15 16 17 18 19"
       ]
      },
      {
       "output_type": "stream",
       "stream": "stderr",
       "text": [
        " 20 21\n",
        "I_Samuel 1 2 3 4 5 6 7 8 9 10 11 12 13 14 15"
       ]
      },
      {
       "output_type": "stream",
       "stream": "stderr",
       "text": [
        " 16 17 18 19 20 21 22 23 24 25 26 27 28 29"
       ]
      },
      {
       "output_type": "stream",
       "stream": "stderr",
       "text": [
        " 30 31\n",
        "II_Samuel 1 2 3 4 5 6 7 8 9 10 11 12 13 14"
       ]
      },
      {
       "output_type": "stream",
       "stream": "stderr",
       "text": [
        " 15 16 17 18 19 20 21 22 23 24\n",
        "I_Kings 1 2 3"
       ]
      },
      {
       "output_type": "stream",
       "stream": "stderr",
       "text": [
        " 4 5 6 7 8 9 10 11 12 13 14 15"
       ]
      },
      {
       "output_type": "stream",
       "stream": "stderr",
       "text": [
        " 16 17 18 19 20 21 22\n",
        "II_Kings 1 2 3 4"
       ]
      },
      {
       "output_type": "stream",
       "stream": "stderr",
       "text": [
        " 5 6 7 8 9 10 11 12 13 14"
       ]
      },
      {
       "output_type": "stream",
       "stream": "stderr",
       "text": [
        " 15 16 17 18 19 20 21 22 23 24"
       ]
      },
      {
       "output_type": "stream",
       "stream": "stderr",
       "text": [
        " 25\n",
        "Isaiah 1 2 3 4 5 6 7 8 9 10 11 12 13"
       ]
      },
      {
       "output_type": "stream",
       "stream": "stderr",
       "text": [
        " 14 15 16 17 18 19 20 21 22 23 24 25 26 27 28 29 30"
       ]
      },
      {
       "output_type": "stream",
       "stream": "stderr",
       "text": [
        " 31 32 33 34 35 36 37 38 39 40 41 42 43 44"
       ]
      },
      {
       "output_type": "stream",
       "stream": "stderr",
       "text": [
        " 45 46 47 48 49 50 51 52 53 54 55 56 57 58 59 60 61 62"
       ]
      },
      {
       "output_type": "stream",
       "stream": "stderr",
       "text": [
        " 63 64 65 66\n",
        "Jeremiah 1 2 3 4 5 6 7 8 9 10"
       ]
      },
      {
       "output_type": "stream",
       "stream": "stderr",
       "text": [
        " 11 12 13 14 15 16 17 18 19 20 21 22 23 24"
       ]
      },
      {
       "output_type": "stream",
       "stream": "stderr",
       "text": [
        " 25 26 27 28 29 30 31 32 33 34 35"
       ]
      },
      {
       "output_type": "stream",
       "stream": "stderr",
       "text": [
        " 36 37 38 39 40 41 42 43 44 45 46 47"
       ]
      },
      {
       "output_type": "stream",
       "stream": "stderr",
       "text": [
        " 48 49 50 51 52\n",
        "Ezekiel 1 2 3 4"
       ]
      },
      {
       "output_type": "stream",
       "stream": "stderr",
       "text": [
        " 5 6 7 8 9 10 11 12 13 14 15 16"
       ]
      },
      {
       "output_type": "stream",
       "stream": "stderr",
       "text": [
        " 17 18 19 20 21 22 23 24 25 26 27 28"
       ]
      },
      {
       "output_type": "stream",
       "stream": "stderr",
       "text": [
        " 29 30 31 32 33 34 35 36 37 38 39"
       ]
      },
      {
       "output_type": "stream",
       "stream": "stderr",
       "text": [
        " 40 41 42 43 44 45 46 47 48\n",
        "Hosea"
       ]
      },
      {
       "output_type": "stream",
       "stream": "stderr",
       "text": [
        " 1 2 3 4 5 6 7 8 9 10 11 12 13 14\n",
        "Joel 1 2 3 4\n",
        "Amos 1 2 3 4 5"
       ]
      },
      {
       "output_type": "stream",
       "stream": "stderr",
       "text": [
        " 6 7 8 9\n",
        "Obadiah 1\n",
        "Jonah 1 2 3 4\n",
        "Micah 1 2 3 4 5 6 7\n",
        "Nahum 1 2"
       ]
      },
      {
       "output_type": "stream",
       "stream": "stderr",
       "text": [
        " 3\n",
        "Habakkuk 1 2 3\n",
        "Zephaniah 1 2 3\n",
        "Haggai 1 2\n",
        "Zechariah 1 2 3 4 5 6 7"
       ]
      },
      {
       "output_type": "stream",
       "stream": "stderr",
       "text": [
        " 8 9 10 11 12 13 14\n",
        "Malachi 1 2 3\n",
        "Psalms 1 2 3 4 5 6 7 8 9 10 11 12 13 14 15 16 17 18 19"
       ]
      },
      {
       "output_type": "stream",
       "stream": "stderr",
       "text": [
        " 20 21 22 23 24 25 26 27 28 29 30 31 32 33 34 35 36 37 38 39 40 41 42 43 44 45 46 47 48 49 50 51 52"
       ]
      },
      {
       "output_type": "stream",
       "stream": "stderr",
       "text": [
        " 53 54 55 56 57 58 59 60 61 62 63 64 65 66 67 68 69 70 71 72 73 74 75 76 77 78 79 80 81 82 83"
       ]
      },
      {
       "output_type": "stream",
       "stream": "stderr",
       "text": [
        " 84 85 86 87 88 89 90 91 92 93 94 95 96 97 98 99 100 101 102 103 104 105 106 107"
       ]
      },
      {
       "output_type": "stream",
       "stream": "stderr",
       "text": [
        " 108 109 110 111 112 113 114 115 116 117 118 119 120 121 122 123 124 125 126 127 128 129 130 131 132 133 134 135 136 137 138 139 140 141 142 143 144 145 146 147 148 149 150\n",
        "Job 1 2 3"
       ]
      },
      {
       "output_type": "stream",
       "stream": "stderr",
       "text": [
        " 4 5 6 7 8 9 10 11 12 13 14 15 16 17 18 19 20 21 22 23 24 25 26 27 28 29 30 31 32 33 34"
       ]
      },
      {
       "output_type": "stream",
       "stream": "stderr",
       "text": [
        " 35 36 37 38 39 40 41 42\n",
        "Proverbs 1 2 3 4 5 6 7 8 9 10 11 12 13 14 15 16 17 18"
       ]
      },
      {
       "output_type": "stream",
       "stream": "stderr",
       "text": [
        " 19 20 21 22 23 24 25 26 27 28 29 30 31\n",
        "Ruth 1 2 3 4\n",
        "Canticles 1 2 3 4"
       ]
      },
      {
       "output_type": "stream",
       "stream": "stderr",
       "text": [
        " 5 6 7 8\n",
        "Ecclesiastes 1 2 3 4 5 6 7 8 9 10 11 12\n",
        "Lamentations 1 2 3 4 5"
       ]
      },
      {
       "output_type": "stream",
       "stream": "stderr",
       "text": [
        "\n",
        "Esther 1 2 3 4 5 6 7 8 9 10\n",
        "Daniel 1 2 3 4 5 6"
       ]
      },
      {
       "output_type": "stream",
       "stream": "stderr",
       "text": [
        " 7 8 9 10 11 12\n",
        "Ezra 1 2 3 4 5 6 7 8 9 10"
       ]
      },
      {
       "output_type": "stream",
       "stream": "stderr",
       "text": [
        "\n",
        "Nehemiah 1 2 3 4 5 6 7 8 9 10 11 12 13\n",
        "I_Chronicles 1 2 3"
       ]
      },
      {
       "output_type": "stream",
       "stream": "stderr",
       "text": [
        " 4 5 6 7 8 9 10 11 12 13 14 15 16 17 18 19"
       ]
      },
      {
       "output_type": "stream",
       "stream": "stderr",
       "text": [
        " 20 21 22 23 24 25 26 27 28 29\n",
        "II_Chronicles 1 2 3 4 5 6 7"
       ]
      },
      {
       "output_type": "stream",
       "stream": "stderr",
       "text": [
        " 8 9 10 11 12 13 14 15 16 17 18 19 20 21 22 23"
       ]
      },
      {
       "output_type": "stream",
       "stream": "stderr",
       "text": [
        " 24 25 26 27 28 29 30 31 32 33 34 35 36"
       ]
      }
     ],
     "prompt_number": 6
    },
    {
     "cell_type": "heading",
     "level": 1,
     "metadata": {},
     "source": [
      "Closing"
     ]
    },
    {
     "cell_type": "markdown",
     "metadata": {},
     "source": [
      "We need to close open files. This is exactly what the next statement does."
     ]
    },
    {
     "cell_type": "code",
     "collapsed": false,
     "input": [
      "close()"
     ],
     "language": "python",
     "metadata": {},
     "outputs": [
      {
       "output_type": "stream",
       "stream": "stderr",
       "text": [
        "    24s Results directory:\n",
        "/Users/dirk/laf-fabric-output/bhs3/gender\n"
       ]
      },
      {
       "output_type": "stream",
       "stream": "stderr",
       "text": [
        "\n",
        "__log__gender.txt                       201 Fri Jun 27 14:31:39 2014\n",
        "table.tsv                             43809 Fri Jun 27 14:31:39 2014\n"
       ]
      }
     ],
     "prompt_number": 7
    },
    {
     "cell_type": "heading",
     "level": 1,
     "metadata": {},
     "source": [
      "Showing off"
     ]
    },
    {
     "cell_type": "markdown",
     "metadata": {},
     "source": [
      "Everything is still in memory. Now it is the time to generate a graphical representation of the data.\n",
      "\n",
      "The *matplotlib* package is full of instruments to do that.\n",
      "\n",
      "But let us first have a look at a few rows of the data itself."
     ]
    },
    {
     "cell_type": "code",
     "collapsed": false,
     "input": [
      "import pandas\n",
      "import matplotlib.pyplot as plt\n",
      "from IPython.display import display\n",
      "pandas.set_option('display.notebook_repr_html', True)\n",
      "%matplotlib inline"
     ],
     "language": "python",
     "metadata": {},
     "outputs": [],
     "prompt_number": 8
    },
    {
     "cell_type": "markdown",
     "metadata": {},
     "source": [
      "The files that have been generated reside in a subdirectory of your work directory.\n",
      "You can easily refer to them as follows:"
     ]
    },
    {
     "cell_type": "code",
     "collapsed": false,
     "input": [
      "table_file = my_file('table.tsv')\n",
      "df = pandas.read_csv(table_file)"
     ],
     "language": "python",
     "metadata": {},
     "outputs": [],
     "prompt_number": 9
    },
    {
     "cell_type": "code",
     "collapsed": false,
     "input": [
      "df.head(20)"
     ],
     "language": "python",
     "metadata": {},
     "outputs": [
      {
       "html": [
        "<div style=\"max-height:1000px;max-width:1500px;overflow:auto;\">\n",
        "<table border=\"1\" class=\"dataframe\">\n",
        "  <thead>\n",
        "    <tr style=\"text-align: right;\">\n",
        "      <th></th>\n",
        "      <th>book chapter</th>\n",
        "      <th>masculine</th>\n",
        "      <th>feminine</th>\n",
        "    </tr>\n",
        "  </thead>\n",
        "  <tbody>\n",
        "    <tr>\n",
        "      <th>0 </th>\n",
        "      <td>  Genesis 1</td>\n",
        "      <td> 22.882615</td>\n",
        "      <td>  5.200594</td>\n",
        "    </tr>\n",
        "    <tr>\n",
        "      <th>1 </th>\n",
        "      <td>  Genesis 2</td>\n",
        "      <td> 19.230769</td>\n",
        "      <td>  6.477733</td>\n",
        "    </tr>\n",
        "    <tr>\n",
        "      <th>2 </th>\n",
        "      <td>  Genesis 3</td>\n",
        "      <td> 20.641283</td>\n",
        "      <td>  9.018036</td>\n",
        "    </tr>\n",
        "    <tr>\n",
        "      <th>3 </th>\n",
        "      <td>  Genesis 4</td>\n",
        "      <td> 32.008830</td>\n",
        "      <td> 11.037528</td>\n",
        "    </tr>\n",
        "    <tr>\n",
        "      <th>4 </th>\n",
        "      <td>  Genesis 5</td>\n",
        "      <td> 36.590437</td>\n",
        "      <td> 17.879418</td>\n",
        "    </tr>\n",
        "    <tr>\n",
        "      <th>5 </th>\n",
        "      <td>  Genesis 6</td>\n",
        "      <td> 22.654462</td>\n",
        "      <td>  8.695652</td>\n",
        "    </tr>\n",
        "    <tr>\n",
        "      <th>6 </th>\n",
        "      <td>  Genesis 7</td>\n",
        "      <td> 18.774704</td>\n",
        "      <td> 10.671937</td>\n",
        "    </tr>\n",
        "    <tr>\n",
        "      <th>7 </th>\n",
        "      <td>  Genesis 8</td>\n",
        "      <td> 16.666667</td>\n",
        "      <td>  8.943089</td>\n",
        "    </tr>\n",
        "    <tr>\n",
        "      <th>8 </th>\n",
        "      <td>  Genesis 9</td>\n",
        "      <td> 19.880716</td>\n",
        "      <td>  6.759443</td>\n",
        "    </tr>\n",
        "    <tr>\n",
        "      <th>9 </th>\n",
        "      <td> Genesis 10</td>\n",
        "      <td> 22.014052</td>\n",
        "      <td>  4.449649</td>\n",
        "    </tr>\n",
        "    <tr>\n",
        "      <th>10</th>\n",
        "      <td> Genesis 11</td>\n",
        "      <td> 32.818533</td>\n",
        "      <td> 12.934363</td>\n",
        "    </tr>\n",
        "    <tr>\n",
        "      <th>11</th>\n",
        "      <td> Genesis 12</td>\n",
        "      <td> 20.418848</td>\n",
        "      <td>  9.424084</td>\n",
        "    </tr>\n",
        "    <tr>\n",
        "      <th>12</th>\n",
        "      <td> Genesis 13</td>\n",
        "      <td> 22.254335</td>\n",
        "      <td>  1.445087</td>\n",
        "    </tr>\n",
        "    <tr>\n",
        "      <th>13</th>\n",
        "      <td> Genesis 14</td>\n",
        "      <td> 22.925764</td>\n",
        "      <td>  3.275109</td>\n",
        "    </tr>\n",
        "    <tr>\n",
        "      <th>14</th>\n",
        "      <td> Genesis 15</td>\n",
        "      <td> 21.270718</td>\n",
        "      <td>  5.248619</td>\n",
        "    </tr>\n",
        "    <tr>\n",
        "      <th>15</th>\n",
        "      <td> Genesis 16</td>\n",
        "      <td> 18.835616</td>\n",
        "      <td> 19.863014</td>\n",
        "    </tr>\n",
        "    <tr>\n",
        "      <th>16</th>\n",
        "      <td> Genesis 17</td>\n",
        "      <td> 22.222222</td>\n",
        "      <td>  8.176101</td>\n",
        "    </tr>\n",
        "    <tr>\n",
        "      <th>17</th>\n",
        "      <td> Genesis 18</td>\n",
        "      <td> 23.916533</td>\n",
        "      <td>  6.581059</td>\n",
        "    </tr>\n",
        "    <tr>\n",
        "      <th>18</th>\n",
        "      <td> Genesis 19</td>\n",
        "      <td> 20.072993</td>\n",
        "      <td>  7.299270</td>\n",
        "    </tr>\n",
        "    <tr>\n",
        "      <th>19</th>\n",
        "      <td> Genesis 20</td>\n",
        "      <td> 23.404255</td>\n",
        "      <td> 10.372340</td>\n",
        "    </tr>\n",
        "  </tbody>\n",
        "</table>\n",
        "<p>20 rows \u00d7 3 columns</p>\n",
        "</div>"
       ],
       "metadata": {},
       "output_type": "pyout",
       "prompt_number": 10,
       "text": [
        "   book chapter  masculine   feminine\n",
        "0     Genesis 1  22.882615   5.200594\n",
        "1     Genesis 2  19.230769   6.477733\n",
        "2     Genesis 3  20.641283   9.018036\n",
        "3     Genesis 4  32.008830  11.037528\n",
        "4     Genesis 5  36.590437  17.879418\n",
        "5     Genesis 6  22.654462   8.695652\n",
        "6     Genesis 7  18.774704  10.671937\n",
        "7     Genesis 8  16.666667   8.943089\n",
        "8     Genesis 9  19.880716   6.759443\n",
        "9    Genesis 10  22.014052   4.449649\n",
        "10   Genesis 11  32.818533  12.934363\n",
        "11   Genesis 12  20.418848   9.424084\n",
        "12   Genesis 13  22.254335   1.445087\n",
        "13   Genesis 14  22.925764   3.275109\n",
        "14   Genesis 15  21.270718   5.248619\n",
        "15   Genesis 16  18.835616  19.863014\n",
        "16   Genesis 17  22.222222   8.176101\n",
        "17   Genesis 18  23.916533   6.581059\n",
        "18   Genesis 19  20.072993   7.299270\n",
        "19   Genesis 20  23.404255  10.372340\n",
        "\n",
        "[20 rows x 3 columns]"
       ]
      }
     ],
     "prompt_number": 10
    },
    {
     "cell_type": "markdown",
     "metadata": {},
     "source": [
      "Now let's get *matplotlib* to work.\n",
      "Here we just show a line graph of 20 chapters.\n",
      "If you want to see another series of chapters,\n",
      "just modify the *start* and *end* variables below and execute again by pressing *Shift Enter*.\n",
      "You can repeat this as often as you like without re-running earlier steps."
     ]
    },
    {
     "cell_type": "code",
     "collapsed": false,
     "input": [
      "x = range(len(ch))\n",
      "start = 100\n",
      "end = 120\n",
      "fig = plt.figure()\n",
      "plt.plot(x[start:end], m[start:end], 'b-', x[start:end], f[start:end], 'r-')\n",
      "plt.axis([start, end, 0, 50])\n",
      "plt.xticks(x[start:end], ch[start:end], rotation='vertical')\n",
      "plt.margins(0.2)\n",
      "plt.subplots_adjust(bottom=0.15);\n",
      "plt.title('gender');"
     ],
     "language": "python",
     "metadata": {},
     "outputs": [
      {
       "metadata": {},
       "output_type": "display_data",
       "png": "[encoded data removed]",
       "text": [
        "<matplotlib.figure.Figure at 0x12d66a8d0>"
       ]
      }
     ],
     "prompt_number": 11
    },
    {
     "cell_type": "heading",
     "level": 2,
     "metadata": {},
     "source": [
      "Note the chapters where the feminine words dominate the masculine words: Leviticus 12 and 18."
     ]
    },
    {
     "cell_type": "markdown",
     "metadata": {},
     "source": [
      "Finally, save the chart."
     ]
    },
    {
     "cell_type": "code",
     "collapsed": false,
     "input": [
      "fig.savefig('gender.png')"
     ],
     "language": "python",
     "metadata": {},
     "outputs": [],
     "prompt_number": 12
    },
    {
     "cell_type": "markdown",
     "metadata": {},
     "source": [
      "![saved chart](files/gender.png)"
     ]
    }
   ],
   "metadata": {}
  }
 ]
}