{
 "metadata": {
  "name": "",
  "signature": "sha256:7ee9258870e6ae721be7e57aaf81645300fbcdf057f61ed1c7dbc70766a30181"
 },
 "nbformat": 3,
 "nbformat_minor": 0,
 "worksheets": [
  {
   "cells": [
    {
     "cell_type": "markdown",
     "metadata": {},
     "source": [
      "<a href=\"http://laf-fabric.readthedocs.org/en/latest/\" target=\"_blank\"><img align=\"left\" src=\"images/laf-fabric-xsmall.png\"/></a>\n",
      "<a href=\"http://www.godgeleerdheid.vu.nl/etcbc\" target=\"_blank\"><img align=\"left\" src=\"images/VU-ETCBC-xsmall.png\"/></a>\n",
      "<a href=\"http://tla.mpi.nl\" target=\"_blank\"><img align=\"right\" src=\"images/TLA-xsmall.png\"/></a>\n",
      "<a href=\"http://www.dans.knaw.nl\" target=\"_blank\"><img align=\"right\"src=\"images/DANS-xsmall.png\"/></a>"
     ]
    },
    {
     "cell_type": "heading",
     "level": 1,
     "metadata": {},
     "source": [
      "Mother - walking edges in the Hebrew Bible"
     ]
    },
    {
     "cell_type": "markdown",
     "metadata": {},
     "source": [
      "This is a task using edges. In the Hebrew data source, nodes corresponding to constituents may have labelled edges pointing to other constituents. We make an inventory of all such edges labeled ``mother``."
     ]
    },
    {
     "cell_type": "code",
     "collapsed": false,
     "input": [
      "import sys\n",
      "import collections\n",
      "\n",
      "from laf.fabric import LafFabric\n",
      "processor = LafFabric(verbose='DETAIL')"
     ],
     "language": "python",
     "metadata": {},
     "outputs": [
      {
       "output_type": "stream",
       "stream": "stderr",
       "text": [
        "  0.00s This is LAF-Fabric 4.2.15\n",
        "http://laf-fabric.readthedocs.org/en/latest/texts/API-reference.html\n"
       ]
      }
     ],
     "prompt_number": 1
    },
    {
     "cell_type": "code",
     "collapsed": false,
     "input": [
      "API = processor.load('bhs3', '--', 'mother',\n",
      "{\n",
      "    \"xmlids\": {\"node\": False, \"edge\": False},\n",
      "    \"features\": (\"otype book\", \"mother\"),\n",
      "})"
     ],
     "language": "python",
     "metadata": {},
     "outputs": [
      {
       "output_type": "stream",
       "stream": "stderr",
       "text": [
        "  0.00s LOADING API: please wait ... \n"
       ]
      },
      {
       "output_type": "stream",
       "stream": "stderr",
       "text": [
        "  0.00s DETAIL: COMPILING m: UP TO DATE\n"
       ]
      },
      {
       "output_type": "stream",
       "stream": "stderr",
       "text": [
        "  0.00s INFO: USING DATA COMPILED AT: 2014-06-27T12-21-04\n"
       ]
      },
      {
       "output_type": "stream",
       "stream": "stderr",
       "text": [
        "  0.00s DETAIL: COMPILING a: UP TO DATE\n"
       ]
      },
      {
       "output_type": "stream",
       "stream": "stderr",
       "text": [
        "  0.01s DETAIL: load main: G.node_anchor_min\n"
       ]
      },
      {
       "output_type": "stream",
       "stream": "stderr",
       "text": [
        "  0.08s DETAIL: load main: G.node_anchor_max\n"
       ]
      },
      {
       "output_type": "stream",
       "stream": "stderr",
       "text": [
        "  0.15s DETAIL: load main: G.node_sort\n"
       ]
      },
      {
       "output_type": "stream",
       "stream": "stderr",
       "text": [
        "  0.21s DETAIL: load main: G.node_sort_inv\n"
       ]
      },
      {
       "output_type": "stream",
       "stream": "stderr",
       "text": [
        "  0.63s DETAIL: load main: G.edges_from\n"
       ]
      },
      {
       "output_type": "stream",
       "stream": "stderr",
       "text": [
        "  0.68s DETAIL: load main: G.edges_to\n"
       ]
      },
      {
       "output_type": "stream",
       "stream": "stderr",
       "text": [
        "  0.73s DETAIL: load main: F.shebanq_db_otype [node] \n"
       ]
      },
      {
       "output_type": "stream",
       "stream": "stderr",
       "text": [
        "  1.39s DETAIL: load main: F.shebanq_sft_book [node] \n"
       ]
      },
      {
       "output_type": "stream",
       "stream": "stderr",
       "text": [
        "  1.41s DETAIL: load main: F.shebanq_ft_mother [e] \n"
       ]
      },
      {
       "output_type": "stream",
       "stream": "stderr",
       "text": [
        "  1.46s DETAIL: load main: C.shebanq_ft_mother -> \n"
       ]
      },
      {
       "output_type": "stream",
       "stream": "stderr",
       "text": [
        "  1.60s DETAIL: load main: C.shebanq_ft_mother <- \n"
       ]
      },
      {
       "output_type": "stream",
       "stream": "stderr",
       "text": [
        "  1.71s LOGFILE=/Users/dirk/laf-fabric-output/bhs3/mother/__log__mother.txt\n"
       ]
      },
      {
       "output_type": "stream",
       "stream": "stderr",
       "text": [
        "  1.71s INFO: DATA LOADED FROM SOURCE bhs3 AND ANNOX -- FOR TASK mother AT 2014-06-27T12-30-27\n"
       ]
      }
     ],
     "prompt_number": 3
    },
    {
     "cell_type": "code",
     "collapsed": false,
     "input": [
      "F = API['F']\n",
      "C = API['C']\n",
      "NN = API['NN']\n",
      "msg = API['msg']\n",
      "infile = API['infile']\n",
      "outfile = API['outfile']\n",
      "my_file = API['my_file']\n",
      "\n",
      "msg(\"Get the mothers...\")\n",
      "\n",
      "out = outfile(\"mothers.tsv\")\n",
      "\n",
      "bookname = None\n",
      "found = 0\n",
      "mother_kind = collections.defaultdict(lambda: collections.defaultdict(lambda: 0))\n",
      "\n",
      "for i in NN():\n",
      "    otype = F.otype.v(i)\n",
      "    for mother in C.mother.v(i):\n",
      "        found += 1\n",
      "        motype = F.otype.v(mother)\n",
      "        mother_kind[otype][motype] += 1\n",
      "        out.write(\"{}\\t{}\\t{}\\t{}\\n\".format(otype, i, motype, mother))\n",
      "    if otype == \"book\":\n",
      "        if bookname: sys.stderr.write(\"{} ({})\\n\".format(bookname, found))\n",
      "        bookname = F.book.v(i)\n",
      "sys.stderr.write(\"{} ({})\\n\".format(bookname, found))\n",
      "sys.stderr.write(\"Total {}\\n\".format(found))\n",
      "for source_type in sorted(mother_kind):\n",
      "    for target_type in sorted(mother_kind[source_type]):\n",
      "        print(\"{:<15} ==mother==> {:<15} : {:>10} x\".format(source_type, target_type, mother_kind[source_type][target_type]))\n",
      "API['close']()"
     ],
     "language": "python",
     "metadata": {},
     "outputs": [
      {
       "output_type": "stream",
       "stream": "stderr",
       "text": [
        "    11s Get the mothers...\n"
       ]
      },
      {
       "output_type": "stream",
       "stream": "stderr",
       "text": [
        "Genesis (11277)\n",
        "Exodus (20371)\n"
       ]
      },
      {
       "output_type": "stream",
       "stream": "stderr",
       "text": [
        "Leviticus (26863)\n",
        "Numbers (36989)\n"
       ]
      },
      {
       "output_type": "stream",
       "stream": "stderr",
       "text": [
        "Deuteronomy (45363)\n",
        "Joshua (51358)\n"
       ]
      },
      {
       "output_type": "stream",
       "stream": "stderr",
       "text": [
        "Judges (56766)\n",
        "I_Samuel (63789)\n"
       ]
      },
      {
       "output_type": "stream",
       "stream": "stderr",
       "text": [
        "II_Samuel (69890)\n",
        "I_Kings (77621)\n"
       ]
      },
      {
       "output_type": "stream",
       "stream": "stderr",
       "text": [
        "II_Kings (84887)\n",
        "Isaiah (94588)\n"
       ]
      },
      {
       "output_type": "stream",
       "stream": "stderr",
       "text": [
        "Jeremiah (107312)\n",
        "Ezekiel (113243)\n"
       ]
      },
      {
       "output_type": "stream",
       "stream": "stderr",
       "text": [
        "Hosea (114479)\n",
        "Joel (114648)\n",
        "Amos (114974)\n"
       ]
      },
      {
       "output_type": "stream",
       "stream": "stderr",
       "text": [
        "Obadiah (115023)\n",
        "Jonah (115388)\n",
        "Micah (115614)\n",
        "Nahum (115695)\n"
       ]
      },
      {
       "output_type": "stream",
       "stream": "stderr",
       "text": [
        "Habakkuk (116071)\n",
        "Zephaniah (116236)\n",
        "Haggai (116411)\n",
        "Zechariah (117028)\n"
       ]
      },
      {
       "output_type": "stream",
       "stream": "stderr",
       "text": [
        "Malachi (117163)\n",
        "Psalms (121724)\n"
       ]
      },
      {
       "output_type": "stream",
       "stream": "stderr",
       "text": [
        "Job (123072)\n",
        "Proverbs (124331)\n"
       ]
      },
      {
       "output_type": "stream",
       "stream": "stderr",
       "text": [
        "Ruth (125027)\n",
        "Canticles (125194)\n",
        "Ecclesiastes (126988)\n"
       ]
      },
      {
       "output_type": "stream",
       "stream": "stderr",
       "text": [
        "Lamentations (127737)\n",
        "Esther (128631)\n"
       ]
      },
      {
       "output_type": "stream",
       "stream": "stderr",
       "text": [
        "Daniel (129766)\n",
        "Ezra (131180)\n"
       ]
      },
      {
       "output_type": "stream",
       "stream": "stderr",
       "text": [
        "Nehemiah (134709)\n",
        "I_Chronicles (138616)\n"
       ]
      },
      {
       "output_type": "stream",
       "stream": "stderr",
       "text": [
        "II_Chronicles (142600)\n",
        "Total 142600\n",
        "    17s Results directory:\n",
        "/Users/dirk/laf-fabric-output/bhs3/mother\n"
       ]
      },
      {
       "output_type": "stream",
       "stream": "stderr",
       "text": [
        "\n",
        "__log__mother.txt                       228 Fri Jun 27 14:30:44 2014\n",
        "mothers.tsv                         5174837 Fri Jun 27 14:30:44 2014\n"
       ]
      },
      {
       "output_type": "stream",
       "stream": "stdout",
       "text": [
        "clause          ==mother==> clause          :       8414 x\n",
        "clause          ==mother==> phrase          :       4156 x\n",
        "clause          ==mother==> word            :        758 x\n",
        "clause_atom     ==mother==> clause_atom     :      61976 x\n",
        "phrase_atom     ==mother==> phrase_atom     :      11238 x\n",
        "phrase_atom     ==mother==> word            :       1290 x\n",
        "subphrase       ==mother==> subphrase       :      54768 x\n"
       ]
      }
     ],
     "prompt_number": 4
    },
    {
     "cell_type": "code",
     "collapsed": false,
     "input": [],
     "language": "python",
     "metadata": {},
     "outputs": []
    }
   ],
   "metadata": {}
  }
 ]
}